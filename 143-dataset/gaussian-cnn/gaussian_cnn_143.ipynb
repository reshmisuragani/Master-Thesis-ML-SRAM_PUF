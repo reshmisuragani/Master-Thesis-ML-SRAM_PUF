{
 "cells": [
  {
   "cell_type": "code",
   "execution_count": 1,
   "metadata": {
    "id": "i_8X2ptNUEcS"
   },
   "outputs": [],
   "source": [
    "import tensorflow as tf\n",
    "from tensorflow.keras import datasets, layers, models\n",
    "import matplotlib.pyplot as plt\n",
    "from keras.preprocessing.image import ImageDataGenerator\n",
    "import numpy as np\n",
    "from keras.regularizers import l2\n",
    "from keras.layers import BatchNormalization\n",
    "from keras.layers import GaussianNoise"
   ]
  },
  {
   "cell_type": "code",
   "execution_count": 14,
   "metadata": {
    "colab": {
     "base_uri": "https://localhost:8080/"
    },
    "id": "cOsa7hULUUFt",
    "outputId": "e9c85838-d7c9-4f68-fc63-8cee2eedf1bc"
   },
   "outputs": [
    {
     "name": "stdout",
     "output_type": "stream",
     "text": [
      "Found 9152 images belonging to 143 classes.\n",
      "Found 1573 images belonging to 143 classes.\n"
     ]
    }
   ],
   "source": [
    "\n",
    "\n",
    "\n",
    "train_datagen = ImageDataGenerator( validation_split =0.15, \n",
    "        rescale=1./255)\n",
    "\n",
    "test_datagen = ImageDataGenerator( rescale=1./255)\n",
    "\n",
    "train_data = train_datagen.flow_from_directory(\n",
    "       r'/content/drive/MyDrive/gaussainnoise/train',\n",
    "        target_size=(256,256),\n",
    "        batch_size=190,subset ='training',\n",
    "        class_mode='categorical')\n",
    "valid_data = train_datagen.flow_from_directory(\n",
    "       r'/content/drive/MyDrive/gaussainnoise/train',\n",
    "        target_size=(256,256),\n",
    "        batch_size=32,subset ='validation',\n",
    "        class_mode='categorical')"
   ]
  },
  {
   "cell_type": "code",
   "execution_count": 2,
   "metadata": {
    "colab": {
     "base_uri": "https://localhost:8080/"
    },
    "id": "6mCDwOcOUXlW",
    "outputId": "ce3b65d3-2b95-447a-e3b1-a40295b9b519"
   },
   "outputs": [
    {
     "name": "stdout",
     "output_type": "stream",
     "text": [
      "Model: \"sequential\"\n",
      "_________________________________________________________________\n",
      "Layer (type)                 Output Shape              Param #   \n",
      "=================================================================\n",
      "conv2d (Conv2D)              (None, 256, 256, 8)       608       \n",
      "_________________________________________________________________\n",
      "conv2d_1 (Conv2D)            (None, 256, 256, 48)      9648      \n",
      "_________________________________________________________________\n",
      "max_pooling2d (MaxPooling2D) (None, 128, 128, 48)      0         \n",
      "_________________________________________________________________\n",
      "conv2d_2 (Conv2D)            (None, 128, 128, 128)     55424     \n",
      "_________________________________________________________________\n",
      "batch_normalization (BatchNo (None, 128, 128, 128)     512       \n",
      "_________________________________________________________________\n",
      "max_pooling2d_1 (MaxPooling2 (None, 64, 64, 128)       0         \n",
      "_________________________________________________________________\n",
      "conv2d_3 (Conv2D)            (None, 64, 64, 192)       221376    \n",
      "_________________________________________________________________\n",
      "batch_normalization_1 (Batch (None, 64, 64, 192)       768       \n",
      "_________________________________________________________________\n",
      "max_pooling2d_2 (MaxPooling2 (None, 32, 32, 192)       0         \n",
      "_________________________________________________________________\n",
      "conv2d_4 (Conv2D)            (None, 32, 32, 192)       331968    \n",
      "_________________________________________________________________\n",
      "max_pooling2d_3 (MaxPooling2 (None, 16, 16, 192)       0         \n",
      "_________________________________________________________________\n",
      "batch_normalization_2 (Batch (None, 16, 16, 192)       768       \n",
      "_________________________________________________________________\n",
      "dropout (Dropout)            (None, 16, 16, 192)       0         \n",
      "_________________________________________________________________\n",
      "flatten (Flatten)            (None, 49152)             0         \n",
      "_________________________________________________________________\n",
      "dense (Dense)                (None, 256)               12583168  \n",
      "_________________________________________________________________\n",
      "batch_normalization_3 (Batch (None, 256)               1024      \n",
      "_________________________________________________________________\n",
      "dense_1 (Dense)              (None, 256)               65792     \n",
      "_________________________________________________________________\n",
      "dropout_1 (Dropout)          (None, 256)               0         \n",
      "_________________________________________________________________\n",
      "dense_2 (Dense)              (None, 143)               36751     \n",
      "=================================================================\n",
      "Total params: 13,307,807\n",
      "Trainable params: 13,306,271\n",
      "Non-trainable params: 1,536\n",
      "_________________________________________________________________\n"
     ]
    }
   ],
   "source": [
    "from keras.regularizers import l2\n",
    "from keras.layers import BatchNormalization\n",
    "from keras.layers import GaussianNoise\n",
    "model = tf.keras.Sequential()\n",
    "model.add(tf.keras.layers.Conv2D(filters = 8, kernel_size = (5,5), kernel_regularizer=l2(0.01), padding = 'Same', activation ='relu', input_shape = (256,256,3)))\n",
    "model.add(tf.keras.layers.Conv2D(filters = 48, kernel_size = (5,5), kernel_regularizer=l2(0.01), padding = 'Same', activation ='relu'))\n",
    "\n",
    "model.add(tf.keras.layers.MaxPool2D(pool_size=(2,2), strides = 2))\n",
    "model.add(tf.keras.layers.Conv2D(filters = 128, kernel_size = (3,3),kernel_regularizer=l2(0.01), padding = 'Same', activation ='relu'))\n",
    "model.add(tf.keras.layers.BatchNormalization())\n",
    "model.add(tf.keras.layers.MaxPool2D(pool_size=(2,2), strides= 2))\n",
    "model.add(tf.keras.layers.Conv2D(filters = 192, kernel_size = (3,3), kernel_regularizer=l2(0.01), padding = 'Same', activation ='relu'))\n",
    "model.add(tf.keras.layers.BatchNormalization())\n",
    "model.add(tf.keras.layers.MaxPool2D(pool_size=(2,2), strides= 2))\n",
    "model.add(tf.keras.layers.Conv2D(filters = 192, kernel_size = (3,3), kernel_regularizer=l2(0.01), padding = 'Same', activation ='relu'))\n",
    "\n",
    "model.add(tf.keras.layers.MaxPool2D(pool_size=(2,2), strides= 2))\n",
    "model.add(tf.keras.layers.BatchNormalization())\n",
    "model.add(tf.keras.layers.Dropout(0.2))\n",
    "model.add(tf.keras.layers.Flatten())\n",
    "\n",
    "model.add(tf.keras.layers.Dense(256, activation = \"relu\", kernel_regularizer=l2(0.01)))\n",
    "model.add(tf.keras.layers.BatchNormalization())\n",
    "model.add(tf.keras.layers.Dense(256, activation = \"relu\", kernel_regularizer=l2(0.01)))\n",
    "model.add(tf.keras.layers.Dropout(0.2))\n",
    "model.add(tf.keras.layers.Dense(143, activation = \"softmax\"))\n",
    "model.summary()"
   ]
  },
  {
   "cell_type": "code",
   "execution_count": 4,
   "metadata": {
    "id": "QPv74mRvUiNK"
   },
   "outputs": [],
   "source": [
    "\n",
    "from keras.callbacks import EarlyStopping\n",
    "from keras.callbacks import ModelCheckpoint\n",
    "from keras.callbacks import CSVLogger\n",
    "\n",
    "csv_logger = CSVLogger(\"/content/drive/MyDrive/cnn-noise-143/noise-cnn-143_model_history_log.csv\", append=True)\n",
    "#es = EarlyStopping(monitor='val_loss', mode='min', verbose=1, patience=5)\n",
    "es1 = EarlyStopping( monitor='val_accuracy', patience=5, min_delta=0.001, mode='max')\n",
    "mc = ModelCheckpoint('/content/drive/MyDrive/cnn-noise-143/noise-cnn_143-cnnmodel.h5', monitor='val_accuracy', mode='max', verbose=1, save_best_only=True,save_weights_only=True)"
   ]
  },
  {
   "cell_type": "code",
   "execution_count": 5,
   "metadata": {
    "id": "0kO3KpzJSqpg"
   },
   "outputs": [],
   "source": [
    "import tensorflow.compat.v1 as tfs\n",
    "gpu_options = tfs.GPUOptions(allow_growth = True)\n",
    "session = tfs.InteractiveSession(config = tfs.ConfigProto(gpu_options = gpu_options))"
   ]
  },
  {
   "cell_type": "code",
   "execution_count": 3,
   "metadata": {
    "id": "avBAuSrBUjZH"
   },
   "outputs": [],
   "source": [
    "adam = tf.keras.optimizers.Adam(learning_rate = 0.001, decay = 0.9)\n",
    "model.compile(optimizer = adam, loss = \"categorical_crossentropy\", metrics = [\"accuracy\"])"
   ]
  },
  {
   "cell_type": "code",
   "execution_count": 15,
   "metadata": {
    "colab": {
     "base_uri": "https://localhost:8080/"
    },
    "id": "_7OfjTzFUnrN",
    "outputId": "d138a424-a3ed-4da6-fb73-40da1d85a2e2"
   },
   "outputs": [
    {
     "name": "stdout",
     "output_type": "stream",
     "text": [
      "Epoch 1/300\n",
      "49/49 [==============================] - 326s 7s/step - loss: 14.6138 - accuracy: 0.5084 - val_loss: 28.5401 - val_accuracy: 0.0089\n",
      "\n",
      "Epoch 00001: val_accuracy improved from 0.00000 to 0.00890, saving model to /content/drive/MyDrive/cnn-noise-143/noise-cnn_143-cnnmodel.h5\n",
      "Epoch 2/300\n",
      "49/49 [==============================] - 338s 7s/step - loss: 14.5294 - accuracy: 0.5304 - val_loss: 24.9718 - val_accuracy: 0.0165\n",
      "\n",
      "Epoch 00002: val_accuracy improved from 0.00890 to 0.01653, saving model to /content/drive/MyDrive/cnn-noise-143/noise-cnn_143-cnnmodel.h5\n",
      "Epoch 3/300\n",
      "49/49 [==============================] - 314s 6s/step - loss: 14.4554 - accuracy: 0.5554 - val_loss: 18.6269 - val_accuracy: 0.0102\n",
      "\n",
      "Epoch 00003: val_accuracy did not improve from 0.01653\n",
      "Epoch 4/300\n",
      "49/49 [==============================] - 314s 6s/step - loss: 14.3928 - accuracy: 0.5758 - val_loss: 16.0763 - val_accuracy: 0.0572\n",
      "\n",
      "Epoch 00004: val_accuracy improved from 0.01653 to 0.05722, saving model to /content/drive/MyDrive/cnn-noise-143/noise-cnn_143-cnnmodel.h5\n",
      "Epoch 5/300\n",
      "49/49 [==============================] - 314s 6s/step - loss: 14.3222 - accuracy: 0.6042 - val_loss: 15.4657 - val_accuracy: 0.1418\n",
      "\n",
      "Epoch 00005: val_accuracy improved from 0.05722 to 0.14177, saving model to /content/drive/MyDrive/cnn-noise-143/noise-cnn_143-cnnmodel.h5\n",
      "Epoch 6/300\n",
      "49/49 [==============================] - 312s 6s/step - loss: 14.2637 - accuracy: 0.6165 - val_loss: 15.0623 - val_accuracy: 0.3039\n",
      "\n",
      "Epoch 00006: val_accuracy improved from 0.14177 to 0.30388, saving model to /content/drive/MyDrive/cnn-noise-143/noise-cnn_143-cnnmodel.h5\n",
      "Epoch 7/300\n",
      "49/49 [==============================] - 301s 6s/step - loss: 14.2254 - accuracy: 0.6355 - val_loss: 14.7423 - val_accuracy: 0.4812\n",
      "\n",
      "Epoch 00007: val_accuracy improved from 0.30388 to 0.48125, saving model to /content/drive/MyDrive/cnn-noise-143/noise-cnn_143-cnnmodel.h5\n",
      "Epoch 8/300\n",
      "49/49 [==============================] - 306s 6s/step - loss: 14.1705 - accuracy: 0.6580 - val_loss: 14.5050 - val_accuracy: 0.6440\n",
      "\n",
      "Epoch 00008: val_accuracy improved from 0.48125 to 0.64399, saving model to /content/drive/MyDrive/cnn-noise-143/noise-cnn_143-cnnmodel.h5\n",
      "Epoch 9/300\n",
      "49/49 [==============================] - 303s 6s/step - loss: 14.1287 - accuracy: 0.6627 - val_loss: 14.3466 - val_accuracy: 0.7285\n",
      "\n",
      "Epoch 00009: val_accuracy improved from 0.64399 to 0.72854, saving model to /content/drive/MyDrive/cnn-noise-143/noise-cnn_143-cnnmodel.h5\n",
      "Epoch 10/300\n",
      "49/49 [==============================] - 308s 6s/step - loss: 14.0904 - accuracy: 0.6805 - val_loss: 14.2471 - val_accuracy: 0.7641\n",
      "\n",
      "Epoch 00010: val_accuracy improved from 0.72854 to 0.76414, saving model to /content/drive/MyDrive/cnn-noise-143/noise-cnn_143-cnnmodel.h5\n",
      "Epoch 11/300\n",
      "49/49 [==============================] - 311s 6s/step - loss: 14.0347 - accuracy: 0.7027 - val_loss: 14.1819 - val_accuracy: 0.7819\n",
      "\n",
      "Epoch 00011: val_accuracy improved from 0.76414 to 0.78195, saving model to /content/drive/MyDrive/cnn-noise-143/noise-cnn_143-cnnmodel.h5\n",
      "Epoch 12/300\n",
      "49/49 [==============================] - 308s 6s/step - loss: 14.0046 - accuracy: 0.7042 - val_loss: 14.1362 - val_accuracy: 0.7934\n",
      "\n",
      "Epoch 00012: val_accuracy improved from 0.78195 to 0.79339, saving model to /content/drive/MyDrive/cnn-noise-143/noise-cnn_143-cnnmodel.h5\n",
      "Epoch 13/300\n",
      "49/49 [==============================] - 310s 6s/step - loss: 13.9720 - accuracy: 0.7098 - val_loss: 14.1012 - val_accuracy: 0.8023\n",
      "\n",
      "Epoch 00013: val_accuracy improved from 0.79339 to 0.80229, saving model to /content/drive/MyDrive/cnn-noise-143/noise-cnn_143-cnnmodel.h5\n",
      "Epoch 14/300\n",
      "49/49 [==============================] - 317s 6s/step - loss: 13.9361 - accuracy: 0.7280 - val_loss: 14.0707 - val_accuracy: 0.8125\n",
      "\n",
      "Epoch 00014: val_accuracy improved from 0.80229 to 0.81246, saving model to /content/drive/MyDrive/cnn-noise-143/noise-cnn_143-cnnmodel.h5\n",
      "Epoch 15/300\n",
      "49/49 [==============================] - 292s 6s/step - loss: 13.9132 - accuracy: 0.7365 - val_loss: 14.0479 - val_accuracy: 0.8131\n",
      "\n",
      "Epoch 00015: val_accuracy improved from 0.81246 to 0.81310, saving model to /content/drive/MyDrive/cnn-noise-143/noise-cnn_143-cnnmodel.h5\n",
      "Epoch 16/300\n",
      "49/49 [==============================] - 280s 6s/step - loss: 13.8682 - accuracy: 0.7496 - val_loss: 14.0263 - val_accuracy: 0.8201\n",
      "\n",
      "Epoch 00016: val_accuracy improved from 0.81310 to 0.82009, saving model to /content/drive/MyDrive/cnn-noise-143/noise-cnn_143-cnnmodel.h5\n",
      "Epoch 17/300\n",
      "49/49 [==============================] - 280s 6s/step - loss: 13.8545 - accuracy: 0.7526 - val_loss: 14.0080 - val_accuracy: 0.8264\n",
      "\n",
      "Epoch 00017: val_accuracy improved from 0.82009 to 0.82645, saving model to /content/drive/MyDrive/cnn-noise-143/noise-cnn_143-cnnmodel.h5\n",
      "Epoch 18/300\n",
      "49/49 [==============================] - 284s 6s/step - loss: 13.8198 - accuracy: 0.7620 - val_loss: 13.9896 - val_accuracy: 0.8284\n",
      "\n",
      "Epoch 00018: val_accuracy improved from 0.82645 to 0.82835, saving model to /content/drive/MyDrive/cnn-noise-143/noise-cnn_143-cnnmodel.h5\n",
      "Epoch 19/300\n",
      "49/49 [==============================] - 283s 6s/step - loss: 13.7896 - accuracy: 0.7703 - val_loss: 13.9711 - val_accuracy: 0.8315\n",
      "\n",
      "Epoch 00019: val_accuracy improved from 0.82835 to 0.83153, saving model to /content/drive/MyDrive/cnn-noise-143/noise-cnn_143-cnnmodel.h5\n",
      "Epoch 20/300\n",
      "49/49 [==============================] - 282s 6s/step - loss: 13.7666 - accuracy: 0.7764 - val_loss: 13.9530 - val_accuracy: 0.8328\n",
      "\n",
      "Epoch 00020: val_accuracy improved from 0.83153 to 0.83280, saving model to /content/drive/MyDrive/cnn-noise-143/noise-cnn_143-cnnmodel.h5\n",
      "Epoch 21/300\n",
      "49/49 [==============================] - 283s 6s/step - loss: 13.7448 - accuracy: 0.7818 - val_loss: 13.9371 - val_accuracy: 0.8353\n",
      "\n",
      "Epoch 00021: val_accuracy improved from 0.83280 to 0.83535, saving model to /content/drive/MyDrive/cnn-noise-143/noise-cnn_143-cnnmodel.h5\n",
      "Epoch 22/300\n",
      "49/49 [==============================] - 284s 6s/step - loss: 13.7226 - accuracy: 0.7870 - val_loss: 13.9240 - val_accuracy: 0.8379\n",
      "\n",
      "Epoch 00022: val_accuracy improved from 0.83535 to 0.83789, saving model to /content/drive/MyDrive/cnn-noise-143/noise-cnn_143-cnnmodel.h5\n",
      "Epoch 23/300\n",
      "49/49 [==============================] - 285s 6s/step - loss: 13.6928 - accuracy: 0.8027 - val_loss: 13.9082 - val_accuracy: 0.8417\n",
      "\n",
      "Epoch 00023: val_accuracy improved from 0.83789 to 0.84170, saving model to /content/drive/MyDrive/cnn-noise-143/noise-cnn_143-cnnmodel.h5\n",
      "Epoch 24/300\n",
      "49/49 [==============================] - 284s 6s/step - loss: 13.6824 - accuracy: 0.7995 - val_loss: 13.8946 - val_accuracy: 0.8455\n",
      "\n",
      "Epoch 00024: val_accuracy improved from 0.84170 to 0.84552, saving model to /content/drive/MyDrive/cnn-noise-143/noise-cnn_143-cnnmodel.h5\n",
      "Epoch 25/300\n",
      "49/49 [==============================] - 283s 6s/step - loss: 13.6556 - accuracy: 0.8093 - val_loss: 13.8801 - val_accuracy: 0.8462\n",
      "\n",
      "Epoch 00025: val_accuracy improved from 0.84552 to 0.84615, saving model to /content/drive/MyDrive/cnn-noise-143/noise-cnn_143-cnnmodel.h5\n",
      "Epoch 26/300\n",
      "49/49 [==============================] - 284s 6s/step - loss: 13.6363 - accuracy: 0.8137 - val_loss: 13.8669 - val_accuracy: 0.8487\n",
      "\n",
      "Epoch 00026: val_accuracy improved from 0.84615 to 0.84870, saving model to /content/drive/MyDrive/cnn-noise-143/noise-cnn_143-cnnmodel.h5\n",
      "Epoch 27/300\n",
      "49/49 [==============================] - 283s 6s/step - loss: 13.6258 - accuracy: 0.8100 - val_loss: 13.8549 - val_accuracy: 0.8487\n",
      "\n",
      "Epoch 00027: val_accuracy did not improve from 0.84870\n",
      "Epoch 28/300\n",
      "49/49 [==============================] - 283s 6s/step - loss: 13.6008 - accuracy: 0.8179 - val_loss: 13.8438 - val_accuracy: 0.8506\n",
      "\n",
      "Epoch 00028: val_accuracy improved from 0.84870 to 0.85060, saving model to /content/drive/MyDrive/cnn-noise-143/noise-cnn_143-cnnmodel.h5\n",
      "Epoch 29/300\n",
      "49/49 [==============================] - 284s 6s/step - loss: 13.5788 - accuracy: 0.8281 - val_loss: 13.8308 - val_accuracy: 0.8538\n",
      "\n",
      "Epoch 00029: val_accuracy improved from 0.85060 to 0.85378, saving model to /content/drive/MyDrive/cnn-noise-143/noise-cnn_143-cnnmodel.h5\n",
      "Epoch 30/300\n",
      "49/49 [==============================] - 285s 6s/step - loss: 13.5705 - accuracy: 0.8326 - val_loss: 13.8180 - val_accuracy: 0.8563\n",
      "\n",
      "Epoch 00030: val_accuracy improved from 0.85378 to 0.85633, saving model to /content/drive/MyDrive/cnn-noise-143/noise-cnn_143-cnnmodel.h5\n",
      "Epoch 31/300\n",
      "49/49 [==============================] - 284s 6s/step - loss: 13.5442 - accuracy: 0.8342 - val_loss: 13.8061 - val_accuracy: 0.8589\n",
      "\n",
      "Epoch 00031: val_accuracy improved from 0.85633 to 0.85887, saving model to /content/drive/MyDrive/cnn-noise-143/noise-cnn_143-cnnmodel.h5\n",
      "Epoch 32/300\n",
      "49/49 [==============================] - 284s 6s/step - loss: 13.5231 - accuracy: 0.8396 - val_loss: 13.7965 - val_accuracy: 0.8595\n",
      "\n",
      "Epoch 00032: val_accuracy improved from 0.85887 to 0.85950, saving model to /content/drive/MyDrive/cnn-noise-143/noise-cnn_143-cnnmodel.h5\n",
      "Epoch 33/300\n",
      "49/49 [==============================] - 285s 6s/step - loss: 13.5192 - accuracy: 0.8330 - val_loss: 13.7846 - val_accuracy: 0.8614\n",
      "\n",
      "Epoch 00033: val_accuracy improved from 0.85950 to 0.86141, saving model to /content/drive/MyDrive/cnn-noise-143/noise-cnn_143-cnnmodel.h5\n",
      "Epoch 34/300\n",
      "49/49 [==============================] - 286s 6s/step - loss: 13.4896 - accuracy: 0.8424 - val_loss: 13.7729 - val_accuracy: 0.8633\n",
      "\n",
      "Epoch 00034: val_accuracy improved from 0.86141 to 0.86332, saving model to /content/drive/MyDrive/cnn-noise-143/noise-cnn_143-cnnmodel.h5\n",
      "Epoch 35/300\n",
      "49/49 [==============================] - 291s 6s/step - loss: 13.4812 - accuracy: 0.8475 - val_loss: 13.7622 - val_accuracy: 0.8652\n",
      "\n",
      "Epoch 00035: val_accuracy improved from 0.86332 to 0.86523, saving model to /content/drive/MyDrive/cnn-noise-143/noise-cnn_143-cnnmodel.h5\n",
      "Epoch 36/300\n",
      "49/49 [==============================] - 295s 6s/step - loss: 13.4692 - accuracy: 0.8518 - val_loss: 13.7523 - val_accuracy: 0.8684\n",
      "\n",
      "Epoch 00036: val_accuracy improved from 0.86523 to 0.86840, saving model to /content/drive/MyDrive/cnn-noise-143/noise-cnn_143-cnnmodel.h5\n",
      "Epoch 37/300\n",
      "49/49 [==============================] - 294s 6s/step - loss: 13.4477 - accuracy: 0.8553 - val_loss: 13.7423 - val_accuracy: 0.8709\n",
      "\n",
      "Epoch 00037: val_accuracy improved from 0.86840 to 0.87095, saving model to /content/drive/MyDrive/cnn-noise-143/noise-cnn_143-cnnmodel.h5\n",
      "Epoch 38/300\n",
      "49/49 [==============================] - 292s 6s/step - loss: 13.4310 - accuracy: 0.8574 - val_loss: 13.7344 - val_accuracy: 0.8703\n",
      "\n",
      "Epoch 00038: val_accuracy did not improve from 0.87095\n",
      "Epoch 39/300\n",
      "49/49 [==============================] - 291s 6s/step - loss: 13.4175 - accuracy: 0.8573 - val_loss: 13.7236 - val_accuracy: 0.8703\n",
      "\n",
      "Epoch 00039: val_accuracy did not improve from 0.87095\n",
      "Epoch 40/300\n",
      "49/49 [==============================] - 291s 6s/step - loss: 13.4015 - accuracy: 0.8666 - val_loss: 13.7141 - val_accuracy: 0.8760\n",
      "\n",
      "Epoch 00040: val_accuracy improved from 0.87095 to 0.87603, saving model to /content/drive/MyDrive/cnn-noise-143/noise-cnn_143-cnnmodel.h5\n",
      "Epoch 41/300\n",
      "49/49 [==============================] - 291s 6s/step - loss: 13.3821 - accuracy: 0.8763 - val_loss: 13.7041 - val_accuracy: 0.8767\n",
      "\n",
      "Epoch 00041: val_accuracy improved from 0.87603 to 0.87667, saving model to /content/drive/MyDrive/cnn-noise-143/noise-cnn_143-cnnmodel.h5\n",
      "Epoch 42/300\n",
      "49/49 [==============================] - 303s 6s/step - loss: 13.3724 - accuracy: 0.8770 - val_loss: 13.6960 - val_accuracy: 0.8805\n",
      "\n",
      "Epoch 00042: val_accuracy improved from 0.87667 to 0.88048, saving model to /content/drive/MyDrive/cnn-noise-143/noise-cnn_143-cnnmodel.h5\n",
      "Epoch 43/300\n",
      "49/49 [==============================] - 305s 6s/step - loss: 13.3735 - accuracy: 0.8700 - val_loss: 13.6870 - val_accuracy: 0.8811\n",
      "\n",
      "Epoch 00043: val_accuracy improved from 0.88048 to 0.88112, saving model to /content/drive/MyDrive/cnn-noise-143/noise-cnn_143-cnnmodel.h5\n",
      "Epoch 44/300\n",
      "49/49 [==============================] - 306s 6s/step - loss: 13.3524 - accuracy: 0.8755 - val_loss: 13.6793 - val_accuracy: 0.8811\n",
      "\n",
      "Epoch 00044: val_accuracy did not improve from 0.88112\n",
      "Epoch 45/300\n",
      "49/49 [==============================] - 306s 6s/step - loss: 13.3377 - accuracy: 0.8795 - val_loss: 13.6703 - val_accuracy: 0.8830\n",
      "\n",
      "Epoch 00045: val_accuracy improved from 0.88112 to 0.88303, saving model to /content/drive/MyDrive/cnn-noise-143/noise-cnn_143-cnnmodel.h5\n",
      "Epoch 46/300\n",
      "49/49 [==============================] - 302s 6s/step - loss: 13.3339 - accuracy: 0.8821 - val_loss: 13.6613 - val_accuracy: 0.8837\n",
      "\n",
      "Epoch 00046: val_accuracy improved from 0.88303 to 0.88366, saving model to /content/drive/MyDrive/cnn-noise-143/noise-cnn_143-cnnmodel.h5\n",
      "Epoch 47/300\n",
      "49/49 [==============================] - 328s 7s/step - loss: 13.3188 - accuracy: 0.8866 - val_loss: 13.6534 - val_accuracy: 0.8843\n",
      "\n",
      "Epoch 00047: val_accuracy improved from 0.88366 to 0.88430, saving model to /content/drive/MyDrive/cnn-noise-143/noise-cnn_143-cnnmodel.h5\n",
      "Epoch 48/300\n",
      "49/49 [==============================] - 316s 6s/step - loss: 13.3042 - accuracy: 0.8884 - val_loss: 13.6445 - val_accuracy: 0.8849\n",
      "\n",
      "Epoch 00048: val_accuracy improved from 0.88430 to 0.88493, saving model to /content/drive/MyDrive/cnn-noise-143/noise-cnn_143-cnnmodel.h5\n",
      "Epoch 49/300\n",
      "49/49 [==============================] - 293s 6s/step - loss: 13.2865 - accuracy: 0.8907 - val_loss: 13.6371 - val_accuracy: 0.8868\n",
      "\n",
      "Epoch 00049: val_accuracy improved from 0.88493 to 0.88684, saving model to /content/drive/MyDrive/cnn-noise-143/noise-cnn_143-cnnmodel.h5\n",
      "Epoch 50/300\n",
      "49/49 [==============================] - 288s 6s/step - loss: 13.2764 - accuracy: 0.8873 - val_loss: 13.6282 - val_accuracy: 0.8875\n",
      "\n",
      "Epoch 00050: val_accuracy improved from 0.88684 to 0.88748, saving model to /content/drive/MyDrive/cnn-noise-143/noise-cnn_143-cnnmodel.h5\n",
      "Epoch 51/300\n",
      "49/49 [==============================] - 283s 6s/step - loss: 13.2694 - accuracy: 0.8944 - val_loss: 13.6212 - val_accuracy: 0.8894\n",
      "\n",
      "Epoch 00051: val_accuracy improved from 0.88748 to 0.88938, saving model to /content/drive/MyDrive/cnn-noise-143/noise-cnn_143-cnnmodel.h5\n",
      "Epoch 52/300\n",
      "49/49 [==============================] - 289s 6s/step - loss: 13.2509 - accuracy: 0.8931 - val_loss: 13.6135 - val_accuracy: 0.8926\n",
      "\n",
      "Epoch 00052: val_accuracy improved from 0.88938 to 0.89256, saving model to /content/drive/MyDrive/cnn-noise-143/noise-cnn_143-cnnmodel.h5\n",
      "Epoch 53/300\n",
      "49/49 [==============================] - 300s 6s/step - loss: 13.2474 - accuracy: 0.8984 - val_loss: 13.6071 - val_accuracy: 0.8938\n",
      "\n",
      "Epoch 00053: val_accuracy improved from 0.89256 to 0.89383, saving model to /content/drive/MyDrive/cnn-noise-143/noise-cnn_143-cnnmodel.h5\n",
      "Epoch 54/300\n",
      "49/49 [==============================] - 292s 6s/step - loss: 13.2354 - accuracy: 0.8985 - val_loss: 13.5987 - val_accuracy: 0.8951\n",
      "\n",
      "Epoch 00054: val_accuracy improved from 0.89383 to 0.89510, saving model to /content/drive/MyDrive/cnn-noise-143/noise-cnn_143-cnnmodel.h5\n",
      "Epoch 55/300\n",
      "49/49 [==============================] - 291s 6s/step - loss: 13.2195 - accuracy: 0.9061 - val_loss: 13.5910 - val_accuracy: 0.8951\n",
      "\n",
      "Epoch 00055: val_accuracy did not improve from 0.89510\n",
      "Epoch 56/300\n",
      "49/49 [==============================] - 287s 6s/step - loss: 13.2194 - accuracy: 0.9000 - val_loss: 13.5833 - val_accuracy: 0.8957\n",
      "\n",
      "Epoch 00056: val_accuracy improved from 0.89510 to 0.89574, saving model to /content/drive/MyDrive/cnn-noise-143/noise-cnn_143-cnnmodel.h5\n",
      "Epoch 57/300\n",
      "49/49 [==============================] - 285s 6s/step - loss: 13.2007 - accuracy: 0.9049 - val_loss: 13.5769 - val_accuracy: 0.8970\n",
      "\n",
      "Epoch 00057: val_accuracy improved from 0.89574 to 0.89701, saving model to /content/drive/MyDrive/cnn-noise-143/noise-cnn_143-cnnmodel.h5\n",
      "Epoch 58/300\n",
      "49/49 [==============================] - 290s 6s/step - loss: 13.1957 - accuracy: 0.9060 - val_loss: 13.5698 - val_accuracy: 0.8976\n",
      "\n",
      "Epoch 00058: val_accuracy improved from 0.89701 to 0.89765, saving model to /content/drive/MyDrive/cnn-noise-143/noise-cnn_143-cnnmodel.h5\n",
      "Epoch 59/300\n",
      "49/49 [==============================] - 285s 6s/step - loss: 13.1885 - accuracy: 0.9062 - val_loss: 13.5624 - val_accuracy: 0.8983\n",
      "\n",
      "Epoch 00059: val_accuracy improved from 0.89765 to 0.89828, saving model to /content/drive/MyDrive/cnn-noise-143/noise-cnn_143-cnnmodel.h5\n",
      "Epoch 60/300\n",
      "49/49 [==============================] - 280s 6s/step - loss: 13.1789 - accuracy: 0.9088 - val_loss: 13.5564 - val_accuracy: 0.8989\n",
      "\n",
      "Epoch 00060: val_accuracy improved from 0.89828 to 0.89892, saving model to /content/drive/MyDrive/cnn-noise-143/noise-cnn_143-cnnmodel.h5\n",
      "Epoch 61/300\n",
      "49/49 [==============================] - 285s 6s/step - loss: 13.1645 - accuracy: 0.9113 - val_loss: 13.5487 - val_accuracy: 0.9021\n",
      "\n",
      "Epoch 00061: val_accuracy improved from 0.89892 to 0.90210, saving model to /content/drive/MyDrive/cnn-noise-143/noise-cnn_143-cnnmodel.h5\n",
      "Epoch 62/300\n",
      "49/49 [==============================] - 284s 6s/step - loss: 13.1567 - accuracy: 0.9106 - val_loss: 13.5429 - val_accuracy: 0.9027\n",
      "\n",
      "Epoch 00062: val_accuracy improved from 0.90210 to 0.90273, saving model to /content/drive/MyDrive/cnn-noise-143/noise-cnn_143-cnnmodel.h5\n",
      "Epoch 63/300\n",
      "49/49 [==============================] - 279s 6s/step - loss: 13.1508 - accuracy: 0.9114 - val_loss: 13.5358 - val_accuracy: 0.9040\n",
      "\n",
      "Epoch 00063: val_accuracy improved from 0.90273 to 0.90401, saving model to /content/drive/MyDrive/cnn-noise-143/noise-cnn_143-cnnmodel.h5\n",
      "Epoch 64/300\n",
      "49/49 [==============================] - 292s 6s/step - loss: 13.1427 - accuracy: 0.9143 - val_loss: 13.5296 - val_accuracy: 0.9046\n",
      "\n",
      "Epoch 00064: val_accuracy improved from 0.90401 to 0.90464, saving model to /content/drive/MyDrive/cnn-noise-143/noise-cnn_143-cnnmodel.h5\n",
      "Epoch 65/300\n",
      "49/49 [==============================] - 293s 6s/step - loss: 13.1267 - accuracy: 0.9139 - val_loss: 13.5233 - val_accuracy: 0.9046\n",
      "\n",
      "Epoch 00065: val_accuracy did not improve from 0.90464\n",
      "Epoch 66/300\n",
      "49/49 [==============================] - 293s 6s/step - loss: 13.1187 - accuracy: 0.9171 - val_loss: 13.5169 - val_accuracy: 0.9059\n",
      "\n",
      "Epoch 00066: val_accuracy improved from 0.90464 to 0.90591, saving model to /content/drive/MyDrive/cnn-noise-143/noise-cnn_143-cnnmodel.h5\n",
      "Epoch 67/300\n",
      "49/49 [==============================] - 290s 6s/step - loss: 13.1129 - accuracy: 0.9197 - val_loss: 13.5106 - val_accuracy: 0.9065\n",
      "\n",
      "Epoch 00067: val_accuracy improved from 0.90591 to 0.90655, saving model to /content/drive/MyDrive/cnn-noise-143/noise-cnn_143-cnnmodel.h5\n",
      "Epoch 68/300\n",
      "49/49 [==============================] - 288s 6s/step - loss: 13.1007 - accuracy: 0.9196 - val_loss: 13.5039 - val_accuracy: 0.9065\n",
      "\n",
      "Epoch 00068: val_accuracy did not improve from 0.90655\n",
      "Epoch 69/300\n",
      "49/49 [==============================] - 291s 6s/step - loss: 13.0868 - accuracy: 0.9203 - val_loss: 13.4965 - val_accuracy: 0.9072\n",
      "\n",
      "Epoch 00069: val_accuracy improved from 0.90655 to 0.90718, saving model to /content/drive/MyDrive/cnn-noise-143/noise-cnn_143-cnnmodel.h5\n",
      "Epoch 70/300\n",
      "49/49 [==============================] - 289s 6s/step - loss: 13.0921 - accuracy: 0.9227 - val_loss: 13.4903 - val_accuracy: 0.9085\n",
      "\n",
      "Epoch 00070: val_accuracy improved from 0.90718 to 0.90846, saving model to /content/drive/MyDrive/cnn-noise-143/noise-cnn_143-cnnmodel.h5\n",
      "Epoch 71/300\n",
      "49/49 [==============================] - 287s 6s/step - loss: 13.0711 - accuracy: 0.9230 - val_loss: 13.4855 - val_accuracy: 0.9085\n",
      "\n",
      "Epoch 00071: val_accuracy did not improve from 0.90846\n",
      "Epoch 72/300\n",
      "49/49 [==============================] - 283s 6s/step - loss: 13.0718 - accuracy: 0.9279 - val_loss: 13.4789 - val_accuracy: 0.9085\n",
      "\n",
      "Epoch 00072: val_accuracy did not improve from 0.90846\n",
      "Epoch 73/300\n",
      "49/49 [==============================] - 277s 6s/step - loss: 13.0593 - accuracy: 0.9267 - val_loss: 13.4739 - val_accuracy: 0.9104\n",
      "\n",
      "Epoch 00073: val_accuracy improved from 0.90846 to 0.91036, saving model to /content/drive/MyDrive/cnn-noise-143/noise-cnn_143-cnnmodel.h5\n",
      "Epoch 74/300\n",
      "49/49 [==============================] - 274s 6s/step - loss: 13.0518 - accuracy: 0.9284 - val_loss: 13.4684 - val_accuracy: 0.9097\n",
      "\n",
      "Epoch 00074: val_accuracy did not improve from 0.91036\n",
      "Epoch 75/300\n",
      "49/49 [==============================] - 285s 6s/step - loss: 13.0439 - accuracy: 0.9303 - val_loss: 13.4623 - val_accuracy: 0.9104\n",
      "\n",
      "Epoch 00075: val_accuracy did not improve from 0.91036\n",
      "Epoch 76/300\n",
      "49/49 [==============================] - 274s 6s/step - loss: 13.0427 - accuracy: 0.9293 - val_loss: 13.4575 - val_accuracy: 0.9104\n",
      "\n",
      "Epoch 00076: val_accuracy did not improve from 0.91036\n",
      "Epoch 77/300\n",
      "49/49 [==============================] - 271s 6s/step - loss: 13.0296 - accuracy: 0.9304 - val_loss: 13.4504 - val_accuracy: 0.9142\n",
      "\n",
      "Epoch 00077: val_accuracy improved from 0.91036 to 0.91418, saving model to /content/drive/MyDrive/cnn-noise-143/noise-cnn_143-cnnmodel.h5\n",
      "Epoch 78/300\n",
      "49/49 [==============================] - 272s 6s/step - loss: 13.0216 - accuracy: 0.9356 - val_loss: 13.4451 - val_accuracy: 0.9148\n",
      "\n",
      "Epoch 00078: val_accuracy improved from 0.91418 to 0.91481, saving model to /content/drive/MyDrive/cnn-noise-143/noise-cnn_143-cnnmodel.h5\n",
      "Epoch 79/300\n",
      "49/49 [==============================] - 272s 6s/step - loss: 13.0115 - accuracy: 0.9344 - val_loss: 13.4395 - val_accuracy: 0.9161\n",
      "\n",
      "Epoch 00079: val_accuracy improved from 0.91481 to 0.91608, saving model to /content/drive/MyDrive/cnn-noise-143/noise-cnn_143-cnnmodel.h5\n",
      "Epoch 80/300\n",
      "49/49 [==============================] - 272s 6s/step - loss: 13.0104 - accuracy: 0.9308 - val_loss: 13.4346 - val_accuracy: 0.9174\n",
      "\n",
      "Epoch 00080: val_accuracy improved from 0.91608 to 0.91736, saving model to /content/drive/MyDrive/cnn-noise-143/noise-cnn_143-cnnmodel.h5\n",
      "Epoch 81/300\n",
      "49/49 [==============================] - 269s 6s/step - loss: 12.9955 - accuracy: 0.9373 - val_loss: 13.4298 - val_accuracy: 0.9186\n",
      "\n",
      "Epoch 00081: val_accuracy improved from 0.91736 to 0.91863, saving model to /content/drive/MyDrive/cnn-noise-143/noise-cnn_143-cnnmodel.h5\n",
      "Epoch 82/300\n",
      "49/49 [==============================] - 273s 6s/step - loss: 12.9911 - accuracy: 0.9384 - val_loss: 13.4249 - val_accuracy: 0.9193\n",
      "\n",
      "Epoch 00082: val_accuracy improved from 0.91863 to 0.91926, saving model to /content/drive/MyDrive/cnn-noise-143/noise-cnn_143-cnnmodel.h5\n",
      "Epoch 83/300\n",
      "49/49 [==============================] - 278s 6s/step - loss: 12.9886 - accuracy: 0.9382 - val_loss: 13.4198 - val_accuracy: 0.9205\n",
      "\n",
      "Epoch 00083: val_accuracy improved from 0.91926 to 0.92053, saving model to /content/drive/MyDrive/cnn-noise-143/noise-cnn_143-cnnmodel.h5\n",
      "Epoch 84/300\n",
      "49/49 [==============================] - 277s 6s/step - loss: 12.9808 - accuracy: 0.9400 - val_loss: 13.4150 - val_accuracy: 0.9212\n",
      "\n",
      "Epoch 00084: val_accuracy improved from 0.92053 to 0.92117, saving model to /content/drive/MyDrive/cnn-noise-143/noise-cnn_143-cnnmodel.h5\n",
      "Epoch 85/300\n",
      "49/49 [==============================] - 273s 6s/step - loss: 12.9723 - accuracy: 0.9350 - val_loss: 13.4093 - val_accuracy: 0.9218\n",
      "\n",
      "Epoch 00085: val_accuracy improved from 0.92117 to 0.92181, saving model to /content/drive/MyDrive/cnn-noise-143/noise-cnn_143-cnnmodel.h5\n",
      "Epoch 86/300\n",
      "49/49 [==============================] - 276s 6s/step - loss: 12.9634 - accuracy: 0.9398 - val_loss: 13.4031 - val_accuracy: 0.9218\n",
      "\n",
      "Epoch 00086: val_accuracy did not improve from 0.92181\n",
      "Epoch 87/300\n",
      "49/49 [==============================] - 270s 6s/step - loss: 12.9621 - accuracy: 0.9401 - val_loss: 13.3985 - val_accuracy: 0.9231\n",
      "\n",
      "Epoch 00087: val_accuracy improved from 0.92181 to 0.92308, saving model to /content/drive/MyDrive/cnn-noise-143/noise-cnn_143-cnnmodel.h5\n",
      "Epoch 88/300\n",
      "49/49 [==============================] - 269s 6s/step - loss: 12.9590 - accuracy: 0.9363 - val_loss: 13.3934 - val_accuracy: 0.9231\n",
      "\n",
      "Epoch 00088: val_accuracy did not improve from 0.92308\n",
      "Epoch 89/300\n",
      "49/49 [==============================] - 270s 6s/step - loss: 12.9424 - accuracy: 0.9427 - val_loss: 13.3879 - val_accuracy: 0.9237\n",
      "\n",
      "Epoch 00089: val_accuracy improved from 0.92308 to 0.92371, saving model to /content/drive/MyDrive/cnn-noise-143/noise-cnn_143-cnnmodel.h5\n",
      "Epoch 90/300\n",
      "49/49 [==============================] - 269s 6s/step - loss: 12.9454 - accuracy: 0.9410 - val_loss: 13.3827 - val_accuracy: 0.9250\n",
      "\n",
      "Epoch 00090: val_accuracy improved from 0.92371 to 0.92498, saving model to /content/drive/MyDrive/cnn-noise-143/noise-cnn_143-cnnmodel.h5\n",
      "Epoch 91/300\n",
      "49/49 [==============================] - 270s 6s/step - loss: 12.9360 - accuracy: 0.9421 - val_loss: 13.3789 - val_accuracy: 0.9250\n",
      "\n",
      "Epoch 00091: val_accuracy did not improve from 0.92498\n",
      "Epoch 92/300\n",
      "49/49 [==============================] - 271s 6s/step - loss: 12.9260 - accuracy: 0.9430 - val_loss: 13.3741 - val_accuracy: 0.9243\n",
      "\n",
      "Epoch 00092: val_accuracy did not improve from 0.92498\n",
      "Epoch 93/300\n",
      "49/49 [==============================] - 266s 5s/step - loss: 12.9235 - accuracy: 0.9418 - val_loss: 13.3691 - val_accuracy: 0.9243\n",
      "\n",
      "Epoch 00093: val_accuracy did not improve from 0.92498\n",
      "Epoch 94/300\n",
      "49/49 [==============================] - 265s 5s/step - loss: 12.9120 - accuracy: 0.9420 - val_loss: 13.3648 - val_accuracy: 0.9250\n",
      "\n",
      "Epoch 00094: val_accuracy did not improve from 0.92498\n",
      "Epoch 95/300\n",
      "49/49 [==============================] - 269s 6s/step - loss: 12.9089 - accuracy: 0.9457 - val_loss: 13.3603 - val_accuracy: 0.9256\n",
      "\n",
      "Epoch 00095: val_accuracy improved from 0.92498 to 0.92562, saving model to /content/drive/MyDrive/cnn-noise-143/noise-cnn_143-cnnmodel.h5\n"
     ]
    }
   ],
   "source": [
    "history = model.fit(train_data, validation_data= valid_data,epochs = 300, callbacks = [mc,csv_logger,es1],shuffle =True )"
   ]
  },
  {
   "cell_type": "code",
   "execution_count": 5,
   "metadata": {
    "id": "s26sEw1uVi1x"
   },
   "outputs": [],
   "source": [
    "model.save_weights(r'D:\\Uni-passau\\thesis-results\\143-dataset\\gaussian-cnn\\noise-cnn_143-cnnmodel-weights.h5')"
   ]
  },
  {
   "cell_type": "code",
   "execution_count": 6,
   "metadata": {
    "id": "XxAiyUbfW0u1"
   },
   "outputs": [],
   "source": [
    "test_datagen_nor = ImageDataGenerator(rescale=1./255)\n",
    "\n",
    "test_datagen_aug =  ImageDataGenerator(width_shift_range=0.15,validation_split=0.5,\n",
    "        height_shift_range=0.15,\n",
    "        horizontal_flip=True,rotation_range=10,\n",
    "        rescale=1./255)"
   ]
  },
  {
   "cell_type": "code",
   "execution_count": null,
   "metadata": {
    "id": "DYr2QiFJWeKR"
   },
   "outputs": [],
   "source": [
    "## train data and valid data"
   ]
  },
  {
   "cell_type": "code",
   "execution_count": 20,
   "metadata": {
    "colab": {
     "base_uri": "https://localhost:8080/"
    },
    "id": "xQSVERJrWwpT",
    "outputId": "c18ad1c7-0707-457d-eb01-6e075b531271"
   },
   "outputs": [
    {
     "name": "stdout",
     "output_type": "stream",
     "text": [
      "49/49 [==============================] - 228s 5s/step - loss: 12.6431 - accuracy: 0.9955\n",
      "50/50 [==============================] - 40s 805ms/step - loss: 13.3603 - accuracy: 0.9256\n",
      "Train_Accuracy: 99.55%\n",
      "valid_Accuracy: 92.56%\n"
     ]
    }
   ],
   "source": [
    "train_acc=model.evaluate(train_data)\n",
    "val_acc = model.evaluate(valid_data)\n",
    "print(\"Train_Accuracy: %.2f%%\" % (train_acc[1]*100))\n",
    "print(\"valid_Accuracy: %.2f%%\" % (val_acc[1]*100))"
   ]
  },
  {
   "cell_type": "code",
   "execution_count": null,
   "metadata": {
    "id": "wh6nPgJQW6M_"
   },
   "outputs": [],
   "source": [
    "## normal dataset"
   ]
  },
  {
   "cell_type": "code",
   "execution_count": 22,
   "metadata": {
    "colab": {
     "base_uri": "https://localhost:8080/"
    },
    "id": "9wKcaiLsW3z9",
    "outputId": "230f1e1e-f58b-407e-ac8c-f3c103eb6f60"
   },
   "outputs": [
    {
     "name": "stdout",
     "output_type": "stream",
     "text": [
      "Found 3718 images belonging to 143 classes.\n",
      "117/117 [==============================] - 3274s 28s/step - loss: 13.1502 - accuracy: 0.9287\n",
      "Test_Accuracy: 92.87%\n"
     ]
    }
   ],
   "source": [
    "test_genrator_nor = test_datagen_nor.flow_from_directory( r'/content/drive/MyDrive/dataset/test',\n",
    "        target_size=(256,256),\n",
    "        batch_size=32,\n",
    "        class_mode='categorical')\n",
    "test_acc = model.evaluate(test_genrator_nor)\n",
    "print(\"Test_Accuracy: %.2f%%\" % (test_acc[1]*100))"
   ]
  },
  {
   "cell_type": "code",
   "execution_count": 9,
   "metadata": {},
   "outputs": [
    {
     "name": "stdout",
     "output_type": "stream",
     "text": [
      "Found 3718 images belonging to 143 classes.\n",
      " 26/117 [=====>........................] - ETA: 3:06 - loss: 16.9544 - accuracy: 0.0024"
     ]
    },
    {
     "ename": "KeyboardInterrupt",
     "evalue": "",
     "output_type": "error",
     "traceback": [
      "\u001b[1;31m---------------------------------------------------------------------------\u001b[0m",
      "\u001b[1;31mKeyboardInterrupt\u001b[0m                         Traceback (most recent call last)",
      "\u001b[1;32m<ipython-input-9-a2555cd58a51>\u001b[0m in \u001b[0;36m<module>\u001b[1;34m\u001b[0m\n\u001b[0;32m      3\u001b[0m         \u001b[0mbatch_size\u001b[0m\u001b[1;33m=\u001b[0m\u001b[1;36m32\u001b[0m\u001b[1;33m,\u001b[0m\u001b[1;33m\u001b[0m\u001b[1;33m\u001b[0m\u001b[0m\n\u001b[0;32m      4\u001b[0m         class_mode='categorical')\n\u001b[1;32m----> 5\u001b[1;33m \u001b[0mtest_acc\u001b[0m \u001b[1;33m=\u001b[0m \u001b[0mmodel\u001b[0m\u001b[1;33m.\u001b[0m\u001b[0mevaluate\u001b[0m\u001b[1;33m(\u001b[0m\u001b[0mtest_genrator_nor\u001b[0m\u001b[1;33m)\u001b[0m\u001b[1;33m\u001b[0m\u001b[1;33m\u001b[0m\u001b[0m\n\u001b[0m\u001b[0;32m      6\u001b[0m \u001b[0mprint\u001b[0m\u001b[1;33m(\u001b[0m\u001b[1;34m\"Test_Accuracy: %.2f%%\"\u001b[0m \u001b[1;33m%\u001b[0m \u001b[1;33m(\u001b[0m\u001b[0mtest_acc\u001b[0m\u001b[1;33m[\u001b[0m\u001b[1;36m1\u001b[0m\u001b[1;33m]\u001b[0m\u001b[1;33m*\u001b[0m\u001b[1;36m100\u001b[0m\u001b[1;33m)\u001b[0m\u001b[1;33m)\u001b[0m\u001b[1;33m\u001b[0m\u001b[1;33m\u001b[0m\u001b[0m\n",
      "\u001b[1;32m~\\anaconda3\\lib\\site-packages\\tensorflow\\python\\keras\\engine\\training.py\u001b[0m in \u001b[0;36m_method_wrapper\u001b[1;34m(self, *args, **kwargs)\u001b[0m\n\u001b[0;32m    106\u001b[0m   \u001b[1;32mdef\u001b[0m \u001b[0m_method_wrapper\u001b[0m\u001b[1;33m(\u001b[0m\u001b[0mself\u001b[0m\u001b[1;33m,\u001b[0m \u001b[1;33m*\u001b[0m\u001b[0margs\u001b[0m\u001b[1;33m,\u001b[0m \u001b[1;33m**\u001b[0m\u001b[0mkwargs\u001b[0m\u001b[1;33m)\u001b[0m\u001b[1;33m:\u001b[0m\u001b[1;33m\u001b[0m\u001b[1;33m\u001b[0m\u001b[0m\n\u001b[0;32m    107\u001b[0m     \u001b[1;32mif\u001b[0m \u001b[1;32mnot\u001b[0m \u001b[0mself\u001b[0m\u001b[1;33m.\u001b[0m\u001b[0m_in_multi_worker_mode\u001b[0m\u001b[1;33m(\u001b[0m\u001b[1;33m)\u001b[0m\u001b[1;33m:\u001b[0m  \u001b[1;31m# pylint: disable=protected-access\u001b[0m\u001b[1;33m\u001b[0m\u001b[1;33m\u001b[0m\u001b[0m\n\u001b[1;32m--> 108\u001b[1;33m       \u001b[1;32mreturn\u001b[0m \u001b[0mmethod\u001b[0m\u001b[1;33m(\u001b[0m\u001b[0mself\u001b[0m\u001b[1;33m,\u001b[0m \u001b[1;33m*\u001b[0m\u001b[0margs\u001b[0m\u001b[1;33m,\u001b[0m \u001b[1;33m**\u001b[0m\u001b[0mkwargs\u001b[0m\u001b[1;33m)\u001b[0m\u001b[1;33m\u001b[0m\u001b[1;33m\u001b[0m\u001b[0m\n\u001b[0m\u001b[0;32m    109\u001b[0m \u001b[1;33m\u001b[0m\u001b[0m\n\u001b[0;32m    110\u001b[0m     \u001b[1;31m# Running inside `run_distribute_coordinator` already.\u001b[0m\u001b[1;33m\u001b[0m\u001b[1;33m\u001b[0m\u001b[1;33m\u001b[0m\u001b[0m\n",
      "\u001b[1;32m~\\anaconda3\\lib\\site-packages\\tensorflow\\python\\keras\\engine\\training.py\u001b[0m in \u001b[0;36mevaluate\u001b[1;34m(self, x, y, batch_size, verbose, sample_weight, steps, callbacks, max_queue_size, workers, use_multiprocessing, return_dict)\u001b[0m\n\u001b[0;32m   1377\u001b[0m             \u001b[1;32mwith\u001b[0m \u001b[0mtrace\u001b[0m\u001b[1;33m.\u001b[0m\u001b[0mTrace\u001b[0m\u001b[1;33m(\u001b[0m\u001b[1;34m'TraceContext'\u001b[0m\u001b[1;33m,\u001b[0m \u001b[0mgraph_type\u001b[0m\u001b[1;33m=\u001b[0m\u001b[1;34m'test'\u001b[0m\u001b[1;33m,\u001b[0m \u001b[0mstep_num\u001b[0m\u001b[1;33m=\u001b[0m\u001b[0mstep\u001b[0m\u001b[1;33m)\u001b[0m\u001b[1;33m:\u001b[0m\u001b[1;33m\u001b[0m\u001b[1;33m\u001b[0m\u001b[0m\n\u001b[0;32m   1378\u001b[0m               \u001b[0mcallbacks\u001b[0m\u001b[1;33m.\u001b[0m\u001b[0mon_test_batch_begin\u001b[0m\u001b[1;33m(\u001b[0m\u001b[0mstep\u001b[0m\u001b[1;33m)\u001b[0m\u001b[1;33m\u001b[0m\u001b[1;33m\u001b[0m\u001b[0m\n\u001b[1;32m-> 1379\u001b[1;33m               \u001b[0mtmp_logs\u001b[0m \u001b[1;33m=\u001b[0m \u001b[0mtest_function\u001b[0m\u001b[1;33m(\u001b[0m\u001b[0miterator\u001b[0m\u001b[1;33m)\u001b[0m\u001b[1;33m\u001b[0m\u001b[1;33m\u001b[0m\u001b[0m\n\u001b[0m\u001b[0;32m   1380\u001b[0m               \u001b[1;32mif\u001b[0m \u001b[0mdata_handler\u001b[0m\u001b[1;33m.\u001b[0m\u001b[0mshould_sync\u001b[0m\u001b[1;33m:\u001b[0m\u001b[1;33m\u001b[0m\u001b[1;33m\u001b[0m\u001b[0m\n\u001b[0;32m   1381\u001b[0m                 \u001b[0mcontext\u001b[0m\u001b[1;33m.\u001b[0m\u001b[0masync_wait\u001b[0m\u001b[1;33m(\u001b[0m\u001b[1;33m)\u001b[0m\u001b[1;33m\u001b[0m\u001b[1;33m\u001b[0m\u001b[0m\n",
      "\u001b[1;32m~\\anaconda3\\lib\\site-packages\\tensorflow\\python\\eager\\def_function.py\u001b[0m in \u001b[0;36m__call__\u001b[1;34m(self, *args, **kwds)\u001b[0m\n\u001b[0;32m    778\u001b[0m       \u001b[1;32melse\u001b[0m\u001b[1;33m:\u001b[0m\u001b[1;33m\u001b[0m\u001b[1;33m\u001b[0m\u001b[0m\n\u001b[0;32m    779\u001b[0m         \u001b[0mcompiler\u001b[0m \u001b[1;33m=\u001b[0m \u001b[1;34m\"nonXla\"\u001b[0m\u001b[1;33m\u001b[0m\u001b[1;33m\u001b[0m\u001b[0m\n\u001b[1;32m--> 780\u001b[1;33m         \u001b[0mresult\u001b[0m \u001b[1;33m=\u001b[0m \u001b[0mself\u001b[0m\u001b[1;33m.\u001b[0m\u001b[0m_call\u001b[0m\u001b[1;33m(\u001b[0m\u001b[1;33m*\u001b[0m\u001b[0margs\u001b[0m\u001b[1;33m,\u001b[0m \u001b[1;33m**\u001b[0m\u001b[0mkwds\u001b[0m\u001b[1;33m)\u001b[0m\u001b[1;33m\u001b[0m\u001b[1;33m\u001b[0m\u001b[0m\n\u001b[0m\u001b[0;32m    781\u001b[0m \u001b[1;33m\u001b[0m\u001b[0m\n\u001b[0;32m    782\u001b[0m       \u001b[0mnew_tracing_count\u001b[0m \u001b[1;33m=\u001b[0m \u001b[0mself\u001b[0m\u001b[1;33m.\u001b[0m\u001b[0m_get_tracing_count\u001b[0m\u001b[1;33m(\u001b[0m\u001b[1;33m)\u001b[0m\u001b[1;33m\u001b[0m\u001b[1;33m\u001b[0m\u001b[0m\n",
      "\u001b[1;32m~\\anaconda3\\lib\\site-packages\\tensorflow\\python\\eager\\def_function.py\u001b[0m in \u001b[0;36m_call\u001b[1;34m(self, *args, **kwds)\u001b[0m\n\u001b[0;32m    805\u001b[0m       \u001b[1;31m# In this case we have created variables on the first call, so we run the\u001b[0m\u001b[1;33m\u001b[0m\u001b[1;33m\u001b[0m\u001b[1;33m\u001b[0m\u001b[0m\n\u001b[0;32m    806\u001b[0m       \u001b[1;31m# defunned version which is guaranteed to never create variables.\u001b[0m\u001b[1;33m\u001b[0m\u001b[1;33m\u001b[0m\u001b[1;33m\u001b[0m\u001b[0m\n\u001b[1;32m--> 807\u001b[1;33m       \u001b[1;32mreturn\u001b[0m \u001b[0mself\u001b[0m\u001b[1;33m.\u001b[0m\u001b[0m_stateless_fn\u001b[0m\u001b[1;33m(\u001b[0m\u001b[1;33m*\u001b[0m\u001b[0margs\u001b[0m\u001b[1;33m,\u001b[0m \u001b[1;33m**\u001b[0m\u001b[0mkwds\u001b[0m\u001b[1;33m)\u001b[0m  \u001b[1;31m# pylint: disable=not-callable\u001b[0m\u001b[1;33m\u001b[0m\u001b[1;33m\u001b[0m\u001b[0m\n\u001b[0m\u001b[0;32m    808\u001b[0m     \u001b[1;32melif\u001b[0m \u001b[0mself\u001b[0m\u001b[1;33m.\u001b[0m\u001b[0m_stateful_fn\u001b[0m \u001b[1;32mis\u001b[0m \u001b[1;32mnot\u001b[0m \u001b[1;32mNone\u001b[0m\u001b[1;33m:\u001b[0m\u001b[1;33m\u001b[0m\u001b[1;33m\u001b[0m\u001b[0m\n\u001b[0;32m    809\u001b[0m       \u001b[1;31m# Release the lock early so that multiple threads can perform the call\u001b[0m\u001b[1;33m\u001b[0m\u001b[1;33m\u001b[0m\u001b[1;33m\u001b[0m\u001b[0m\n",
      "\u001b[1;32m~\\anaconda3\\lib\\site-packages\\tensorflow\\python\\eager\\function.py\u001b[0m in \u001b[0;36m__call__\u001b[1;34m(self, *args, **kwargs)\u001b[0m\n\u001b[0;32m   2827\u001b[0m     \u001b[1;32mwith\u001b[0m \u001b[0mself\u001b[0m\u001b[1;33m.\u001b[0m\u001b[0m_lock\u001b[0m\u001b[1;33m:\u001b[0m\u001b[1;33m\u001b[0m\u001b[1;33m\u001b[0m\u001b[0m\n\u001b[0;32m   2828\u001b[0m       \u001b[0mgraph_function\u001b[0m\u001b[1;33m,\u001b[0m \u001b[0margs\u001b[0m\u001b[1;33m,\u001b[0m \u001b[0mkwargs\u001b[0m \u001b[1;33m=\u001b[0m \u001b[0mself\u001b[0m\u001b[1;33m.\u001b[0m\u001b[0m_maybe_define_function\u001b[0m\u001b[1;33m(\u001b[0m\u001b[0margs\u001b[0m\u001b[1;33m,\u001b[0m \u001b[0mkwargs\u001b[0m\u001b[1;33m)\u001b[0m\u001b[1;33m\u001b[0m\u001b[1;33m\u001b[0m\u001b[0m\n\u001b[1;32m-> 2829\u001b[1;33m     \u001b[1;32mreturn\u001b[0m \u001b[0mgraph_function\u001b[0m\u001b[1;33m.\u001b[0m\u001b[0m_filtered_call\u001b[0m\u001b[1;33m(\u001b[0m\u001b[0margs\u001b[0m\u001b[1;33m,\u001b[0m \u001b[0mkwargs\u001b[0m\u001b[1;33m)\u001b[0m  \u001b[1;31m# pylint: disable=protected-access\u001b[0m\u001b[1;33m\u001b[0m\u001b[1;33m\u001b[0m\u001b[0m\n\u001b[0m\u001b[0;32m   2830\u001b[0m \u001b[1;33m\u001b[0m\u001b[0m\n\u001b[0;32m   2831\u001b[0m   \u001b[1;33m@\u001b[0m\u001b[0mproperty\u001b[0m\u001b[1;33m\u001b[0m\u001b[1;33m\u001b[0m\u001b[0m\n",
      "\u001b[1;32m~\\anaconda3\\lib\\site-packages\\tensorflow\\python\\eager\\function.py\u001b[0m in \u001b[0;36m_filtered_call\u001b[1;34m(self, args, kwargs, cancellation_manager)\u001b[0m\n\u001b[0;32m   1841\u001b[0m       \u001b[0;31m`\u001b[0m\u001b[0margs\u001b[0m\u001b[0;31m`\u001b[0m \u001b[1;32mand\u001b[0m\u001b[0;31m \u001b[0m\u001b[0;31m`\u001b[0m\u001b[0mkwargs\u001b[0m\u001b[0;31m`\u001b[0m\u001b[1;33m.\u001b[0m\u001b[1;33m\u001b[0m\u001b[1;33m\u001b[0m\u001b[0m\n\u001b[0;32m   1842\u001b[0m     \"\"\"\n\u001b[1;32m-> 1843\u001b[1;33m     return self._call_flat(\n\u001b[0m\u001b[0;32m   1844\u001b[0m         [t for t in nest.flatten((args, kwargs), expand_composites=True)\n\u001b[0;32m   1845\u001b[0m          if isinstance(t, (ops.Tensor,\n",
      "\u001b[1;32m~\\anaconda3\\lib\\site-packages\\tensorflow\\python\\eager\\function.py\u001b[0m in \u001b[0;36m_call_flat\u001b[1;34m(self, args, captured_inputs, cancellation_manager)\u001b[0m\n\u001b[0;32m   1921\u001b[0m         and executing_eagerly):\n\u001b[0;32m   1922\u001b[0m       \u001b[1;31m# No tape is watching; skip to running the function.\u001b[0m\u001b[1;33m\u001b[0m\u001b[1;33m\u001b[0m\u001b[1;33m\u001b[0m\u001b[0m\n\u001b[1;32m-> 1923\u001b[1;33m       return self._build_call_outputs(self._inference_function.call(\n\u001b[0m\u001b[0;32m   1924\u001b[0m           ctx, args, cancellation_manager=cancellation_manager))\n\u001b[0;32m   1925\u001b[0m     forward_backward = self._select_forward_and_backward_functions(\n",
      "\u001b[1;32m~\\anaconda3\\lib\\site-packages\\tensorflow\\python\\eager\\function.py\u001b[0m in \u001b[0;36mcall\u001b[1;34m(self, ctx, args, cancellation_manager)\u001b[0m\n\u001b[0;32m    543\u001b[0m       \u001b[1;32mwith\u001b[0m \u001b[0m_InterpolateFunctionError\u001b[0m\u001b[1;33m(\u001b[0m\u001b[0mself\u001b[0m\u001b[1;33m)\u001b[0m\u001b[1;33m:\u001b[0m\u001b[1;33m\u001b[0m\u001b[1;33m\u001b[0m\u001b[0m\n\u001b[0;32m    544\u001b[0m         \u001b[1;32mif\u001b[0m \u001b[0mcancellation_manager\u001b[0m \u001b[1;32mis\u001b[0m \u001b[1;32mNone\u001b[0m\u001b[1;33m:\u001b[0m\u001b[1;33m\u001b[0m\u001b[1;33m\u001b[0m\u001b[0m\n\u001b[1;32m--> 545\u001b[1;33m           outputs = execute.execute(\n\u001b[0m\u001b[0;32m    546\u001b[0m               \u001b[0mstr\u001b[0m\u001b[1;33m(\u001b[0m\u001b[0mself\u001b[0m\u001b[1;33m.\u001b[0m\u001b[0msignature\u001b[0m\u001b[1;33m.\u001b[0m\u001b[0mname\u001b[0m\u001b[1;33m)\u001b[0m\u001b[1;33m,\u001b[0m\u001b[1;33m\u001b[0m\u001b[1;33m\u001b[0m\u001b[0m\n\u001b[0;32m    547\u001b[0m               \u001b[0mnum_outputs\u001b[0m\u001b[1;33m=\u001b[0m\u001b[0mself\u001b[0m\u001b[1;33m.\u001b[0m\u001b[0m_num_outputs\u001b[0m\u001b[1;33m,\u001b[0m\u001b[1;33m\u001b[0m\u001b[1;33m\u001b[0m\u001b[0m\n",
      "\u001b[1;32m~\\anaconda3\\lib\\site-packages\\tensorflow\\python\\eager\\execute.py\u001b[0m in \u001b[0;36mquick_execute\u001b[1;34m(op_name, num_outputs, inputs, attrs, ctx, name)\u001b[0m\n\u001b[0;32m     57\u001b[0m   \u001b[1;32mtry\u001b[0m\u001b[1;33m:\u001b[0m\u001b[1;33m\u001b[0m\u001b[1;33m\u001b[0m\u001b[0m\n\u001b[0;32m     58\u001b[0m     \u001b[0mctx\u001b[0m\u001b[1;33m.\u001b[0m\u001b[0mensure_initialized\u001b[0m\u001b[1;33m(\u001b[0m\u001b[1;33m)\u001b[0m\u001b[1;33m\u001b[0m\u001b[1;33m\u001b[0m\u001b[0m\n\u001b[1;32m---> 59\u001b[1;33m     tensors = pywrap_tfe.TFE_Py_Execute(ctx._handle, device_name, op_name,\n\u001b[0m\u001b[0;32m     60\u001b[0m                                         inputs, attrs, num_outputs)\n\u001b[0;32m     61\u001b[0m   \u001b[1;32mexcept\u001b[0m \u001b[0mcore\u001b[0m\u001b[1;33m.\u001b[0m\u001b[0m_NotOkStatusException\u001b[0m \u001b[1;32mas\u001b[0m \u001b[0me\u001b[0m\u001b[1;33m:\u001b[0m\u001b[1;33m\u001b[0m\u001b[1;33m\u001b[0m\u001b[0m\n",
      "\u001b[1;31mKeyboardInterrupt\u001b[0m: "
     ]
    }
   ],
   "source": [
    "\n",
    "test_genrator_nor = test_datagen_nor.flow_from_directory( r'E:\\thesis-dataset\\dataset\\test',\n",
    "        target_size=(256,256),\n",
    "        batch_size=32,\n",
    "        class_mode='categorical')\n",
    "test_acc = model.evaluate(test_genrator_nor)\n",
    "print(\"Test_Accuracy: %.2f%%\" % (test_acc[1]*100))"
   ]
  },
  {
   "cell_type": "code",
   "execution_count": null,
   "metadata": {
    "id": "Y7Fq7t4KW86P"
   },
   "outputs": [],
   "source": [
    "## normal dataset augumenattion"
   ]
  },
  {
   "cell_type": "code",
   "execution_count": null,
   "metadata": {
    "id": "hkM9LLIQW_GK"
   },
   "outputs": [],
   "source": [
    "test_genrator_aug = test_datagen_aug.flow_from_directory( r'/content/drive/MyDrive/dataset/test',\n",
    "        target_size=(256,256),\n",
    "        batch_size=32,\n",
    "        class_mode='categorical')\n",
    "test_acc = model.evaluate(test_genrator_aug)\n",
    "print(\"Test_Accuracy: %.2f%%\" % (test_acc[1]*100))"
   ]
  },
  {
   "cell_type": "code",
   "execution_count": null,
   "metadata": {
    "id": "zEHZ1ksYW_rA"
   },
   "outputs": [],
   "source": [
    "## gaussian noise"
   ]
  },
  {
   "cell_type": "code",
   "execution_count": 8,
   "metadata": {
    "colab": {
     "base_uri": "https://localhost:8080/"
    },
    "id": "tyRNgNmPXBy-",
    "outputId": "abefa7c8-0448-4454-d978-0db389510442"
   },
   "outputs": [
    {
     "name": "stdout",
     "output_type": "stream",
     "text": [
      "Found 3718 images belonging to 143 classes.\n",
      " 15/117 [==>...........................] - ETA: 8:51 - loss: 16.9550 - accuracy: 0.0021   "
     ]
    },
    {
     "ename": "KeyboardInterrupt",
     "evalue": "",
     "output_type": "error",
     "traceback": [
      "\u001b[1;31m---------------------------------------------------------------------------\u001b[0m",
      "\u001b[1;31mKeyboardInterrupt\u001b[0m                         Traceback (most recent call last)",
      "\u001b[1;32m<ipython-input-8-7853354a4ea4>\u001b[0m in \u001b[0;36m<module>\u001b[1;34m\u001b[0m\n\u001b[0;32m      3\u001b[0m         \u001b[0mbatch_size\u001b[0m\u001b[1;33m=\u001b[0m\u001b[1;36m32\u001b[0m\u001b[1;33m,\u001b[0m\u001b[1;33m\u001b[0m\u001b[1;33m\u001b[0m\u001b[0m\n\u001b[0;32m      4\u001b[0m         class_mode='categorical')\n\u001b[1;32m----> 5\u001b[1;33m \u001b[0mtest_acc\u001b[0m \u001b[1;33m=\u001b[0m \u001b[0mmodel\u001b[0m\u001b[1;33m.\u001b[0m\u001b[0mevaluate\u001b[0m\u001b[1;33m(\u001b[0m\u001b[0mtest_genrator_gau_nor\u001b[0m\u001b[1;33m)\u001b[0m\u001b[1;33m\u001b[0m\u001b[1;33m\u001b[0m\u001b[0m\n\u001b[0m\u001b[0;32m      6\u001b[0m \u001b[0mprint\u001b[0m\u001b[1;33m(\u001b[0m\u001b[1;34m\"Test_Accuracy: %.2f%%\"\u001b[0m \u001b[1;33m%\u001b[0m \u001b[1;33m(\u001b[0m\u001b[0mtest_acc\u001b[0m\u001b[1;33m[\u001b[0m\u001b[1;36m1\u001b[0m\u001b[1;33m]\u001b[0m\u001b[1;33m*\u001b[0m\u001b[1;36m100\u001b[0m\u001b[1;33m)\u001b[0m\u001b[1;33m)\u001b[0m\u001b[1;33m\u001b[0m\u001b[1;33m\u001b[0m\u001b[0m\n",
      "\u001b[1;32m~\\anaconda3\\lib\\site-packages\\tensorflow\\python\\keras\\engine\\training.py\u001b[0m in \u001b[0;36m_method_wrapper\u001b[1;34m(self, *args, **kwargs)\u001b[0m\n\u001b[0;32m    106\u001b[0m   \u001b[1;32mdef\u001b[0m \u001b[0m_method_wrapper\u001b[0m\u001b[1;33m(\u001b[0m\u001b[0mself\u001b[0m\u001b[1;33m,\u001b[0m \u001b[1;33m*\u001b[0m\u001b[0margs\u001b[0m\u001b[1;33m,\u001b[0m \u001b[1;33m**\u001b[0m\u001b[0mkwargs\u001b[0m\u001b[1;33m)\u001b[0m\u001b[1;33m:\u001b[0m\u001b[1;33m\u001b[0m\u001b[1;33m\u001b[0m\u001b[0m\n\u001b[0;32m    107\u001b[0m     \u001b[1;32mif\u001b[0m \u001b[1;32mnot\u001b[0m \u001b[0mself\u001b[0m\u001b[1;33m.\u001b[0m\u001b[0m_in_multi_worker_mode\u001b[0m\u001b[1;33m(\u001b[0m\u001b[1;33m)\u001b[0m\u001b[1;33m:\u001b[0m  \u001b[1;31m# pylint: disable=protected-access\u001b[0m\u001b[1;33m\u001b[0m\u001b[1;33m\u001b[0m\u001b[0m\n\u001b[1;32m--> 108\u001b[1;33m       \u001b[1;32mreturn\u001b[0m \u001b[0mmethod\u001b[0m\u001b[1;33m(\u001b[0m\u001b[0mself\u001b[0m\u001b[1;33m,\u001b[0m \u001b[1;33m*\u001b[0m\u001b[0margs\u001b[0m\u001b[1;33m,\u001b[0m \u001b[1;33m**\u001b[0m\u001b[0mkwargs\u001b[0m\u001b[1;33m)\u001b[0m\u001b[1;33m\u001b[0m\u001b[1;33m\u001b[0m\u001b[0m\n\u001b[0m\u001b[0;32m    109\u001b[0m \u001b[1;33m\u001b[0m\u001b[0m\n\u001b[0;32m    110\u001b[0m     \u001b[1;31m# Running inside `run_distribute_coordinator` already.\u001b[0m\u001b[1;33m\u001b[0m\u001b[1;33m\u001b[0m\u001b[1;33m\u001b[0m\u001b[0m\n",
      "\u001b[1;32m~\\anaconda3\\lib\\site-packages\\tensorflow\\python\\keras\\engine\\training.py\u001b[0m in \u001b[0;36mevaluate\u001b[1;34m(self, x, y, batch_size, verbose, sample_weight, steps, callbacks, max_queue_size, workers, use_multiprocessing, return_dict)\u001b[0m\n\u001b[0;32m   1377\u001b[0m             \u001b[1;32mwith\u001b[0m \u001b[0mtrace\u001b[0m\u001b[1;33m.\u001b[0m\u001b[0mTrace\u001b[0m\u001b[1;33m(\u001b[0m\u001b[1;34m'TraceContext'\u001b[0m\u001b[1;33m,\u001b[0m \u001b[0mgraph_type\u001b[0m\u001b[1;33m=\u001b[0m\u001b[1;34m'test'\u001b[0m\u001b[1;33m,\u001b[0m \u001b[0mstep_num\u001b[0m\u001b[1;33m=\u001b[0m\u001b[0mstep\u001b[0m\u001b[1;33m)\u001b[0m\u001b[1;33m:\u001b[0m\u001b[1;33m\u001b[0m\u001b[1;33m\u001b[0m\u001b[0m\n\u001b[0;32m   1378\u001b[0m               \u001b[0mcallbacks\u001b[0m\u001b[1;33m.\u001b[0m\u001b[0mon_test_batch_begin\u001b[0m\u001b[1;33m(\u001b[0m\u001b[0mstep\u001b[0m\u001b[1;33m)\u001b[0m\u001b[1;33m\u001b[0m\u001b[1;33m\u001b[0m\u001b[0m\n\u001b[1;32m-> 1379\u001b[1;33m               \u001b[0mtmp_logs\u001b[0m \u001b[1;33m=\u001b[0m \u001b[0mtest_function\u001b[0m\u001b[1;33m(\u001b[0m\u001b[0miterator\u001b[0m\u001b[1;33m)\u001b[0m\u001b[1;33m\u001b[0m\u001b[1;33m\u001b[0m\u001b[0m\n\u001b[0m\u001b[0;32m   1380\u001b[0m               \u001b[1;32mif\u001b[0m \u001b[0mdata_handler\u001b[0m\u001b[1;33m.\u001b[0m\u001b[0mshould_sync\u001b[0m\u001b[1;33m:\u001b[0m\u001b[1;33m\u001b[0m\u001b[1;33m\u001b[0m\u001b[0m\n\u001b[0;32m   1381\u001b[0m                 \u001b[0mcontext\u001b[0m\u001b[1;33m.\u001b[0m\u001b[0masync_wait\u001b[0m\u001b[1;33m(\u001b[0m\u001b[1;33m)\u001b[0m\u001b[1;33m\u001b[0m\u001b[1;33m\u001b[0m\u001b[0m\n",
      "\u001b[1;32m~\\anaconda3\\lib\\site-packages\\tensorflow\\python\\eager\\def_function.py\u001b[0m in \u001b[0;36m__call__\u001b[1;34m(self, *args, **kwds)\u001b[0m\n\u001b[0;32m    778\u001b[0m       \u001b[1;32melse\u001b[0m\u001b[1;33m:\u001b[0m\u001b[1;33m\u001b[0m\u001b[1;33m\u001b[0m\u001b[0m\n\u001b[0;32m    779\u001b[0m         \u001b[0mcompiler\u001b[0m \u001b[1;33m=\u001b[0m \u001b[1;34m\"nonXla\"\u001b[0m\u001b[1;33m\u001b[0m\u001b[1;33m\u001b[0m\u001b[0m\n\u001b[1;32m--> 780\u001b[1;33m         \u001b[0mresult\u001b[0m \u001b[1;33m=\u001b[0m \u001b[0mself\u001b[0m\u001b[1;33m.\u001b[0m\u001b[0m_call\u001b[0m\u001b[1;33m(\u001b[0m\u001b[1;33m*\u001b[0m\u001b[0margs\u001b[0m\u001b[1;33m,\u001b[0m \u001b[1;33m**\u001b[0m\u001b[0mkwds\u001b[0m\u001b[1;33m)\u001b[0m\u001b[1;33m\u001b[0m\u001b[1;33m\u001b[0m\u001b[0m\n\u001b[0m\u001b[0;32m    781\u001b[0m \u001b[1;33m\u001b[0m\u001b[0m\n\u001b[0;32m    782\u001b[0m       \u001b[0mnew_tracing_count\u001b[0m \u001b[1;33m=\u001b[0m \u001b[0mself\u001b[0m\u001b[1;33m.\u001b[0m\u001b[0m_get_tracing_count\u001b[0m\u001b[1;33m(\u001b[0m\u001b[1;33m)\u001b[0m\u001b[1;33m\u001b[0m\u001b[1;33m\u001b[0m\u001b[0m\n",
      "\u001b[1;32m~\\anaconda3\\lib\\site-packages\\tensorflow\\python\\eager\\def_function.py\u001b[0m in \u001b[0;36m_call\u001b[1;34m(self, *args, **kwds)\u001b[0m\n\u001b[0;32m    805\u001b[0m       \u001b[1;31m# In this case we have created variables on the first call, so we run the\u001b[0m\u001b[1;33m\u001b[0m\u001b[1;33m\u001b[0m\u001b[1;33m\u001b[0m\u001b[0m\n\u001b[0;32m    806\u001b[0m       \u001b[1;31m# defunned version which is guaranteed to never create variables.\u001b[0m\u001b[1;33m\u001b[0m\u001b[1;33m\u001b[0m\u001b[1;33m\u001b[0m\u001b[0m\n\u001b[1;32m--> 807\u001b[1;33m       \u001b[1;32mreturn\u001b[0m \u001b[0mself\u001b[0m\u001b[1;33m.\u001b[0m\u001b[0m_stateless_fn\u001b[0m\u001b[1;33m(\u001b[0m\u001b[1;33m*\u001b[0m\u001b[0margs\u001b[0m\u001b[1;33m,\u001b[0m \u001b[1;33m**\u001b[0m\u001b[0mkwds\u001b[0m\u001b[1;33m)\u001b[0m  \u001b[1;31m# pylint: disable=not-callable\u001b[0m\u001b[1;33m\u001b[0m\u001b[1;33m\u001b[0m\u001b[0m\n\u001b[0m\u001b[0;32m    808\u001b[0m     \u001b[1;32melif\u001b[0m \u001b[0mself\u001b[0m\u001b[1;33m.\u001b[0m\u001b[0m_stateful_fn\u001b[0m \u001b[1;32mis\u001b[0m \u001b[1;32mnot\u001b[0m \u001b[1;32mNone\u001b[0m\u001b[1;33m:\u001b[0m\u001b[1;33m\u001b[0m\u001b[1;33m\u001b[0m\u001b[0m\n\u001b[0;32m    809\u001b[0m       \u001b[1;31m# Release the lock early so that multiple threads can perform the call\u001b[0m\u001b[1;33m\u001b[0m\u001b[1;33m\u001b[0m\u001b[1;33m\u001b[0m\u001b[0m\n",
      "\u001b[1;32m~\\anaconda3\\lib\\site-packages\\tensorflow\\python\\eager\\function.py\u001b[0m in \u001b[0;36m__call__\u001b[1;34m(self, *args, **kwargs)\u001b[0m\n\u001b[0;32m   2827\u001b[0m     \u001b[1;32mwith\u001b[0m \u001b[0mself\u001b[0m\u001b[1;33m.\u001b[0m\u001b[0m_lock\u001b[0m\u001b[1;33m:\u001b[0m\u001b[1;33m\u001b[0m\u001b[1;33m\u001b[0m\u001b[0m\n\u001b[0;32m   2828\u001b[0m       \u001b[0mgraph_function\u001b[0m\u001b[1;33m,\u001b[0m \u001b[0margs\u001b[0m\u001b[1;33m,\u001b[0m \u001b[0mkwargs\u001b[0m \u001b[1;33m=\u001b[0m \u001b[0mself\u001b[0m\u001b[1;33m.\u001b[0m\u001b[0m_maybe_define_function\u001b[0m\u001b[1;33m(\u001b[0m\u001b[0margs\u001b[0m\u001b[1;33m,\u001b[0m \u001b[0mkwargs\u001b[0m\u001b[1;33m)\u001b[0m\u001b[1;33m\u001b[0m\u001b[1;33m\u001b[0m\u001b[0m\n\u001b[1;32m-> 2829\u001b[1;33m     \u001b[1;32mreturn\u001b[0m \u001b[0mgraph_function\u001b[0m\u001b[1;33m.\u001b[0m\u001b[0m_filtered_call\u001b[0m\u001b[1;33m(\u001b[0m\u001b[0margs\u001b[0m\u001b[1;33m,\u001b[0m \u001b[0mkwargs\u001b[0m\u001b[1;33m)\u001b[0m  \u001b[1;31m# pylint: disable=protected-access\u001b[0m\u001b[1;33m\u001b[0m\u001b[1;33m\u001b[0m\u001b[0m\n\u001b[0m\u001b[0;32m   2830\u001b[0m \u001b[1;33m\u001b[0m\u001b[0m\n\u001b[0;32m   2831\u001b[0m   \u001b[1;33m@\u001b[0m\u001b[0mproperty\u001b[0m\u001b[1;33m\u001b[0m\u001b[1;33m\u001b[0m\u001b[0m\n",
      "\u001b[1;32m~\\anaconda3\\lib\\site-packages\\tensorflow\\python\\eager\\function.py\u001b[0m in \u001b[0;36m_filtered_call\u001b[1;34m(self, args, kwargs, cancellation_manager)\u001b[0m\n\u001b[0;32m   1841\u001b[0m       \u001b[0;31m`\u001b[0m\u001b[0margs\u001b[0m\u001b[0;31m`\u001b[0m \u001b[1;32mand\u001b[0m\u001b[0;31m \u001b[0m\u001b[0;31m`\u001b[0m\u001b[0mkwargs\u001b[0m\u001b[0;31m`\u001b[0m\u001b[1;33m.\u001b[0m\u001b[1;33m\u001b[0m\u001b[1;33m\u001b[0m\u001b[0m\n\u001b[0;32m   1842\u001b[0m     \"\"\"\n\u001b[1;32m-> 1843\u001b[1;33m     return self._call_flat(\n\u001b[0m\u001b[0;32m   1844\u001b[0m         [t for t in nest.flatten((args, kwargs), expand_composites=True)\n\u001b[0;32m   1845\u001b[0m          if isinstance(t, (ops.Tensor,\n",
      "\u001b[1;32m~\\anaconda3\\lib\\site-packages\\tensorflow\\python\\eager\\function.py\u001b[0m in \u001b[0;36m_call_flat\u001b[1;34m(self, args, captured_inputs, cancellation_manager)\u001b[0m\n\u001b[0;32m   1921\u001b[0m         and executing_eagerly):\n\u001b[0;32m   1922\u001b[0m       \u001b[1;31m# No tape is watching; skip to running the function.\u001b[0m\u001b[1;33m\u001b[0m\u001b[1;33m\u001b[0m\u001b[1;33m\u001b[0m\u001b[0m\n\u001b[1;32m-> 1923\u001b[1;33m       return self._build_call_outputs(self._inference_function.call(\n\u001b[0m\u001b[0;32m   1924\u001b[0m           ctx, args, cancellation_manager=cancellation_manager))\n\u001b[0;32m   1925\u001b[0m     forward_backward = self._select_forward_and_backward_functions(\n",
      "\u001b[1;32m~\\anaconda3\\lib\\site-packages\\tensorflow\\python\\eager\\function.py\u001b[0m in \u001b[0;36mcall\u001b[1;34m(self, ctx, args, cancellation_manager)\u001b[0m\n\u001b[0;32m    543\u001b[0m       \u001b[1;32mwith\u001b[0m \u001b[0m_InterpolateFunctionError\u001b[0m\u001b[1;33m(\u001b[0m\u001b[0mself\u001b[0m\u001b[1;33m)\u001b[0m\u001b[1;33m:\u001b[0m\u001b[1;33m\u001b[0m\u001b[1;33m\u001b[0m\u001b[0m\n\u001b[0;32m    544\u001b[0m         \u001b[1;32mif\u001b[0m \u001b[0mcancellation_manager\u001b[0m \u001b[1;32mis\u001b[0m \u001b[1;32mNone\u001b[0m\u001b[1;33m:\u001b[0m\u001b[1;33m\u001b[0m\u001b[1;33m\u001b[0m\u001b[0m\n\u001b[1;32m--> 545\u001b[1;33m           outputs = execute.execute(\n\u001b[0m\u001b[0;32m    546\u001b[0m               \u001b[0mstr\u001b[0m\u001b[1;33m(\u001b[0m\u001b[0mself\u001b[0m\u001b[1;33m.\u001b[0m\u001b[0msignature\u001b[0m\u001b[1;33m.\u001b[0m\u001b[0mname\u001b[0m\u001b[1;33m)\u001b[0m\u001b[1;33m,\u001b[0m\u001b[1;33m\u001b[0m\u001b[1;33m\u001b[0m\u001b[0m\n\u001b[0;32m    547\u001b[0m               \u001b[0mnum_outputs\u001b[0m\u001b[1;33m=\u001b[0m\u001b[0mself\u001b[0m\u001b[1;33m.\u001b[0m\u001b[0m_num_outputs\u001b[0m\u001b[1;33m,\u001b[0m\u001b[1;33m\u001b[0m\u001b[1;33m\u001b[0m\u001b[0m\n",
      "\u001b[1;32m~\\anaconda3\\lib\\site-packages\\tensorflow\\python\\eager\\execute.py\u001b[0m in \u001b[0;36mquick_execute\u001b[1;34m(op_name, num_outputs, inputs, attrs, ctx, name)\u001b[0m\n\u001b[0;32m     57\u001b[0m   \u001b[1;32mtry\u001b[0m\u001b[1;33m:\u001b[0m\u001b[1;33m\u001b[0m\u001b[1;33m\u001b[0m\u001b[0m\n\u001b[0;32m     58\u001b[0m     \u001b[0mctx\u001b[0m\u001b[1;33m.\u001b[0m\u001b[0mensure_initialized\u001b[0m\u001b[1;33m(\u001b[0m\u001b[1;33m)\u001b[0m\u001b[1;33m\u001b[0m\u001b[1;33m\u001b[0m\u001b[0m\n\u001b[1;32m---> 59\u001b[1;33m     tensors = pywrap_tfe.TFE_Py_Execute(ctx._handle, device_name, op_name,\n\u001b[0m\u001b[0;32m     60\u001b[0m                                         inputs, attrs, num_outputs)\n\u001b[0;32m     61\u001b[0m   \u001b[1;32mexcept\u001b[0m \u001b[0mcore\u001b[0m\u001b[1;33m.\u001b[0m\u001b[0m_NotOkStatusException\u001b[0m \u001b[1;32mas\u001b[0m \u001b[0me\u001b[0m\u001b[1;33m:\u001b[0m\u001b[1;33m\u001b[0m\u001b[1;33m\u001b[0m\u001b[0m\n",
      "\u001b[1;31mKeyboardInterrupt\u001b[0m: "
     ]
    }
   ],
   "source": [
    "test_genrator_gau_nor = test_datagen_nor.flow_from_directory( r'E:\\thesis-dataset\\gaussainnoise\\test',\n",
    "        target_size=(256,256),\n",
    "        batch_size=32,\n",
    "        class_mode='categorical')\n",
    "test_acc = model.evaluate(test_genrator_gau_nor)\n",
    "print(\"Test_Accuracy: %.2f%%\" % (test_acc[1]*100))"
   ]
  },
  {
   "cell_type": "code",
   "execution_count": null,
   "metadata": {
    "id": "dCzAl_1bWRrz"
   },
   "outputs": [],
   "source": [
    "test_genrator_gau_nor = test_datagen_nor.flow_from_directory( r'/content/drive/MyDrive/gaussainnoise/test',\n",
    "        target_size=(256,256),\n",
    "        batch_size=32,\n",
    "        class_mode='categorical')\n",
    "test_acc = model.evaluate(test_genrator_gau_nor)\n",
    "print(\"Test_Accuracy: %.2f%%\" % (test_acc[1]*100))"
   ]
  },
  {
   "cell_type": "code",
   "execution_count": null,
   "metadata": {
    "id": "bGLh4DnHXCk4"
   },
   "outputs": [],
   "source": [
    "## gaussian noise data augumentation"
   ]
  },
  {
   "cell_type": "code",
   "execution_count": null,
   "metadata": {
    "id": "x9VqBWRWXF4Q"
   },
   "outputs": [],
   "source": [
    "test_genrator_gau_augmen = test_datagen_aug.flow_from_directory( r'/content/drive/MyDrive/dataset-50/gaussian-50/test',\n",
    "        target_size=(256,256),\n",
    "        batch_size=32,\n",
    "        class_mode='categorical')\n",
    "test_acc = model.evaluate(test_genrator_gau_augmen)\n",
    "print(\"Test_Accuracy: %.2f%%\" % (test_acc[1]*100))"
   ]
  },
  {
   "cell_type": "code",
   "execution_count": null,
   "metadata": {
    "id": "gOmLPpbfXGH8"
   },
   "outputs": [],
   "source": [
    "## salt and pepper"
   ]
  },
  {
   "cell_type": "code",
   "execution_count": null,
   "metadata": {
    "id": "xpzgDv57XgW8"
   },
   "outputs": [],
   "source": [
    "test_genrator_salt = test_datagen_nor.flow_from_directory( r'/content/drive/MyDrive/saltandpeppernoise',\n",
    "        target_size=(256,256),\n",
    "        batch_size=32,\n",
    "        class_mode='categorical')\n",
    "test_acc = model.evaluate(test_genrator_salt)\n",
    "print(\"Test_Accuracy: %.2f%%\" % (test_acc[1]*100))"
   ]
  },
  {
   "cell_type": "code",
   "execution_count": null,
   "metadata": {
    "id": "COeRVe5GXIGd"
   },
   "outputs": [],
   "source": [
    "## corrupted -20%"
   ]
  },
  {
   "cell_type": "code",
   "execution_count": null,
   "metadata": {
    "id": "ThPWvOAoXih8"
   },
   "outputs": [],
   "source": [
    "test_corrupted1= test_datagen_nor.flow_from_directory( r'/content/drive/MyDrive/corrupted-1(20)',\n",
    "        batch_size=32,target_size=(256,256),\n",
    "        class_mode='categorical')\n",
    "test_acc = model.evaluate(test_corrupted1)\n",
    "print(\"Test_Accuracy: %.2f%%\" % (test_acc[1]*100))"
   ]
  },
  {
   "cell_type": "code",
   "execution_count": null,
   "metadata": {
    "id": "5jcITvdxXLan"
   },
   "outputs": [],
   "source": [
    "##corrupted -50%"
   ]
  },
  {
   "cell_type": "code",
   "execution_count": null,
   "metadata": {
    "id": "OlKhUQInXpTi"
   },
   "outputs": [],
   "source": [
    "test_corrupted2= test_datagen_nor.flow_from_directory( r'/content/drive/MyDrive/corrupted-2(50)',\n",
    "        batch_size=32,target_size=(256,256),\n",
    "        class_mode='categorical')\n",
    "test_acc = model.evaluate(test_corrupted2)\n",
    "print(\"Test_Accuracy: %.2f%%\" % (test_acc[1]*100))"
   ]
  },
  {
   "cell_type": "code",
   "execution_count": 16,
   "metadata": {
    "colab": {
     "base_uri": "https://localhost:8080/",
     "height": 295
    },
    "id": "zvM68krBVNfX",
    "outputId": "cb8de4aa-87bf-417d-acc7-4d48ee6b4cb6"
   },
   "outputs": [
    {
     "data": {
      "image/png": "[encoded data removed]",
      "text/plain": [
       "<Figure size 432x288 with 1 Axes>"
      ]
     },
     "metadata": {
      "needs_background": "light",
      "tags": []
     },
     "output_type": "display_data"
    }
   ],
   "source": [
    "plt.plot(history.history['accuracy'])\n",
    "plt.plot(history.history['val_accuracy'])\n",
    "plt.title('Model Accuracy')\n",
    "plt.ylabel('Accuracy')\n",
    "plt.xlabel('Epochs')\n",
    "plt.legend(['train', 'validation'])\n",
    "plt.savefig('/content/drive/MyDrive/gaussiannoise_cnnmodel/cnn--gaussian-augu-143-accuracy.png')\n",
    "plt.show()"
   ]
  },
  {
   "cell_type": "code",
   "execution_count": 17,
   "metadata": {
    "colab": {
     "base_uri": "https://localhost:8080/",
     "height": 295
    },
    "id": "4s80EkXXVPzk",
    "outputId": "c086ddfb-4e8b-4ab7-f955-f772002057f0"
   },
   "outputs": [
    {
     "data": {
      "image/png": "[encoded data removed]",
      "text/plain": [
       "<Figure size 432x288 with 1 Axes>"
      ]
     },
     "metadata": {
      "needs_background": "light",
      "tags": []
     },
     "output_type": "display_data"
    }
   ],
   "source": [
    "plt.plot(history.history['loss'])\n",
    "plt.plot(history.history['val_loss'])\n",
    "plt.title('Model Loss')\n",
    "plt.ylabel('Loss')\n",
    "plt.xlabel('Epochs')\n",
    "plt.legend(['train', 'validation'])\n",
    "plt.savefig('/content/drive/MyDrive/gaussiannoise_cnnmodel/cnn-gaussain-augu-143-loss.png')\n",
    "plt.show()"
   ]
  }
 ],
 "metadata": {
  "accelerator": "GPU",
  "colab": {
   "machine_shape": "hm",
   "name": "gaussian-cnn-143.ipynb",
   "provenance": []
  },
  "kernelspec": {
   "display_name": "Python 3",
   "language": "python",
   "name": "python3"
  },
  "language_info": {
   "codemirror_mode": {
    "name": "ipython",
    "version": 3
   },
   "file_extension": ".py",
   "mimetype": "text/x-python",
   "name": "python",
   "nbconvert_exporter": "python",
   "pygments_lexer": "ipython3",
   "version": "3.8.3"
  }
 },
 "nbformat": 4,
 "nbformat_minor": 1
}
