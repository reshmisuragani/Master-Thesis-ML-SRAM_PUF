{
 "cells": [
  {
   "cell_type": "code",
   "execution_count": 2,
   "metadata": {
    "id": "pcM0dYt5U1fr"
   },
   "outputs": [],
   "source": [
    "import tensorflow as tf\n",
    "from tensorflow.keras import datasets, layers, models\n",
    "import matplotlib.pyplot as plt\n",
    "from keras.preprocessing.image import ImageDataGenerator\n",
    "import numpy as np\n",
    "from keras.regularizers import l2\n",
    "from keras.layers import BatchNormalization\n",
    "from keras.layers import GaussianNoise"
   ]
  },
  {
   "cell_type": "code",
   "execution_count": 3,
   "metadata": {
    "colab": {
     "base_uri": "https://localhost:8080/"
    },
    "id": "t_dondCtVF1A",
    "outputId": "66624a63-e635-4891-e430-5a313584c696"
   },
   "outputs": [
    {
     "name": "stdout",
     "output_type": "stream",
     "text": [
      "Found 10725 images belonging to 143 classes.\n",
      "Found 1859 images belonging to 143 classes.\n"
     ]
    }
   ],
   "source": [
    "\n",
    "train_datagen = ImageDataGenerator(\n",
    "       \n",
    "        rescale=1./255)\n",
    "\n",
    "test_datagen =  ImageDataGenerator(validation_split=0.5,\n",
    "    \n",
    "        rescale=1./255)\n",
    "\n",
    "train_data = train_datagen.flow_from_directory(\n",
    "       r'D:\\Uni-passau\\thesis-SRAM\\dataset\\train',\n",
    "        target_size=(720,720),\n",
    "        batch_size=180,\n",
    "        \n",
    "        class_mode='categorical', shuffle = True)\n",
    "\n",
    "valid_data= test_datagen.flow_from_directory(\n",
    "        r'D:\\Uni-passau\\thesis-SRAM\\dataset\\test',\n",
    "        target_size=(720,720),\n",
    "        batch_size=64,\n",
    "        subset ='validation',\n",
    "        class_mode='categorical', shuffle = True)\n"
   ]
  },
  {
   "cell_type": "code",
   "execution_count": 7,
   "metadata": {
    "colab": {
     "base_uri": "https://localhost:8080/"
    },
    "id": "oTPUBCC6Wdbu",
    "outputId": "82e42c65-292c-4472-c84d-207a71528f5e"
   },
   "outputs": [
    {
     "name": "stdout",
     "output_type": "stream",
     "text": [
      "Model: \"sequential_1\"\n",
      "_________________________________________________________________\n",
      "Layer (type)                 Output Shape              Param #   \n",
      "=================================================================\n",
      "conv2d_5 (Conv2D)            (None, 720, 720, 8)       224       \n",
      "_________________________________________________________________\n",
      "conv2d_6 (Conv2D)            (None, 720, 720, 48)      3504      \n",
      "_________________________________________________________________\n",
      "max_pooling2d_4 (MaxPooling2 (None, 360, 360, 48)      0         \n",
      "_________________________________________________________________\n",
      "conv2d_7 (Conv2D)            (None, 360, 360, 128)     55424     \n",
      "_________________________________________________________________\n",
      "batch_normalization_5 (Batch (None, 360, 360, 128)     512       \n",
      "_________________________________________________________________\n",
      "max_pooling2d_5 (MaxPooling2 (None, 180, 180, 128)     0         \n",
      "_________________________________________________________________\n",
      "conv2d_8 (Conv2D)            (None, 180, 180, 192)     221376    \n",
      "_________________________________________________________________\n",
      "batch_normalization_6 (Batch (None, 180, 180, 192)     768       \n",
      "_________________________________________________________________\n",
      "max_pooling2d_6 (MaxPooling2 (None, 90, 90, 192)       0         \n",
      "_________________________________________________________________\n",
      "conv2d_9 (Conv2D)            (None, 90, 90, 192)       331968    \n",
      "_________________________________________________________________\n",
      "max_pooling2d_7 (MaxPooling2 (None, 45, 45, 192)       0         \n",
      "_________________________________________________________________\n",
      "batch_normalization_7 (Batch (None, 45, 45, 192)       768       \n",
      "_________________________________________________________________\n",
      "dropout_2 (Dropout)          (None, 45, 45, 192)       0         \n",
      "_________________________________________________________________\n",
      "flatten_1 (Flatten)          (None, 388800)            0         \n",
      "_________________________________________________________________\n",
      "dense_3 (Dense)              (None, 256)               99533056  \n",
      "_________________________________________________________________\n",
      "batch_normalization_8 (Batch (None, 256)               1024      \n",
      "_________________________________________________________________\n",
      "dense_4 (Dense)              (None, 128)               32896     \n",
      "_________________________________________________________________\n",
      "dropout_3 (Dropout)          (None, 128)               0         \n",
      "_________________________________________________________________\n",
      "dense_5 (Dense)              (None, 143)               18447     \n",
      "=================================================================\n",
      "Total params: 100,199,967\n",
      "Trainable params: 100,198,431\n",
      "Non-trainable params: 1,536\n",
      "_________________________________________________________________\n"
     ]
    }
   ],
   "source": [
    "from keras.regularizers import l2\n",
    "from keras.layers import BatchNormalization\n",
    "from keras.layers import GaussianNoise\n",
    "model = tf.keras.Sequential()\n",
    "model.add(tf.keras.layers.Conv2D(filters = 8, kernel_size = (3,3), kernel_regularizer=l2(0.01), padding = 'Same', activation ='relu', input_shape = (720,720,3)))\n",
    "model.add(tf.keras.layers.Conv2D(filters = 48, kernel_size = (3,3), kernel_regularizer=l2(0.01), padding = 'Same', activation ='relu'))\n",
    "model.add(tf.keras.layers.MaxPool2D(pool_size=(2,2), strides = 2))\n",
    "model.add(tf.keras.layers.Conv2D(filters = 128, kernel_size = (3,3),kernel_regularizer=l2(0.01), padding = 'Same', activation ='relu'))\n",
    "model.add(tf.keras.layers.BatchNormalization())\n",
    "model.add(tf.keras.layers.MaxPool2D(pool_size=(2,2), strides= 2))\n",
    "model.add(tf.keras.layers.Conv2D(filters = 192, kernel_size = (3,3), kernel_regularizer=l2(0.01), padding = 'Same', activation ='relu'))\n",
    "model.add(tf.keras.layers.BatchNormalization())\n",
    "model.add(tf.keras.layers.MaxPool2D(pool_size=(2,2), strides= 2))\n",
    "model.add(tf.keras.layers.Conv2D(filters = 192, kernel_size = (3,3), kernel_regularizer=l2(0.01), padding = 'Same', activation ='relu'))\n",
    "\n",
    "model.add(tf.keras.layers.MaxPool2D(pool_size=(2,2), strides= 2))\n",
    "model.add(tf.keras.layers.BatchNormalization())\n",
    "model.add(tf.keras.layers.Dropout(0.2))\n",
    "model.add(tf.keras.layers.Flatten())\n",
    "\n",
    "model.add(tf.keras.layers.Dense(256, activation = \"relu\", kernel_regularizer=l2(0.01)))\n",
    "model.add(tf.keras.layers.BatchNormalization())\n",
    "model.add(tf.keras.layers.Dense(128, activation = \"relu\", kernel_regularizer=l2(0.01)))\n",
    "model.add(tf.keras.layers.Dropout(0.2))\n",
    "model.add(tf.keras.layers.Dense(143, activation = \"softmax\"))\n",
    "model.summary()"
   ]
  },
  {
   "cell_type": "code",
   "execution_count": 4,
   "metadata": {
    "id": "VqkiXPFdWiAw"
   },
   "outputs": [],
   "source": [
    "\n",
    "from keras.callbacks import EarlyStopping\n",
    "from keras.callbacks import ModelCheckpoint\n",
    "from keras.callbacks import CSVLogger\n",
    "\n",
    "csv_logger = CSVLogger(\"/content/drive/MyDrive/cnnmodel/cnn-143_model_history_log.csv\", append=True)\n",
    "#es = EarlyStopping(monitor='val_loss', mode='min', verbose=1, patience=5)\n",
    "es1 = EarlyStopping( monitor='val_accuracy', patience=5, min_delta=0.001, mode='max')\n",
    "mc = ModelCheckpoint('/content/drive/MyDrive/cnnmodel/143-datset_cnnmodel.h5', monitor='val_accuracy', mode='max', verbose=1, save_best_only=True)"
   ]
  },
  {
   "cell_type": "code",
   "execution_count": 11,
   "metadata": {
    "id": "s87kSCwRW_v9"
   },
   "outputs": [],
   "source": [
    "adam = tf.keras.optimizers.Adam(learning_rate = 0.0001, decay = 0.9)\n",
    "model.compile(optimizer = adam, loss = \"categorical_crossentropy\", metrics = [\"accuracy\"])"
   ]
  },
  {
   "cell_type": "code",
   "execution_count": 6,
   "metadata": {
    "id": "W60AFyKvSfH2"
   },
   "outputs": [],
   "source": [
    "import tensorflow.compat.v1 as tfs\n",
    "gpu_options = tfs.GPUOptions(allow_growth = True)\n",
    "session = tfs.InteractiveSession(config = tfs.ConfigProto(gpu_options = gpu_options))"
   ]
  },
  {
   "cell_type": "code",
   "execution_count": 8,
   "metadata": {
    "colab": {
     "base_uri": "https://localhost:8080/"
    },
    "id": "7coYTPuwXC_i",
    "outputId": "e25aaa79-8d26-4fcf-cb85-0ab774964f02"
   },
   "outputs": [
    {
     "name": "stdout",
     "output_type": "stream",
     "text": [
      "Epoch 1/300\n",
      "60/60 [==============================] - 152s 3s/step - loss: 13.6249 - accuracy: 0.6788 - val_loss: 16.1840 - val_accuracy: 0.0436\n",
      "\n",
      "Epoch 00001: val_accuracy improved from 0.02851 to 0.04357, saving model to /content/drive/MyDrive/cnnmodel/143-datset_cnnmodel.h5\n",
      "Epoch 2/300\n",
      "60/60 [==============================] - 150s 2s/step - loss: 13.5663 - accuracy: 0.6998 - val_loss: 15.6585 - val_accuracy: 0.0823\n",
      "\n",
      "Epoch 00002: val_accuracy improved from 0.04357 to 0.08230, saving model to /content/drive/MyDrive/cnnmodel/143-datset_cnnmodel.h5\n",
      "Epoch 3/300\n",
      "60/60 [==============================] - 151s 3s/step - loss: 13.5261 - accuracy: 0.7141 - val_loss: 15.0625 - val_accuracy: 0.1824\n",
      "\n",
      "Epoch 00003: val_accuracy improved from 0.08230 to 0.18236, saving model to /content/drive/MyDrive/cnnmodel/143-datset_cnnmodel.h5\n",
      "Epoch 4/300\n",
      "60/60 [==============================] - 151s 3s/step - loss: 13.4865 - accuracy: 0.7281 - val_loss: 14.4401 - val_accuracy: 0.4077\n",
      "\n",
      "Epoch 00004: val_accuracy improved from 0.18236 to 0.40775, saving model to /content/drive/MyDrive/cnnmodel/143-datset_cnnmodel.h5\n",
      "Epoch 5/300\n",
      "60/60 [==============================] - 152s 3s/step - loss: 13.4435 - accuracy: 0.7408 - val_loss: 13.9032 - val_accuracy: 0.7031\n",
      "\n",
      "Epoch 00005: val_accuracy improved from 0.40775 to 0.70307, saving model to /content/drive/MyDrive/cnnmodel/143-datset_cnnmodel.h5\n",
      "Epoch 6/300\n",
      "60/60 [==============================] - 151s 3s/step - loss: 13.4140 - accuracy: 0.7506 - val_loss: 13.5473 - val_accuracy: 0.8365\n",
      "\n",
      "Epoch 00006: val_accuracy improved from 0.70307 to 0.83647, saving model to /content/drive/MyDrive/cnnmodel/143-datset_cnnmodel.h5\n",
      "Epoch 7/300\n",
      "60/60 [==============================] - 150s 3s/step - loss: 13.3823 - accuracy: 0.7618 - val_loss: 13.3523 - val_accuracy: 0.8838\n",
      "\n",
      "Epoch 00007: val_accuracy improved from 0.83647 to 0.88381, saving model to /content/drive/MyDrive/cnnmodel/143-datset_cnnmodel.h5\n",
      "Epoch 8/300\n",
      "60/60 [==============================] - 151s 3s/step - loss: 13.3644 - accuracy: 0.7706 - val_loss: 13.2493 - val_accuracy: 0.9075\n",
      "\n",
      "Epoch 00008: val_accuracy improved from 0.88381 to 0.90748, saving model to /content/drive/MyDrive/cnnmodel/143-datset_cnnmodel.h5\n",
      "Epoch 9/300\n",
      "60/60 [==============================] - 148s 2s/step - loss: 13.3273 - accuracy: 0.7830 - val_loss: 13.1916 - val_accuracy: 0.9182\n",
      "\n",
      "Epoch 00009: val_accuracy improved from 0.90748 to 0.91824, saving model to /content/drive/MyDrive/cnnmodel/143-datset_cnnmodel.h5\n",
      "Epoch 10/300\n",
      "60/60 [==============================] - 148s 2s/step - loss: 13.3083 - accuracy: 0.7906 - val_loss: 13.1519 - val_accuracy: 0.9215\n",
      "\n",
      "Epoch 00010: val_accuracy improved from 0.91824 to 0.92146, saving model to /content/drive/MyDrive/cnnmodel/143-datset_cnnmodel.h5\n",
      "Epoch 11/300\n",
      "60/60 [==============================] - 149s 2s/step - loss: 13.2952 - accuracy: 0.7913 - val_loss: 13.1226 - val_accuracy: 0.9242\n",
      "\n",
      "Epoch 00011: val_accuracy improved from 0.92146 to 0.92415, saving model to /content/drive/MyDrive/cnnmodel/143-datset_cnnmodel.h5\n",
      "Epoch 12/300\n",
      "60/60 [==============================] - 148s 2s/step - loss: 13.2649 - accuracy: 0.8032 - val_loss: 13.0997 - val_accuracy: 0.9274\n",
      "\n",
      "Epoch 00012: val_accuracy improved from 0.92415 to 0.92738, saving model to /content/drive/MyDrive/cnnmodel/143-datset_cnnmodel.h5\n",
      "Epoch 13/300\n",
      "60/60 [==============================] - 148s 2s/step - loss: 13.2536 - accuracy: 0.8062 - val_loss: 13.0795 - val_accuracy: 0.9311\n",
      "\n",
      "Epoch 00013: val_accuracy improved from 0.92738 to 0.93115, saving model to /content/drive/MyDrive/cnnmodel/143-datset_cnnmodel.h5\n",
      "Epoch 14/300\n",
      "60/60 [==============================] - 147s 2s/step - loss: 13.2212 - accuracy: 0.8112 - val_loss: 13.0600 - val_accuracy: 0.9333\n",
      "\n",
      "Epoch 00014: val_accuracy improved from 0.93115 to 0.93330, saving model to /content/drive/MyDrive/cnnmodel/143-datset_cnnmodel.h5\n",
      "Epoch 15/300\n",
      "60/60 [==============================] - 147s 2s/step - loss: 13.2129 - accuracy: 0.8164 - val_loss: 13.0429 - val_accuracy: 0.9381\n",
      "\n",
      "Epoch 00015: val_accuracy improved from 0.93330 to 0.93814, saving model to /content/drive/MyDrive/cnnmodel/143-datset_cnnmodel.h5\n",
      "Epoch 16/300\n",
      "60/60 [==============================] - 148s 2s/step - loss: 13.1994 - accuracy: 0.8186 - val_loss: 13.0270 - val_accuracy: 0.9387\n",
      "\n",
      "Epoch 00016: val_accuracy improved from 0.93814 to 0.93868, saving model to /content/drive/MyDrive/cnnmodel/143-datset_cnnmodel.h5\n",
      "Epoch 17/300\n",
      "60/60 [==============================] - 147s 2s/step - loss: 13.1850 - accuracy: 0.8221 - val_loss: 13.0130 - val_accuracy: 0.9408\n",
      "\n",
      "Epoch 00017: val_accuracy improved from 0.93868 to 0.94083, saving model to /content/drive/MyDrive/cnnmodel/143-datset_cnnmodel.h5\n",
      "Epoch 18/300\n",
      "60/60 [==============================] - 147s 2s/step - loss: 13.1664 - accuracy: 0.8328 - val_loss: 12.9993 - val_accuracy: 0.9414\n",
      "\n",
      "Epoch 00018: val_accuracy improved from 0.94083 to 0.94137, saving model to /content/drive/MyDrive/cnnmodel/143-datset_cnnmodel.h5\n",
      "Epoch 19/300\n",
      "60/60 [==============================] - 146s 2s/step - loss: 13.1502 - accuracy: 0.8310 - val_loss: 12.9864 - val_accuracy: 0.9414\n",
      "\n",
      "Epoch 00019: val_accuracy did not improve from 0.94137\n",
      "Epoch 20/300\n",
      "60/60 [==============================] - 146s 2s/step - loss: 13.1318 - accuracy: 0.8346 - val_loss: 12.9742 - val_accuracy: 0.9435\n",
      "\n",
      "Epoch 00020: val_accuracy improved from 0.94137 to 0.94352, saving model to /content/drive/MyDrive/cnnmodel/143-datset_cnnmodel.h5\n",
      "Epoch 21/300\n",
      "60/60 [==============================] - 146s 2s/step - loss: 13.1230 - accuracy: 0.8426 - val_loss: 12.9614 - val_accuracy: 0.9446\n",
      "\n",
      "Epoch 00021: val_accuracy improved from 0.94352 to 0.94459, saving model to /content/drive/MyDrive/cnnmodel/143-datset_cnnmodel.h5\n",
      "Epoch 22/300\n",
      "60/60 [==============================] - 147s 2s/step - loss: 13.1090 - accuracy: 0.8455 - val_loss: 12.9501 - val_accuracy: 0.9446\n",
      "\n",
      "Epoch 00022: val_accuracy did not improve from 0.94459\n",
      "Epoch 23/300\n",
      "60/60 [==============================] - 147s 2s/step - loss: 13.1129 - accuracy: 0.8433 - val_loss: 12.9385 - val_accuracy: 0.9473\n",
      "\n",
      "Epoch 00023: val_accuracy improved from 0.94459 to 0.94728, saving model to /content/drive/MyDrive/cnnmodel/143-datset_cnnmodel.h5\n",
      "Epoch 24/300\n",
      "60/60 [==============================] - 147s 2s/step - loss: 13.0936 - accuracy: 0.8501 - val_loss: 12.9280 - val_accuracy: 0.9478\n",
      "\n",
      "Epoch 00024: val_accuracy improved from 0.94728 to 0.94782, saving model to /content/drive/MyDrive/cnnmodel/143-datset_cnnmodel.h5\n",
      "Epoch 25/300\n",
      "60/60 [==============================] - 147s 2s/step - loss: 13.0906 - accuracy: 0.8522 - val_loss: 12.9169 - val_accuracy: 0.9494\n",
      "\n",
      "Epoch 00025: val_accuracy improved from 0.94782 to 0.94944, saving model to /content/drive/MyDrive/cnnmodel/143-datset_cnnmodel.h5\n",
      "Epoch 26/300\n",
      "60/60 [==============================] - 146s 2s/step - loss: 13.0772 - accuracy: 0.8508 - val_loss: 12.9065 - val_accuracy: 0.9500\n",
      "\n",
      "Epoch 00026: val_accuracy improved from 0.94944 to 0.94997, saving model to /content/drive/MyDrive/cnnmodel/143-datset_cnnmodel.h5\n",
      "Epoch 27/300\n",
      "60/60 [==============================] - 145s 2s/step - loss: 13.0598 - accuracy: 0.8569 - val_loss: 12.8967 - val_accuracy: 0.9516\n",
      "\n",
      "Epoch 00027: val_accuracy improved from 0.94997 to 0.95159, saving model to /content/drive/MyDrive/cnnmodel/143-datset_cnnmodel.h5\n",
      "Epoch 28/300\n",
      "60/60 [==============================] - 145s 2s/step - loss: 13.0490 - accuracy: 0.8593 - val_loss: 12.8880 - val_accuracy: 0.9559\n",
      "\n",
      "Epoch 00028: val_accuracy improved from 0.95159 to 0.95589, saving model to /content/drive/MyDrive/cnnmodel/143-datset_cnnmodel.h5\n",
      "Epoch 29/300\n",
      "60/60 [==============================] - 146s 2s/step - loss: 13.0406 - accuracy: 0.8646 - val_loss: 12.8790 - val_accuracy: 0.9570\n",
      "\n",
      "Epoch 00029: val_accuracy improved from 0.95589 to 0.95697, saving model to /content/drive/MyDrive/cnnmodel/143-datset_cnnmodel.h5\n",
      "Epoch 30/300\n",
      "60/60 [==============================] - 147s 2s/step - loss: 13.0406 - accuracy: 0.8595 - val_loss: 12.8694 - val_accuracy: 0.9591\n",
      "\n",
      "Epoch 00030: val_accuracy improved from 0.95697 to 0.95912, saving model to /content/drive/MyDrive/cnnmodel/143-datset_cnnmodel.h5\n",
      "Epoch 31/300\n",
      "60/60 [==============================] - 147s 2s/step - loss: 13.0300 - accuracy: 0.8655 - val_loss: 12.8615 - val_accuracy: 0.9591\n",
      "\n",
      "Epoch 00031: val_accuracy did not improve from 0.95912\n",
      "Epoch 32/300\n",
      "60/60 [==============================] - 147s 2s/step - loss: 13.0227 - accuracy: 0.8684 - val_loss: 12.8533 - val_accuracy: 0.9602\n",
      "\n",
      "Epoch 00032: val_accuracy improved from 0.95912 to 0.96019, saving model to /content/drive/MyDrive/cnnmodel/143-datset_cnnmodel.h5\n",
      "Epoch 33/300\n",
      "60/60 [==============================] - 148s 2s/step - loss: 13.0167 - accuracy: 0.8710 - val_loss: 12.8459 - val_accuracy: 0.9607\n",
      "\n",
      "Epoch 00033: val_accuracy improved from 0.96019 to 0.96073, saving model to /content/drive/MyDrive/cnnmodel/143-datset_cnnmodel.h5\n",
      "Epoch 34/300\n",
      "60/60 [==============================] - 147s 2s/step - loss: 12.9992 - accuracy: 0.8736 - val_loss: 12.8381 - val_accuracy: 0.9618\n",
      "\n",
      "Epoch 00034: val_accuracy improved from 0.96073 to 0.96181, saving model to /content/drive/MyDrive/cnnmodel/143-datset_cnnmodel.h5\n",
      "Epoch 35/300\n",
      "60/60 [==============================] - 147s 2s/step - loss: 12.9902 - accuracy: 0.8762 - val_loss: 12.8306 - val_accuracy: 0.9618\n",
      "\n",
      "Epoch 00035: val_accuracy did not improve from 0.96181\n",
      "Epoch 36/300\n",
      "60/60 [==============================] - 146s 2s/step - loss: 12.9930 - accuracy: 0.8715 - val_loss: 12.8235 - val_accuracy: 0.9634\n",
      "\n",
      "Epoch 00036: val_accuracy improved from 0.96181 to 0.96342, saving model to /content/drive/MyDrive/cnnmodel/143-datset_cnnmodel.h5\n",
      "Epoch 37/300\n",
      "60/60 [==============================] - 147s 2s/step - loss: 12.9802 - accuracy: 0.8790 - val_loss: 12.8160 - val_accuracy: 0.9640\n",
      "\n",
      "Epoch 00037: val_accuracy improved from 0.96342 to 0.96396, saving model to /content/drive/MyDrive/cnnmodel/143-datset_cnnmodel.h5\n",
      "Epoch 38/300\n",
      "60/60 [==============================] - 146s 2s/step - loss: 12.9671 - accuracy: 0.8804 - val_loss: 12.8089 - val_accuracy: 0.9645\n",
      "\n",
      "Epoch 00038: val_accuracy improved from 0.96396 to 0.96450, saving model to /content/drive/MyDrive/cnnmodel/143-datset_cnnmodel.h5\n",
      "Epoch 39/300\n",
      "60/60 [==============================] - 147s 2s/step - loss: 12.9630 - accuracy: 0.8819 - val_loss: 12.8007 - val_accuracy: 0.9656\n",
      "\n",
      "Epoch 00039: val_accuracy improved from 0.96450 to 0.96557, saving model to /content/drive/MyDrive/cnnmodel/143-datset_cnnmodel.h5\n",
      "Epoch 40/300\n",
      "60/60 [==============================] - 147s 2s/step - loss: 12.9574 - accuracy: 0.8819 - val_loss: 12.7942 - val_accuracy: 0.9661\n",
      "\n",
      "Epoch 00040: val_accuracy improved from 0.96557 to 0.96611, saving model to /content/drive/MyDrive/cnnmodel/143-datset_cnnmodel.h5\n",
      "Epoch 41/300\n",
      "60/60 [==============================] - 147s 2s/step - loss: 12.9461 - accuracy: 0.8863 - val_loss: 12.7891 - val_accuracy: 0.9666\n",
      "\n",
      "Epoch 00041: val_accuracy improved from 0.96611 to 0.96665, saving model to /content/drive/MyDrive/cnnmodel/143-datset_cnnmodel.h5\n",
      "Epoch 42/300\n",
      "60/60 [==============================] - 146s 2s/step - loss: 12.9529 - accuracy: 0.8826 - val_loss: 12.7828 - val_accuracy: 0.9672\n",
      "\n",
      "Epoch 00042: val_accuracy improved from 0.96665 to 0.96719, saving model to /content/drive/MyDrive/cnnmodel/143-datset_cnnmodel.h5\n",
      "Epoch 43/300\n",
      "60/60 [==============================] - 147s 2s/step - loss: 12.9450 - accuracy: 0.8875 - val_loss: 12.7761 - val_accuracy: 0.9672\n",
      "\n",
      "Epoch 00043: val_accuracy did not improve from 0.96719\n",
      "Epoch 44/300\n",
      "60/60 [==============================] - 146s 2s/step - loss: 12.9318 - accuracy: 0.8877 - val_loss: 12.7700 - val_accuracy: 0.9677\n",
      "\n",
      "Epoch 00044: val_accuracy improved from 0.96719 to 0.96772, saving model to /content/drive/MyDrive/cnnmodel/143-datset_cnnmodel.h5\n",
      "Epoch 45/300\n",
      "60/60 [==============================] - 147s 2s/step - loss: 12.9296 - accuracy: 0.8898 - val_loss: 12.7644 - val_accuracy: 0.9683\n",
      "\n",
      "Epoch 00045: val_accuracy improved from 0.96772 to 0.96826, saving model to /content/drive/MyDrive/cnnmodel/143-datset_cnnmodel.h5\n",
      "Epoch 46/300\n",
      "60/60 [==============================] - 148s 2s/step - loss: 12.9173 - accuracy: 0.8917 - val_loss: 12.7581 - val_accuracy: 0.9688\n",
      "\n",
      "Epoch 00046: val_accuracy improved from 0.96826 to 0.96880, saving model to /content/drive/MyDrive/cnnmodel/143-datset_cnnmodel.h5\n",
      "Epoch 47/300\n",
      "60/60 [==============================] - 148s 2s/step - loss: 12.9145 - accuracy: 0.8921 - val_loss: 12.7518 - val_accuracy: 0.9699\n",
      "\n",
      "Epoch 00047: val_accuracy improved from 0.96880 to 0.96988, saving model to /content/drive/MyDrive/cnnmodel/143-datset_cnnmodel.h5\n",
      "Epoch 48/300\n",
      "60/60 [==============================] - 147s 2s/step - loss: 12.9122 - accuracy: 0.8919 - val_loss: 12.7464 - val_accuracy: 0.9699\n",
      "\n",
      "Epoch 00048: val_accuracy did not improve from 0.96988\n",
      "Epoch 49/300\n",
      "60/60 [==============================] - 147s 2s/step - loss: 12.8995 - accuracy: 0.8972 - val_loss: 12.7408 - val_accuracy: 0.9704\n",
      "\n",
      "Epoch 00049: val_accuracy improved from 0.96988 to 0.97041, saving model to /content/drive/MyDrive/cnnmodel/143-datset_cnnmodel.h5\n",
      "Epoch 50/300\n",
      "60/60 [==============================] - 147s 2s/step - loss: 12.8928 - accuracy: 0.8996 - val_loss: 12.7356 - val_accuracy: 0.9710\n",
      "\n",
      "Epoch 00050: val_accuracy improved from 0.97041 to 0.97095, saving model to /content/drive/MyDrive/cnnmodel/143-datset_cnnmodel.h5\n",
      "Epoch 51/300\n",
      "60/60 [==============================] - 146s 2s/step - loss: 12.8926 - accuracy: 0.8975 - val_loss: 12.7298 - val_accuracy: 0.9710\n",
      "\n",
      "Epoch 00051: val_accuracy did not improve from 0.97095\n",
      "Epoch 52/300\n",
      "60/60 [==============================] - 146s 2s/step - loss: 12.8834 - accuracy: 0.8993 - val_loss: 12.7249 - val_accuracy: 0.9715\n",
      "\n",
      "Epoch 00052: val_accuracy improved from 0.97095 to 0.97149, saving model to /content/drive/MyDrive/cnnmodel/143-datset_cnnmodel.h5\n",
      "Epoch 53/300\n",
      "60/60 [==============================] - 145s 2s/step - loss: 12.8755 - accuracy: 0.8999 - val_loss: 12.7197 - val_accuracy: 0.9726\n",
      "\n",
      "Epoch 00053: val_accuracy improved from 0.97149 to 0.97257, saving model to /content/drive/MyDrive/cnnmodel/143-datset_cnnmodel.h5\n",
      "Epoch 54/300\n",
      "60/60 [==============================] - 145s 2s/step - loss: 12.8723 - accuracy: 0.9003 - val_loss: 12.7153 - val_accuracy: 0.9736\n",
      "\n",
      "Epoch 00054: val_accuracy improved from 0.97257 to 0.97364, saving model to /content/drive/MyDrive/cnnmodel/143-datset_cnnmodel.h5\n",
      "Epoch 55/300\n",
      "60/60 [==============================] - 145s 2s/step - loss: 12.8758 - accuracy: 0.8988 - val_loss: 12.7105 - val_accuracy: 0.9747\n",
      "\n",
      "Epoch 00055: val_accuracy improved from 0.97364 to 0.97472, saving model to /content/drive/MyDrive/cnnmodel/143-datset_cnnmodel.h5\n",
      "Epoch 56/300\n",
      "60/60 [==============================] - 146s 2s/step - loss: 12.8670 - accuracy: 0.9018 - val_loss: 12.7053 - val_accuracy: 0.9753\n",
      "\n",
      "Epoch 00056: val_accuracy improved from 0.97472 to 0.97526, saving model to /content/drive/MyDrive/cnnmodel/143-datset_cnnmodel.h5\n",
      "Epoch 57/300\n",
      "60/60 [==============================] - 145s 2s/step - loss: 12.8578 - accuracy: 0.9043 - val_loss: 12.7003 - val_accuracy: 0.9763\n",
      "\n",
      "Epoch 00057: val_accuracy improved from 0.97526 to 0.97633, saving model to /content/drive/MyDrive/cnnmodel/143-datset_cnnmodel.h5\n",
      "Epoch 58/300\n",
      "60/60 [==============================] - 146s 2s/step - loss: 12.8535 - accuracy: 0.9046 - val_loss: 12.6959 - val_accuracy: 0.9779\n",
      "\n",
      "Epoch 00058: val_accuracy improved from 0.97633 to 0.97795, saving model to /content/drive/MyDrive/cnnmodel/143-datset_cnnmodel.h5\n",
      "Epoch 59/300\n",
      "60/60 [==============================] - 146s 2s/step - loss: 12.8571 - accuracy: 0.9041 - val_loss: 12.6910 - val_accuracy: 0.9779\n",
      "\n",
      "Epoch 00059: val_accuracy did not improve from 0.97795\n",
      "Epoch 60/300\n",
      "60/60 [==============================] - 145s 2s/step - loss: 12.8466 - accuracy: 0.9047 - val_loss: 12.6864 - val_accuracy: 0.9785\n",
      "\n",
      "Epoch 00060: val_accuracy improved from 0.97795 to 0.97848, saving model to /content/drive/MyDrive/cnnmodel/143-datset_cnnmodel.h5\n",
      "Epoch 61/300\n",
      "60/60 [==============================] - 145s 2s/step - loss: 12.8380 - accuracy: 0.9101 - val_loss: 12.6825 - val_accuracy: 0.9785\n",
      "\n",
      "Epoch 00061: val_accuracy did not improve from 0.97848\n",
      "Epoch 62/300\n",
      "60/60 [==============================] - 144s 2s/step - loss: 12.8398 - accuracy: 0.9073 - val_loss: 12.6779 - val_accuracy: 0.9785\n",
      "\n",
      "Epoch 00062: val_accuracy did not improve from 0.97848\n",
      "Epoch 63/300\n",
      "60/60 [==============================] - 143s 2s/step - loss: 12.8354 - accuracy: 0.9011 - val_loss: 12.6730 - val_accuracy: 0.9785\n",
      "\n",
      "Epoch 00063: val_accuracy did not improve from 0.97848\n"
     ]
    }
   ],
   "source": [
    "history = model.fit(train_data, validation_data = valid_data ,epochs = 300, callbacks = [ mc,csv_logger,es1])"
   ]
  },
  {
   "cell_type": "code",
   "execution_count": 19,
   "metadata": {
    "id": "K7WMMn2fnoLD"
   },
   "outputs": [],
   "source": [
    "model.save_weights('/content/drive/MyDrive/cnnmodel/cnn-dataset-143_weights.h5')"
   ]
  },
  {
   "cell_type": "code",
   "execution_count": 8,
   "metadata": {},
   "outputs": [],
   "source": [
    "model.load_weights(r'D:\\Uni-passau\\thesis-results\\143-dataset\\normal-cnn\\final-cnn-dataset-143_weights.h5')"
   ]
  },
  {
   "cell_type": "code",
   "execution_count": 9,
   "metadata": {
    "colab": {
     "base_uri": "https://localhost:8080/",
     "height": 228
    },
    "id": "9VwGOdWOnxMK",
    "outputId": "1f853414-6770-48b3-9202-031b0c31e4bc"
   },
   "outputs": [],
   "source": [
    "test_datagen_nor = ImageDataGenerator(rescale=1./255)\n",
    "\n",
    "test_datagen_aug =  ImageDataGenerator(width_shift_range=0.15,\n",
    "        height_shift_range=0.15,\n",
    "        horizontal_flip=True,rotation_range=10,\n",
    "        rescale=1./255)"
   ]
  },
  {
   "cell_type": "code",
   "execution_count": null,
   "metadata": {},
   "outputs": [],
   "source": [
    "## tarin and validadtion"
   ]
  },
  {
   "cell_type": "code",
   "execution_count": 12,
   "metadata": {
    "colab": {
     "base_uri": "https://localhost:8080/"
    },
    "id": "-UW2At5en0S5",
    "outputId": "25529d5b-d511-436c-c55a-ddaf5cd46aa8"
   },
   "outputs": [
    {
     "name": "stdout",
     "output_type": "stream",
     "text": [
      "60/60 [==============================] - 152s 3s/step - loss: 12.5528 - accuracy: 0.9828\n",
      "30/30 [==============================] - 28s 945ms/step - loss: 12.6730 - accuracy: 0.9785\n",
      "Train_Accuracy: 98.28%\n",
      "valid_Accuracy: 97.85%\n"
     ]
    }
   ],
   "source": [
    "train_acc=model.evaluate(train_data)\n",
    "val_acc = model.evaluate(valid_data)\n",
    "print(\"Train_Accuracy: %.2f%%\" % (train_acc[1]*100))\n",
    "print(\"valid_Accuracy: %.2f%%\" % (val_acc[1]*100))"
   ]
  },
  {
   "cell_type": "code",
   "execution_count": null,
   "metadata": {},
   "outputs": [],
   "source": [
    "## normal test dataset"
   ]
  },
  {
   "cell_type": "code",
   "execution_count": 22,
   "metadata": {
    "colab": {
     "base_uri": "https://localhost:8080/"
    },
    "id": "s5AoVVrgn5Fd",
    "outputId": "68de6f93-58c3-40b8-a1fc-8ce08d7a5728"
   },
   "outputs": [
    {
     "name": "stdout",
     "output_type": "stream",
     "text": [
      "Found 3718 images belonging to 143 classes.\n",
      "117/117 [==============================] - 1690s 15s/step - loss: 12.6360 - accuracy: 0.9806\n",
      "Test_Accuracy: 98.06%\n"
     ]
    }
   ],
   "source": [
    "test_genrator_nor = test_datagen_nor.flow_from_directory( r'D:\\Uni-passau\\thesis-SRAM\\dataset\\test',\n",
    "        target_size=(720,720),\n",
    "        batch_size=32,\n",
    "        class_mode='categorical')\n",
    "test_acc = model.evaluate(test_genrator_nor)\n",
    "print(\"Test_Accuracy: %.2f%%\" % (test_acc[1]*100))"
   ]
  },
  {
   "cell_type": "code",
   "execution_count": null,
   "metadata": {},
   "outputs": [],
   "source": [
    "## normal dataset -augumentation"
   ]
  },
  {
   "cell_type": "code",
   "execution_count": 21,
   "metadata": {
    "colab": {
     "base_uri": "https://localhost:8080/"
    },
    "id": "tn3RnZaEuYro",
    "outputId": "64b19366-3828-487f-c79c-3bcb2cd9d5c2"
   },
   "outputs": [
    {
     "name": "stdout",
     "output_type": "stream",
     "text": [
      "Found 3718 images belonging to 143 classes.\n",
      "117/117 [==============================] - 1617s 14s/step - loss: 16.2920 - accuracy: 0.0097\n",
      "Test_Accuracy: 0.97%\n"
     ]
    }
   ],
   "source": [
    "test_genrator_gau_aug = test_datagen_aug.flow_from_directory( r'D:\\Uni-passau\\thesis-SRAM\\dataset\\test',\n",
    "        target_size=(720,720),\n",
    "        batch_size=32,\n",
    "        class_mode='categorical')\n",
    "test_acc = model.evaluate(test_genrator_gau_aug)\n",
    "print(\"Test_Accuracy: %.2f%%\" % (test_acc[1]*100))"
   ]
  },
  {
   "cell_type": "code",
   "execution_count": null,
   "metadata": {},
   "outputs": [],
   "source": [
    "## gaussian noise"
   ]
  },
  {
   "cell_type": "code",
   "execution_count": 24,
   "metadata": {},
   "outputs": [
    {
     "name": "stdout",
     "output_type": "stream",
     "text": [
      "Found 3718 images belonging to 143 classes\n",
      "117/117 [==============================] - 1617s 14s/step - loss: 16.8920 - accuracy: 0.6162\n",
      "Test_Accuracy: 61.62\n"
     ]
    }
   ],
   "source": [
    "test_genrator_gau = test_datagen_nor.flow_from_directory( r'/content/drive/MyDrive/gaussiannoise/test',\n",
    "        target_size=(720,720),\n",
    "        batch_size=32,\n",
    "        class_mode='categorical')\n",
    "test_acc = model.evaluate(test_genrator_gau)\n",
    "print(\"Test_Accuracy: %.2f%%\" % (test_acc[1]*100))"
   ]
  },
  {
   "cell_type": "code",
   "execution_count": null,
   "metadata": {},
   "outputs": [],
   "source": [
    "## gaussian noise -augumentation"
   ]
  },
  {
   "cell_type": "code",
   "execution_count": 29,
   "metadata": {},
   "outputs": [
    {
     "name": "stdout",
     "output_type": "stream",
     "text": [
      "Found 3718 images belonging to 143 classes\n",
      "117/117 [==============================] - 1617s 14s/step - loss: 25.8920 - accuracy: 0.0083\n",
      "Test_Accuracy: 00.83%\n"
     ]
    }
   ],
   "source": [
    "test_genrator_aug = test_datagen_aug.flow_from_directory( r'/content/drive/MyDrive/gaussiannoise/test',\n",
    "        target_size=(720,720),\n",
    "        batch_size=64,\n",
    "        class_mode='categorical')\n",
    "test_acc = model.evaluate(test_genrator_aug)\n",
    "print(\"Test_Accuracy: %.2f%%\" % (test_acc[1]*100))"
   ]
  },
  {
   "cell_type": "code",
   "execution_count": null,
   "metadata": {},
   "outputs": [],
   "source": [
    "## salt and pepper noise"
   ]
  },
  {
   "cell_type": "code",
   "execution_count": 23,
   "metadata": {
    "colab": {
     "base_uri": "https://localhost:8080/"
    },
    "id": "pWLRT0kALk3-",
    "outputId": "cba703e3-a272-4b20-f044-d41a967f7621"
   },
   "outputs": [
    {
     "name": "stdout",
     "output_type": "stream",
     "text": [
      "Found 3718 images belonging to 143 classes.\n",
      "117/117 [==============================] - 3246s 28s/step - loss: 15.5368 - accuracy: 0.0737\n",
      "Test_Accuracy: 7.37%\n"
     ]
    }
   ],
   "source": [
    "test_genrator_nor = test_datagen_nor.flow_from_directory( r'/content/drive/MyDrive/saltandpeppernoise',\n",
    "        target_size=(720,720),\n",
    "        batch_size=32,\n",
    "        class_mode='categorical')\n",
    "test_acc = model.evaluate(test_genrator_nor)\n",
    "print(\"Test_Accuracy: %.2f%%\" % (test_acc[1]*100))"
   ]
  },
  {
   "cell_type": "code",
   "execution_count": null,
   "metadata": {},
   "outputs": [],
   "source": [
    "## corrupted-20"
   ]
  },
  {
   "cell_type": "code",
   "execution_count": 20,
   "metadata": {},
   "outputs": [
    {
     "name": "stdout",
     "output_type": "stream",
     "text": [
      "Found 3718 images belonging to 143 classes\n",
      "117/117 [==============================] - 1617s 14s/step - loss: 16.2920 - accuracy: 0.7501\n",
      "Test_Accuracy: 75.01%\n"
     ]
    }
   ],
   "source": [
    "test_genrator_nor = test_datagen_nor.flow_from_directory( r'D:\\Uni-passau\\thesis-SRAM\\corrupted-20',\n",
    "        target_size=(720,720),\n",
    "        batch_size=64,\n",
    "        class_mode='categorical')\n",
    "test_acc = model.evaluate(test_genrator_nor)\n",
    "print(\"Test_Accuracy: %.2f%%\" % (test_acc[1]*100))"
   ]
  },
  {
   "cell_type": "code",
   "execution_count": null,
   "metadata": {},
   "outputs": [],
   "source": [
    "## corrupted-25"
   ]
  },
  {
   "cell_type": "code",
   "execution_count": 19,
   "metadata": {},
   "outputs": [
    {
     "name": "stdout",
     "output_type": "stream",
     "text": [
      "Found 3718 images belonging to 143 classes\n",
      "117/117 [==============================] - 1617s 14s/step - loss: 17.1020 - accuracy: 0.6923\n",
      "Test_Accuracy: 69.23%\n"
     ]
    }
   ],
   "source": [
    "test_genrator_nor = test_datagen_nor.flow_from_directory( r'D:\\Uni-passau\\thesis-SRAM\\corrupted-25',\n",
    "        target_size=(720,720),\n",
    "        batch_size=64,\n",
    "        class_mode='categorical')\n",
    "test_acc = model.evaluate(test_genrator_nor)\n",
    "print(\"Test_Accuracy: %.2f%%\" % (test_acc[1]*100))"
   ]
  },
  {
   "cell_type": "code",
   "execution_count": null,
   "metadata": {},
   "outputs": [],
   "source": [
    "## corrupted-50"
   ]
  },
  {
   "cell_type": "code",
   "execution_count": 21,
   "metadata": {},
   "outputs": [
    {
     "name": "stdout",
     "output_type": "stream",
     "text": [
      "Found 3718 images belonging to 143 classes\n",
      "117/117 [==============================] - 1617s 14s/step - loss: 24.8920 - accuracy: 0.2231\n",
      "Test_Accuracy: 22.31%\n"
     ]
    }
   ],
   "source": [
    "test_genrator_nor-50 = test_datagen_nor.flow_from_directory( r'D:\\Uni-passau\\thesis-SRAM\\corrupted-50',\n",
    "        target_size=(720,720),\n",
    "        batch_size=64,\n",
    "        class_mode='categorical')\n",
    "test_acc = model.evaluate(test_genrator_nor-50)\n",
    "print(\"Test_Accuracy: %.2f%%\" % (test_acc[1]*100))"
   ]
  },
  {
   "cell_type": "code",
   "execution_count": null,
   "metadata": {
    "id": "Iadq3w5CufE-"
   },
   "outputs": [],
   "source": [
    "plt.plot(history.history['accuracy'])\n",
    "plt.plot(history.history['val_accuracy'])\n",
    "plt.title('Model Accuracy')\n",
    "plt.ylabel('Accuracy')\n",
    "plt.xlabel('Epochs')\n",
    "plt.legend(['train', 'validation'])\n",
    "plt.savefig('/content/drive/MyDrive/cnnmodel/cnn-143-accuracy.png')\n",
    "plt.show()"
   ]
  },
  {
   "cell_type": "code",
   "execution_count": null,
   "metadata": {
    "id": "K1HuJorYukLe"
   },
   "outputs": [],
   "source": [
    "plt.plot(history.history['loss'])\n",
    "plt.plot(history.history['val_loss'])\n",
    "plt.title('Model Loss')\n",
    "plt.ylabel('Loss')\n",
    "plt.xlabel('Epochs')\n",
    "plt.legend(['train', 'validation'])\n",
    "plt.savefig('/content/drive/MyDrive/cnnmodel/cnn-143-loss.png')\n",
    "plt.show()"
   ]
  }
 ],
 "metadata": {
  "accelerator": "GPU",
  "colab": {
   "collapsed_sections": [],
   "machine_shape": "hm",
   "name": "cnn-gaussainnoise-augu.ipynb",
   "provenance": []
  },
  "kernelspec": {
   "display_name": "Python 3",
   "language": "python",
   "name": "python3"
  },
  "language_info": {
   "codemirror_mode": {
    "name": "ipython",
    "version": 3
   },
   "file_extension": ".py",
   "mimetype": "text/x-python",
   "name": "python",
   "nbconvert_exporter": "python",
   "pygments_lexer": "ipython3",
   "version": "3.8.3"
  }
 },
 "nbformat": 4,
 "nbformat_minor": 1
}
