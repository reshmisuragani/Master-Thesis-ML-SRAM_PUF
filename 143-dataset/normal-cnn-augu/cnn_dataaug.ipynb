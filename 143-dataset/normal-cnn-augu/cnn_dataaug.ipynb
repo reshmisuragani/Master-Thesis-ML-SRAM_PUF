{
 "cells": [
  {
   "cell_type": "code",
   "execution_count": 1,
   "metadata": {
    "id": "m1Pb9SgktLTp"
   },
   "outputs": [],
   "source": [
    "import tensorflow as tf\n",
    "from tensorflow.keras import datasets, layers, models\n",
    "import matplotlib.pyplot as plt\n",
    "from keras.preprocessing.image import ImageDataGenerator\n",
    "import numpy as np\n",
    "from keras.regularizers import l2\n",
    "from keras.layers import BatchNormalization\n",
    "from keras.layers import GaussianNoise"
   ]
  },
  {
   "cell_type": "code",
   "execution_count": 2,
   "metadata": {
    "colab": {
     "base_uri": "https://localhost:8080/"
    },
    "id": "hB8JqLj1uNBX",
    "outputId": "30daf956-9d77-4ef0-cd24-6a0aa9e4af01"
   },
   "outputs": [
    {
     "name": "stdout",
     "output_type": "stream",
     "text": [
      "Found 10727 images belonging to 143 classes.\n",
      "Found 1859 images belonging to 143 classes.\n",
      "Found 1859 images belonging to 143 classes.\n"
     ]
    }
   ],
   "source": [
    "\n",
    "train_datagen = ImageDataGenerator( width_shift_range=0.2,\n",
    "        height_shift_range=0.2,\n",
    "        shear_range=0.2,\n",
    "        zoom_range=0.2,\n",
    "        horizontal_flip=True,\n",
    "        fill_mode='nearest',\n",
    "        rescale=1./255)\n",
    "\n",
    "test_datagen = ImageDataGenerator(validation_split =0.5,  width_shift_range=0.2,\n",
    "        height_shift_range=0.2,\n",
    "        shear_range=0.2,\n",
    "        zoom_range=0.2,\n",
    "        horizontal_flip=True,\n",
    "        fill_mode='nearest',\n",
    "        rescale=1./255)\n",
    "\n",
    "train_data = train_datagen.flow_from_directory(\n",
    "       r'/content/drive/MyDrive/dataset/train',\n",
    "        target_size=(256, 256),batch_size=248,\n",
    "        class_mode='categorical')\n",
    "valid_data = test_datagen.flow_from_directory(\n",
    "       r'/content/drive/MyDrive/dataset/test',\n",
    "        target_size=(256, 256),batch_size=128,subset ='training',\n",
    "        class_mode='categorical')\n",
    "\n",
    "test_data = test_datagen.flow_from_directory( r'/content/drive/MyDrive/dataset/test',\n",
    "        target_size=(256, 256),subset='validation',\n",
    "        batch_size=16,\n",
    "        class_mode='categorical')\n",
    "\n"
   ]
  },
  {
   "cell_type": "code",
   "execution_count": 3,
   "metadata": {
    "colab": {
     "base_uri": "https://localhost:8080/"
    },
    "id": "pwZT9lOUnk8V",
    "outputId": "add99aaf-e12e-4df0-a17d-47e715c33ec4"
   },
   "outputs": [
    {
     "name": "stdout",
     "output_type": "stream",
     "text": [
      "Model: \"sequential\"\n",
      "_________________________________________________________________\n",
      "Layer (type)                 Output Shape              Param #   \n",
      "=================================================================\n",
      "conv2d (Conv2D)              (None, 256, 256, 8)       224       \n",
      "_________________________________________________________________\n",
      "conv2d_1 (Conv2D)            (None, 256, 256, 48)      3504      \n",
      "_________________________________________________________________\n",
      "max_pooling2d (MaxPooling2D) (None, 128, 128, 48)      0         \n",
      "_________________________________________________________________\n",
      "conv2d_2 (Conv2D)            (None, 128, 128, 128)     55424     \n",
      "_________________________________________________________________\n",
      "batch_normalization (BatchNo (None, 128, 128, 128)     512       \n",
      "_________________________________________________________________\n",
      "max_pooling2d_1 (MaxPooling2 (None, 64, 64, 128)       0         \n",
      "_________________________________________________________________\n",
      "conv2d_3 (Conv2D)            (None, 64, 64, 192)       221376    \n",
      "_________________________________________________________________\n",
      "batch_normalization_1 (Batch (None, 64, 64, 192)       768       \n",
      "_________________________________________________________________\n",
      "max_pooling2d_2 (MaxPooling2 (None, 32, 32, 192)       0         \n",
      "_________________________________________________________________\n",
      "conv2d_4 (Conv2D)            (None, 32, 32, 192)       331968    \n",
      "_________________________________________________________________\n",
      "batch_normalization_2 (Batch (None, 32, 32, 192)       768       \n",
      "_________________________________________________________________\n",
      "max_pooling2d_3 (MaxPooling2 (None, 16, 16, 192)       0         \n",
      "_________________________________________________________________\n",
      "flatten (Flatten)            (None, 49152)             0         \n",
      "_________________________________________________________________\n",
      "dense (Dense)                (None, 1024)              50332672  \n",
      "_________________________________________________________________\n",
      "batch_normalization_3 (Batch (None, 1024)              4096      \n",
      "_________________________________________________________________\n",
      "dense_1 (Dense)              (None, 512)               524800    \n",
      "_________________________________________________________________\n",
      "batch_normalization_4 (Batch (None, 512)               2048      \n",
      "_________________________________________________________________\n",
      "dense_2 (Dense)              (None, 256)               131328    \n",
      "_________________________________________________________________\n",
      "dropout (Dropout)            (None, 256)               0         \n",
      "_________________________________________________________________\n",
      "dense_3 (Dense)              (None, 143)               36751     \n",
      "=================================================================\n",
      "Total params: 51,646,239\n",
      "Trainable params: 51,642,143\n",
      "Non-trainable params: 4,096\n",
      "_________________________________________________________________\n"
     ]
    }
   ],
   "source": [
    "from keras.regularizers import l2\n",
    "from keras.layers import BatchNormalization\n",
    "from keras.layers import GaussianNoise\n",
    "model = tf.keras.Sequential()\n",
    "model.add(tf.keras.layers.Conv2D(filters = 8, kernel_size = (3,3), kernel_regularizer=l2(0.0001), padding = 'Same', activation ='relu', input_shape = (256,256,3)))\n",
    "model.add(tf.keras.layers.Conv2D(filters = 48, kernel_size = (3,3), kernel_regularizer=l2(0.0001), padding = 'Same', activation ='relu'))\n",
    "model.add(tf.keras.layers.MaxPool2D(pool_size=(2,2), strides = 2))\n",
    "model.add(tf.keras.layers.Conv2D(filters = 128, kernel_size = (3,3),kernel_regularizer=l2(0.0001), padding = 'Same', activation ='relu'))\n",
    "model.add(tf.keras.layers.BatchNormalization())\n",
    "model.add(tf.keras.layers.MaxPool2D(pool_size=(2,2), strides= 2))\n",
    "model.add(tf.keras.layers.Conv2D(filters = 192, kernel_size = (3,3), kernel_regularizer=l2(0.0001), padding = 'Same', activation ='relu'))\n",
    "model.add(tf.keras.layers.BatchNormalization())\n",
    "model.add(tf.keras.layers.MaxPool2D(pool_size=(2,2), strides= 2))\n",
    "model.add(tf.keras.layers.Conv2D(filters = 192, kernel_size = (3,3), kernel_regularizer=l2(0.0001), padding = 'Same', activation ='relu'))\n",
    "model.add(tf.keras.layers.BatchNormalization())\n",
    "model.add(tf.keras.layers.MaxPool2D(pool_size=(2,2), strides= 2))\n",
    "\n",
    "model.add(tf.keras.layers.Flatten())\n",
    "model.add(tf.keras.layers.Dense(1024, activation = \"relu\", kernel_regularizer=l2(0.0001)))\n",
    "model.add(tf.keras.layers.BatchNormalization())\n",
    "model.add(tf.keras.layers.Dense(512, activation = \"relu\", kernel_regularizer=l2(0.0001)))\n",
    "model.add(tf.keras.layers.BatchNormalization())\n",
    "model.add(tf.keras.layers.Dense(256, activation = \"relu\", kernel_regularizer=l2(0.0001)))\n",
    "model.add(tf.keras.layers.Dropout(0.2))\n",
    "model.add(tf.keras.layers.Dense(143, activation = \"softmax\"))\n",
    "model.summary()"
   ]
  },
  {
   "cell_type": "code",
   "execution_count": 4,
   "metadata": {
    "id": "t78Lg-KnoCGL"
   },
   "outputs": [],
   "source": [
    "from keras.callbacks import EarlyStopping\n",
    "from keras.callbacks import ModelCheckpoint\n",
    "from keras.callbacks import CSVLogger\n",
    "\n",
    "csv_logger = CSVLogger(\"/content/drive/MyDrive/cnn-dataaugumentation/dataaugu_model2_history_log.csv\", append=True)\n",
    "#es = EarlyStopping(monitor='val_loss', mode='min', verbose=1, patience=5)\n",
    "es1 = EarlyStopping( monitor='val_accuracy', patience=5, min_delta=0.001, mode='max')\n",
    "mc = ModelCheckpoint('/content/drive/MyDrive/cnn-dataaugumentation/dataaugu2_cnnmodel.h5', monitor='val_accuracy', mode='max', verbose=1, save_best_only=True)"
   ]
  },
  {
   "cell_type": "code",
   "execution_count": 5,
   "metadata": {
    "id": "_otHkgv8YXE6"
   },
   "outputs": [],
   "source": [
    "import tensorflow.compat.v1 as tfs\n",
    "gpu_options = tfs.GPUOptions(allow_growth = True)\n",
    "session = tfs.InteractiveSession(config = tfs.ConfigProto(gpu_options = gpu_options))"
   ]
  },
  {
   "cell_type": "code",
   "execution_count": 6,
   "metadata": {
    "id": "5aS9qO9BoXnb"
   },
   "outputs": [],
   "source": [
    "adam =tf. keras.optimizers.Adam(learning_rate = 0.01, decay = 0.9)\n",
    "model.compile(optimizer = adam, loss = \"categorical_crossentropy\", metrics = [\"accuracy\"])"
   ]
  },
  {
   "cell_type": "code",
   "execution_count": 7,
   "metadata": {
    "colab": {
     "base_uri": "https://localhost:8080/"
    },
    "id": "ocNCANFuEBtm",
    "outputId": "10143599-231e-491f-a7c3-53e02817b74b"
   },
   "outputs": [
    {
     "name": "stdout",
     "output_type": "stream",
     "text": [
      "Epoch 1/300\n",
      "44/44 [==============================] - 4700s 107s/step - loss: 6.6982 - accuracy: 0.0252 - val_loss: 11.2788 - val_accuracy: 0.0070\n",
      "\n",
      "Epoch 00001: val_accuracy improved from -inf to 0.00699, saving model to /content/drive/MyDrive/cnn-dataaugumentation/dataaugu2_cnnmodel.h5\n",
      "Epoch 2/300\n",
      "44/44 [==============================] - 257s 6s/step - loss: 6.1776 - accuracy: 0.0627 - val_loss: 7.6151 - val_accuracy: 0.0097\n",
      "\n",
      "Epoch 00002: val_accuracy improved from 0.00699 to 0.00968, saving model to /content/drive/MyDrive/cnn-dataaugumentation/dataaugu2_cnnmodel.h5\n",
      "Epoch 3/300\n",
      "44/44 [==============================] - 257s 6s/step - loss: 5.8633 - accuracy: 0.0903 - val_loss: 35.3695 - val_accuracy: 0.0081\n",
      "\n",
      "Epoch 00003: val_accuracy did not improve from 0.00968\n",
      "Epoch 4/300\n",
      "44/44 [==============================] - 252s 6s/step - loss: 5.6423 - accuracy: 0.1210 - val_loss: 14.9371 - val_accuracy: 0.0075\n",
      "\n",
      "Epoch 00004: val_accuracy did not improve from 0.00968\n",
      "Epoch 5/300\n",
      "44/44 [==============================] - 250s 6s/step - loss: 5.4186 - accuracy: 0.1617 - val_loss: 10.5819 - val_accuracy: 0.0091\n",
      "\n",
      "Epoch 00005: val_accuracy did not improve from 0.00968\n",
      "Epoch 6/300\n",
      "44/44 [==============================] - 249s 6s/step - loss: 5.2777 - accuracy: 0.1879 - val_loss: 10.2466 - val_accuracy: 0.0097\n",
      "\n",
      "Epoch 00006: val_accuracy did not improve from 0.00968\n",
      "Epoch 7/300\n",
      "44/44 [==============================] - 249s 6s/step - loss: 5.1624 - accuracy: 0.2077 - val_loss: 9.4932 - val_accuracy: 0.0140\n",
      "\n",
      "Epoch 00007: val_accuracy improved from 0.00968 to 0.01399, saving model to /content/drive/MyDrive/cnn-dataaugumentation/dataaugu2_cnnmodel.h5\n",
      "Epoch 8/300\n",
      "44/44 [==============================] - 253s 6s/step - loss: 5.0130 - accuracy: 0.2437 - val_loss: 8.7178 - val_accuracy: 0.0145\n",
      "\n",
      "Epoch 00008: val_accuracy improved from 0.01399 to 0.01452, saving model to /content/drive/MyDrive/cnn-dataaugumentation/dataaugu2_cnnmodel.h5\n",
      "Epoch 9/300\n",
      "44/44 [==============================] - 258s 6s/step - loss: 4.8850 - accuracy: 0.2791 - val_loss: 8.2964 - val_accuracy: 0.0172\n",
      "\n",
      "Epoch 00009: val_accuracy improved from 0.01452 to 0.01721, saving model to /content/drive/MyDrive/cnn-dataaugumentation/dataaugu2_cnnmodel.h5\n",
      "Epoch 10/300\n",
      "44/44 [==============================] - 258s 6s/step - loss: 4.7933 - accuracy: 0.2851 - val_loss: 7.6069 - val_accuracy: 0.0290\n",
      "\n",
      "Epoch 00010: val_accuracy improved from 0.01721 to 0.02905, saving model to /content/drive/MyDrive/cnn-dataaugumentation/dataaugu2_cnnmodel.h5\n",
      "Epoch 11/300\n",
      "44/44 [==============================] - 249s 6s/step - loss: 4.6884 - accuracy: 0.3125 - val_loss: 7.2091 - val_accuracy: 0.0420\n",
      "\n",
      "Epoch 00011: val_accuracy improved from 0.02905 to 0.04196, saving model to /content/drive/MyDrive/cnn-dataaugumentation/dataaugu2_cnnmodel.h5\n",
      "Epoch 12/300\n",
      "44/44 [==============================] - 256s 6s/step - loss: 4.5853 - accuracy: 0.3441 - val_loss: 6.8233 - val_accuracy: 0.0511\n",
      "\n",
      "Epoch 00012: val_accuracy improved from 0.04196 to 0.05110, saving model to /content/drive/MyDrive/cnn-dataaugumentation/dataaugu2_cnnmodel.h5\n",
      "Epoch 13/300\n",
      "44/44 [==============================] - 259s 6s/step - loss: 4.5064 - accuracy: 0.3641 - val_loss: 6.0905 - val_accuracy: 0.0818\n",
      "\n",
      "Epoch 00013: val_accuracy improved from 0.05110 to 0.08176, saving model to /content/drive/MyDrive/cnn-dataaugumentation/dataaugu2_cnnmodel.h5\n",
      "Epoch 14/300\n",
      "44/44 [==============================] - 256s 6s/step - loss: 4.4551 - accuracy: 0.3752 - val_loss: 5.5047 - val_accuracy: 0.1377\n",
      "\n",
      "Epoch 00014: val_accuracy improved from 0.08176 to 0.13771, saving model to /content/drive/MyDrive/cnn-dataaugumentation/dataaugu2_cnnmodel.h5\n",
      "Epoch 15/300\n",
      "44/44 [==============================] - 255s 6s/step - loss: 4.3730 - accuracy: 0.3927 - val_loss: 5.2475 - val_accuracy: 0.1888\n",
      "\n",
      "Epoch 00015: val_accuracy improved from 0.13771 to 0.18881, saving model to /content/drive/MyDrive/cnn-dataaugumentation/dataaugu2_cnnmodel.h5\n",
      "Epoch 16/300\n",
      "44/44 [==============================] - 262s 6s/step - loss: 4.3220 - accuracy: 0.4080 - val_loss: 5.0038 - val_accuracy: 0.2324\n",
      "\n",
      "Epoch 00016: val_accuracy improved from 0.18881 to 0.23238, saving model to /content/drive/MyDrive/cnn-dataaugumentation/dataaugu2_cnnmodel.h5\n",
      "Epoch 17/300\n",
      "44/44 [==============================] - 260s 6s/step - loss: 4.2818 - accuracy: 0.4197 - val_loss: 4.5518 - val_accuracy: 0.3486\n",
      "\n",
      "Epoch 00017: val_accuracy improved from 0.23238 to 0.34857, saving model to /content/drive/MyDrive/cnn-dataaugumentation/dataaugu2_cnnmodel.h5\n",
      "Epoch 18/300\n",
      "44/44 [==============================] - 259s 6s/step - loss: 4.2146 - accuracy: 0.4248 - val_loss: 4.5019 - val_accuracy: 0.3636\n",
      "\n",
      "Epoch 00018: val_accuracy improved from 0.34857 to 0.36364, saving model to /content/drive/MyDrive/cnn-dataaugumentation/dataaugu2_cnnmodel.h5\n",
      "Epoch 19/300\n",
      "44/44 [==============================] - 260s 6s/step - loss: 4.1723 - accuracy: 0.4388 - val_loss: 4.2462 - val_accuracy: 0.4513\n",
      "\n",
      "Epoch 00019: val_accuracy improved from 0.36364 to 0.45132, saving model to /content/drive/MyDrive/cnn-dataaugumentation/dataaugu2_cnnmodel.h5\n",
      "Epoch 20/300\n",
      "44/44 [==============================] - 267s 6s/step - loss: 4.1279 - accuracy: 0.4491 - val_loss: 4.1505 - val_accuracy: 0.4944\n",
      "\n",
      "Epoch 00020: val_accuracy improved from 0.45132 to 0.49435, saving model to /content/drive/MyDrive/cnn-dataaugumentation/dataaugu2_cnnmodel.h5\n",
      "Epoch 21/300\n",
      "44/44 [==============================] - 253s 6s/step - loss: 4.1021 - accuracy: 0.4536 - val_loss: 4.0997 - val_accuracy: 0.5100\n",
      "\n",
      "Epoch 00021: val_accuracy improved from 0.49435 to 0.50995, saving model to /content/drive/MyDrive/cnn-dataaugumentation/dataaugu2_cnnmodel.h5\n",
      "Epoch 22/300\n",
      "44/44 [==============================] - 249s 6s/step - loss: 4.0473 - accuracy: 0.4718 - val_loss: 4.0002 - val_accuracy: 0.5331\n",
      "\n",
      "Epoch 00022: val_accuracy improved from 0.50995 to 0.53308, saving model to /content/drive/MyDrive/cnn-dataaugumentation/dataaugu2_cnnmodel.h5\n",
      "Epoch 23/300\n",
      "44/44 [==============================] - 249s 6s/step - loss: 3.9860 - accuracy: 0.4866 - val_loss: 3.9913 - val_accuracy: 0.5395\n",
      "\n",
      "Epoch 00023: val_accuracy improved from 0.53308 to 0.53954, saving model to /content/drive/MyDrive/cnn-dataaugumentation/dataaugu2_cnnmodel.h5\n",
      "Epoch 24/300\n",
      "44/44 [==============================] - 250s 6s/step - loss: 3.9303 - accuracy: 0.5034 - val_loss: 3.8227 - val_accuracy: 0.5949\n",
      "\n",
      "Epoch 00024: val_accuracy improved from 0.53954 to 0.59494, saving model to /content/drive/MyDrive/cnn-dataaugumentation/dataaugu2_cnnmodel.h5\n",
      "Epoch 25/300\n",
      "44/44 [==============================] - 248s 6s/step - loss: 3.9046 - accuracy: 0.5083 - val_loss: 3.7377 - val_accuracy: 0.6385\n",
      "\n",
      "Epoch 00025: val_accuracy improved from 0.59494 to 0.63852, saving model to /content/drive/MyDrive/cnn-dataaugumentation/dataaugu2_cnnmodel.h5\n",
      "Epoch 26/300\n",
      "44/44 [==============================] - 249s 6s/step - loss: 3.8852 - accuracy: 0.5138 - val_loss: 3.6315 - val_accuracy: 0.6945\n",
      "\n",
      "Epoch 00026: val_accuracy improved from 0.63852 to 0.69446, saving model to /content/drive/MyDrive/cnn-dataaugumentation/dataaugu2_cnnmodel.h5\n",
      "Epoch 27/300\n",
      "44/44 [==============================] - 254s 6s/step - loss: 3.8301 - accuracy: 0.5279 - val_loss: 3.6605 - val_accuracy: 0.6557\n",
      "\n",
      "Epoch 00027: val_accuracy did not improve from 0.69446\n",
      "Epoch 28/300\n",
      "44/44 [==============================] - 253s 6s/step - loss: 3.8415 - accuracy: 0.5167 - val_loss: 3.5619 - val_accuracy: 0.6971\n",
      "\n",
      "Epoch 00028: val_accuracy improved from 0.69446 to 0.69715, saving model to /content/drive/MyDrive/cnn-dataaugumentation/dataaugu2_cnnmodel.h5\n",
      "Epoch 29/300\n",
      "44/44 [==============================] - 256s 6s/step - loss: 3.7691 - accuracy: 0.5429 - val_loss: 3.5737 - val_accuracy: 0.6918\n",
      "\n",
      "Epoch 00029: val_accuracy did not improve from 0.69715\n",
      "Epoch 30/300\n",
      "44/44 [==============================] - 254s 6s/step - loss: 3.7405 - accuracy: 0.5511 - val_loss: 3.4988 - val_accuracy: 0.7122\n",
      "\n",
      "Epoch 00030: val_accuracy improved from 0.69715 to 0.71221, saving model to /content/drive/MyDrive/cnn-dataaugumentation/dataaugu2_cnnmodel.h5\n",
      "Epoch 31/300\n",
      "44/44 [==============================] - 254s 6s/step - loss: 3.7396 - accuracy: 0.5409 - val_loss: 3.4983 - val_accuracy: 0.7084\n",
      "\n",
      "Epoch 00031: val_accuracy did not improve from 0.71221\n",
      "Epoch 32/300\n",
      "44/44 [==============================] - 257s 6s/step - loss: 3.7283 - accuracy: 0.5417 - val_loss: 3.5314 - val_accuracy: 0.6719\n",
      "\n",
      "Epoch 00032: val_accuracy did not improve from 0.71221\n",
      "Epoch 33/300\n",
      "44/44 [==============================] - 257s 6s/step - loss: 3.6720 - accuracy: 0.5638 - val_loss: 3.4136 - val_accuracy: 0.7332\n",
      "\n",
      "Epoch 00033: val_accuracy improved from 0.71221 to 0.73319, saving model to /content/drive/MyDrive/cnn-dataaugumentation/dataaugu2_cnnmodel.h5\n",
      "Epoch 34/300\n",
      "44/44 [==============================] - 254s 6s/step - loss: 3.6465 - accuracy: 0.5731 - val_loss: 3.3498 - val_accuracy: 0.7682\n",
      "\n",
      "Epoch 00034: val_accuracy improved from 0.73319 to 0.76815, saving model to /content/drive/MyDrive/cnn-dataaugumentation/dataaugu2_cnnmodel.h5\n",
      "Epoch 35/300\n",
      "44/44 [==============================] - 253s 6s/step - loss: 3.6345 - accuracy: 0.5708 - val_loss: 3.3392 - val_accuracy: 0.7633\n",
      "\n",
      "Epoch 00035: val_accuracy did not improve from 0.76815\n",
      "Epoch 36/300\n",
      "44/44 [==============================] - 252s 6s/step - loss: 3.5943 - accuracy: 0.5842 - val_loss: 3.3174 - val_accuracy: 0.7612\n",
      "\n",
      "Epoch 00036: val_accuracy did not improve from 0.76815\n",
      "Epoch 37/300\n",
      "44/44 [==============================] - 252s 6s/step - loss: 3.5731 - accuracy: 0.5797 - val_loss: 3.2951 - val_accuracy: 0.7832\n",
      "\n",
      "Epoch 00037: val_accuracy improved from 0.76815 to 0.78322, saving model to /content/drive/MyDrive/cnn-dataaugumentation/dataaugu2_cnnmodel.h5\n",
      "Epoch 38/300\n",
      "44/44 [==============================] - 253s 6s/step - loss: 3.5768 - accuracy: 0.5831 - val_loss: 3.2474 - val_accuracy: 0.7881\n",
      "\n",
      "Epoch 00038: val_accuracy improved from 0.78322 to 0.78806, saving model to /content/drive/MyDrive/cnn-dataaugumentation/dataaugu2_cnnmodel.h5\n",
      "Epoch 39/300\n",
      "44/44 [==============================] - 255s 6s/step - loss: 3.5505 - accuracy: 0.5884 - val_loss: 3.2352 - val_accuracy: 0.7746\n",
      "\n",
      "Epoch 00039: val_accuracy did not improve from 0.78806\n",
      "Epoch 40/300\n",
      "44/44 [==============================] - 253s 6s/step - loss: 3.5224 - accuracy: 0.5941 - val_loss: 3.2231 - val_accuracy: 0.7628\n",
      "\n",
      "Epoch 00040: val_accuracy did not improve from 0.78806\n",
      "Epoch 41/300\n",
      "44/44 [==============================] - 253s 6s/step - loss: 3.4910 - accuracy: 0.6071 - val_loss: 3.1984 - val_accuracy: 0.7940\n",
      "\n",
      "Epoch 00041: val_accuracy improved from 0.78806 to 0.79398, saving model to /content/drive/MyDrive/cnn-dataaugumentation/dataaugu2_cnnmodel.h5\n",
      "Epoch 42/300\n",
      "44/44 [==============================] - 254s 6s/step - loss: 3.4902 - accuracy: 0.6060 - val_loss: 3.1440 - val_accuracy: 0.8117\n",
      "\n",
      "Epoch 00042: val_accuracy improved from 0.79398 to 0.81173, saving model to /content/drive/MyDrive/cnn-dataaugumentation/dataaugu2_cnnmodel.h5\n",
      "Epoch 43/300\n",
      "44/44 [==============================] - 254s 6s/step - loss: 3.4387 - accuracy: 0.6190 - val_loss: 3.1542 - val_accuracy: 0.7940\n",
      "\n",
      "Epoch 00043: val_accuracy did not improve from 0.81173\n",
      "Epoch 44/300\n",
      "44/44 [==============================] - 253s 6s/step - loss: 3.4355 - accuracy: 0.6141 - val_loss: 3.1433 - val_accuracy: 0.8004\n",
      "\n",
      "Epoch 00044: val_accuracy did not improve from 0.81173\n",
      "Epoch 45/300\n",
      "44/44 [==============================] - 253s 6s/step - loss: 3.4011 - accuracy: 0.6284 - val_loss: 3.1138 - val_accuracy: 0.7940\n",
      "\n",
      "Epoch 00045: val_accuracy did not improve from 0.81173\n",
      "Epoch 46/300\n",
      "44/44 [==============================] - 252s 6s/step - loss: 3.4091 - accuracy: 0.6163 - val_loss: 3.1291 - val_accuracy: 0.7875\n",
      "\n",
      "Epoch 00046: val_accuracy did not improve from 0.81173\n",
      "Epoch 47/300\n",
      "44/44 [==============================] - 252s 6s/step - loss: 3.3880 - accuracy: 0.6266 - val_loss: 3.0963 - val_accuracy: 0.7977\n",
      "\n",
      "Epoch 00047: val_accuracy did not improve from 0.81173\n"
     ]
    }
   ],
   "source": [
    "history = model.fit(train_data, validation_data=valid_data, epochs = 300, callbacks = [es1, mc,csv_logger], shuffle = True)"
   ]
  },
  {
   "cell_type": "code",
   "execution_count": 24,
   "metadata": {
    "colab": {
     "base_uri": "https://localhost:8080/"
    },
    "id": "YA21fVAI5OVv",
    "outputId": "ec0dc8b6-8154-4bda-ba8f-179b99864e08"
   },
   "outputs": [
    {
     "name": "stdout",
     "output_type": "stream",
     "text": [
      "Epoch 1/300\n",
      "44/44 [==============================] - 2591s 58s/step - loss: 2.7641 - accuracy: 0.6613 - val_loss: 2.5751 - val_accuracy: 0.6826\n",
      "\n",
      "Epoch 00001: val_accuracy improved from -inf to 0.68263, saving model to /content/drive/MyDrive/cnn-dataaugumentation/dataaugu2_cnnmodel.h5\n",
      "Epoch 2/300\n",
      "44/44 [==============================] - 255s 6s/step - loss: 2.3127 - accuracy: 0.7615 - val_loss: 2.2975 - val_accuracy: 0.7547\n",
      "\n",
      "Epoch 00002: val_accuracy improved from 0.68263 to 0.75471, saving model to /content/drive/MyDrive/cnn-dataaugumentation/dataaugu2_cnnmodel.h5\n",
      "Epoch 3/300\n",
      "44/44 [==============================] - 255s 6s/step - loss: 2.1133 - accuracy: 0.8082 - val_loss: 2.0327 - val_accuracy: 0.8596\n",
      "\n",
      "Epoch 00003: val_accuracy improved from 0.75471 to 0.85960, saving model to /content/drive/MyDrive/cnn-dataaugumentation/dataaugu2_cnnmodel.h5\n",
      "Epoch 4/300\n",
      "44/44 [==============================] - 253s 6s/step - loss: 1.9923 - accuracy: 0.8366 - val_loss: 2.0308 - val_accuracy: 0.8332\n",
      "\n",
      "Epoch 00004: val_accuracy did not improve from 0.85960\n",
      "Epoch 5/300\n",
      "44/44 [==============================] - 252s 6s/step - loss: 1.9015 - accuracy: 0.8550 - val_loss: 1.9491 - val_accuracy: 0.8494\n",
      "\n",
      "Epoch 00005: val_accuracy did not improve from 0.85960\n",
      "Epoch 6/300\n",
      "44/44 [==============================] - 249s 6s/step - loss: 1.8306 - accuracy: 0.8683 - val_loss: 2.0304 - val_accuracy: 0.7977\n",
      "\n",
      "Epoch 00006: val_accuracy did not improve from 0.85960\n",
      "Epoch 7/300\n",
      "44/44 [==============================] - 249s 6s/step - loss: 1.7849 - accuracy: 0.8752 - val_loss: 1.6794 - val_accuracy: 0.9236\n",
      "\n",
      "Epoch 00007: val_accuracy improved from 0.85960 to 0.92361, saving model to /content/drive/MyDrive/cnn-dataaugumentation/dataaugu2_cnnmodel.h5\n",
      "Epoch 8/300\n",
      "44/44 [==============================] - 255s 6s/step - loss: 1.7536 - accuracy: 0.8783 - val_loss: 1.6361 - val_accuracy: 0.9225\n",
      "\n",
      "Epoch 00008: val_accuracy did not improve from 0.92361\n",
      "Epoch 9/300\n",
      "44/44 [==============================] - 253s 6s/step - loss: 1.7134 - accuracy: 0.8897 - val_loss: 1.5853 - val_accuracy: 0.9338\n",
      "\n",
      "Epoch 00009: val_accuracy improved from 0.92361 to 0.93384, saving model to /content/drive/MyDrive/cnn-dataaugumentation/dataaugu2_cnnmodel.h5\n",
      "Epoch 10/300\n",
      "44/44 [==============================] - 254s 6s/step - loss: 1.6835 - accuracy: 0.8946 - val_loss: 1.5719 - val_accuracy: 0.9414\n",
      "\n",
      "Epoch 00010: val_accuracy improved from 0.93384 to 0.94137, saving model to /content/drive/MyDrive/cnn-dataaugumentation/dataaugu2_cnnmodel.h5\n",
      "Epoch 11/300\n",
      "44/44 [==============================] - 254s 6s/step - loss: 1.6567 - accuracy: 0.8971 - val_loss: 1.5172 - val_accuracy: 0.9473\n",
      "\n",
      "Epoch 00011: val_accuracy improved from 0.94137 to 0.94728, saving model to /content/drive/MyDrive/cnn-dataaugumentation/dataaugu2_cnnmodel.h5\n",
      "Epoch 12/300\n",
      "44/44 [==============================] - 254s 6s/step - loss: 1.6196 - accuracy: 0.9052 - val_loss: 1.5037 - val_accuracy: 0.9408\n",
      "\n",
      "Epoch 00012: val_accuracy did not improve from 0.94728\n",
      "Epoch 13/300\n",
      "44/44 [==============================] - 253s 6s/step - loss: 1.6112 - accuracy: 0.9056 - val_loss: 1.4639 - val_accuracy: 0.9564\n",
      "\n",
      "Epoch 00013: val_accuracy improved from 0.94728 to 0.95643, saving model to /content/drive/MyDrive/cnn-dataaugumentation/dataaugu2_cnnmodel.h5\n",
      "Epoch 14/300\n",
      "44/44 [==============================] - 254s 6s/step - loss: 1.5782 - accuracy: 0.9142 - val_loss: 1.4776 - val_accuracy: 0.9462\n",
      "\n",
      "Epoch 00014: val_accuracy did not improve from 0.95643\n",
      "Epoch 15/300\n",
      "44/44 [==============================] - 253s 6s/step - loss: 1.5698 - accuracy: 0.9163 - val_loss: 1.4256 - val_accuracy: 0.9554\n",
      "\n",
      "Epoch 00015: val_accuracy did not improve from 0.95643\n",
      "Epoch 16/300\n",
      "44/44 [==============================] - 255s 6s/step - loss: 1.5531 - accuracy: 0.9159 - val_loss: 1.4114 - val_accuracy: 0.9666\n",
      "\n",
      "Epoch 00016: val_accuracy improved from 0.95643 to 0.96665, saving model to /content/drive/MyDrive/cnn-dataaugumentation/dataaugu2_cnnmodel.h5\n",
      "Epoch 17/300\n",
      "44/44 [==============================] - 254s 6s/step - loss: 1.5457 - accuracy: 0.9129 - val_loss: 1.4016 - val_accuracy: 0.9602\n",
      "\n",
      "Epoch 00017: val_accuracy did not improve from 0.96665\n",
      "Epoch 18/300\n",
      "44/44 [==============================] - 254s 6s/step - loss: 1.5255 - accuracy: 0.9183 - val_loss: 1.4053 - val_accuracy: 0.9537\n",
      "\n",
      "Epoch 00018: val_accuracy did not improve from 0.96665\n",
      "Epoch 19/300\n",
      "44/44 [==============================] - 253s 6s/step - loss: 1.5144 - accuracy: 0.9247 - val_loss: 1.3709 - val_accuracy: 0.9666\n",
      "\n",
      "Epoch 00019: val_accuracy did not improve from 0.96665\n",
      "Epoch 20/300\n",
      "44/44 [==============================] - 253s 6s/step - loss: 1.4961 - accuracy: 0.9211 - val_loss: 1.3575 - val_accuracy: 0.9656\n",
      "\n",
      "Epoch 00020: val_accuracy did not improve from 0.96665\n",
      "Epoch 21/300\n",
      "44/44 [==============================] - 253s 6s/step - loss: 1.4990 - accuracy: 0.9229 - val_loss: 1.3518 - val_accuracy: 0.9672\n",
      "\n",
      "Epoch 00021: val_accuracy improved from 0.96665 to 0.96719, saving model to /content/drive/MyDrive/cnn-dataaugumentation/dataaugu2_cnnmodel.h5\n"
     ]
    }
   ],
   "source": [
    "history = model.fit(train_data, validation_data=valid_data, epochs = 300, callbacks = [es1, mc,csv_logger], shuffle = True)"
   ]
  },
  {
   "cell_type": "code",
   "execution_count": 25,
   "metadata": {
    "id": "gVgaypnI-czu"
   },
   "outputs": [],
   "source": [
    "model.save_weights('/content/drive/MyDrive/cnn-dataaugumentation/cnn_augu_dataset-143_weights.h5')\n"
   ]
  },
  {
   "cell_type": "code",
   "execution_count": 29,
   "metadata": {
    "id": "BzNVofxEUjr6"
   },
   "outputs": [],
   "source": [
    "\n",
    "test_datagen_nor = ImageDataGenerator(rescale=1./255)\n",
    "test_datagen_aug = ImageDataGenerator( width_shift_range=0.2,\n",
    "        height_shift_range=0.2,\n",
    "        shear_range=0.2,\n",
    "        zoom_range=0.2,\n",
    "        horizontal_flip=True,\n",
    "        fill_mode='nearest',\n",
    "        rescale=1./255)"
   ]
  },
  {
   "cell_type": "code",
   "execution_count": null,
   "metadata": {
    "id": "W8ybT2DR_IlR"
   },
   "outputs": [],
   "source": [
    "## train and validation"
   ]
  },
  {
   "cell_type": "code",
   "execution_count": 26,
   "metadata": {
    "colab": {
     "base_uri": "https://localhost:8080/"
    },
    "id": "UfWJBL0W_NiN",
    "outputId": "97efbe6a-8f61-4523-8185-8375bdc8aab9"
   },
   "outputs": [
    {
     "name": "stdout",
     "output_type": "stream",
     "text": [
      "44/44 [==============================] - 214s 5s/step - loss: 1.3775 - accuracy: 0.9608\n",
      "15/15 [==============================] - 37s 2s/step - loss: 1.3430 - accuracy: 0.9683\n",
      "Train_Accuracy: 96.08%\n",
      "valid_Accuracy: 96.83%\n"
     ]
    }
   ],
   "source": [
    "train_acc=model.evaluate(train_data)\n",
    "val_acc = model.evaluate(valid_data)\n",
    "print(\"Train_Accuracy: %.2f%%\" % (train_acc[1]*100))\n",
    "print(\"valid_Accuracy: %.2f%%\" % (val_acc[1]*100))"
   ]
  },
  {
   "cell_type": "code",
   "execution_count": null,
   "metadata": {
    "id": "gBblx2sA_QUc"
   },
   "outputs": [],
   "source": [
    "## normal dataset"
   ]
  },
  {
   "cell_type": "code",
   "execution_count": 28,
   "metadata": {
    "colab": {
     "base_uri": "https://localhost:8080/"
    },
    "id": "9SITe4KI_b6L",
    "outputId": "4bc9139b-f828-4d8d-da81-fb3fa7e2f27a"
   },
   "outputs": [
    {
     "name": "stdout",
     "output_type": "stream",
     "text": [
      "Found 3718 images belonging to 143 classes.\n",
      "117/117 [==============================] - 39s 337ms/step - loss: 2.9841 - accuracy: 0.4820\n",
      "Test_Accuracy: 48.20%\n"
     ]
    }
   ],
   "source": [
    "test_genrator_nor = test_datagen_nor.flow_from_directory( r'/content/drive/MyDrive/dataset/test',\n",
    "        target_size=(256,256),\n",
    "        batch_size=32,\n",
    "        class_mode='categorical')\n",
    "test_acc = model.evaluate(test_genrator_nor)\n",
    "print(\"Test_Accuracy: %.2f%%\" % (test_acc[1]*100))"
   ]
  },
  {
   "cell_type": "code",
   "execution_count": null,
   "metadata": {
    "id": "Lh4Yv1rx_uUn"
   },
   "outputs": [],
   "source": [
    "## normal dataset augumentation"
   ]
  },
  {
   "cell_type": "code",
   "execution_count": 30,
   "metadata": {
    "colab": {
     "base_uri": "https://localhost:8080/"
    },
    "id": "i1yAdUPRcsCu",
    "outputId": "02853666-aabb-4741-c781-7a3c898c98ec"
   },
   "outputs": [
    {
     "name": "stdout",
     "output_type": "stream",
     "text": [
      "Found 3718 images belonging to 143 classes.\n",
      "117/117 [==============================] - 76s 647ms/step - loss: 1.3327 - accuracy: 0.9629\n",
      "Test_Accuracy: 96.29%\n"
     ]
    }
   ],
   "source": [
    "test_genrator_nor = test_datagen_aug.flow_from_directory( r'/content/drive/MyDrive/dataset/test',\n",
    "        target_size=(256,256),\n",
    "        batch_size=32,\n",
    "        class_mode='categorical')\n",
    "test_acc = model.evaluate(test_genrator_nor)\n",
    "print(\"Test_Accuracy: %.2f%%\" % (test_acc[1]*100))"
   ]
  },
  {
   "cell_type": "code",
   "execution_count": null,
   "metadata": {
    "id": "hfoH1UGY_whn"
   },
   "outputs": [],
   "source": [
    "## gaussian noise"
   ]
  },
  {
   "cell_type": "code",
   "execution_count": 32,
   "metadata": {
    "colab": {
     "base_uri": "https://localhost:8080/"
    },
    "id": "6ZSTOHwlxOlG",
    "outputId": "58daf235-14b7-4274-8a2f-30d3e3329fd6"
   },
   "outputs": [
    {
     "name": "stdout",
     "output_type": "stream",
     "text": [
      "Found 3718 images belonging to 143 classes.\n",
      "117/117 [==============================] - 163s 1s/step - loss: 3.1326 - accuracy: 0.4346\n",
      "Test_Accuracy: 43.46%\n"
     ]
    }
   ],
   "source": [
    "test_genrator_gau_nor = test_datagen_nor.flow_from_directory( r'/content/drive/MyDrive/gaussiannoise/test',\n",
    "        target_size=(256,256),\n",
    "        batch_size=32,\n",
    "        class_mode='categorical')\n",
    "test_acc = model.evaluate(test_genrator_gau_nor)\n",
    "print(\"Test_Accuracy: %.2f%%\" % (test_acc[1]*100))"
   ]
  },
  {
   "cell_type": "code",
   "execution_count": null,
   "metadata": {
    "id": "TgxcmrWx_6PO"
   },
   "outputs": [],
   "source": [
    "## gaussian noise augumentation"
   ]
  },
  {
   "cell_type": "code",
   "execution_count": 33,
   "metadata": {
    "colab": {
     "base_uri": "https://localhost:8080/"
    },
    "id": "Z8rUQ0XM_8q-",
    "outputId": "e21368d8-4bd4-45ac-9443-111cad4217f9"
   },
   "outputs": [
    {
     "name": "stdout",
     "output_type": "stream",
     "text": [
      "Found 3718 images belonging to 143 classes.\n",
      "117/117 [==============================] - 185s 2s/step - loss: 2.9357 - accuracy: 0.5385\n",
      "Test_Accuracy: 53.85%\n"
     ]
    }
   ],
   "source": [
    "test_genrator_gau_augmen = test_datagen_aug.flow_from_directory( r'/content/drive/MyDrive/gaussiannoise/test',\n",
    "        target_size=(256,256),\n",
    "        batch_size=32,\n",
    "        class_mode='categorical')\n",
    "test_acc = model.evaluate(test_genrator_gau_augmen)\n",
    "print(\"Test_Accuracy: %.2f%%\" % (test_acc[1]*100))"
   ]
  },
  {
   "cell_type": "code",
   "execution_count": null,
   "metadata": {
    "id": "MQRzI7oLADZS"
   },
   "outputs": [],
   "source": [
    "## salt and pepper"
   ]
  },
  {
   "cell_type": "code",
   "execution_count": 39,
   "metadata": {
    "colab": {
     "base_uri": "https://localhost:8080/"
    },
    "id": "21_Foo3EAFdI",
    "outputId": "87529fd8-c96b-4a19-8576-c5728a57041e"
   },
   "outputs": [
    {
     "name": "stdout",
     "output_type": "stream",
     "text": [
      "Found 3718 images belonging to 143 classes.\n",
      "117/117 [==============================] - 792s 7s/step - loss: 8.1703 - accuracy: 0.0551\n",
      "Test_Accuracy: 5.51%\n"
     ]
    }
   ],
   "source": [
    "test_genrator_salt = test_datagen_nor.flow_from_directory( r'/content/drive/MyDrive/saltandpeppernoise',\n",
    "        target_size=(256,256),\n",
    "        batch_size=32,\n",
    "        class_mode='categorical')\n",
    "test_acc = model.evaluate(test_genrator_salt)\n",
    "print(\"Test_Accuracy: %.2f%%\" % (test_acc[1]*100))"
   ]
  },
  {
   "cell_type": "code",
   "execution_count": null,
   "metadata": {
    "id": "tF-jKYiKAIGm"
   },
   "outputs": [],
   "source": [
    "## corrupted-20%"
   ]
  },
  {
   "cell_type": "code",
   "execution_count": 38,
   "metadata": {
    "colab": {
     "base_uri": "https://localhost:8080/"
    },
    "id": "D9kCrqH6AOtm",
    "outputId": "a565b79c-0c3a-4695-d342-33282b2ac72d"
   },
   "outputs": [
    {
     "name": "stdout",
     "output_type": "stream",
     "text": [
      "Found 3718 images belonging to 143 classes.\n",
      "117/117 [==============================] - 1039s 9s/step - loss: 8.9017 - accuracy: 0.0793\n",
      "Test_Accuracy: 7.93%\n"
     ]
    }
   ],
   "source": [
    "test_corrupted2= test_datagen_nor.flow_from_directory( r'/content/drive/MyDrive/corrupted-2(50)',\n",
    "        batch_size=32,target_size=(256,256),\n",
    "        class_mode='categorical')\n",
    "test_acc = model.evaluate(test_corrupted2)\n",
    "print(\"Test_Accuracy: %.2f%%\" % (test_acc[1]*100))"
   ]
  },
  {
   "cell_type": "code",
   "execution_count": null,
   "metadata": {},
   "outputs": [],
   "source": [
    "## corrupted-25%"
   ]
  },
  {
   "cell_type": "code",
   "execution_count": null,
   "metadata": {},
   "outputs": [],
   "source": [
    "test_corrupted2= test_datagen_nor.flow_from_directory( r'/content/drive/MyDrive/corrupted-2(50)',\n",
    "        batch_size=32,target_size=(256,256),\n",
    "        class_mode='categorical')\n",
    "test_acc = model.evaluate(test_corrupted2)\n",
    "print(\"Test_Accuracy: %.2f%%\" % (test_acc[1]*100))"
   ]
  },
  {
   "cell_type": "code",
   "execution_count": null,
   "metadata": {
    "id": "9ouw6qp4AM10"
   },
   "outputs": [],
   "source": [
    "##corrupted-50%"
   ]
  },
  {
   "cell_type": "code",
   "execution_count": null,
   "metadata": {
    "colab": {
     "base_uri": "https://localhost:8080/"
    },
    "id": "icEN44V5B9CQ",
    "outputId": "0f4dc216-7293-408c-f648-7f2f8679dc6b"
   },
   "outputs": [
    {
     "name": "stdout",
     "output_type": "stream",
     "text": [
      "Found 1898 images belonging to 50 classes.\n",
      "60/60 [==============================] - 687s 12s/step - loss: 13.2731 - accuracy: 0.0400\n",
      "Test_Accuracy: 4.00%\n"
     ]
    }
   ],
   "source": [
    "test_genrator_corrupted = test_datagen_nor.flow_from_directory( r'/content/drive/MyDrive/corrupted-1(50)',target_size=(256,256),\n",
    "        batch_size=32,\n",
    "        class_mode='categorical')\n",
    "test_acc = model.evaluate(test_genrator_corrupted)\n",
    "print(\"Test_Accuracy: %.2f%%\" % (test_acc[1]*100))"
   ]
  },
  {
   "cell_type": "code",
   "execution_count": 8,
   "metadata": {
    "colab": {
     "base_uri": "https://localhost:8080/",
     "height": 295
    },
    "id": "VG10NbL0-pOF",
    "outputId": "c5d33869-c6b6-4539-941a-980f06b2146c"
   },
   "outputs": [
    {
     "data": {
      "image/png": "[encoded data removed]",
      "text/plain": [
       "<Figure size 432x288 with 1 Axes>"
      ]
     },
     "metadata": {
      "needs_background": "light",
      "tags": []
     },
     "output_type": "display_data"
    }
   ],
   "source": [
    "plt.plot(history.history['accuracy'])\n",
    "plt.plot(history.history['val_accuracy'])\n",
    "plt.title('Model Accuracy')\n",
    "plt.ylabel('Accuracy')\n",
    "plt.xlabel('Epochs')\n",
    "plt.legend(['train', 'validation'])\n",
    "plt.savefig('/content/drive/MyDrive/cnn-dataaugumentation/cnn-augu-143-accuracy.png')\n",
    "plt.show()"
   ]
  },
  {
   "cell_type": "code",
   "execution_count": 9,
   "metadata": {
    "colab": {
     "base_uri": "https://localhost:8080/",
     "height": 295
    },
    "id": "VdLCuHG2-0aW",
    "outputId": "711cd05b-1663-4434-bfd2-012fd2dcba41"
   },
   "outputs": [
    {
     "data": {
      "image/png": "[encoded data removed]",
      "text/plain": [
       "<Figure size 432x288 with 1 Axes>"
      ]
     },
     "metadata": {
      "needs_background": "light",
      "tags": []
     },
     "output_type": "display_data"
    }
   ],
   "source": [
    "plt.plot(history.history['loss'])\n",
    "plt.plot(history.history['val_loss'])\n",
    "plt.title('Model Loss')\n",
    "plt.ylabel('Loss')\n",
    "plt.xlabel('Epochs')\n",
    "plt.legend(['train', 'validation'])\n",
    "plt.savefig('/content/drive/MyDrive/cnn-dataaugumentation/cnn-augu-143-loss.png')\n",
    "plt.show()"
   ]
  }
 ],
 "metadata": {
  "accelerator": "GPU",
  "colab": {
   "collapsed_sections": [],
   "machine_shape": "hm",
   "name": "cnn-dataaug.ipynb",
   "provenance": []
  },
  "kernelspec": {
   "display_name": "Python 3",
   "language": "python",
   "name": "python3"
  },
  "language_info": {
   "codemirror_mode": {
    "name": "ipython",
    "version": 3
   },
   "file_extension": ".py",
   "mimetype": "text/x-python",
   "name": "python",
   "nbconvert_exporter": "python",
   "pygments_lexer": "ipython3",
   "version": "3.8.3"
  }
 },
 "nbformat": 4,
 "nbformat_minor": 1
}
