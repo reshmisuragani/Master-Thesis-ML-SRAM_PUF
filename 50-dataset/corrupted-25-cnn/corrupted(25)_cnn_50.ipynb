{
 "cells": [
  {
   "cell_type": "code",
   "execution_count": 1,
   "metadata": {
    "id": "2m91umBbW5Su"
   },
   "outputs": [],
   "source": [
    "import tensorflow as tf\n",
    "from tensorflow.keras import datasets, layers, models\n",
    "import matplotlib.pyplot as plt\n",
    "from keras.preprocessing.image import ImageDataGenerator\n",
    "import numpy as np"
   ]
  },
  {
   "cell_type": "code",
   "execution_count": null,
   "metadata": {
    "colab": {
     "base_uri": "https://localhost:8080/"
    },
    "id": "5Ke27dNFW864",
    "outputId": "e91468f0-8727-4e96-f851-9eea44a6e773"
   },
   "outputs": [],
   "source": [
    "train_datagen_nor = ImageDataGenerator(\n",
    "        rescale=1./255)\n",
    "\n",
    "test_datagen_nor = ImageDataGenerator(validation_split=0.5,\n",
    "       \n",
    "        rescale=1./255)\n",
    "\n",
    "train_data = train_datagen_nor.flow_from_directory(r'/content/drive/MyDrive/corrupted-2/train',target_size=(512,512), \n",
    "                                                       batch_size=32, class_mode='categorical')\n",
    "valid_data = test_datagen_nor.flow_from_directory(r'/content/drive/MyDrive/corrupted-2/test',target_size=(512,512), \n",
    "                                                       subset='validation',batch_size=32, class_mode='categorical')\n",
    "test_data = test_datagen_nor.flow_from_directory(r'/content/drive/MyDrive/corrupted-2/test',target_size=(512,512), \n",
    "                                                       subset='training',batch_size=32, class_mode='categorical')"
   ]
  },
  {
   "cell_type": "code",
   "execution_count": 5,
   "metadata": {
    "colab": {
     "base_uri": "https://localhost:8080/"
    },
    "id": "B-hBZpdeXLBy",
    "outputId": "94b7d5b4-fba8-4d90-c7b8-61203eafe8b9"
   },
   "outputs": [
    {
     "name": "stdout",
     "output_type": "stream",
     "text": [
      "Model: \"sequential\"\n",
      "_________________________________________________________________\n",
      "Layer (type)                 Output Shape              Param #   \n",
      "=================================================================\n",
      "conv2d (Conv2D)              (None, 512, 512, 8)       608       \n",
      "_________________________________________________________________\n",
      "batch_normalization (BatchNo (None, 512, 512, 8)       32        \n",
      "_________________________________________________________________\n",
      "conv2d_1 (Conv2D)            (None, 512, 512, 48)      9648      \n",
      "_________________________________________________________________\n",
      "batch_normalization_1 (Batch (None, 512, 512, 48)      192       \n",
      "_________________________________________________________________\n",
      "max_pooling2d (MaxPooling2D) (None, 256, 256, 48)      0         \n",
      "_________________________________________________________________\n",
      "conv2d_2 (Conv2D)            (None, 256, 256, 128)     55424     \n",
      "_________________________________________________________________\n",
      "batch_normalization_2 (Batch (None, 256, 256, 128)     512       \n",
      "_________________________________________________________________\n",
      "max_pooling2d_1 (MaxPooling2 (None, 128, 128, 128)     0         \n",
      "_________________________________________________________________\n",
      "conv2d_3 (Conv2D)            (None, 128, 128, 192)     221376    \n",
      "_________________________________________________________________\n",
      "batch_normalization_3 (Batch (None, 128, 128, 192)     768       \n",
      "_________________________________________________________________\n",
      "max_pooling2d_2 (MaxPooling2 (None, 64, 64, 192)       0         \n",
      "_________________________________________________________________\n",
      "conv2d_4 (Conv2D)            (None, 64, 64, 192)       331968    \n",
      "_________________________________________________________________\n",
      "max_pooling2d_3 (MaxPooling2 (None, 32, 32, 192)       0         \n",
      "_________________________________________________________________\n",
      "batch_normalization_4 (Batch (None, 32, 32, 192)       768       \n",
      "_________________________________________________________________\n",
      "dropout (Dropout)            (None, 32, 32, 192)       0         \n",
      "_________________________________________________________________\n",
      "flatten (Flatten)            (None, 196608)            0         \n",
      "_________________________________________________________________\n",
      "dense (Dense)                (None, 128)               25165952  \n",
      "_________________________________________________________________\n",
      "batch_normalization_5 (Batch (None, 128)               512       \n",
      "_________________________________________________________________\n",
      "dense_1 (Dense)              (None, 128)               16512     \n",
      "_________________________________________________________________\n",
      "dropout_1 (Dropout)          (None, 128)               0         \n",
      "_________________________________________________________________\n",
      "dense_2 (Dense)              (None, 50)                6450      \n",
      "=================================================================\n",
      "Total params: 25,810,722\n",
      "Trainable params: 25,809,330\n",
      "Non-trainable params: 1,392\n",
      "_________________________________________________________________\n"
     ]
    }
   ],
   "source": [
    "from keras.regularizers import l2\n",
    "from keras.layers import BatchNormalization\n",
    "from keras.layers import GaussianNoise\n",
    "model = tf.keras.Sequential()\n",
    "model.add(tf.keras.layers.Conv2D(filters = 8, kernel_size = (5,5), kernel_regularizer=l2(0.01), padding = 'Same', activation ='relu', input_shape = (512,512,3)))\n",
    "model.add(tf.keras.layers.BatchNormalization())\n",
    "model.add(tf.keras.layers.Conv2D(filters = 48, kernel_size = (5,5), kernel_regularizer=l2(0.01), padding = 'Same', activation ='relu'))\n",
    "model.add(tf.keras.layers.BatchNormalization())\n",
    "model.add(tf.keras.layers.MaxPool2D(pool_size=(2,2), strides = 2))\n",
    "model.add(tf.keras.layers.Conv2D(filters = 128, kernel_size = (3,3),kernel_regularizer=l2(0.01), padding = 'Same', activation ='relu'))\n",
    "model.add(tf.keras.layers.BatchNormalization())\n",
    "model.add(tf.keras.layers.MaxPool2D(pool_size=(2,2), strides= 2))\n",
    "model.add(tf.keras.layers.Conv2D(filters = 192, kernel_size = (3,3), kernel_regularizer=l2(0.01), padding = 'Same', activation ='relu'))\n",
    "model.add(tf.keras.layers.BatchNormalization())\n",
    "model.add(tf.keras.layers.MaxPool2D(pool_size=(2,2), strides= 2))\n",
    "model.add(tf.keras.layers.Conv2D(filters = 192, kernel_size = (3,3), kernel_regularizer=l2(0.01), padding = 'Same', activation ='relu'))\n",
    "\n",
    "model.add(tf.keras.layers.MaxPool2D(pool_size=(2,2), strides= 2))\n",
    "model.add(tf.keras.layers.BatchNormalization())\n",
    "model.add(tf.keras.layers.Dropout(0.5))\n",
    "model.add(tf.keras.layers.Flatten())\n",
    "\n",
    "model.add(tf.keras.layers.Dense(128, activation = \"relu\", kernel_regularizer=l2(0.01)))\n",
    "model.add(tf.keras.layers.BatchNormalization())\n",
    "model.add(tf.keras.layers.Dense(128, activation = \"relu\", kernel_regularizer=l2(0.01)))\n",
    "model.add(tf.keras.layers.Dropout(0.5))\n",
    "model.add(tf.keras.layers.Dense(50, activation = \"softmax\"))\n",
    "model.summary()"
   ]
  },
  {
   "cell_type": "code",
   "execution_count": null,
   "metadata": {
    "id": "m6_Gzxub_pEa"
   },
   "outputs": [],
   "source": [
    "import tensorflow.compat.v1 as tfs\n",
    "gpu_options = tfs.GPUOptions(allow_growth = True)\n",
    "session = tfs.InteractiveSession(config = tfs.ConfigProto(gpu_options = gpu_options))"
   ]
  },
  {
   "cell_type": "code",
   "execution_count": null,
   "metadata": {
    "id": "HHOQIf36XR4s"
   },
   "outputs": [],
   "source": [
    "from keras.callbacks import EarlyStopping\n",
    "from keras.callbacks import ModelCheckpoint\n",
    "from keras.callbacks import CSVLogger\n",
    "\n",
    "csv = CSVLogger(\"/content/drive/MyDrive/corrupted-2/corrupted-cnn-50-model_history_log(normal).csv\", append=True)\n",
    "es1= tf.keras.callbacks.EarlyStopping(monitor='val_accuracy',patience=3, restore_best_weights=True)\n",
    "mc = ModelCheckpoint('/content/drive/MyDrive/corrupted-2/corrupted-cnn-50-model.h5', monitor='val_accuracy', mode='max', verbose=1, save_best_only=True)"
   ]
  },
  {
   "cell_type": "code",
   "execution_count": 6,
   "metadata": {
    "id": "mXStELjDXetR"
   },
   "outputs": [],
   "source": [
    "adam = tf.keras.optimizers.Adam(learning_rate = 0.0001, decay = 0.9)\n",
    "model.compile(optimizer = adam, loss = \"categorical_crossentropy\", metrics = [\"accuracy\"])"
   ]
  },
  {
   "cell_type": "code",
   "execution_count": null,
   "metadata": {
    "colab": {
     "base_uri": "https://localhost:8080/"
    },
    "id": "JhoqBePtXg0b",
    "outputId": "ce60c31f-16df-4751-e402-6dca4850f97b"
   },
   "outputs": [
    {
     "name": "stdout",
     "output_type": "stream",
     "text": [
      "Epoch 1/300\n",
      "126/126 [==============================] - 1433s 11s/step - loss: 11.7700 - accuracy: 0.1180 - val_loss: 12.5780 - val_accuracy: 0.0400\n",
      "\n",
      "Epoch 00001: val_accuracy improved from -inf to 0.04000, saving model to /content/drive/MyDrive/corrupted-2/corrupted-cnn-50-model.h5\n",
      "Epoch 2/300\n",
      "126/126 [==============================] - 107s 849ms/step - loss: 11.0144 - accuracy: 0.2545 - val_loss: 12.2881 - val_accuracy: 0.0620\n",
      "\n",
      "Epoch 00002: val_accuracy improved from 0.04000 to 0.06200, saving model to /content/drive/MyDrive/corrupted-2/corrupted-cnn-50-model.h5\n",
      "Epoch 3/300\n",
      "126/126 [==============================] - 107s 844ms/step - loss: 10.8440 - accuracy: 0.3012 - val_loss: 11.2144 - val_accuracy: 0.2040\n",
      "\n",
      "Epoch 00003: val_accuracy improved from 0.06200 to 0.20400, saving model to /content/drive/MyDrive/corrupted-2/corrupted-cnn-50-model.h5\n",
      "Epoch 4/300\n",
      "126/126 [==============================] - 107s 845ms/step - loss: 10.7103 - accuracy: 0.3410 - val_loss: 10.5222 - val_accuracy: 0.8120\n",
      "\n",
      "Epoch 00004: val_accuracy improved from 0.20400 to 0.81200, saving model to /content/drive/MyDrive/corrupted-2/corrupted-cnn-50-model.h5\n",
      "Epoch 5/300\n",
      "126/126 [==============================] - 106s 839ms/step - loss: 10.6325 - accuracy: 0.3833 - val_loss: 10.1745 - val_accuracy: 0.9480\n",
      "\n",
      "Epoch 00005: val_accuracy improved from 0.81200 to 0.94800, saving model to /content/drive/MyDrive/corrupted-2/corrupted-cnn-50-model.h5\n",
      "Epoch 6/300\n",
      "126/126 [==============================] - 107s 847ms/step - loss: 10.6010 - accuracy: 0.3927 - val_loss: 10.0267 - val_accuracy: 0.9580\n",
      "\n",
      "Epoch 00006: val_accuracy improved from 0.94800 to 0.95800, saving model to /content/drive/MyDrive/corrupted-2/corrupted-cnn-50-model.h5\n",
      "Epoch 7/300\n",
      "126/126 [==============================] - 107s 847ms/step - loss: 10.5213 - accuracy: 0.4240 - val_loss: 9.9560 - val_accuracy: 0.9700\n",
      "\n",
      "Epoch 00007: val_accuracy improved from 0.95800 to 0.97000, saving model to /content/drive/MyDrive/corrupted-2/corrupted-cnn-50-model.h5\n",
      "Epoch 8/300\n",
      "126/126 [==============================] - 107s 846ms/step - loss: 10.5179 - accuracy: 0.4194 - val_loss: 9.9168 - val_accuracy: 0.9720\n",
      "\n",
      "Epoch 00008: val_accuracy improved from 0.97000 to 0.97200, saving model to /content/drive/MyDrive/corrupted-2/corrupted-cnn-50-model.h5\n",
      "Epoch 9/300\n",
      "126/126 [==============================] - 108s 851ms/step - loss: 10.4709 - accuracy: 0.4409 - val_loss: 9.8797 - val_accuracy: 0.9740\n",
      "\n",
      "Epoch 00009: val_accuracy improved from 0.97200 to 0.97400, saving model to /content/drive/MyDrive/corrupted-2/corrupted-cnn-50-model.h5\n",
      "Epoch 10/300\n",
      "126/126 [==============================] - 107s 847ms/step - loss: 10.4299 - accuracy: 0.4551 - val_loss: 9.8555 - val_accuracy: 0.9760\n",
      "\n",
      "Epoch 00010: val_accuracy improved from 0.97400 to 0.97600, saving model to /content/drive/MyDrive/corrupted-2/corrupted-cnn-50-model.h5\n",
      "Epoch 11/300\n",
      "126/126 [==============================] - 107s 847ms/step - loss: 10.4137 - accuracy: 0.4791 - val_loss: 9.8245 - val_accuracy: 0.9780\n",
      "\n",
      "Epoch 00011: val_accuracy improved from 0.97600 to 0.97800, saving model to /content/drive/MyDrive/corrupted-2/corrupted-cnn-50-model.h5\n",
      "Epoch 12/300\n",
      "126/126 [==============================] - 107s 848ms/step - loss: 10.3692 - accuracy: 0.4768 - val_loss: 9.8014 - val_accuracy: 0.9780\n",
      "\n",
      "Epoch 00012: val_accuracy did not improve from 0.97800\n",
      "Epoch 13/300\n",
      "126/126 [==============================] - 107s 846ms/step - loss: 10.3656 - accuracy: 0.4887 - val_loss: 9.7808 - val_accuracy: 0.9780\n",
      "\n",
      "Epoch 00013: val_accuracy did not improve from 0.97800\n",
      "Epoch 14/300\n",
      "126/126 [==============================] - 107s 845ms/step - loss: 10.3691 - accuracy: 0.4728 - val_loss: 9.7642 - val_accuracy: 0.9780\n",
      "\n",
      "Epoch 00014: val_accuracy did not improve from 0.97800\n"
     ]
    }
   ],
   "source": [
    "history = model.fit(train_data,epochs=300,shuffle=True,validation_data=valid_data,callbacks=[csv,es1,mc])"
   ]
  },
  {
   "cell_type": "code",
   "execution_count": null,
   "metadata": {
    "id": "tGPLjqy0gOIx"
   },
   "outputs": [],
   "source": [
    "model.save_weights('/content/drive/MyDrive/corrupted-2/corrupted(25)-cnn_dataset-50_weights.h5')"
   ]
  },
  {
   "cell_type": "code",
   "execution_count": 7,
   "metadata": {
    "id": "vRVzFf0beb6r"
   },
   "outputs": [],
   "source": [
    "model.load_weights(r'D:\\Uni-passau\\thesis-results\\50-dataset\\corrupted-25-cnn\\corrupted(25)-cnn_dataset-50_weights.h5')"
   ]
  },
  {
   "cell_type": "code",
   "execution_count": null,
   "metadata": {
    "colab": {
     "base_uri": "https://localhost:8080/",
     "height": 295
    },
    "id": "muuR9coOhTG0",
    "outputId": "b22d5de8-dcc0-4c73-ee8c-c8cf2e1ca631"
   },
   "outputs": [
    {
     "data": {
      "image/png": "[encoded data removed]",
      "text/plain": [
       "<Figure size 432x288 with 1 Axes>"
      ]
     },
     "metadata": {
      "needs_background": "light",
      "tags": []
     },
     "output_type": "display_data"
    }
   ],
   "source": [
    "plt.plot(history.history['loss'])\n",
    "plt.plot(history.history['val_loss'])\n",
    "plt.title('Model Loss')\n",
    "plt.ylabel('Loss')\n",
    "plt.xlabel('Epochs')\n",
    "plt.legend(['train', 'validation'])\n",
    "plt.savefig('/content/drive/MyDrive/corrupted-2/corrupted(25)-cnn_dataset-50-loss.png')\n",
    "plt.show()"
   ]
  },
  {
   "cell_type": "code",
   "execution_count": null,
   "metadata": {
    "colab": {
     "base_uri": "https://localhost:8080/",
     "height": 295
    },
    "id": "zK2R5Ye6hQye",
    "outputId": "9428d23d-5b3f-40c8-96c8-5d7d6f24da3d"
   },
   "outputs": [
    {
     "data": {
      "image/png": "[encoded data removed]",
      "text/plain": [
       "<Figure size 432x288 with 1 Axes>"
      ]
     },
     "metadata": {
      "needs_background": "light",
      "tags": []
     },
     "output_type": "display_data"
    }
   ],
   "source": [
    "plt.plot(history.history['accuracy'])\n",
    "plt.plot(history.history['val_accuracy'])\n",
    "plt.title('Model Accuracy')\n",
    "plt.ylabel('Accuracy')\n",
    "plt.xlabel('Epochs')\n",
    "plt.legend(['train', 'validation'])\n",
    "plt.savefig('/content/drive/MyDrive/corrupted-2/corrupted(25)-cnn_dataset-50-accuracy.png')\n",
    "plt.show()"
   ]
  },
  {
   "cell_type": "code",
   "execution_count": 8,
   "metadata": {
    "id": "AcyQ730HhQGo"
   },
   "outputs": [],
   "source": [
    "test_datagen_nor = ImageDataGenerator(rescale=1./255)\n",
    "\n",
    "test_datagen_aug =  ImageDataGenerator(width_shift_range=0.15,validation_split=0.5,\n",
    "        height_shift_range=0.15,\n",
    "        horizontal_flip=True,rotation_range=10,\n",
    "        rescale=1./255)"
   ]
  },
  {
   "cell_type": "code",
   "execution_count": null,
   "metadata": {
    "id": "meViiXBkhK3a"
   },
   "outputs": [],
   "source": [
    "## train and valid"
   ]
  },
  {
   "cell_type": "code",
   "execution_count": null,
   "metadata": {
    "colab": {
     "base_uri": "https://localhost:8080/"
    },
    "id": "AmmLEf1OCqSM",
    "outputId": "b8a31c88-48cb-46da-9bdb-7a1647c1806c"
   },
   "outputs": [
    {
     "name": "stdout",
     "output_type": "stream",
     "text": [
      "126/126 [==============================] - 56s 445ms/step - loss: 9.7619 - accuracy: 0.9778\n",
      "16/16 [==============================] - 7s 427ms/step - loss: 9.8245 - accuracy: 0.9780\n",
      "Train_Accuracy: 97.78%\n",
      "valid_Accuracy: 97.80%\n"
     ]
    }
   ],
   "source": [
    "train_acc=model.evaluate(train_data)\n",
    "val_acc = model.evaluate(valid_data)\n",
    "print(\"Train_Accuracy: %.2f%%\" % (train_acc[1]*100))\n",
    "print(\"valid_Accuracy: %.2f%%\" % (val_acc[1]*100))"
   ]
  },
  {
   "cell_type": "code",
   "execution_count": null,
   "metadata": {
    "colab": {
     "base_uri": "https://localhost:8080/"
    },
    "id": "5wqXfKWDjTUm",
    "outputId": "35c94763-e992-4953-b96e-9a2e64d687e4"
   },
   "outputs": [
    {
     "name": "stdout",
     "output_type": "stream",
     "text": [
      "18/18 [==============================] - 203s 12s/step - loss: 9.7659 - accuracy: 0.9818\n",
      "Train_Accuracy: 97.78%\n"
     ]
    }
   ],
   "source": [
    "test_acc=model.evaluate(test_data)\n",
    "print(\"Train_Accuracy: %.2f%%\" % (train_acc[1]*100))"
   ]
  },
  {
   "cell_type": "code",
   "execution_count": null,
   "metadata": {
    "id": "Ki_FxQ0BiDX0"
   },
   "outputs": [],
   "source": [
    "## corrupted-25 (test data)"
   ]
  },
  {
   "cell_type": "code",
   "execution_count": null,
   "metadata": {
    "colab": {
     "base_uri": "https://localhost:8080/"
    },
    "id": "_JDcTc04iF_p",
    "outputId": "82c6afa5-fe35-4152-9f73-2c586ca3dbbf"
   },
   "outputs": [
    {
     "name": "stdout",
     "output_type": "stream",
     "text": [
      "Found 1050 images belonging to 50 classes.\n",
      "33/33 [==============================] - 20s 596ms/step - loss: 9.7938 - accuracy: 0.9800\n",
      "Test_Accuracy: 98.00%\n"
     ]
    }
   ],
   "source": [
    "test_corrupted= test_datagen_nor.flow_from_directory( r'/content/drive/MyDrive/corrupted-2/test',\n",
    "        batch_size=32,target_size=(512,512),\n",
    "        class_mode='categorical')\n",
    "test_acc = model.evaluate(test_corrupted)\n",
    "print(\"Test_Accuracy: %.2f%%\" % (test_acc[1]*100))"
   ]
  },
  {
   "cell_type": "code",
   "execution_count": null,
   "metadata": {
    "id": "YMlaTJaanDSN"
   },
   "outputs": [],
   "source": [
    "## corrupted-25 (test data) augumentation"
   ]
  },
  {
   "cell_type": "code",
   "execution_count": 17,
   "metadata": {
    "colab": {
     "base_uri": "https://localhost:8080/"
    },
    "id": "QLILCiXDhow8",
    "outputId": "f52f48f0-9fe8-461d-f3b5-45c9ec5393e5"
   },
   "outputs": [
    {
     "name": "stdout",
     "output_type": "stream",
     "text": [
      "Found 1050 images belonging to 50 classes.\n",
      "33/33 [==============================] - 395s 12s/step - loss: 13.9836 - accuracy: 0.0171\n",
      "Test_Accuracy: 1.71%\n"
     ]
    }
   ],
   "source": [
    "test_corrupted_aug= test_datagen_aug.flow_from_directory( r'/content/drive/MyDrive/corrupted-2/test',\n",
    "                                                         batch_size=32,target_size=(512,512),class_mode='categorical')\n",
    "test_acc = model.evaluate(test_corrupted_aug)\n",
    "print(\"Test_Accuracy: %.2f%%\" % (test_acc[1]*100))"
   ]
  },
  {
   "cell_type": "code",
   "execution_count": null,
   "metadata": {
    "id": "kv0OH6uhhgp_"
   },
   "outputs": [],
   "source": [
    "## normal dataset"
   ]
  },
  {
   "cell_type": "code",
   "execution_count": null,
   "metadata": {
    "colab": {
     "base_uri": "https://localhost:8080/"
    },
    "id": "SCPbIFy3hiYs",
    "outputId": "36d1e007-4d45-46a3-a3e0-4e3acd20bc49"
   },
   "outputs": [
    {
     "name": "stdout",
     "output_type": "stream",
     "text": [
      "Found 1300 images belonging to 50 classes.\n",
      "41/41 [==============================] - 400s 10s/step - loss: 21.5748 - accuracy: 0.0523\n",
      "Test_Accuracy: 5.23%\n"
     ]
    }
   ],
   "source": [
    "test_genrator_nor = test_datagen_nor.flow_from_directory( r'/content/drive/MyDrive/dataset-50/nor-dataset-50/test',\n",
    "        target_size=(512,512),\n",
    "        batch_size=32,\n",
    "        class_mode='categorical')\n",
    "test_acc = model.evaluate(test_genrator_nor)\n",
    "print(\"Test_Accuracy: %.2f%%\" % (test_acc[1]*100))"
   ]
  },
  {
   "cell_type": "code",
   "execution_count": null,
   "metadata": {},
   "outputs": [],
   "source": [
    "## gausssin noise"
   ]
  },
  {
   "cell_type": "code",
   "execution_count": 6,
   "metadata": {},
   "outputs": [
    {
     "name": "stdout",
     "output_type": "stream",
     "text": [
      "Found 1300 images belonging to 50 classes.\n",
      "41/41 [==============================] - 269s 7s/step - loss: 20.0466 - accuracy: 0.0477\n",
      "Test_Accuracy: 4.77%\n"
     ]
    }
   ],
   "source": [
    "test_genrator_nor = test_datagen_nor.flow_from_directory( r'D:\\Uni-passau\\thesis-smalldataset\\gaussian-50\\test',\n",
    "        target_size=(512,512),\n",
    "        batch_size=32,\n",
    "        class_mode='categorical')\n",
    "test_acc = model.evaluate(test_genrator_nor)\n",
    "print(\"Test_Accuracy: %.2f%%\" % (test_acc[1]*100))"
   ]
  },
  {
   "cell_type": "code",
   "execution_count": null,
   "metadata": {
    "id": "XaUwfXhHhn9z"
   },
   "outputs": [],
   "source": [
    "## normal data with augumentation"
   ]
  },
  {
   "cell_type": "code",
   "execution_count": null,
   "metadata": {
    "colab": {
     "base_uri": "https://localhost:8080/"
    },
    "id": "FG4Y_Op7hrAn",
    "outputId": "f4a13414-8476-4223-e7e2-aa2ade1850bc"
   },
   "outputs": [
    {
     "name": "stdout",
     "output_type": "stream",
     "text": [
      "Found 1300 images belonging to 50 classes.\n",
      "41/41 [==============================] - 70s 2s/step - loss: 48.6333 - accuracy: 0.0177\n",
      "Test_Accuracy: 1.77%\n"
     ]
    }
   ],
   "source": [
    "test_genrator_aug = test_datagen_aug.flow_from_directory( r'/content/drive/MyDrive/dataset-50/nor-dataset-50/test',\n",
    "        target_size=(512,512),\n",
    "        batch_size=32,\n",
    "        class_mode='categorical')\n",
    "test_acc = model.evaluate(test_genrator_aug)\n",
    "print(\"Test_Accuracy: %.2f%%\" % (test_acc[1]*100))"
   ]
  },
  {
   "cell_type": "code",
   "execution_count": null,
   "metadata": {
    "id": "9Kw6vp40iA3m"
   },
   "outputs": [],
   "source": [
    "## corrupted-20"
   ]
  },
  {
   "cell_type": "code",
   "execution_count": 6,
   "metadata": {
    "colab": {
     "base_uri": "https://localhost:8080/"
    },
    "id": "JCZaYLQbezZ3",
    "outputId": "d4e2a62a-be74-4866-e6d0-595a04d74b91"
   },
   "outputs": [
    {
     "name": "stdout",
     "output_type": "stream",
     "text": [
      "Found 1300 images belonging to 50 classes.\n",
      "41/41 [==============================] - 444s 11s/step - loss: 9.9976 - accuracy: 0.9369\n",
      "Test_Accuracy: 93.69%\n"
     ]
    }
   ],
   "source": [
    "test_corrupted1= test_datagen_nor.flow_from_directory( r'/content/drive/MyDrive/dataset-50/corrupted-1/test',\n",
    "        batch_size=32,target_size=(512,512),\n",
    "        class_mode='categorical')\n",
    "test_acc = model.evaluate(test_corrupted1)\n",
    "print(\"Test_Accuracy: %.2f%%\" % (test_acc[1]*100))"
   ]
  },
  {
   "cell_type": "code",
   "execution_count": null,
   "metadata": {
    "id": "uEgk9_pemq_6"
   },
   "outputs": [],
   "source": [
    "## corrupted-20 augumenattopn"
   ]
  },
  {
   "cell_type": "code",
   "execution_count": 10,
   "metadata": {
    "colab": {
     "base_uri": "https://localhost:8080/"
    },
    "id": "MGxiUeoXfmVV",
    "outputId": "d47acbaf-1c87-4801-f4fa-c57d706956b1"
   },
   "outputs": [
    {
     "name": "stdout",
     "output_type": "stream",
     "text": [
      "Found 1300 images belonging to 50 classes.\n",
      "41/41 [==============================] - 70s 2s/step - loss: 18.4735 - accuracy: 0.0162\n",
      "Test_Accuracy: 1.62%\n"
     ]
    }
   ],
   "source": [
    "test_corrupted_aug= test_datagen_aug.flow_from_directory( r'/content/drive/MyDrive/dataset-50/corrupted-1/test',\n",
    "        batch_size=32,target_size=(512,512),\n",
    "        class_mode='categorical')\n",
    "test_acc = model.evaluate(test_corrupted_aug)\n",
    "print(\"Test_Accuracy: %.2f%%\" % (test_acc[1]*100))"
   ]
  },
  {
   "cell_type": "code",
   "execution_count": null,
   "metadata": {
    "id": "ba3bSw6Uju0L"
   },
   "outputs": [],
   "source": [
    "## corrupted-50"
   ]
  },
  {
   "cell_type": "code",
   "execution_count": 12,
   "metadata": {
    "colab": {
     "base_uri": "https://localhost:8080/"
    },
    "id": "C-_BwCVyhQC5",
    "outputId": "542160c5-c0b5-4c66-d007-930fa3a8573d"
   },
   "outputs": [
    {
     "name": "stdout",
     "output_type": "stream",
     "text": [
      "Found 1300 images belonging to 50 classes.\n",
      "41/41 [==============================] - 15s 364ms/step - loss: 10.8531 - accuracy: 0.3331\n",
      "Test_Accuracy: 33.31%\n"
     ]
    }
   ],
   "source": [
    "test_corrupted2= test_datagen_nor.flow_from_directory( r'/content/drive/MyDrive/dataset-50/corrupted-2/test',\n",
    "        batch_size=32,target_size=(512,512),\n",
    "        class_mode='categorical')\n",
    "test_acc = model.evaluate(test_corrupted2)\n",
    "print(\"Test_Accuracy: %.2f%%\" % (test_acc[1]*100))"
   ]
  },
  {
   "cell_type": "code",
   "execution_count": null,
   "metadata": {
    "id": "Cns0WKlImlUf"
   },
   "outputs": [],
   "source": [
    "## corrupted-50 augumenattion"
   ]
  },
  {
   "cell_type": "code",
   "execution_count": 11,
   "metadata": {
    "colab": {
     "base_uri": "https://localhost:8080/"
    },
    "id": "bhkiyzRbfysC",
    "outputId": "cf21d15e-263a-4d85-beb0-502d31102f49"
   },
   "outputs": [
    {
     "name": "stdout",
     "output_type": "stream",
     "text": [
      "Found 1300 images belonging to 50 classes.\n",
      "41/41 [==============================] - 484s 12s/step - loss: 12.6475 - accuracy: 0.0169\n",
      "Test_Accuracy: 1.69%\n"
     ]
    }
   ],
   "source": [
    "test_corrupted2_aug= test_datagen_aug.flow_from_directory( r'/content/drive/MyDrive/dataset-50/corrupted-2/test',\n",
    "        batch_size=32,target_size=(512,512),\n",
    "        class_mode='categorical')\n",
    "test_acc = model.evaluate(test_corrupted2_aug)\n",
    "print(\"Test_Accuracy: %.2f%%\" % (test_acc[1]*100))"
   ]
  },
  {
   "cell_type": "code",
   "execution_count": null,
   "metadata": {},
   "outputs": [],
   "source": [
    "## corrupted-10"
   ]
  },
  {
   "cell_type": "code",
   "execution_count": 9,
   "metadata": {},
   "outputs": [
    {
     "name": "stdout",
     "output_type": "stream",
     "text": [
      "Found 1300 images belonging to 50 classes.\n",
      "17/17 [==============================] - 244s 14s/step - loss: 11.5885 - accuracy: 0.3969\n",
      "Test_Accuracy: 39.69%\n"
     ]
    }
   ],
   "source": [
    "test_genrator_cor10 = test_datagen_nor.flow_from_directory( r'D:\\Uni-passau\\thesis-smalldataset\\corrupted-10',\n",
    "       batch_size=80,target_size=(512,512),\n",
    "        class_mode='categorical')\n",
    "test_acc = model.evaluate(test_genrator_cor10)\n",
    "print(\"Test_Accuracy: %.2f%%\" % (test_acc[1]*100))"
   ]
  },
  {
   "cell_type": "code",
   "execution_count": null,
   "metadata": {},
   "outputs": [],
   "source": [
    "## corrupted-30"
   ]
  },
  {
   "cell_type": "code",
   "execution_count": null,
   "metadata": {},
   "outputs": [
    {
     "name": "stdout",
     "output_type": "stream",
     "text": [
      "Found 1300 images belonging to 50 classes.\n",
      " 5/17 [=======>......................] - ETA: 2:44 - loss: 10.1213 - accuracy: 0.9100"
     ]
    }
   ],
   "source": [
    "test_genrator_cor30 = test_datagen_nor.flow_from_directory( r'D:\\Uni-passau\\thesis-smalldataset\\corrupted-30',\n",
    "        batch_size=80,target_size=(512,512),\n",
    "        class_mode='categorical')\n",
    "test_acc = model.evaluate(test_genrator_cor30)\n",
    "print(\"Test_Accuracy: %.2f%%\" % (test_acc[1]*100))"
   ]
  },
  {
   "cell_type": "code",
   "execution_count": null,
   "metadata": {},
   "outputs": [],
   "source": [
    "## corrupted-40"
   ]
  },
  {
   "cell_type": "code",
   "execution_count": 12,
   "metadata": {},
   "outputs": [
    {
     "name": "stdout",
     "output_type": "stream",
     "text": [
      "Found 1300 images belonging to 50 classes.\n",
      "17/17 [==============================] - 252s 15s/step - loss: 10.4609 - accuracy: 0.6446\n",
      "Test_Accuracy: 64.46%\n"
     ]
    }
   ],
   "source": [
    "test_genrator_cor40 = test_datagen_nor.flow_from_directory( r'D:\\Uni-passau\\thesis-smalldataset\\corrupted-40',\n",
    "        batch_size=80,target_size=(512,512),\n",
    "        class_mode='categorical')\n",
    "test_acc = model.evaluate(test_genrator_cor40)\n",
    "print(\"Test_Accuracy: %.2f%%\" % (test_acc[1]*100))"
   ]
  },
  {
   "cell_type": "code",
   "execution_count": null,
   "metadata": {},
   "outputs": [],
   "source": [
    "## corrupted-50"
   ]
  },
  {
   "cell_type": "code",
   "execution_count": 13,
   "metadata": {},
   "outputs": [
    {
     "name": "stdout",
     "output_type": "stream",
     "text": [
      "Found 1300 images belonging to 50 classes.\n",
      "17/17 [==============================] - 250s 15s/step - loss: 10.8531 - accuracy: 0.3331\n",
      "Test_Accuracy: 33.31%\n"
     ]
    }
   ],
   "source": [
    "test_genrator_cor50 = test_datagen_nor.flow_from_directory( r'D:\\Uni-passau\\thesis-smalldataset\\corrupted-50\\test',\n",
    "        batch_size=80,target_size=(512,512),\n",
    "        class_mode='categorical')\n",
    "test_acc = model.evaluate(test_genrator_cor50)\n",
    "print(\"Test_Accuracy: %.2f%%\" % (test_acc[1]*100))"
   ]
  },
  {
   "cell_type": "code",
   "execution_count": null,
   "metadata": {
    "id": "rJ6yRnx_iJVV"
   },
   "outputs": [],
   "source": [
    "## corrupted-60"
   ]
  },
  {
   "cell_type": "code",
   "execution_count": 15,
   "metadata": {
    "colab": {
     "base_uri": "https://localhost:8080/"
    },
    "id": "Y4hLbUydiLDP",
    "outputId": "7f253a61-2aeb-4201-92d1-c5cbb50f7390"
   },
   "outputs": [
    {
     "name": "stdout",
     "output_type": "stream",
     "text": [
      "Found 1300 images belonging to 50 classes.\n",
      "17/17 [==============================] - 256s 15s/step - loss: 29.2692 - accuracy: 0.0585\n",
      "Test_Accuracy: 5.85%\n"
     ]
    }
   ],
   "source": [
    "test_genrator_cor60 = test_datagen_nor.flow_from_directory( r'D:\\Uni-passau\\thesis-smalldataset\\corrupted-60',\n",
    "        batch_size=80,target_size=(512,512),\n",
    "        class_mode='categorical')\n",
    "test_acc = model.evaluate(test_genrator_cor60)\n",
    "print(\"Test_Accuracy: %.2f%%\" % (test_acc[1]*100))"
   ]
  },
  {
   "cell_type": "code",
   "execution_count": null,
   "metadata": {},
   "outputs": [],
   "source": []
  }
 ],
 "metadata": {
  "accelerator": "GPU",
  "colab": {
   "collapsed_sections": [],
   "name": "corrupted(25)-cnn-50.ipynb",
   "provenance": []
  },
  "kernelspec": {
   "display_name": "Python 3",
   "language": "python",
   "name": "python3"
  },
  "language_info": {
   "codemirror_mode": {
    "name": "ipython",
    "version": 3
   },
   "file_extension": ".py",
   "mimetype": "text/x-python",
   "name": "python",
   "nbconvert_exporter": "python",
   "pygments_lexer": "ipython3",
   "version": "3.8.3"
  }
 },
 "nbformat": 4,
 "nbformat_minor": 1
}
