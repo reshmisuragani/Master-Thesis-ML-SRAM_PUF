{
  "nbformat": 4,
  "nbformat_minor": 0,
  "metadata": {
    "accelerator": "GPU",
    "colab": {
      "name": "gaussiannoisecnn-50-augu.ipynb",
      "provenance": [],
      "collapsed_sections": [],
      "machine_shape": "hm"
    },
    "kernelspec": {
      "display_name": "Python 3",
      "name": "python3"
    },
    "language_info": {
      "name": "python"
    }
  },
  "cells": [
    {
      "cell_type": "code",
      "metadata": {
        "id": "nUJ_kytP8Q2X"
      },
      "source": [
        "import tensorflow as tf\n",
        "from tensorflow.keras import datasets, layers, models\n",
        "import matplotlib.pyplot as plt\n",
        "from keras.preprocessing.image import ImageDataGenerator\n",
        "import numpy as np\n",
        "from keras.regularizers import l2\n",
        "from keras.layers import BatchNormalization\n",
        "from keras.layers import GaussianNoise"
      ],
      "execution_count": null,
      "outputs": []
    },
    {
      "cell_type": "code",
      "metadata": {
        "colab": {
          "base_uri": "https://localhost:8080/"
        },
        "id": "L1krPswO85rX",
        "outputId": "d40aeb25-b363-4347-9c18-cf606b3fa518"
      },
      "source": [
        "\n",
        "\n",
        "train_datagen_aug =  ImageDataGenerator(width_shift_range=0.15,validation_split=0.15,\n",
        "        height_shift_range=0.15, shear_range=0.15,\n",
        "        rescale=1./255)\n",
        "\n",
        "test_datagen_aug =  ImageDataGenerator(width_shift_range=0.15,\n",
        "        height_shift_range=0.15,\n",
        "        horizontal_flip=True,\n",
        "        rescale=1./255)\n",
        "\n",
        "train_data = train_datagen_aug.flow_from_directory(\n",
        "       r'/content/drive/MyDrive/dataset-50/gaussian-50/train',\n",
        "        target_size=(512,512),\n",
        "        batch_size=50,subset ='training',\n",
        "        class_mode='categorical')\n",
        "valid_data = train_datagen_aug.flow_from_directory(\n",
        "       r'/content/drive/MyDrive/dataset-50/gaussian-50/train',\n",
        "        target_size=(512,512),\n",
        "        batch_size=50,subset='validation',\n",
        "        class_mode='categorical')\n"
      ],
      "execution_count": null,
      "outputs": [
        {
          "output_type": "stream",
          "text": [
            "Found 3200 images belonging to 50 classes.\n",
            "Found 550 images belonging to 50 classes.\n"
          ],
          "name": "stdout"
        }
      ]
    },
    {
      "cell_type": "code",
      "metadata": {
        "colab": {
          "base_uri": "https://localhost:8080/"
        },
        "id": "WMuf46rA8_Wq",
        "outputId": "3ba38af1-16df-48c0-dd44-76702e1508e2"
      },
      "source": [
        "from keras.regularizers import l2\n",
        "from keras.layers import BatchNormalization\n",
        "from keras.layers import GaussianNoise\n",
        "model = tf.keras.Sequential()\n",
        "model.add(tf.keras.layers.Conv2D(filters = 8, kernel_size = (11,11), kernel_regularizer=l2(0.0001), padding = 'Same', activation ='relu', input_shape = (512,512,3)))\n",
        "model.add(tf.keras.layers.Conv2D(filters = 48, kernel_size = (5,5), kernel_regularizer=l2(0.0001), padding = 'Same', activation ='relu'))\n",
        "model.add(tf.keras.layers.MaxPool2D(pool_size=(2,2), strides = 2))\n",
        "model.add(tf.keras.layers.Conv2D(filters = 128, kernel_size = (3,3),kernel_regularizer=l2(0.0001), padding = 'Same', activation ='relu'))\n",
        "model.add(tf.keras.layers.BatchNormalization())\n",
        "model.add(tf.keras.layers.MaxPool2D(pool_size=(2,2), strides= 2))\n",
        "model.add(tf.keras.layers.Conv2D(filters = 192, kernel_size = (3,3), kernel_regularizer=l2(0.0001), padding = 'Same', activation ='relu'))\n",
        "model.add(tf.keras.layers.BatchNormalization())\n",
        "model.add(tf.keras.layers.MaxPool2D(pool_size=(2,2), strides= 2))\n",
        "model.add(tf.keras.layers.Conv2D(filters = 192, kernel_size = (3,3), kernel_regularizer=l2(0.0001), padding = 'Same', activation ='relu'))\n",
        "model.add(tf.keras.layers.BatchNormalization())\n",
        "model.add(tf.keras.layers.MaxPool2D(pool_size=(2,2), strides= 2))\n",
        "\n",
        "model.add(tf.keras.layers.Flatten())\n",
        "model.add(tf.keras.layers.Dense(1024, activation = \"relu\", kernel_regularizer=l2(0.0001)))\n",
        "model.add(tf.keras.layers.BatchNormalization())\n",
        "model.add(tf.keras.layers.Dense(512, activation = \"relu\", kernel_regularizer=l2(0.0001)))\n",
        "model.add(tf.keras.layers.BatchNormalization())\n",
        "model.add(tf.keras.layers.Dense(256, activation = \"relu\", kernel_regularizer=l2(0.0001)))\n",
        "model.add(tf.keras.layers.Dropout(0.1))\n",
        "model.add(tf.keras.layers.Dense(50, activation = \"softmax\"))\n",
        "model.summary()"
      ],
      "execution_count": null,
      "outputs": [
        {
          "output_type": "stream",
          "text": [
            "Model: \"sequential\"\n",
            "_________________________________________________________________\n",
            "Layer (type)                 Output Shape              Param #   \n",
            "=================================================================\n",
            "conv2d (Conv2D)              (None, 512, 512, 8)       2912      \n",
            "_________________________________________________________________\n",
            "conv2d_1 (Conv2D)            (None, 512, 512, 48)      9648      \n",
            "_________________________________________________________________\n",
            "max_pooling2d (MaxPooling2D) (None, 256, 256, 48)      0         \n",
            "_________________________________________________________________\n",
            "conv2d_2 (Conv2D)            (None, 256, 256, 128)     55424     \n",
            "_________________________________________________________________\n",
            "batch_normalization (BatchNo (None, 256, 256, 128)     512       \n",
            "_________________________________________________________________\n",
            "max_pooling2d_1 (MaxPooling2 (None, 128, 128, 128)     0         \n",
            "_________________________________________________________________\n",
            "conv2d_3 (Conv2D)            (None, 128, 128, 192)     221376    \n",
            "_________________________________________________________________\n",
            "batch_normalization_1 (Batch (None, 128, 128, 192)     768       \n",
            "_________________________________________________________________\n",
            "max_pooling2d_2 (MaxPooling2 (None, 64, 64, 192)       0         \n",
            "_________________________________________________________________\n",
            "conv2d_4 (Conv2D)            (None, 64, 64, 192)       331968    \n",
            "_________________________________________________________________\n",
            "batch_normalization_2 (Batch (None, 64, 64, 192)       768       \n",
            "_________________________________________________________________\n",
            "max_pooling2d_3 (MaxPooling2 (None, 32, 32, 192)       0         \n",
            "_________________________________________________________________\n",
            "flatten (Flatten)            (None, 196608)            0         \n",
            "_________________________________________________________________\n",
            "dense (Dense)                (None, 1024)              201327616 \n",
            "_________________________________________________________________\n",
            "batch_normalization_3 (Batch (None, 1024)              4096      \n",
            "_________________________________________________________________\n",
            "dense_1 (Dense)              (None, 512)               524800    \n",
            "_________________________________________________________________\n",
            "batch_normalization_4 (Batch (None, 512)               2048      \n",
            "_________________________________________________________________\n",
            "dense_2 (Dense)              (None, 256)               131328    \n",
            "_________________________________________________________________\n",
            "dropout (Dropout)            (None, 256)               0         \n",
            "_________________________________________________________________\n",
            "dense_3 (Dense)              (None, 50)                12850     \n",
            "=================================================================\n",
            "Total params: 202,626,114\n",
            "Trainable params: 202,622,018\n",
            "Non-trainable params: 4,096\n",
            "_________________________________________________________________\n"
          ],
          "name": "stdout"
        }
      ]
    },
    {
      "cell_type": "code",
      "metadata": {
        "id": "XlI_4NUq9UcH"
      },
      "source": [
        "from keras.callbacks import EarlyStopping\n",
        "from keras.callbacks import ModelCheckpoint\n",
        "from keras.callbacks import CSVLogger\n",
        "\n",
        "csv_logger = CSVLogger(\"/content/drive/MyDrive/dataset-50/gaussian-50/gaussiannoise_50-augumentation_model_history_log.csv\", append=True)\n",
        "#es = EarlyStopping(monitor='val_loss', mode='min', verbose=1, patience=5)\n",
        "#weight =model.save_weights('/content/drive/MyDrive/dataset-50/gaussian-50/gaussian-cnn_augu_dataset-50_weights.h5')\n",
        "es1 = EarlyStopping( monitor='val_accuracy', patience=5, min_delta=0.001, mode='max')\n",
        "mc = ModelCheckpoint('/content/drive/MyDrive/dataset-50/gaussian-50/gaussainnoise_50-augumentation_cnnmodel.h5', monitor='val_accuracy', mode='max', verbose=1, save_best_only=True,save_weights_only=True)"
      ],
      "execution_count": null,
      "outputs": []
    },
    {
      "cell_type": "code",
      "metadata": {
        "id": "L4E8JTW-9hzy"
      },
      "source": [
        "import keras\n",
        "adam = keras.optimizers.Adam(learning_rate = 0.01, decay = 0.9)\n",
        "model.compile(optimizer = adam, loss = \"categorical_crossentropy\", metrics = [\"accuracy\"])"
      ],
      "execution_count": null,
      "outputs": []
    },
    {
      "cell_type": "code",
      "metadata": {
        "colab": {
          "base_uri": "https://localhost:8080/"
        },
        "id": "fpADwj6F9kZY",
        "outputId": "1216b8f9-8db2-47d9-ea51-9a521b125c96"
      },
      "source": [
        "history = model.fit(train_data, validation_data= valid_data,epochs = 300, callbacks = [csv_logger,es1,mc],shuffle =True )"
      ],
      "execution_count": 6,
      "outputs": [
        {
          "output_type": "stream",
          "text": [
            "Epoch 1/300\n",
            "64/64 [==============================] - 357s 5s/step - loss: 10.8878 - accuracy: 0.1256 - val_loss: 158.3680 - val_accuracy: 0.0218\n",
            "\n",
            "Epoch 00001: val_accuracy improved from -inf to 0.02182, saving model to /content/drive/MyDrive/dataset-50/gaussian-50/gaussainnoise_50-augumentation_cnnmodel.h5\n",
            "Epoch 2/300\n",
            "64/64 [==============================] - 351s 5s/step - loss: 10.5569 - accuracy: 0.2503 - val_loss: 87.5369 - val_accuracy: 0.0255\n",
            "\n",
            "Epoch 00002: val_accuracy improved from 0.02182 to 0.02545, saving model to /content/drive/MyDrive/dataset-50/gaussian-50/gaussainnoise_50-augumentation_cnnmodel.h5\n",
            "Epoch 3/300\n",
            "64/64 [==============================] - 347s 5s/step - loss: 10.1634 - accuracy: 0.3316 - val_loss: 53.1822 - val_accuracy: 0.0455\n",
            "\n",
            "Epoch 00003: val_accuracy improved from 0.02545 to 0.04545, saving model to /content/drive/MyDrive/dataset-50/gaussian-50/gaussainnoise_50-augumentation_cnnmodel.h5\n",
            "Epoch 4/300\n",
            "64/64 [==============================] - 339s 5s/step - loss: 9.9439 - accuracy: 0.3875 - val_loss: 24.1910 - val_accuracy: 0.0564\n",
            "\n",
            "Epoch 00004: val_accuracy improved from 0.04545 to 0.05636, saving model to /content/drive/MyDrive/dataset-50/gaussian-50/gaussainnoise_50-augumentation_cnnmodel.h5\n",
            "Epoch 5/300\n",
            "64/64 [==============================] - 338s 5s/step - loss: 9.6885 - accuracy: 0.4400 - val_loss: 10.8808 - val_accuracy: 0.1436\n",
            "\n",
            "Epoch 00005: val_accuracy improved from 0.05636 to 0.14364, saving model to /content/drive/MyDrive/dataset-50/gaussian-50/gaussainnoise_50-augumentation_cnnmodel.h5\n",
            "Epoch 6/300\n",
            "64/64 [==============================] - 339s 5s/step - loss: 9.5381 - accuracy: 0.4737 - val_loss: 9.8759 - val_accuracy: 0.3073\n",
            "\n",
            "Epoch 00006: val_accuracy improved from 0.14364 to 0.30727, saving model to /content/drive/MyDrive/dataset-50/gaussian-50/gaussainnoise_50-augumentation_cnnmodel.h5\n",
            "Epoch 7/300\n",
            "64/64 [==============================] - 341s 5s/step - loss: 9.2680 - accuracy: 0.5666 - val_loss: 9.5212 - val_accuracy: 0.4073\n",
            "\n",
            "Epoch 00007: val_accuracy improved from 0.30727 to 0.40727, saving model to /content/drive/MyDrive/dataset-50/gaussian-50/gaussainnoise_50-augumentation_cnnmodel.h5\n",
            "Epoch 8/300\n",
            "64/64 [==============================] - 345s 5s/step - loss: 9.1350 - accuracy: 0.5953 - val_loss: 9.3031 - val_accuracy: 0.5127\n",
            "\n",
            "Epoch 00008: val_accuracy improved from 0.40727 to 0.51273, saving model to /content/drive/MyDrive/dataset-50/gaussian-50/gaussainnoise_50-augumentation_cnnmodel.h5\n",
            "Epoch 9/300\n",
            "64/64 [==============================] - 344s 5s/step - loss: 9.0464 - accuracy: 0.6078 - val_loss: 9.9152 - val_accuracy: 0.2673\n",
            "\n",
            "Epoch 00009: val_accuracy did not improve from 0.51273\n",
            "Epoch 10/300\n",
            "64/64 [==============================] - 331s 5s/step - loss: 8.8950 - accuracy: 0.6572 - val_loss: 11.7827 - val_accuracy: 0.1145\n",
            "\n",
            "Epoch 00010: val_accuracy did not improve from 0.51273\n",
            "Epoch 11/300\n",
            "64/64 [==============================] - 329s 5s/step - loss: 8.7993 - accuracy: 0.6712 - val_loss: 8.7119 - val_accuracy: 0.7309\n",
            "\n",
            "Epoch 00011: val_accuracy improved from 0.51273 to 0.73091, saving model to /content/drive/MyDrive/dataset-50/gaussian-50/gaussainnoise_50-augumentation_cnnmodel.h5\n",
            "Epoch 12/300\n",
            "64/64 [==============================] - 340s 5s/step - loss: 8.7346 - accuracy: 0.6722 - val_loss: 11.3377 - val_accuracy: 0.1691\n",
            "\n",
            "Epoch 00012: val_accuracy did not improve from 0.73091\n",
            "Epoch 13/300\n",
            "64/64 [==============================] - 329s 5s/step - loss: 8.6228 - accuracy: 0.7109 - val_loss: 9.2366 - val_accuracy: 0.4255\n",
            "\n",
            "Epoch 00013: val_accuracy did not improve from 0.73091\n",
            "Epoch 14/300\n",
            "64/64 [==============================] - 327s 5s/step - loss: 8.5525 - accuracy: 0.7147 - val_loss: 8.8242 - val_accuracy: 0.5764\n",
            "\n",
            "Epoch 00014: val_accuracy did not improve from 0.73091\n",
            "Epoch 15/300\n",
            "64/64 [==============================] - 328s 5s/step - loss: 8.4743 - accuracy: 0.7328 - val_loss: 8.9033 - val_accuracy: 0.5091\n",
            "\n",
            "Epoch 00015: val_accuracy did not improve from 0.73091\n",
            "Epoch 16/300\n",
            "64/64 [==============================] - 331s 5s/step - loss: 8.3424 - accuracy: 0.7722 - val_loss: 8.3332 - val_accuracy: 0.7873\n",
            "\n",
            "Epoch 00016: val_accuracy improved from 0.73091 to 0.78727, saving model to /content/drive/MyDrive/dataset-50/gaussian-50/gaussainnoise_50-augumentation_cnnmodel.h5\n",
            "Epoch 17/300\n",
            "64/64 [==============================] - 334s 5s/step - loss: 8.3092 - accuracy: 0.7738 - val_loss: 9.6419 - val_accuracy: 0.3273\n",
            "\n",
            "Epoch 00017: val_accuracy did not improve from 0.78727\n",
            "Epoch 18/300\n",
            "64/64 [==============================] - 331s 5s/step - loss: 8.2917 - accuracy: 0.7675 - val_loss: 8.5125 - val_accuracy: 0.6364\n",
            "\n",
            "Epoch 00018: val_accuracy did not improve from 0.78727\n",
            "Epoch 19/300\n",
            "64/64 [==============================] - 329s 5s/step - loss: 8.1695 - accuracy: 0.7969 - val_loss: 8.4332 - val_accuracy: 0.6691\n",
            "\n",
            "Epoch 00019: val_accuracy did not improve from 0.78727\n",
            "Epoch 20/300\n",
            "64/64 [==============================] - 327s 5s/step - loss: 8.1821 - accuracy: 0.7775 - val_loss: 8.1561 - val_accuracy: 0.7927\n",
            "\n",
            "Epoch 00020: val_accuracy improved from 0.78727 to 0.79273, saving model to /content/drive/MyDrive/dataset-50/gaussian-50/gaussainnoise_50-augumentation_cnnmodel.h5\n",
            "Epoch 21/300\n",
            "64/64 [==============================] - 333s 5s/step - loss: 8.1357 - accuracy: 0.7966 - val_loss: 9.8782 - val_accuracy: 0.2709\n",
            "\n",
            "Epoch 00021: val_accuracy did not improve from 0.79273\n",
            "Epoch 22/300\n",
            "64/64 [==============================] - 332s 5s/step - loss: 8.0169 - accuracy: 0.8244 - val_loss: 8.0968 - val_accuracy: 0.7945\n",
            "\n",
            "Epoch 00022: val_accuracy improved from 0.79273 to 0.79455, saving model to /content/drive/MyDrive/dataset-50/gaussian-50/gaussainnoise_50-augumentation_cnnmodel.h5\n",
            "Epoch 23/300\n",
            "64/64 [==============================] - 339s 5s/step - loss: 8.0021 - accuracy: 0.8206 - val_loss: 7.9386 - val_accuracy: 0.8545\n",
            "\n",
            "Epoch 00023: val_accuracy improved from 0.79455 to 0.85455, saving model to /content/drive/MyDrive/dataset-50/gaussian-50/gaussainnoise_50-augumentation_cnnmodel.h5\n",
            "Epoch 24/300\n",
            "64/64 [==============================] - 355s 6s/step - loss: 7.9774 - accuracy: 0.8097 - val_loss: 7.8716 - val_accuracy: 0.8655\n",
            "\n",
            "Epoch 00024: val_accuracy improved from 0.85455 to 0.86545, saving model to /content/drive/MyDrive/dataset-50/gaussian-50/gaussainnoise_50-augumentation_cnnmodel.h5\n",
            "Epoch 25/300\n",
            "64/64 [==============================] - 357s 6s/step - loss: 7.8909 - accuracy: 0.8403 - val_loss: 8.5069 - val_accuracy: 0.5473\n",
            "\n",
            "Epoch 00025: val_accuracy did not improve from 0.86545\n",
            "Epoch 26/300\n",
            "64/64 [==============================] - 345s 5s/step - loss: 7.8603 - accuracy: 0.8391 - val_loss: 7.8326 - val_accuracy: 0.8418\n",
            "\n",
            "Epoch 00026: val_accuracy did not improve from 0.86545\n",
            "Epoch 27/300\n",
            "64/64 [==============================] - 339s 5s/step - loss: 7.8104 - accuracy: 0.8500 - val_loss: 8.2708 - val_accuracy: 0.6327\n",
            "\n",
            "Epoch 00027: val_accuracy did not improve from 0.86545\n",
            "Epoch 28/300\n",
            "64/64 [==============================] - 338s 5s/step - loss: 7.7550 - accuracy: 0.8675 - val_loss: 7.6926 - val_accuracy: 0.8855\n",
            "\n",
            "Epoch 00028: val_accuracy improved from 0.86545 to 0.88545, saving model to /content/drive/MyDrive/dataset-50/gaussian-50/gaussainnoise_50-augumentation_cnnmodel.h5\n",
            "Epoch 29/300\n",
            "64/64 [==============================] - 350s 5s/step - loss: 7.7257 - accuracy: 0.8581 - val_loss: 7.7363 - val_accuracy: 0.8545\n",
            "\n",
            "Epoch 00029: val_accuracy did not improve from 0.88545\n",
            "Epoch 30/300\n",
            "64/64 [==============================] - 338s 5s/step - loss: 7.6704 - accuracy: 0.8775 - val_loss: 7.8994 - val_accuracy: 0.7582\n",
            "\n",
            "Epoch 00030: val_accuracy did not improve from 0.88545\n",
            "Epoch 31/300\n",
            "64/64 [==============================] - 330s 5s/step - loss: 7.6649 - accuracy: 0.8722 - val_loss: 7.6309 - val_accuracy: 0.8836\n",
            "\n",
            "Epoch 00031: val_accuracy did not improve from 0.88545\n",
            "Epoch 32/300\n",
            "64/64 [==============================] - 330s 5s/step - loss: 7.6270 - accuracy: 0.8737 - val_loss: 7.5784 - val_accuracy: 0.8782\n",
            "\n",
            "Epoch 00032: val_accuracy did not improve from 0.88545\n",
            "Epoch 33/300\n",
            "64/64 [==============================] - 325s 5s/step - loss: 7.5915 - accuracy: 0.8744 - val_loss: 7.8870 - val_accuracy: 0.7327\n",
            "\n",
            "Epoch 00033: val_accuracy did not improve from 0.88545\n"
          ],
          "name": "stdout"
        }
      ]
    },
    {
      "cell_type": "code",
      "metadata": {
        "id": "jk_LKHu8PVcj",
        "colab": {
          "base_uri": "https://localhost:8080/"
        },
        "outputId": "b3bb5910-6bf1-45c8-aef4-c1e7e73f52f1"
      },
      "source": [
        "history = model.fit(train_data, validation_data= valid_data,epochs = 300, callbacks = [csv_logger,es1,mc],shuffle =True )"
      ],
      "execution_count": 14,
      "outputs": [
        {
          "output_type": "stream",
          "text": [
            "Epoch 1/300\n",
            "64/64 [==============================] - 345s 5s/step - loss: 7.5820 - accuracy: 0.8666 - val_loss: 7.5023 - val_accuracy: 0.8873\n",
            "\n",
            "Epoch 00001: val_accuracy improved from 0.88545 to 0.88727, saving model to /content/drive/MyDrive/dataset-50/gaussian-50/gaussainnoise_50-augumentation_cnnmodel.h5\n",
            "Epoch 2/300\n",
            "64/64 [==============================] - 336s 5s/step - loss: 7.5436 - accuracy: 0.8737 - val_loss: 7.4823 - val_accuracy: 0.9055\n",
            "\n",
            "Epoch 00002: val_accuracy improved from 0.88727 to 0.90545, saving model to /content/drive/MyDrive/dataset-50/gaussian-50/gaussainnoise_50-augumentation_cnnmodel.h5\n",
            "Epoch 3/300\n",
            "64/64 [==============================] - 335s 5s/step - loss: 7.5067 - accuracy: 0.8797 - val_loss: 7.4305 - val_accuracy: 0.9018\n",
            "\n",
            "Epoch 00003: val_accuracy did not improve from 0.90545\n",
            "Epoch 4/300\n",
            "64/64 [==============================] - 336s 5s/step - loss: 7.5057 - accuracy: 0.8709 - val_loss: 7.3759 - val_accuracy: 0.9218\n",
            "\n",
            "Epoch 00004: val_accuracy improved from 0.90545 to 0.92182, saving model to /content/drive/MyDrive/dataset-50/gaussian-50/gaussainnoise_50-augumentation_cnnmodel.h5\n",
            "Epoch 5/300\n",
            "64/64 [==============================] - 333s 5s/step - loss: 7.4305 - accuracy: 0.8850 - val_loss: 7.5231 - val_accuracy: 0.8636\n",
            "\n",
            "Epoch 00005: val_accuracy did not improve from 0.92182\n",
            "Epoch 6/300\n",
            "64/64 [==============================] - 326s 5s/step - loss: 7.3913 - accuracy: 0.8959 - val_loss: 7.3764 - val_accuracy: 0.9000\n",
            "\n",
            "Epoch 00006: val_accuracy did not improve from 0.92182\n",
            "Epoch 7/300\n",
            "64/64 [==============================] - 324s 5s/step - loss: 7.3866 - accuracy: 0.8897 - val_loss: 7.4523 - val_accuracy: 0.8564\n",
            "\n",
            "Epoch 00007: val_accuracy did not improve from 0.92182\n",
            "Epoch 8/300\n",
            "64/64 [==============================] - 323s 5s/step - loss: 7.3424 - accuracy: 0.8916 - val_loss: 7.2666 - val_accuracy: 0.9291\n",
            "\n",
            "Epoch 00008: val_accuracy improved from 0.92182 to 0.92909, saving model to /content/drive/MyDrive/dataset-50/gaussian-50/gaussainnoise_50-augumentation_cnnmodel.h5\n",
            "Epoch 9/300\n",
            "64/64 [==============================] - 337s 5s/step - loss: 7.2975 - accuracy: 0.9028 - val_loss: 7.3108 - val_accuracy: 0.9000\n",
            "\n",
            "Epoch 00009: val_accuracy did not improve from 0.92909\n",
            "Epoch 10/300\n",
            "64/64 [==============================] - 336s 5s/step - loss: 7.2919 - accuracy: 0.9016 - val_loss: 7.2333 - val_accuracy: 0.9255\n",
            "\n",
            "Epoch 00010: val_accuracy did not improve from 0.92909\n",
            "Epoch 11/300\n",
            "64/64 [==============================] - 330s 5s/step - loss: 7.2679 - accuracy: 0.9006 - val_loss: 7.4395 - val_accuracy: 0.8345\n",
            "\n",
            "Epoch 00011: val_accuracy did not improve from 0.92909\n",
            "Epoch 12/300\n",
            "64/64 [==============================] - 322s 5s/step - loss: 7.2410 - accuracy: 0.9022 - val_loss: 7.1763 - val_accuracy: 0.9236\n",
            "\n",
            "Epoch 00012: val_accuracy did not improve from 0.92909\n",
            "Epoch 13/300\n",
            "64/64 [==============================] - 321s 5s/step - loss: 7.2056 - accuracy: 0.9047 - val_loss: 7.1319 - val_accuracy: 0.9327\n",
            "\n",
            "Epoch 00013: val_accuracy improved from 0.92909 to 0.93273, saving model to /content/drive/MyDrive/dataset-50/gaussian-50/gaussainnoise_50-augumentation_cnnmodel.h5\n",
            "Epoch 14/300\n",
            "64/64 [==============================] - 324s 5s/step - loss: 7.1477 - accuracy: 0.9175 - val_loss: 7.1293 - val_accuracy: 0.9273\n",
            "\n",
            "Epoch 00014: val_accuracy did not improve from 0.93273\n",
            "Epoch 15/300\n",
            "64/64 [==============================] - 324s 5s/step - loss: 7.1435 - accuracy: 0.9150 - val_loss: 7.1004 - val_accuracy: 0.9327\n",
            "\n",
            "Epoch 00015: val_accuracy did not improve from 0.93273\n",
            "Epoch 16/300\n",
            "64/64 [==============================] - 320s 5s/step - loss: 7.1063 - accuracy: 0.9219 - val_loss: 7.2424 - val_accuracy: 0.8618\n",
            "\n",
            "Epoch 00016: val_accuracy did not improve from 0.93273\n",
            "Epoch 17/300\n",
            "64/64 [==============================] - 323s 5s/step - loss: 7.1088 - accuracy: 0.9106 - val_loss: 7.1000 - val_accuracy: 0.9091\n",
            "\n",
            "Epoch 00017: val_accuracy did not improve from 0.93273\n",
            "Epoch 18/300\n",
            "64/64 [==============================] - 327s 5s/step - loss: 7.0661 - accuracy: 0.9169 - val_loss: 7.0838 - val_accuracy: 0.9055\n",
            "\n",
            "Epoch 00018: val_accuracy did not improve from 0.93273\n"
          ],
          "name": "stdout"
        }
      ]
    },
    {
      "cell_type": "code",
      "metadata": {
        "id": "FtSWnhyER7l2"
      },
      "source": [
        "model.save_weights('/content/drive/MyDrive/dataset-50/gaussian-50/gaussian-cnn_augu_dataset-50_weights.h5')"
      ],
      "execution_count": 22,
      "outputs": []
    },
    {
      "cell_type": "code",
      "metadata": {
        "id": "BzNVofxEUjr6"
      },
      "source": [
        "\n",
        "test_datagen_nor = ImageDataGenerator(rescale=1./255)\n",
        "\n",
        "test_datagen_aug =  ImageDataGenerator(width_shift_range=0.15,\n",
        "        height_shift_range=0.15, shear_range=0.15,\n",
        "        rescale=1./255)"
      ],
      "execution_count": 10,
      "outputs": []
    },
    {
      "cell_type": "code",
      "metadata": {
        "id": "Ty8nRrynd6mF"
      },
      "source": [
        "## train and validation"
      ],
      "execution_count": null,
      "outputs": []
    },
    {
      "cell_type": "code",
      "metadata": {
        "colab": {
          "base_uri": "https://localhost:8080/"
        },
        "id": "W5_-x32QJ5wX",
        "outputId": "5ea99d52-0369-4973-86bd-d2e9f1882556"
      },
      "source": [
        "train_acc=model.evaluate(train_data)\n",
        "val_acc = model.evaluate(valid_data)\n",
        "print(\"Train_Accuracy: %.2f%%\" % (train_acc[1]*100))\n",
        "print(\"valid_Accuracy: %.2f%%\" % (val_acc[1]*100))"
      ],
      "execution_count": 15,
      "outputs": [
        {
          "output_type": "stream",
          "text": [
            "64/64 [==============================] - 286s 4s/step - loss: 6.9315 - accuracy: 0.9550\n",
            "11/11 [==============================] - 50s 4s/step - loss: 7.0577 - accuracy: 0.9382\n",
            "Train_Accuracy: 95.50%\n",
            "valid_Accuracy: 93.82%\n"
          ],
          "name": "stdout"
        }
      ]
    },
    {
      "cell_type": "code",
      "metadata": {
        "id": "ARhoUMqtd_-F"
      },
      "source": [
        "## normal datset"
      ],
      "execution_count": null,
      "outputs": []
    },
    {
      "cell_type": "code",
      "metadata": {
        "colab": {
          "base_uri": "https://localhost:8080/"
        },
        "id": "Ji9rCDdu953u",
        "outputId": "854f855e-d50f-40b3-bd2a-ee358e263dde"
      },
      "source": [
        "test_genrator_nor = test_datagen_nor.flow_from_directory( r'/content/drive/MyDrive/dataset-50/nor-dataset-50/test',\n",
        "        target_size=(512,512),\n",
        "        batch_size=50,\n",
        "        class_mode='categorical')\n",
        "test_acc = model.evaluate(test_genrator_nor)\n",
        "print(\"Test_Accuracy: %.2f%%\" % (test_acc[1]*100))"
      ],
      "execution_count": 17,
      "outputs": [
        {
          "output_type": "stream",
          "text": [
            "Found 1300 images belonging to 50 classes.\n",
            "26/26 [==============================] - 82s 3s/step - loss: 7.2827 - accuracy: 0.8369\n",
            "Test_Accuracy: 83.69%\n"
          ],
          "name": "stdout"
        }
      ]
    },
    {
      "cell_type": "code",
      "metadata": {
        "id": "bqRTulJoeDtB"
      },
      "source": [
        "##normal dataset augumentation"
      ],
      "execution_count": null,
      "outputs": []
    },
    {
      "cell_type": "code",
      "metadata": {
        "colab": {
          "base_uri": "https://localhost:8080/"
        },
        "id": "LyZgx9ddJBNZ",
        "outputId": "0fa75c57-1233-4500-c49e-828d1bf7725e"
      },
      "source": [
        "test_genrator_gau_augmen = test_datagen_aug.flow_from_directory( r'/content/drive/MyDrive/dataset-50/nor-dataset-50/test',\n",
        "        target_size=(720,720),\n",
        "        batch_size=50,\n",
        "        class_mode='categorical')\n",
        "test_acc = model.evaluate(test_genrator_gau_augmen)\n",
        "print(\"Test_Accuracy: %.2f%%\" % (test_acc[1]*100))"
      ],
      "execution_count": null,
      "outputs": [
        {
          "output_type": "stream",
          "text": [
            "Found 1300 images belonging to 50 classes.\n",
            "41/41 [==============================] - 67s 2s/step - loss: 2.3518 - accuracy: 0.9238\n",
            "Test_Accuracy: 92.38%\n"
          ],
          "name": "stdout"
        }
      ]
    },
    {
      "cell_type": "code",
      "metadata": {
        "id": "BY6YYbWDeF5D"
      },
      "source": [
        "## gaussian noise"
      ],
      "execution_count": null,
      "outputs": []
    },
    {
      "cell_type": "code",
      "metadata": {
        "colab": {
          "base_uri": "https://localhost:8080/"
        },
        "id": "85D_qKvoMmWp",
        "outputId": "404b17af-f1c5-441e-cfdc-529925d0c5d5"
      },
      "source": [
        "test_genrator_gau_nor = test_datagen_nor.flow_from_directory( r'/content/drive/MyDrive/dataset-50/gaussian-50/test',\n",
        "        target_size=(512,512),\n",
        "        batch_size=64,\n",
        "        class_mode='categorical')\n",
        "test_acc = model.evaluate(test_genrator_gau_nor)\n",
        "print(\"Test_Accuracy: %.2f%%\" % (test_acc[1]*100))"
      ],
      "execution_count": 18,
      "outputs": [
        {
          "output_type": "stream",
          "text": [
            "Found 1300 images belonging to 50 classes.\n",
            "21/21 [==============================] - 67s 3s/step - loss: 7.1155 - accuracy: 0.9446\n",
            "Test_Accuracy: 94.46%\n"
          ],
          "name": "stdout"
        }
      ]
    },
    {
      "cell_type": "code",
      "metadata": {
        "id": "7NvTKilfeHfm"
      },
      "source": [
        "## gaussian noise augumentation"
      ],
      "execution_count": null,
      "outputs": []
    },
    {
      "cell_type": "code",
      "metadata": {
        "colab": {
          "base_uri": "https://localhost:8080/"
        },
        "id": "eDX4PrQyKDAA",
        "outputId": "67daf3fe-8373-47fc-a60e-b5c710e81a27"
      },
      "source": [
        "test_genrator_gau_augmen = test_datagen_aug.flow_from_directory( r'/content/drive/MyDrive/dataset-50/gaussian-50/test',\n",
        "        target_size=(512,512),\n",
        "        batch_size=64,\n",
        "        class_mode='categorical')\n",
        "test_acc = model.evaluate(test_genrator_gau_augmen)\n",
        "print(\"Test_Accuracy: %.2f%%\" % (test_acc[1]*100))"
      ],
      "execution_count": 19,
      "outputs": [
        {
          "output_type": "stream",
          "text": [
            "Found 1300 images belonging to 50 classes.\n",
            "21/21 [==============================] - 123s 6s/step - loss: 6.9726 - accuracy: 0.9438\n",
            "Test_Accuracy: 94.38%\n"
          ],
          "name": "stdout"
        }
      ]
    },
    {
      "cell_type": "code",
      "metadata": {
        "id": "2_NF6bDUeXmZ"
      },
      "source": [
        "## salt and pepper noise"
      ],
      "execution_count": null,
      "outputs": []
    },
    {
      "cell_type": "code",
      "metadata": {
        "colab": {
          "base_uri": "https://localhost:8080/"
        },
        "id": "rra4nawluksx",
        "outputId": "fe13bb27-3290-4a77-8473-ecea2b8c6720"
      },
      "source": [
        "test_genrator_salt = test_datagen_nor.flow_from_directory( r'/content/drive/MyDrive/dataset-50/saltandpepper',\n",
        "        target_size=(512,512),\n",
        "        batch_size=80,\n",
        "        class_mode='categorical')\n",
        "test_acc = model.evaluate(test_genrator_salt)\n",
        "print(\"Test_Accuracy: %.2f%%\" % (test_acc[1]*100))"
      ],
      "execution_count": 20,
      "outputs": [
        {
          "output_type": "stream",
          "text": [
            "Found 1300 images belonging to 50 classes.\n",
            "17/17 [==============================] - 817s 51s/step - loss: 8.0232 - accuracy: 0.5769\n",
            "Test_Accuracy: 57.69%\n"
          ],
          "name": "stdout"
        }
      ]
    },
    {
      "cell_type": "code",
      "metadata": {
        "id": "j8_qroAZeKo9"
      },
      "source": [
        "## corrupted -20%"
      ],
      "execution_count": null,
      "outputs": []
    },
    {
      "cell_type": "code",
      "metadata": {
        "colab": {
          "base_uri": "https://localhost:8080/"
        },
        "id": "I4EltQfGu3jp",
        "outputId": "f2ce88d8-6ad6-4bfc-b010-040a0b71815c"
      },
      "source": [
        "test_corrupted1= test_datagen_nor.flow_from_directory( r'/content/drive/MyDrive/dataset-50/corrupted-1/test',\n",
        "        batch_size=32,target_size=(512,512),\n",
        "        class_mode='categorical')\n",
        "test_acc = model.evaluate(test_corrupted1)\n",
        "print(\"Test_Accuracy: %.2f%%\" % (test_acc[1]*100))"
      ],
      "execution_count": 21,
      "outputs": [
        {
          "output_type": "stream",
          "text": [
            "Found 1300 images belonging to 50 classes.\n",
            "41/41 [==============================] - 455s 11s/step - loss: 37.0688 - accuracy: 0.0938\n",
            "Test_Accuracy: 9.38%\n"
          ],
          "name": "stdout"
        }
      ]
    },
    {
      "cell_type": "code",
      "metadata": {
        "id": "yLTmsdvKve9l"
      },
      "source": [
        "## corrupted-25%"
      ],
      "execution_count": null,
      "outputs": []
    },
    {
      "cell_type": "code",
      "metadata": {
        "colab": {
          "base_uri": "https://localhost:8080/"
        },
        "id": "wtfX7bRLu42D",
        "outputId": "01dc6c3b-ede7-4c14-ff1e-d998672bc7a7"
      },
      "source": [
        "test_corrupted2= test_datagen_nor.flow_from_directory( r'/content/drive/MyDrive/dataset-corrupted/corrupted-25/test',\n",
        "        batch_size=80,target_size=(512,512),\n",
        "        class_mode='categorical')\n",
        "test_acc = model.evaluate(test_corrupted2)\n",
        "print(\"Test_Accuracy: %.2f%%\" % (test_acc[1]*100))"
      ],
      "execution_count": 23,
      "outputs": [
        {
          "output_type": "stream",
          "text": [
            "Found 1050 images belonging to 50 classes.\n",
            "14/14 [==============================] - 351s 27s/step - loss: 33.7823 - accuracy: 0.0829\n",
            "Test_Accuracy: 8.29%\n"
          ],
          "name": "stdout"
        }
      ]
    },
    {
      "cell_type": "code",
      "metadata": {
        "id": "dH5KipB2v1S3"
      },
      "source": [
        "## corrupted - 50%"
      ],
      "execution_count": null,
      "outputs": []
    },
    {
      "cell_type": "code",
      "metadata": {
        "colab": {
          "base_uri": "https://localhost:8080/"
        },
        "id": "p4taUxDTvCNf",
        "outputId": "d99fb6ca-6861-4c81-a628-eb401eb1689f"
      },
      "source": [
        "test_corrupted2= test_datagen_nor.flow_from_directory( r'/content/drive/MyDrive/dataset-50/corrupted-2/test',\n",
        "        batch_size=80,target_size=(512,512),\n",
        "        class_mode='categorical')\n",
        "test_acc = model.evaluate(test_corrupted2)\n",
        "print(\"Test_Accuracy: %.2f%%\" % (test_acc[1]*100))"
      ],
      "execution_count": 24,
      "outputs": [
        {
          "output_type": "stream",
          "text": [
            "Found 1300 images belonging to 50 classes.\n",
            "17/17 [==============================] - 431s 27s/step - loss: 461.0183 - accuracy: 0.0200\n",
            "Test_Accuracy: 2.00%\n"
          ],
          "name": "stdout"
        }
      ]
    },
    {
      "cell_type": "code",
      "metadata": {
        "colab": {
          "base_uri": "https://localhost:8080/",
          "height": 295
        },
        "id": "f3KLR6uvSgPF",
        "outputId": "9856b7e4-873d-4d49-dc23-622fdb2dd175"
      },
      "source": [
        "plt.plot(history.history['loss'])\n",
        "plt.plot(history.history['val_loss'])\n",
        "plt.title('Model Loss')\n",
        "plt.ylabel('Loss')\n",
        "plt.xlabel('Epochs')\n",
        "plt.legend(['train', 'validation'])\n",
        "plt.savefig('/content/drive/MyDrive/dataset-50/gaussian-50/cnn-gaussain-augu-50-loss.png')\n",
        "plt.show()"
      ],
      "execution_count": null,
      "outputs": [
        {
          "output_type": "display_data",
          "data": {
            "image/png": "[encoded data removed]",
            "text/plain": [
              "<Figure size 432x288 with 1 Axes>"
            ]
          },
          "metadata": {
            "tags": []
          }
        }
      ]
    },
    {
      "cell_type": "code",
      "metadata": {
        "colab": {
          "base_uri": "https://localhost:8080/",
          "height": 295
        },
        "id": "ntEP98jRib1n",
        "outputId": "bb747a2a-f60b-432e-92d8-1e0b1127bf91"
      },
      "source": [
        "plt.plot(history.history['accuracy'])\n",
        "plt.plot(history.history['val_accuracy'])\n",
        "plt.title('Model Accuracy')\n",
        "plt.ylabel('Accuracy')\n",
        "plt.xlabel('Epochs')\n",
        "plt.legend(['train', 'validation'])\n",
        "plt.savefig('/content/drive/MyDrive/dataset-50/gaussian-50/cnn-gaussian-augu-50-accuracy.png')\n",
        "plt.show()"
      ],
      "execution_count": null,
      "outputs": [
        {
          "output_type": "display_data",
          "data": {
            "image/png": "[encoded data removed]",
            "text/plain": [
              "<Figure size 432x288 with 1 Axes>"
            ]
          },
          "metadata": {
            "tags": []
          }
        }
      ]
    }
  ]
}