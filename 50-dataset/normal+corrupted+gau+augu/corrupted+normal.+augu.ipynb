{
 "cells": [
  {
   "cell_type": "code",
   "execution_count": 1,
   "metadata": {
    "id": "nQaw0bjkMViU"
   },
   "outputs": [],
   "source": [
    "from keras.models import Sequential\n",
    "from keras.layers import Conv2D\n",
    "from keras.layers import MaxPooling2D\n",
    "from keras.layers import Flatten\n",
    "from keras.layers import Dense\n",
    "from keras.preprocessing.image import ImageDataGenerator\n",
    "from keras.layers import Dense, Dropout, Activation, Flatten, Conv2D, MaxPool2D\n",
    "import keras\n",
    "import keras.backend as k\n",
    "from keras.models import Sequential\n",
    "from sklearn.preprocessing import LabelBinarizer\n",
    "import tensorflow as tf      \n",
    "import logging\n",
    "logging.getLogger('tensorflow').setLevel(logging.ERROR)\n",
    "k.clear_session()\n",
    "from keras.regularizers import l2\n",
    "from keras.layers import BatchNormalization"
   ]
  },
  {
   "cell_type": "code",
   "execution_count": 2,
   "metadata": {
    "colab": {
     "base_uri": "https://localhost:8080/"
    },
    "id": "FTc_SsLoMiSO",
    "outputId": "935e7fe6-ae8b-48fa-c5ed-0b5b440cb647"
   },
   "outputs": [
    {
     "name": "stdout",
     "output_type": "stream",
     "text": [
      "Found 9804 images belonging to 50 classes.\n",
      "Found 1700 images belonging to 50 classes.\n",
      "Found 3650 images belonging to 50 classes.\n"
     ]
    }
   ],
   "source": [
    "\n",
    "\n",
    "\n",
    "train_datagen =ImageDataGenerator(width_shift_range=0.15,\n",
    "        height_shift_range=0.15, shear_range=0.15,\n",
    "       \n",
    "        validation_split=0.15,\n",
    "        rescale=1./255)\n",
    "test_datagen =ImageDataGenerator(width_shift_range=0.15,\n",
    "        height_shift_range=0.15, shear_range=0.15,\n",
    "  \n",
    "        validation_split=0.15,\n",
    "        rescale=1./255)\n",
    "train_data = train_datagen.flow_from_directory(\n",
    "       r'/content/drive/MyDrive/dataset-corrupted/n+c+g/train',\n",
    "        target_size=(256,256),\n",
    "        batch_size=210,subset ='training',\n",
    "        class_mode='categorical')\n",
    "valid_data = train_datagen.flow_from_directory(\n",
    "       r'/content/drive/MyDrive/dataset-corrupted/n+c+g/train',\n",
    "        target_size=(256,256),\n",
    "        batch_size=128,subset ='validation',\n",
    "        class_mode='categorical')\n",
    "test_data = test_datagen.flow_from_directory(\n",
    "       r'/content/drive/MyDrive/dataset-corrupted/n+c+g/test',\n",
    "        target_size=(256,256),\n",
    "        batch_size=128,\n",
    "        class_mode='categorical')"
   ]
  },
  {
   "cell_type": "code",
   "execution_count": 3,
   "metadata": {
    "id": "j7fLUyptMZ-V"
   },
   "outputs": [],
   "source": [
    "def combine_gen(*gens):\n",
    "    while True:\n",
    "        for g in gens:\n",
    "            yield next(g)\n"
   ]
  },
  {
   "cell_type": "code",
   "execution_count": 2,
   "metadata": {
    "colab": {
     "base_uri": "https://localhost:8080/"
    },
    "id": "dV3xd7D-NSFu",
    "outputId": "1a540c44-a278-4169-c13d-691b6c05f132"
   },
   "outputs": [
    {
     "name": "stdout",
     "output_type": "stream",
     "text": [
      "Model: \"sequential\"\n",
      "_________________________________________________________________\n",
      "Layer (type)                 Output Shape              Param #   \n",
      "=================================================================\n",
      "conv2d (Conv2D)              (None, 256, 256, 8)       2912      \n",
      "_________________________________________________________________\n",
      "conv2d_1 (Conv2D)            (None, 256, 256, 48)      9648      \n",
      "_________________________________________________________________\n",
      "max_pooling2d (MaxPooling2D) (None, 128, 128, 48)      0         \n",
      "_________________________________________________________________\n",
      "conv2d_2 (Conv2D)            (None, 128, 128, 128)     55424     \n",
      "_________________________________________________________________\n",
      "batch_normalization (BatchNo (None, 128, 128, 128)     512       \n",
      "_________________________________________________________________\n",
      "max_pooling2d_1 (MaxPooling2 (None, 64, 64, 128)       0         \n",
      "_________________________________________________________________\n",
      "conv2d_3 (Conv2D)            (None, 64, 64, 192)       221376    \n",
      "_________________________________________________________________\n",
      "batch_normalization_1 (Batch (None, 64, 64, 192)       768       \n",
      "_________________________________________________________________\n",
      "max_pooling2d_2 (MaxPooling2 (None, 32, 32, 192)       0         \n",
      "_________________________________________________________________\n",
      "conv2d_4 (Conv2D)            (None, 32, 32, 192)       331968    \n",
      "_________________________________________________________________\n",
      "batch_normalization_2 (Batch (None, 32, 32, 192)       768       \n",
      "_________________________________________________________________\n",
      "max_pooling2d_3 (MaxPooling2 (None, 16, 16, 192)       0         \n",
      "_________________________________________________________________\n",
      "flatten (Flatten)            (None, 49152)             0         \n",
      "_________________________________________________________________\n",
      "dense (Dense)                (None, 512)               25166336  \n",
      "_________________________________________________________________\n",
      "batch_normalization_3 (Batch (None, 512)               2048      \n",
      "_________________________________________________________________\n",
      "dense_1 (Dense)              (None, 256)               131328    \n",
      "_________________________________________________________________\n",
      "dropout (Dropout)            (None, 256)               0         \n",
      "_________________________________________________________________\n",
      "dense_2 (Dense)              (None, 50)                12850     \n",
      "=================================================================\n",
      "Total params: 25,935,938\n",
      "Trainable params: 25,933,890\n",
      "Non-trainable params: 2,048\n",
      "_________________________________________________________________\n"
     ]
    }
   ],
   "source": [
    "model = tf.keras.Sequential()\n",
    "model.add(tf.keras.layers.Conv2D(filters = 8, kernel_size = (11,11), kernel_regularizer=l2(0.001), padding = 'Same', activation ='relu', input_shape = (256,256,3)))\n",
    "model.add(tf.keras.layers.Conv2D(filters = 48, kernel_size = (5,5), kernel_regularizer=l2(0.001), padding = 'Same', activation ='relu'))\n",
    "model.add(tf.keras.layers.MaxPool2D(pool_size=(2,2), strides = 2))\n",
    "model.add(tf.keras.layers.Conv2D(filters = 128, kernel_size = (3,3),kernel_regularizer=l2(0.001), padding = 'Same', activation ='relu'))\n",
    "model.add(tf.keras.layers.BatchNormalization())\n",
    "model.add(tf.keras.layers.MaxPool2D(pool_size=(2,2), strides= 2))\n",
    "model.add(tf.keras.layers.Conv2D(filters = 192, kernel_size = (3,3), kernel_regularizer=l2(0.001), padding = 'Same', activation ='relu'))\n",
    "model.add(tf.keras.layers.BatchNormalization())\n",
    "model.add(tf.keras.layers.MaxPool2D(pool_size=(2,2), strides= 2))\n",
    "model.add(tf.keras.layers.Conv2D(filters = 192, kernel_size = (3,3), kernel_regularizer=l2(0.001), padding = 'Same', activation ='relu'))\n",
    "model.add(tf.keras.layers.BatchNormalization())\n",
    "model.add(tf.keras.layers.MaxPool2D(pool_size=(2,2), strides= 2))\n",
    "\n",
    "model.add(tf.keras.layers.Flatten())\n",
    "\n",
    "model.add(tf.keras.layers.Dense(512, activation = \"relu\", kernel_regularizer=l2(0.001)))\n",
    "model.add(tf.keras.layers.BatchNormalization())\n",
    "model.add(tf.keras.layers.Dense(256, activation = \"relu\", kernel_regularizer=l2(0.001)))\n",
    "model.add(tf.keras.layers.Dropout(0.1))\n",
    "model.add(tf.keras.layers.Dense(50, activation = \"softmax\"))\n",
    "model.summary()\n"
   ]
  },
  {
   "cell_type": "code",
   "execution_count": 5,
   "metadata": {
    "id": "GWzI27sgNlyY"
   },
   "outputs": [],
   "source": [
    "from keras.callbacks import EarlyStopping\n",
    "from keras.callbacks import ModelCheckpoint\n",
    "from keras.callbacks import CSVLogger\n",
    "\n",
    "csv = CSVLogger(\"/content/drive/MyDrive/normal+corrupted/augumentated-corrupte+normal-cnn-50-model_history_log(normal).csv\", append=True)\n",
    "es1= tf.keras.callbacks.EarlyStopping(monitor='val_accuracy',patience=5, restore_best_weights=True)\n",
    "mc = ModelCheckpoint('/content/drive/MyDrive/normal+corrupted/augumentated-corrupte+normal-cnn-50-model.h5', monitor='val_accuracy', mode='max', verbose=1, save_best_only=True)"
   ]
  },
  {
   "cell_type": "code",
   "execution_count": 3,
   "metadata": {
    "id": "NgUBERWJN4gx"
   },
   "outputs": [],
   "source": [
    "adam = keras.optimizers.Adam(learning_rate = 0.01, decay = 0.9)\n",
    "model.compile(optimizer = adam, loss = \"categorical_crossentropy\", metrics = [\"accuracy\"])"
   ]
  },
  {
   "cell_type": "code",
   "execution_count": 7,
   "metadata": {
    "colab": {
     "base_uri": "https://localhost:8080/",
     "height": 1000
    },
    "id": "eQAqrQadN7u5",
    "outputId": "878cb421-c27d-4e4f-f08e-70f7237483e2"
   },
   "outputs": [
    {
     "name": "stdout",
     "output_type": "stream",
     "text": [
      "Epoch 1/300\n",
      "47/47 [==============================] - 3964s 84s/step - loss: 12.3141 - accuracy: 0.2403 - val_loss: 134.6772 - val_accuracy: 0.0235\n",
      "\n",
      "Epoch 00001: val_accuracy improved from -inf to 0.02353, saving model to /content/drive/MyDrive/normal+corrupted/augumentated-corrupte+normal-cnn-50-model.h5\n",
      "Epoch 2/300\n",
      "47/47 [==============================] - 442s 9s/step - loss: 10.6097 - accuracy: 0.5882 - val_loss: 42.7417 - val_accuracy: 0.0359\n",
      "\n",
      "Epoch 00002: val_accuracy improved from 0.02353 to 0.03588, saving model to /content/drive/MyDrive/normal+corrupted/augumentated-corrupte+normal-cnn-50-model.h5\n",
      "Epoch 3/300\n",
      "47/47 [==============================] - 432s 9s/step - loss: 9.4039 - accuracy: 0.7398 - val_loss: 20.9974 - val_accuracy: 0.0241\n",
      "\n",
      "Epoch 00003: val_accuracy did not improve from 0.03588\n",
      "Epoch 4/300\n",
      "47/47 [==============================] - 423s 9s/step - loss: 8.6149 - accuracy: 0.8324 - val_loss: 12.2233 - val_accuracy: 0.0482\n",
      "\n",
      "Epoch 00004: val_accuracy improved from 0.03588 to 0.04824, saving model to /content/drive/MyDrive/normal+corrupted/augumentated-corrupte+normal-cnn-50-model.h5\n",
      "Epoch 5/300\n",
      "47/47 [==============================] - 428s 9s/step - loss: 8.0678 - accuracy: 0.8719 - val_loss: 11.0583 - val_accuracy: 0.0935\n",
      "\n",
      "Epoch 00005: val_accuracy improved from 0.04824 to 0.09353, saving model to /content/drive/MyDrive/normal+corrupted/augumentated-corrupte+normal-cnn-50-model.h5\n",
      "Epoch 6/300\n",
      "47/47 [==============================] - 432s 9s/step - loss: 7.6442 - accuracy: 0.8947 - val_loss: 10.1952 - val_accuracy: 0.1912\n",
      "\n",
      "Epoch 00006: val_accuracy improved from 0.09353 to 0.19118, saving model to /content/drive/MyDrive/normal+corrupted/augumentated-corrupte+normal-cnn-50-model.h5\n",
      "Epoch 7/300\n",
      "47/47 [==============================] - 426s 9s/step - loss: 7.3121 - accuracy: 0.9119 - val_loss: 9.5924 - val_accuracy: 0.2418\n",
      "\n",
      "Epoch 00007: val_accuracy improved from 0.19118 to 0.24176, saving model to /content/drive/MyDrive/normal+corrupted/augumentated-corrupte+normal-cnn-50-model.h5\n",
      "Epoch 8/300\n",
      "47/47 [==============================] - 418s 9s/step - loss: 7.0160 - accuracy: 0.9332 - val_loss: 7.8544 - val_accuracy: 0.5782\n",
      "\n",
      "Epoch 00008: val_accuracy improved from 0.24176 to 0.57824, saving model to /content/drive/MyDrive/normal+corrupted/augumentated-corrupte+normal-cnn-50-model.h5\n",
      "Epoch 9/300\n",
      "47/47 [==============================] - 419s 9s/step - loss: 6.7792 - accuracy: 0.9395 - val_loss: 7.0693 - val_accuracy: 0.8494\n",
      "\n",
      "Epoch 00009: val_accuracy improved from 0.57824 to 0.84941, saving model to /content/drive/MyDrive/normal+corrupted/augumentated-corrupte+normal-cnn-50-model.h5\n",
      "Epoch 10/300\n",
      "47/47 [==============================] - 421s 9s/step - loss: 6.5763 - accuracy: 0.9456 - val_loss: 6.6604 - val_accuracy: 0.9259\n",
      "\n",
      "Epoch 00010: val_accuracy improved from 0.84941 to 0.92588, saving model to /content/drive/MyDrive/normal+corrupted/augumentated-corrupte+normal-cnn-50-model.h5\n",
      "Epoch 11/300\n",
      "47/47 [==============================] - 415s 9s/step - loss: 6.3959 - accuracy: 0.9491 - val_loss: 6.5574 - val_accuracy: 0.9053\n",
      "\n",
      "Epoch 00011: val_accuracy did not improve from 0.92588\n",
      "Epoch 12/300\n",
      "47/47 [==============================] - 415s 9s/step - loss: 6.2285 - accuracy: 0.9514 - val_loss: 6.3311 - val_accuracy: 0.9312\n",
      "\n",
      "Epoch 00012: val_accuracy improved from 0.92588 to 0.93118, saving model to /content/drive/MyDrive/normal+corrupted/augumentated-corrupte+normal-cnn-50-model.h5\n",
      "Epoch 13/300\n"
     ]
    },
    {
     "ename": "KeyboardInterrupt",
     "evalue": "ignored",
     "output_type": "error",
     "traceback": [
      "\u001b[0;31m---------------------------------------------------------------------------\u001b[0m",
      "\u001b[0;31mKeyboardInterrupt\u001b[0m                         Traceback (most recent call last)",
      "\u001b[0;32m<ipython-input-7-16979f36e3dd>\u001b[0m in \u001b[0;36m<module>\u001b[0;34m()\u001b[0m\n\u001b[0;32m----> 1\u001b[0;31m \u001b[0mhistory\u001b[0m \u001b[0;34m=\u001b[0m\u001b[0mmodel\u001b[0m\u001b[0;34m.\u001b[0m\u001b[0mfit\u001b[0m\u001b[0;34m(\u001b[0m\u001b[0mtrain_data\u001b[0m\u001b[0;34m,\u001b[0m \u001b[0mvalidation_data\u001b[0m\u001b[0;34m=\u001b[0m \u001b[0mvalid_data\u001b[0m\u001b[0;34m,\u001b[0m\u001b[0mepochs\u001b[0m \u001b[0;34m=\u001b[0m \u001b[0;36m300\u001b[0m\u001b[0;34m,\u001b[0m\u001b[0mcallbacks\u001b[0m \u001b[0;34m=\u001b[0m \u001b[0;34m[\u001b[0m\u001b[0mmc\u001b[0m\u001b[0;34m,\u001b[0m\u001b[0mcsv\u001b[0m\u001b[0;34m,\u001b[0m\u001b[0mes1\u001b[0m\u001b[0;34m]\u001b[0m\u001b[0;34m,\u001b[0m\u001b[0mshuffle\u001b[0m \u001b[0;34m=\u001b[0m\u001b[0;32mTrue\u001b[0m \u001b[0;34m)\u001b[0m\u001b[0;34m\u001b[0m\u001b[0;34m\u001b[0m\u001b[0m\n\u001b[0m",
      "\u001b[0;32m/usr/local/lib/python3.7/dist-packages/tensorflow/python/keras/engine/training.py\u001b[0m in \u001b[0;36mfit\u001b[0;34m(self, x, y, batch_size, epochs, verbose, callbacks, validation_split, validation_data, shuffle, class_weight, sample_weight, initial_epoch, steps_per_epoch, validation_steps, validation_batch_size, validation_freq, max_queue_size, workers, use_multiprocessing)\u001b[0m\n\u001b[1;32m   1181\u001b[0m                 _r=1):\n\u001b[1;32m   1182\u001b[0m               \u001b[0mcallbacks\u001b[0m\u001b[0;34m.\u001b[0m\u001b[0mon_train_batch_begin\u001b[0m\u001b[0;34m(\u001b[0m\u001b[0mstep\u001b[0m\u001b[0;34m)\u001b[0m\u001b[0;34m\u001b[0m\u001b[0;34m\u001b[0m\u001b[0m\n\u001b[0;32m-> 1183\u001b[0;31m               \u001b[0mtmp_logs\u001b[0m \u001b[0;34m=\u001b[0m \u001b[0mself\u001b[0m\u001b[0;34m.\u001b[0m\u001b[0mtrain_function\u001b[0m\u001b[0;34m(\u001b[0m\u001b[0miterator\u001b[0m\u001b[0;34m)\u001b[0m\u001b[0;34m\u001b[0m\u001b[0;34m\u001b[0m\u001b[0m\n\u001b[0m\u001b[1;32m   1184\u001b[0m               \u001b[0;32mif\u001b[0m \u001b[0mdata_handler\u001b[0m\u001b[0;34m.\u001b[0m\u001b[0mshould_sync\u001b[0m\u001b[0;34m:\u001b[0m\u001b[0;34m\u001b[0m\u001b[0;34m\u001b[0m\u001b[0m\n\u001b[1;32m   1185\u001b[0m                 \u001b[0mcontext\u001b[0m\u001b[0;34m.\u001b[0m\u001b[0masync_wait\u001b[0m\u001b[0;34m(\u001b[0m\u001b[0;34m)\u001b[0m\u001b[0;34m\u001b[0m\u001b[0;34m\u001b[0m\u001b[0m\n",
      "\u001b[0;32m/usr/local/lib/python3.7/dist-packages/tensorflow/python/eager/def_function.py\u001b[0m in \u001b[0;36m__call__\u001b[0;34m(self, *args, **kwds)\u001b[0m\n\u001b[1;32m    887\u001b[0m \u001b[0;34m\u001b[0m\u001b[0m\n\u001b[1;32m    888\u001b[0m       \u001b[0;32mwith\u001b[0m \u001b[0mOptionalXlaContext\u001b[0m\u001b[0;34m(\u001b[0m\u001b[0mself\u001b[0m\u001b[0;34m.\u001b[0m\u001b[0m_jit_compile\u001b[0m\u001b[0;34m)\u001b[0m\u001b[0;34m:\u001b[0m\u001b[0;34m\u001b[0m\u001b[0;34m\u001b[0m\u001b[0m\n\u001b[0;32m--> 889\u001b[0;31m         \u001b[0mresult\u001b[0m \u001b[0;34m=\u001b[0m \u001b[0mself\u001b[0m\u001b[0;34m.\u001b[0m\u001b[0m_call\u001b[0m\u001b[0;34m(\u001b[0m\u001b[0;34m*\u001b[0m\u001b[0margs\u001b[0m\u001b[0;34m,\u001b[0m \u001b[0;34m**\u001b[0m\u001b[0mkwds\u001b[0m\u001b[0;34m)\u001b[0m\u001b[0;34m\u001b[0m\u001b[0;34m\u001b[0m\u001b[0m\n\u001b[0m\u001b[1;32m    890\u001b[0m \u001b[0;34m\u001b[0m\u001b[0m\n\u001b[1;32m    891\u001b[0m       \u001b[0mnew_tracing_count\u001b[0m \u001b[0;34m=\u001b[0m \u001b[0mself\u001b[0m\u001b[0;34m.\u001b[0m\u001b[0mexperimental_get_tracing_count\u001b[0m\u001b[0;34m(\u001b[0m\u001b[0;34m)\u001b[0m\u001b[0;34m\u001b[0m\u001b[0;34m\u001b[0m\u001b[0m\n",
      "\u001b[0;32m/usr/local/lib/python3.7/dist-packages/tensorflow/python/eager/def_function.py\u001b[0m in \u001b[0;36m_call\u001b[0;34m(self, *args, **kwds)\u001b[0m\n\u001b[1;32m    915\u001b[0m       \u001b[0;31m# In this case we have created variables on the first call, so we run the\u001b[0m\u001b[0;34m\u001b[0m\u001b[0;34m\u001b[0m\u001b[0;34m\u001b[0m\u001b[0m\n\u001b[1;32m    916\u001b[0m       \u001b[0;31m# defunned version which is guaranteed to never create variables.\u001b[0m\u001b[0;34m\u001b[0m\u001b[0;34m\u001b[0m\u001b[0;34m\u001b[0m\u001b[0m\n\u001b[0;32m--> 917\u001b[0;31m       \u001b[0;32mreturn\u001b[0m \u001b[0mself\u001b[0m\u001b[0;34m.\u001b[0m\u001b[0m_stateless_fn\u001b[0m\u001b[0;34m(\u001b[0m\u001b[0;34m*\u001b[0m\u001b[0margs\u001b[0m\u001b[0;34m,\u001b[0m \u001b[0;34m**\u001b[0m\u001b[0mkwds\u001b[0m\u001b[0;34m)\u001b[0m  \u001b[0;31m# pylint: disable=not-callable\u001b[0m\u001b[0;34m\u001b[0m\u001b[0;34m\u001b[0m\u001b[0m\n\u001b[0m\u001b[1;32m    918\u001b[0m     \u001b[0;32melif\u001b[0m \u001b[0mself\u001b[0m\u001b[0;34m.\u001b[0m\u001b[0m_stateful_fn\u001b[0m \u001b[0;32mis\u001b[0m \u001b[0;32mnot\u001b[0m \u001b[0;32mNone\u001b[0m\u001b[0;34m:\u001b[0m\u001b[0;34m\u001b[0m\u001b[0;34m\u001b[0m\u001b[0m\n\u001b[1;32m    919\u001b[0m       \u001b[0;31m# Release the lock early so that multiple threads can perform the call\u001b[0m\u001b[0;34m\u001b[0m\u001b[0;34m\u001b[0m\u001b[0;34m\u001b[0m\u001b[0m\n",
      "\u001b[0;32m/usr/local/lib/python3.7/dist-packages/tensorflow/python/eager/function.py\u001b[0m in \u001b[0;36m__call__\u001b[0;34m(self, *args, **kwargs)\u001b[0m\n\u001b[1;32m   3022\u001b[0m        filtered_flat_args) = self._maybe_define_function(args, kwargs)\n\u001b[1;32m   3023\u001b[0m     return graph_function._call_flat(\n\u001b[0;32m-> 3024\u001b[0;31m         filtered_flat_args, captured_inputs=graph_function.captured_inputs)  # pylint: disable=protected-access\n\u001b[0m\u001b[1;32m   3025\u001b[0m \u001b[0;34m\u001b[0m\u001b[0m\n\u001b[1;32m   3026\u001b[0m   \u001b[0;34m@\u001b[0m\u001b[0mproperty\u001b[0m\u001b[0;34m\u001b[0m\u001b[0;34m\u001b[0m\u001b[0m\n",
      "\u001b[0;32m/usr/local/lib/python3.7/dist-packages/tensorflow/python/eager/function.py\u001b[0m in \u001b[0;36m_call_flat\u001b[0;34m(self, args, captured_inputs, cancellation_manager)\u001b[0m\n\u001b[1;32m   1959\u001b[0m       \u001b[0;31m# No tape is watching; skip to running the function.\u001b[0m\u001b[0;34m\u001b[0m\u001b[0;34m\u001b[0m\u001b[0;34m\u001b[0m\u001b[0m\n\u001b[1;32m   1960\u001b[0m       return self._build_call_outputs(self._inference_function.call(\n\u001b[0;32m-> 1961\u001b[0;31m           ctx, args, cancellation_manager=cancellation_manager))\n\u001b[0m\u001b[1;32m   1962\u001b[0m     forward_backward = self._select_forward_and_backward_functions(\n\u001b[1;32m   1963\u001b[0m         \u001b[0margs\u001b[0m\u001b[0;34m,\u001b[0m\u001b[0;34m\u001b[0m\u001b[0;34m\u001b[0m\u001b[0m\n",
      "\u001b[0;32m/usr/local/lib/python3.7/dist-packages/tensorflow/python/eager/function.py\u001b[0m in \u001b[0;36mcall\u001b[0;34m(self, ctx, args, cancellation_manager)\u001b[0m\n\u001b[1;32m    594\u001b[0m               \u001b[0minputs\u001b[0m\u001b[0;34m=\u001b[0m\u001b[0margs\u001b[0m\u001b[0;34m,\u001b[0m\u001b[0;34m\u001b[0m\u001b[0;34m\u001b[0m\u001b[0m\n\u001b[1;32m    595\u001b[0m               \u001b[0mattrs\u001b[0m\u001b[0;34m=\u001b[0m\u001b[0mattrs\u001b[0m\u001b[0;34m,\u001b[0m\u001b[0;34m\u001b[0m\u001b[0;34m\u001b[0m\u001b[0m\n\u001b[0;32m--> 596\u001b[0;31m               ctx=ctx)\n\u001b[0m\u001b[1;32m    597\u001b[0m         \u001b[0;32melse\u001b[0m\u001b[0;34m:\u001b[0m\u001b[0;34m\u001b[0m\u001b[0;34m\u001b[0m\u001b[0m\n\u001b[1;32m    598\u001b[0m           outputs = execute.execute_with_cancellation(\n",
      "\u001b[0;32m/usr/local/lib/python3.7/dist-packages/tensorflow/python/eager/execute.py\u001b[0m in \u001b[0;36mquick_execute\u001b[0;34m(op_name, num_outputs, inputs, attrs, ctx, name)\u001b[0m\n\u001b[1;32m     58\u001b[0m     \u001b[0mctx\u001b[0m\u001b[0;34m.\u001b[0m\u001b[0mensure_initialized\u001b[0m\u001b[0;34m(\u001b[0m\u001b[0;34m)\u001b[0m\u001b[0;34m\u001b[0m\u001b[0;34m\u001b[0m\u001b[0m\n\u001b[1;32m     59\u001b[0m     tensors = pywrap_tfe.TFE_Py_Execute(ctx._handle, device_name, op_name,\n\u001b[0;32m---> 60\u001b[0;31m                                         inputs, attrs, num_outputs)\n\u001b[0m\u001b[1;32m     61\u001b[0m   \u001b[0;32mexcept\u001b[0m \u001b[0mcore\u001b[0m\u001b[0;34m.\u001b[0m\u001b[0m_NotOkStatusException\u001b[0m \u001b[0;32mas\u001b[0m \u001b[0me\u001b[0m\u001b[0;34m:\u001b[0m\u001b[0;34m\u001b[0m\u001b[0;34m\u001b[0m\u001b[0m\n\u001b[1;32m     62\u001b[0m     \u001b[0;32mif\u001b[0m \u001b[0mname\u001b[0m \u001b[0;32mis\u001b[0m \u001b[0;32mnot\u001b[0m \u001b[0;32mNone\u001b[0m\u001b[0;34m:\u001b[0m\u001b[0;34m\u001b[0m\u001b[0;34m\u001b[0m\u001b[0m\n",
      "\u001b[0;31mKeyboardInterrupt\u001b[0m: "
     ]
    }
   ],
   "source": [
    "history =model.fit(train_data, validation_data= valid_data,epochs = 300,callbacks = [mc,csv,es1],shuffle =True )"
   ]
  },
  {
   "cell_type": "code",
   "execution_count": 22,
   "metadata": {
    "id": "Qo4-utowOBZq"
   },
   "outputs": [],
   "source": [
    "model.save_weights('/content/drive/MyDrive/normal+corrupted/augumentated-corrupte+normal-cnn-dataset-50_weights.h5')"
   ]
  },
  {
   "cell_type": "code",
   "execution_count": 5,
   "metadata": {},
   "outputs": [],
   "source": [
    "model.load_weights('augumentated-corrupte+normal-cnn-dataset-50_weights.h5')"
   ]
  },
  {
   "cell_type": "code",
   "execution_count": 8,
   "metadata": {
    "colab": {
     "base_uri": "https://localhost:8080/"
    },
    "id": "p0eBYb05g9cA",
    "outputId": "6dc09f64-11d9-4711-ba3f-3914d1db06a4"
   },
   "outputs": [
    {
     "name": "stdout",
     "output_type": "stream",
     "text": [
      "80/80 [==============================] - 358s 4s/step - loss: 6.2038 - accuracy: 0.9593\n",
      "80/80 [==============================] - 62s 735ms/step - loss: 6.3401 - accuracy: 0.9276\n",
      "train_Accuracy: 95.93%\n",
      "valid_Accuracy: 92.76%\n"
     ]
    }
   ],
   "source": [
    "\n",
    "train_acc = model.evaluate(train_data,steps=80)\n",
    "val_acc = model.evaluate(valid_data,steps=80)\n",
    "print(\"train_Accuracy: %.2f%%\" % (train_acc[1]*100))\n",
    "print(\"valid_Accuracy: %.2f%%\" % (val_acc[1]*100))"
   ]
  },
  {
   "cell_type": "code",
   "execution_count": 6,
   "metadata": {
    "id": "AcyQ730HhQGo"
   },
   "outputs": [],
   "source": [
    "test_datagen_nor = ImageDataGenerator(rescale=1./255)\n",
    "\n",
    "test_datagen_aug =  ImageDataGenerator(width_shift_range=0.15,\n",
    "        height_shift_range=0.15, shear_range=0.15,\n",
    "       \n",
    "        rescale=1./255)"
   ]
  },
  {
   "cell_type": "code",
   "execution_count": null,
   "metadata": {},
   "outputs": [],
   "source": [
    "## normal dataset"
   ]
  },
  {
   "cell_type": "code",
   "execution_count": 12,
   "metadata": {
    "colab": {
     "base_uri": "https://localhost:8080/"
    },
    "id": "dkdoifZSivh7",
    "outputId": "78c8c80f-df42-4855-db03-6e31bb7bfcef"
   },
   "outputs": [
    {
     "name": "stdout",
     "output_type": "stream",
     "text": [
      "Found 1300 images belonging to 50 classes.\n",
      "11/11 [==============================] - 17s 1s/step - loss: 6.1020 - accuracy: 0.9585\n",
      "Test_Accuracy: 95.85%\n"
     ]
    }
   ],
   "source": [
    "test_genrator_nor = test_datagen_nor.flow_from_directory( r'/content/drive/MyDrive/dataset-50/nor-dataset-50/test',\n",
    "       batch_size=128,target_size=(256,256),\n",
    "        class_mode='categorical')\n",
    "test_acc = model.evaluate(test_genrator_nor)\n",
    "print(\"Test_Accuracy: %.2f%%\" % (test_acc[1]*100))"
   ]
  },
  {
   "cell_type": "code",
   "execution_count": null,
   "metadata": {},
   "outputs": [],
   "source": [
    "## normal dataset +augumenattion"
   ]
  },
  {
   "cell_type": "code",
   "execution_count": 10,
   "metadata": {
    "colab": {
     "base_uri": "https://localhost:8080/"
    },
    "id": "u-sljvlliq7_",
    "outputId": "ca1f8e98-12d9-4d37-af97-65b87c7c546f"
   },
   "outputs": [
    {
     "name": "stdout",
     "output_type": "stream",
     "text": [
      "Found 1300 images belonging to 50 classes.\n",
      "11/11 [==============================] - 410s 41s/step - loss: 6.0639 - accuracy: 0.9662\n",
      "Test_Accuracy: 96.62%\n"
     ]
    }
   ],
   "source": [
    "test_genrator_nor = test_datagen_aug.flow_from_directory( r'/content/drive/MyDrive/dataset-50/nor-dataset-50/test',\n",
    "       batch_size=128,target_size=(256,256),\n",
    "        class_mode='categorical')\n",
    "test_acc = model.evaluate(test_genrator_nor)\n",
    "print(\"Test_Accuracy: %.2f%%\" % (test_acc[1]*100))"
   ]
  },
  {
   "cell_type": "code",
   "execution_count": null,
   "metadata": {},
   "outputs": [],
   "source": [
    "## gausian noise"
   ]
  },
  {
   "cell_type": "code",
   "execution_count": 13,
   "metadata": {
    "colab": {
     "base_uri": "https://localhost:8080/"
    },
    "id": "YJObxDmGx1pG",
    "outputId": "fcc8a8b3-dde1-4d1d-fec0-be220f4370a0"
   },
   "outputs": [
    {
     "name": "stdout",
     "output_type": "stream",
     "text": [
      "Found 1300 images belonging to 50 classes.\n",
      "11/11 [==============================] - 553s 55s/step - loss: 6.3217 - accuracy: 0.9131\n",
      "Test_Accuracy: 91.31%\n"
     ]
    }
   ],
   "source": [
    "test_genrator_gau = test_datagen_nor.flow_from_directory( r'/content/drive/MyDrive/dataset-50/gaussian-50/test',\n",
    "       batch_size=128,target_size=(256,256),\n",
    "        class_mode='categorical')\n",
    "test_acc = model.evaluate(test_genrator_gau)\n",
    "print(\"Test_Accuracy: %.2f%%\" % (test_acc[1]*100))"
   ]
  },
  {
   "cell_type": "code",
   "execution_count": null,
   "metadata": {},
   "outputs": [],
   "source": [
    "## gaussian augumentation"
   ]
  },
  {
   "cell_type": "code",
   "execution_count": 18,
   "metadata": {
    "colab": {
     "base_uri": "https://localhost:8080/"
    },
    "id": "u88z6XTgWQJt",
    "outputId": "46485ff8-9632-4cc9-e853-40688a7b9286"
   },
   "outputs": [
    {
     "name": "stdout",
     "output_type": "stream",
     "text": [
      "Found 1300 images belonging to 50 classes.\n",
      "11/11 [==============================] - 71s 6s/step - loss: 6.1699 - accuracy: 0.9623\n",
      "Test_Accuracy: 96.23%\n"
     ]
    }
   ],
   "source": [
    "test_genrator_gau = test_datagen_aug.flow_from_directory( r'/content/drive/MyDrive/dataset-50/gaussian-50/test',\n",
    "       batch_size=128,target_size=(256,256),\n",
    "        class_mode='categorical')\n",
    "test_acc = model.evaluate(test_genrator_gau)\n",
    "print(\"Test_Accuracy: %.2f%%\" % (test_acc[1]*100))"
   ]
  },
  {
   "cell_type": "code",
   "execution_count": null,
   "metadata": {},
   "outputs": [],
   "source": [
    "## corrupted 10"
   ]
  },
  {
   "cell_type": "code",
   "execution_count": 7,
   "metadata": {},
   "outputs": [
    {
     "name": "stdout",
     "output_type": "stream",
     "text": [
      "Found 1300 images belonging to 50 classes.\n",
      "11/11 [==============================] - 70s 6s/step - loss: 6.7298 - accuracy: 0.8223\n",
      "Test_Accuracy: 82.23%\n"
     ]
    }
   ],
   "source": [
    "test_genrator_cor10 = test_datagen_nor.flow_from_directory( r'D:\\Uni-passau\\thesis-smalldataset\\corrupted-10',\n",
    "       batch_size=128,target_size=(256,256),\n",
    "        class_mode='categorical')\n",
    "test_acc = model.evaluate(test_genrator_cor10)\n",
    "print(\"Test_Accuracy: %.2f%%\" % (test_acc[1]*100))"
   ]
  },
  {
   "cell_type": "code",
   "execution_count": null,
   "metadata": {},
   "outputs": [],
   "source": [
    "## corrupted 10 augu"
   ]
  },
  {
   "cell_type": "code",
   "execution_count": 16,
   "metadata": {},
   "outputs": [
    {
     "name": "stdout",
     "output_type": "stream",
     "text": [
      "Found 1300 images belonging to 50 classes.\n",
      "11/11 [==============================] - 88s 8s/step - loss: 6.4207 - accuracy: 0.9115\n",
      "Test_Accuracy: 91.15%\n"
     ]
    }
   ],
   "source": [
    "test_genrator_cor10_aug = test_datagen_aug.flow_from_directory( r'D:\\Uni-passau\\thesis-smalldataset\\corrupted-10',\n",
    "       batch_size=128,target_size=(256,256),\n",
    "        class_mode='categorical')\n",
    "test_acc = model.evaluate(test_genrator_cor10_aug)\n",
    "print(\"Test_Accuracy: %.2f%%\" % (test_acc[1]*100))"
   ]
  },
  {
   "cell_type": "code",
   "execution_count": null,
   "metadata": {},
   "outputs": [],
   "source": [
    "## corrupted 20"
   ]
  },
  {
   "cell_type": "code",
   "execution_count": 15,
   "metadata": {
    "colab": {
     "base_uri": "https://localhost:8080/"
    },
    "id": "kHN-h9MnYWsG",
    "outputId": "a2bc5967-7e79-498a-f472-e69958d48125"
   },
   "outputs": [
    {
     "name": "stdout",
     "output_type": "stream",
     "text": [
      "Found 1300 images belonging to 50 classes.\n",
      "11/11 [==============================] - 350s 35s/step - loss: 6.6157 - accuracy: 0.8692\n",
      "Test_Accuracy: 86.92%\n"
     ]
    }
   ],
   "source": [
    "test_genrator_cor20 = test_datagen_nor.flow_from_directory( r'/content/drive/MyDrive/dataset-50/corrupted-1/test',\n",
    "       batch_size=128,target_size=(256,256),\n",
    "        class_mode='categorical')\n",
    "test_acc = model.evaluate(test_genrator_cor20)\n",
    "print(\"Test_Accuracy: %.2f%%\" % (test_acc[1]*100))"
   ]
  },
  {
   "cell_type": "code",
   "execution_count": null,
   "metadata": {},
   "outputs": [],
   "source": [
    "## corrupted 20 augumnetation"
   ]
  },
  {
   "cell_type": "code",
   "execution_count": 19,
   "metadata": {
    "colab": {
     "base_uri": "https://localhost:8080/"
    },
    "id": "nLsv9qSnWSdI",
    "outputId": "4753857f-670a-4f21-8af6-636b1c35016f"
   },
   "outputs": [
    {
     "name": "stdout",
     "output_type": "stream",
     "text": [
      "Found 1300 images belonging to 50 classes.\n",
      "11/11 [==============================] - 32s 3s/step - loss: 6.4416 - accuracy: 0.9277\n",
      "Test_Accuracy: 92.77%\n"
     ]
    }
   ],
   "source": [
    "test_genrator_cor20 = test_datagen_aug.flow_from_directory( r'/content/drive/MyDrive/dataset-50/corrupted-1/test',\n",
    "       batch_size=128,target_size=(256,256),\n",
    "        class_mode='categorical')\n",
    "test_acc = model.evaluate(test_genrator_cor20)\n",
    "print(\"Test_Accuracy: %.2f%%\" % (test_acc[1]*100))"
   ]
  },
  {
   "cell_type": "code",
   "execution_count": null,
   "metadata": {},
   "outputs": [],
   "source": [
    "## corrupted -30"
   ]
  },
  {
   "cell_type": "code",
   "execution_count": 9,
   "metadata": {},
   "outputs": [
    {
     "name": "stdout",
     "output_type": "stream",
     "text": [
      "Found 1300 images belonging to 50 classes.\n",
      "11/11 [==============================] - 68s 6s/step - loss: 6.7711 - accuracy: 0.8454\n",
      "Test_Accuracy: 84.54%\n"
     ]
    }
   ],
   "source": [
    "test_genrator_cor30 = test_datagen_nor.flow_from_directory( r'D:\\Uni-passau\\thesis-smalldataset\\corrupted-30',\n",
    "       batch_size=128,target_size=(256,256),\n",
    "        class_mode='categorical')\n",
    "test_acc = model.evaluate(test_genrator_cor30)\n",
    "print(\"Test_Accuracy: %.2f%%\" % (test_acc[1]*100))"
   ]
  },
  {
   "cell_type": "code",
   "execution_count": 12,
   "metadata": {},
   "outputs": [
    {
     "name": "stdout",
     "output_type": "stream",
     "text": [
      "Found 1300 images belonging to 50 classes.\n",
      "11/11 [==============================] - 86s 8s/step - loss: 6.6520 - accuracy: 0.9023\n",
      "Test_Accuracy: 90.23%\n"
     ]
    }
   ],
   "source": [
    "test_genrator_cor30_aug = test_datagen_aug.flow_from_directory( r'D:\\Uni-passau\\thesis-smalldataset\\corrupted-30',\n",
    "       batch_size=128,target_size=(256,256),\n",
    "        class_mode='categorical')\n",
    "test_acc = model.evaluate(test_genrator_cor30_aug)\n",
    "print(\"Test_Accuracy: %.2f%%\" % (test_acc[1]*100))"
   ]
  },
  {
   "cell_type": "code",
   "execution_count": null,
   "metadata": {},
   "outputs": [],
   "source": [
    "## corrupted- 40"
   ]
  },
  {
   "cell_type": "code",
   "execution_count": 13,
   "metadata": {},
   "outputs": [
    {
     "name": "stdout",
     "output_type": "stream",
     "text": [
      "Found 1300 images belonging to 50 classes.\n",
      "11/11 [==============================] - 71s 6s/step - loss: 7.4614 - accuracy: 0.5962\n",
      "Test_Accuracy: 59.62%\n"
     ]
    }
   ],
   "source": [
    "test_genrator_cor40 = test_datagen_nor.flow_from_directory( r'D:\\Uni-passau\\thesis-smalldataset\\corrupted-40',\n",
    "       batch_size=128,target_size=(256,256),\n",
    "        class_mode='categorical')\n",
    "test_acc = model.evaluate(test_genrator_cor40)\n",
    "print(\"Test_Accuracy: %.2f%%\" % (test_acc[1]*100))"
   ]
  },
  {
   "cell_type": "code",
   "execution_count": 14,
   "metadata": {},
   "outputs": [],
   "source": [
    "## corrupted - 40 augu"
   ]
  },
  {
   "cell_type": "code",
   "execution_count": 15,
   "metadata": {},
   "outputs": [
    {
     "name": "stdout",
     "output_type": "stream",
     "text": [
      "Found 1300 images belonging to 50 classes.\n",
      "11/11 [==============================] - 85s 8s/step - loss: 7.9126 - accuracy: 0.5323\n",
      "Test_Accuracy: 53.23%\n"
     ]
    }
   ],
   "source": [
    "test_genrator_cor40_aug = test_datagen_aug.flow_from_directory( r'D:\\Uni-passau\\thesis-smalldataset\\corrupted-40',\n",
    "       batch_size=128,target_size=(256,256),\n",
    "        class_mode='categorical')\n",
    "test_acc = model.evaluate(test_genrator_cor40_aug)\n",
    "print(\"Test_Accuracy: %.2f%%\" % (test_acc[1]*100))"
   ]
  },
  {
   "cell_type": "code",
   "execution_count": null,
   "metadata": {},
   "outputs": [],
   "source": [
    "## corrupted-25"
   ]
  },
  {
   "cell_type": "code",
   "execution_count": 14,
   "metadata": {
    "colab": {
     "base_uri": "https://localhost:8080/"
    },
    "id": "ISgmNzy830ty",
    "outputId": "5e644355-041e-44f8-9da8-5fc1d2598470"
   },
   "outputs": [
    {
     "name": "stdout",
     "output_type": "stream",
     "text": [
      "Found 1050 images belonging to 50 classes.\n",
      "33/33 [==============================] - 277s 9s/step - loss: 6.5424 - accuracy: 0.9076\n",
      "Test_Accuracy: 90.76%\n"
     ]
    }
   ],
   "source": [
    "test_corrupted= test_datagen_nor.flow_from_directory( r'/content/drive/MyDrive/dataset-corrupted/corrupted-25/test',\n",
    "        batch_size=32,target_size=(256,256),\n",
    "        class_mode='categorical')\n",
    "test_acc = model.evaluate(test_corrupted)\n",
    "print(\"Test_Accuracy: %.2f%%\" % (test_acc[1]*100))"
   ]
  },
  {
   "cell_type": "code",
   "execution_count": null,
   "metadata": {},
   "outputs": [],
   "source": [
    "## corrupted -25 augu"
   ]
  },
  {
   "cell_type": "code",
   "execution_count": 17,
   "metadata": {
    "colab": {
     "base_uri": "https://localhost:8080/"
    },
    "id": "puNiSQr2WRRc",
    "outputId": "8f2480bd-c3f2-45a3-d8d5-940a9cf4a836"
   },
   "outputs": [
    {
     "name": "stdout",
     "output_type": "stream",
     "text": [
      "Found 1050 images belonging to 50 classes.\n",
      "33/33 [==============================] - 26s 783ms/step - loss: 6.4378 - accuracy: 0.9429\n",
      "Test_Accuracy: 94.29%\n"
     ]
    }
   ],
   "source": [
    "test_corrupted= test_datagen_aug.flow_from_directory( r'/content/drive/MyDrive/dataset-corrupted/corrupted-25/test',\n",
    "        batch_size=32,target_size=(256,256),\n",
    "        class_mode='categorical')\n",
    "test_acc = model.evaluate(test_corrupted)\n",
    "print(\"Test_Accuracy: %.2f%%\" % (test_acc[1]*100))"
   ]
  },
  {
   "cell_type": "code",
   "execution_count": 20,
   "metadata": {
    "colab": {
     "base_uri": "https://localhost:8080/"
    },
    "id": "YgzQ121bPq1E",
    "outputId": "468a46d0-b83a-45b7-f1c9-3c7b81c476dd"
   },
   "outputs": [
    {
     "name": "stdout",
     "output_type": "stream",
     "text": [
      "Found 1300 images belonging to 50 classes.\n",
      "11/11 [==============================] - 150s 15s/step - loss: 9.9771 - accuracy: 0.0954\n",
      "Test_Accuracy: 9.54%\n"
     ]
    }
   ],
   "source": [
    "test_genrator_cor50 = test_datagen_nor.flow_from_directory( r'/content/drive/MyDrive/dataset-50/corrupted-2/test',\n",
    "       batch_size=128,target_size=(256,256),\n",
    "        class_mode='categorical')\n",
    "test_acc = model.evaluate(test_genrator_cor50)\n",
    "print(\"Test_Accuracy: %.2f%%\" % (test_acc[1]*100))"
   ]
  },
  {
   "cell_type": "code",
   "execution_count": 21,
   "metadata": {
    "colab": {
     "base_uri": "https://localhost:8080/"
    },
    "id": "rq310ETgWUcs",
    "outputId": "fea252c4-19a0-4950-a7f1-8b94d7721ead"
   },
   "outputs": [
    {
     "name": "stdout",
     "output_type": "stream",
     "text": [
      "Found 1300 images belonging to 50 classes.\n",
      "11/11 [==============================] - 30s 3s/step - loss: 10.5437 - accuracy: 0.2431\n",
      "Test_Accuracy: 24.31%\n"
     ]
    }
   ],
   "source": [
    "test_genrator_cor50 = test_datagen_aug.flow_from_directory( r'/content/drive/MyDrive/dataset-50/corrupted-2/test',\n",
    "       batch_size=128,target_size=(256,256),\n",
    "        class_mode='categorical')\n",
    "test_acc = model.evaluate(test_genrator_cor50)\n",
    "print(\"Test_Accuracy: %.2f%%\" % (test_acc[1]*100))"
   ]
  },
  {
   "cell_type": "code",
   "execution_count": null,
   "metadata": {
    "id": "NOt-9iEQsuBY"
   },
   "outputs": [
    {
     "name": "stdout",
     "output_type": "stream",
     "text": [
      "Found 1300 images belonging to 50 classes.\n",
      " 9/11 [=======================>......] - ETA: 19s - loss: 16.9054 - accuracy: 0.0668"
     ]
    }
   ],
   "source": [
    "test_genrator_cor60_aug = test_datagen_aug.flow_from_directory( r'D:\\Uni-passau\\thesis-smalldataset\\corrupted-60',\n",
    "       batch_size=128,target_size=(256,256),\n",
    "        class_mode='categorical')\n",
    "test_acc = model.evaluate(test_genrator_cor60_aug)\n",
    "print(\"Test_Accuracy: %.2f%%\" % (test_acc[1]*100))"
   ]
  },
  {
   "cell_type": "code",
   "execution_count": null,
   "metadata": {},
   "outputs": [],
   "source": [
    "test_genrator_cor60 = test_datagen_nor.flow_from_directory( r'D:\\Uni-passau\\thesis-smalldataset\\corrupted-60',\n",
    "       batch_size=128,target_size=(256,256),\n",
    "        class_mode='categorical')\n",
    "test_acc = model.evaluate(test_genrator_cor60)\n",
    "print(\"Test_Accuracy: %.2f%%\" % (test_acc[1]*100))"
   ]
  }
 ],
 "metadata": {
  "accelerator": "GPU",
  "colab": {
   "machine_shape": "hm",
   "name": "corrupted+normal.ipynb",
   "provenance": []
  },
  "kernelspec": {
   "display_name": "Python 3",
   "language": "python",
   "name": "python3"
  },
  "language_info": {
   "codemirror_mode": {
    "name": "ipython",
    "version": 3
   },
   "file_extension": ".py",
   "mimetype": "text/x-python",
   "name": "python",
   "nbconvert_exporter": "python",
   "pygments_lexer": "ipython3",
   "version": "3.8.3"
  }
 },
 "nbformat": 4,
 "nbformat_minor": 1
}
