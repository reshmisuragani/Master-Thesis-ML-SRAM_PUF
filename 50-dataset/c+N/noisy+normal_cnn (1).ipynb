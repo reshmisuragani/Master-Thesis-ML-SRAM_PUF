{
 "cells": [
  {
   "cell_type": "code",
   "execution_count": 1,
   "metadata": {
    "id": "GZ0PFLamcfou"
   },
   "outputs": [],
   "source": [
    "import tensorflow as tf\n",
    "from tensorflow.keras import datasets, layers, models\n",
    "import matplotlib.pyplot as plt\n",
    "from keras.preprocessing.image import ImageDataGenerator\n",
    "import numpy as np"
   ]
  },
  {
   "cell_type": "code",
   "execution_count": 2,
   "metadata": {
    "colab": {
     "base_uri": "https://localhost:8080/"
    },
    "id": "G3slyTA5cmpy",
    "outputId": "25d4b805-fdc1-4083-de6c-44c1f9741cb7"
   },
   "outputs": [
    {
     "name": "stdout",
     "output_type": "stream",
     "text": [
      "Found 6604 images belonging to 50 classes.\n",
      "Found 1150 images belonging to 50 classes.\n"
     ]
    }
   ],
   "source": [
    "train_datagen_nor = ImageDataGenerator(validation_split=0.15,\n",
    "        rescale=1./255)\n",
    "\n",
    "test_datagen = ImageDataGenerator(rescale=1./255)\n",
    "\n",
    "train_data = train_datagen_nor.flow_from_directory(r'/content/drive/MyDrive/n+c+g/train',target_size=(512, 512), subset='training',\n",
    "                                                       batch_size=50, class_mode='categorical')\n",
    "valid_data = train_datagen_nor.flow_from_directory(r'/content/drive/MyDrive/n+c+g/train',target_size=(512, 512), \n",
    "                                                    subset='validation'   ,batch_size=64, class_mode='categorical')\n"
   ]
  },
  {
   "cell_type": "code",
   "execution_count": 15,
   "metadata": {
    "colab": {
     "base_uri": "https://localhost:8080/"
    },
    "id": "9CNi-GIKc8-N",
    "outputId": "957956fd-32a9-4d8f-93a6-ae0878ccbddf"
   },
   "outputs": [
    {
     "name": "stdout",
     "output_type": "stream",
     "text": [
      "Model: \"sequential_1\"\n",
      "_________________________________________________________________\n",
      "Layer (type)                 Output Shape              Param #   \n",
      "=================================================================\n",
      "conv2d_5 (Conv2D)            (None, 512, 512, 8)       224       \n",
      "_________________________________________________________________\n",
      "batch_normalization_3 (Batch (None, 512, 512, 8)       32        \n",
      "_________________________________________________________________\n",
      "conv2d_6 (Conv2D)            (None, 512, 512, 48)      3504      \n",
      "_________________________________________________________________\n",
      "batch_normalization_4 (Batch (None, 512, 512, 48)      192       \n",
      "_________________________________________________________________\n",
      "max_pooling2d_4 (MaxPooling2 (None, 256, 256, 48)      0         \n",
      "_________________________________________________________________\n",
      "conv2d_7 (Conv2D)            (None, 256, 256, 128)     55424     \n",
      "_________________________________________________________________\n",
      "batch_normalization_5 (Batch (None, 256, 256, 128)     512       \n",
      "_________________________________________________________________\n",
      "max_pooling2d_5 (MaxPooling2 (None, 128, 128, 128)     0         \n",
      "_________________________________________________________________\n",
      "conv2d_8 (Conv2D)            (None, 128, 128, 192)     221376    \n",
      "_________________________________________________________________\n",
      "batch_normalization_6 (Batch (None, 128, 128, 192)     768       \n",
      "_________________________________________________________________\n",
      "max_pooling2d_6 (MaxPooling2 (None, 64, 64, 192)       0         \n",
      "_________________________________________________________________\n",
      "conv2d_9 (Conv2D)            (None, 64, 64, 192)       331968    \n",
      "_________________________________________________________________\n",
      "max_pooling2d_7 (MaxPooling2 (None, 32, 32, 192)       0         \n",
      "_________________________________________________________________\n",
      "batch_normalization_7 (Batch (None, 32, 32, 192)       768       \n",
      "_________________________________________________________________\n",
      "dropout_1 (Dropout)          (None, 32, 32, 192)       0         \n",
      "_________________________________________________________________\n",
      "flatten_1 (Flatten)          (None, 196608)            0         \n",
      "_________________________________________________________________\n",
      "dense_3 (Dense)              (None, 128)               25165952  \n",
      "_________________________________________________________________\n",
      "batch_normalization_8 (Batch (None, 128)               512       \n",
      "_________________________________________________________________\n",
      "dense_4 (Dense)              (None, 50)                6450      \n",
      "_________________________________________________________________\n",
      "dropout_2 (Dropout)          (None, 50)                0         \n",
      "_________________________________________________________________\n",
      "dense_5 (Dense)              (None, 50)                2550      \n",
      "=================================================================\n",
      "Total params: 25,790,232\n",
      "Trainable params: 25,788,840\n",
      "Non-trainable params: 1,392\n",
      "_________________________________________________________________\n"
     ]
    }
   ],
   "source": [
    "from keras.regularizers import l2\n",
    "from keras.layers import BatchNormalization\n",
    "from keras.layers import GaussianNoise\n",
    "model = tf.keras.Sequential()\n",
    "model.add(tf.keras.layers.Conv2D(filters = 8, kernel_size = (3,3), kernel_regularizer=l2(0.01), padding = 'Same', activation ='relu', input_shape = (512,512,3)))\n",
    "model.add(tf.keras.layers.BatchNormalization())\n",
    "model.add(tf.keras.layers.Conv2D(filters = 48, kernel_size = (3,3), kernel_regularizer=l2(0.01), padding = 'Same', activation ='relu'))\n",
    "model.add(tf.keras.layers.BatchNormalization())\n",
    "model.add(tf.keras.layers.MaxPool2D(pool_size=(2,2), strides = 2))\n",
    "model.add(tf.keras.layers.Conv2D(filters = 128, kernel_size = (3,3),kernel_regularizer=l2(0.01), padding = 'Same', activation ='relu'))\n",
    "model.add(tf.keras.layers.BatchNormalization())\n",
    "model.add(tf.keras.layers.MaxPool2D(pool_size=(2,2), strides= 2))\n",
    "model.add(tf.keras.layers.Conv2D(filters = 192, kernel_size = (3,3), kernel_regularizer=l2(0.01), padding = 'Same', activation ='relu'))\n",
    "model.add(tf.keras.layers.BatchNormalization())\n",
    "model.add(tf.keras.layers.MaxPool2D(pool_size=(2,2), strides= 2))\n",
    "model.add(tf.keras.layers.Conv2D(filters = 192, kernel_size = (3,3), kernel_regularizer=l2(0.01), padding = 'Same', activation ='relu'))\n",
    "model.add(tf.keras.layers.MaxPool2D(pool_size=(2,2), strides= 2))\n",
    "model.add(tf.keras.layers.BatchNormalization())\n",
    "model.add(tf.keras.layers.Dropout(0.1))\n",
    "model.add(tf.keras.layers.Flatten())\n",
    "\n",
    "model.add(tf.keras.layers.Dense(128, activation = \"relu\", kernel_regularizer=l2(0.01)))\n",
    "model.add(tf.keras.layers.BatchNormalization())\n",
    "model.add(tf.keras.layers.Dense(50, activation = \"relu\", kernel_regularizer=l2(0.01)))\n",
    "model.add(tf.keras.layers.Dropout(0.2))\n",
    "model.add(tf.keras.layers.Dense(50, activation = \"softmax\"))\n",
    "model.summary()"
   ]
  },
  {
   "cell_type": "code",
   "execution_count": 4,
   "metadata": {
    "id": "gC9v8xi7dRNe"
   },
   "outputs": [],
   "source": [
    "from keras.callbacks import EarlyStopping\n",
    "from keras.callbacks import ModelCheckpoint\n",
    "from keras.callbacks import CSVLogger\n",
    "\n",
    "csv = CSVLogger(\"/content/drive/MyDrive/n+c+g/normal+corrupted+gauss-model_history_log.csv\", append=True)\n",
    "es1= tf.keras.callbacks.EarlyStopping( monitor='val_accuracy',patience=2, restore_best_weights=True)\n",
    "mc = ModelCheckpoint('/content/drive/MyDrive/n+c+g/normal+corrupted+gauss--cnnmodel.h5', monitor='val_accuracy', mode='max', verbose=1, save_best_only=True)"
   ]
  },
  {
   "cell_type": "code",
   "execution_count": 16,
   "metadata": {
    "id": "9V5ue0wvdWlI"
   },
   "outputs": [],
   "source": [
    "adam = tf.keras.optimizers.Adam(learning_rate = 0.0001, decay = 0.9)\n",
    "model.compile(optimizer = adam, loss = \"categorical_crossentropy\", metrics = [\"accuracy\"])"
   ]
  },
  {
   "cell_type": "code",
   "execution_count": 7,
   "metadata": {
    "colab": {
     "base_uri": "https://localhost:8080/"
    },
    "id": "UxpSk0UBdar3",
    "outputId": "418f0887-f4cf-4561-d1d0-6dcddd31fa91"
   },
   "outputs": [
    {
     "name": "stdout",
     "output_type": "stream",
     "text": [
      "Epoch 1/100\n",
      "133/133 [==============================] - 101s 756ms/step - loss: 2.0988 - accuracy: 0.7936 - val_loss: 12.0994 - val_accuracy: 0.0200\n",
      "\n",
      "Epoch 00001: val_accuracy did not improve from 0.03391\n",
      "Epoch 2/100\n",
      "133/133 [==============================] - 101s 756ms/step - loss: 1.9805 - accuracy: 0.8422 - val_loss: 11.3954 - val_accuracy: 0.0200\n",
      "\n",
      "Epoch 00002: val_accuracy did not improve from 0.03391\n",
      "Epoch 3/100\n",
      "133/133 [==============================] - 100s 750ms/step - loss: 1.9105 - accuracy: 0.8607 - val_loss: 7.8898 - val_accuracy: 0.0652\n",
      "\n",
      "Epoch 00003: val_accuracy improved from 0.03391 to 0.06522, saving model to /content/drive/MyDrive/n+c+g/normal+corrupted+gauss--cnnmodel.h5\n",
      "Epoch 4/100\n",
      "133/133 [==============================] - 99s 741ms/step - loss: 1.8514 - accuracy: 0.8840 - val_loss: 4.1637 - val_accuracy: 0.0930\n",
      "\n",
      "Epoch 00004: val_accuracy improved from 0.06522 to 0.09304, saving model to /content/drive/MyDrive/n+c+g/normal+corrupted+gauss--cnnmodel.h5\n",
      "Epoch 5/100\n",
      "133/133 [==============================] - 98s 737ms/step - loss: 1.8197 - accuracy: 0.8988 - val_loss: 2.4178 - val_accuracy: 0.5357\n",
      "\n",
      "Epoch 00005: val_accuracy improved from 0.09304 to 0.53565, saving model to /content/drive/MyDrive/n+c+g/normal+corrupted+gauss--cnnmodel.h5\n",
      "Epoch 6/100\n",
      "133/133 [==============================] - 100s 748ms/step - loss: 1.7723 - accuracy: 0.9037 - val_loss: 1.9276 - val_accuracy: 0.9417\n",
      "\n",
      "Epoch 00006: val_accuracy improved from 0.53565 to 0.94174, saving model to /content/drive/MyDrive/n+c+g/normal+corrupted+gauss--cnnmodel.h5\n",
      "Epoch 7/100\n",
      "133/133 [==============================] - 98s 730ms/step - loss: 1.7501 - accuracy: 0.9085 - val_loss: 1.8236 - val_accuracy: 0.9704\n",
      "\n",
      "Epoch 00007: val_accuracy improved from 0.94174 to 0.97043, saving model to /content/drive/MyDrive/n+c+g/normal+corrupted+gauss--cnnmodel.h5\n",
      "Epoch 8/100\n",
      "133/133 [==============================] - 99s 738ms/step - loss: 1.7129 - accuracy: 0.9170 - val_loss: 1.7805 - val_accuracy: 0.9722\n",
      "\n",
      "Epoch 00008: val_accuracy improved from 0.97043 to 0.97217, saving model to /content/drive/MyDrive/n+c+g/normal+corrupted+gauss--cnnmodel.h5\n",
      "Epoch 9/100\n",
      "133/133 [==============================] - 100s 746ms/step - loss: 1.6995 - accuracy: 0.9205 - val_loss: 1.7589 - val_accuracy: 0.9757\n",
      "\n",
      "Epoch 00009: val_accuracy improved from 0.97217 to 0.97565, saving model to /content/drive/MyDrive/n+c+g/normal+corrupted+gauss--cnnmodel.h5\n",
      "Epoch 10/100\n",
      "133/133 [==============================] - 98s 727ms/step - loss: 1.6727 - accuracy: 0.9252 - val_loss: 1.7422 - val_accuracy: 0.9757\n",
      "\n",
      "Epoch 00010: val_accuracy did not improve from 0.97565\n",
      "Epoch 11/100\n",
      "133/133 [==============================] - 98s 737ms/step - loss: 1.6644 - accuracy: 0.9276 - val_loss: 1.7287 - val_accuracy: 0.9774\n",
      "\n",
      "Epoch 00011: val_accuracy improved from 0.97565 to 0.97739, saving model to /content/drive/MyDrive/n+c+g/normal+corrupted+gauss--cnnmodel.h5\n",
      "Epoch 12/100\n",
      "133/133 [==============================] - 97s 727ms/step - loss: 1.6519 - accuracy: 0.9263 - val_loss: 1.7131 - val_accuracy: 0.9765\n",
      "\n",
      "Epoch 00012: val_accuracy did not improve from 0.97739\n",
      "Epoch 13/100\n",
      "133/133 [==============================] - 96s 721ms/step - loss: 1.6463 - accuracy: 0.9320 - val_loss: 1.7031 - val_accuracy: 0.9757\n",
      "\n",
      "Epoch 00013: val_accuracy did not improve from 0.97739\n"
     ]
    }
   ],
   "source": [
    "history = model.fit(train_data,epochs=100,shuffle=True,validation_data=valid_data,callbacks=[csv,es1,mc])"
   ]
  },
  {
   "cell_type": "code",
   "execution_count": 10,
   "metadata": {
    "id": "QPWhL5nxaiqS"
   },
   "outputs": [],
   "source": [
    "model.save_weights(r'/content/drive/MyDrive/n+c+g/normal+corrupted-cnn-model-weights.h5')"
   ]
  },
  {
   "cell_type": "code",
   "execution_count": 17,
   "metadata": {},
   "outputs": [],
   "source": [
    "model.load_weights('normal+corrupted-cnn-model-weights1.h5')"
   ]
  },
  {
   "cell_type": "code",
   "execution_count": 8,
   "metadata": {
    "colab": {
     "base_uri": "https://localhost:8080/"
    },
    "id": "mumKqkRBvAPV",
    "outputId": "9f702399-e1e2-41c3-b6e1-428dc0f1d513"
   },
   "outputs": [
    {
     "name": "stdout",
     "output_type": "stream",
     "text": [
      "133/133 [==============================] - 80s 601ms/step - loss: 1.5356 - accuracy: 0.9841\n",
      "18/18 [==============================] - 14s 787ms/step - loss: 1.7287 - accuracy: 0.9774\n",
      "Train_Accuracy: 98.41%\n",
      "valid_Accuracy: 97.74%\n"
     ]
    }
   ],
   "source": [
    "train_acc=model.evaluate(train_data)\n",
    "val_acc = model.evaluate(valid_data)\n",
    "print(\"Train_Accuracy: %.2f%%\" % (train_acc[1]*100))\n",
    "print(\"valid_Accuracy: %.2f%%\" % (val_acc[1]*100))"
   ]
  },
  {
   "cell_type": "code",
   "execution_count": 6,
   "metadata": {},
   "outputs": [],
   "source": [
    "\n",
    "test_datagen = ImageDataGenerator(rescale=1./255)"
   ]
  },
  {
   "cell_type": "code",
   "execution_count": 23,
   "metadata": {
    "colab": {
     "base_uri": "https://localhost:8080/"
    },
    "id": "veW5UOdoxN3f",
    "outputId": "bd9766a5-c07f-4212-87bd-9077f5dbccbe"
   },
   "outputs": [
    {
     "name": "stdout",
     "output_type": "stream",
     "text": [
      "Found 1300 images belonging to 50 classes.\n",
      "18/18 [==============================] - 278s 15s/step - loss: 9.3827 - accuracy: 0.8877\n",
      "Test_Accuracy: 88.77%\n"
     ]
    }
   ],
   "source": [
    "test_genrator_nor = test_datagen.flow_from_directory( r'D:\\Uni-passau\\thesis-smalldataset\\corrupted-30',\n",
    "        target_size=(512, 512),\n",
    "        batch_size=75,\n",
    "        class_mode='categorical')\n",
    "test_acc = model.evaluate(test_genrator_nor)\n",
    "print(\"Test_Accuracy: %.2f%%\" % (test_acc[1]*100))"
   ]
  },
  {
   "cell_type": "code",
   "execution_count": 19,
   "metadata": {
    "colab": {
     "base_uri": "https://localhost:8080/"
    },
    "id": "R3WLUXk54Axi",
    "outputId": "45eb7a8b-6672-47dd-ef43-f867130fa0f1"
   },
   "outputs": [
    {
     "name": "stdout",
     "output_type": "stream",
     "text": [
      "Found 1300 images belonging to 50 classes.\n",
      "18/18 [==============================] - 272s 15s/step - loss: 8.9635 - accuracy: 0.9838\n",
      "Test_Accuracy: 98.38%\n"
     ]
    }
   ],
   "source": [
    "test_genrator_nor10 = test_datagen.flow_from_directory( r'D:\\Uni-passau\\thesis-smalldataset\\corrupted-10',\n",
    "        target_size=(512, 512),\n",
    "        batch_size=75,\n",
    "        class_mode='categorical')\n",
    "test_acc = model.evaluate(test_genrator_nor10)\n",
    "print(\"Test_Accuracy: %.2f%%\" % (test_acc[1]*100))"
   ]
  },
  {
   "cell_type": "code",
   "execution_count": 21,
   "metadata": {},
   "outputs": [
    {
     "name": "stdout",
     "output_type": "stream",
     "text": [
      "Found 1300 images belonging to 50 classes.\n",
      "18/18 [==============================] - 273s 15s/step - loss: 9.0785 - accuracy: 0.9762\n",
      "Test_Accuracy: 97.62%\n"
     ]
    }
   ],
   "source": [
    "test_genrator_nor20 = test_datagen.flow_from_directory( r'D:\\Uni-passau\\thesis-smalldataset\\corrupted-20',\n",
    "        target_size=(512, 512),\n",
    "        batch_size=75,\n",
    "        class_mode='categorical')\n",
    "test_acc = model.evaluate(test_genrator_nor20)\n",
    "print(\"Test_Accuracy: %.2f%%\" % (test_acc[1]*100))"
   ]
  },
  {
   "cell_type": "code",
   "execution_count": 22,
   "metadata": {},
   "outputs": [
    {
     "name": "stdout",
     "output_type": "stream",
     "text": [
      "Found 1050 images belonging to 50 classes.\n",
      "14/14 [==============================] - 219s 16s/step - loss: 9.0020 - accuracy: 0.9771\n",
      "Test_Accuracy: 97.71%\n"
     ]
    }
   ],
   "source": [
    "\n",
    "test_genrator_nor25 = test_datagen.flow_from_directory( r'D:\\Uni-passau\\thesis-smalldataset\\corrupted-25\\test',\n",
    "        target_size=(512, 512),\n",
    "        batch_size=75,\n",
    "        class_mode='categorical')\n",
    "test_acc = model.evaluate(test_genrator_nor25)\n",
    "print(\"Test_Accuracy: %.2f%%\" % (test_acc[1]*100))"
   ]
  },
  {
   "cell_type": "code",
   "execution_count": 24,
   "metadata": {},
   "outputs": [
    {
     "name": "stdout",
     "output_type": "stream",
     "text": [
      "Found 1300 images belonging to 50 classes.\n",
      "18/18 [==============================] - 280s 16s/step - loss: 10.0224 - accuracy: 0.6608\n",
      "Test_Accuracy: 66.08%\n"
     ]
    }
   ],
   "source": [
    "test_genrator_nor40 = test_datagen.flow_from_directory( r'D:\\Uni-passau\\thesis-smalldataset\\corrupted-40',\n",
    "        target_size=(512, 512),\n",
    "        batch_size=75,\n",
    "        class_mode='categorical')\n",
    "test_acc = model.evaluate(test_genrator_nor40)\n",
    "print(\"Test_Accuracy: %.2f%%\" % (test_acc[1]*100))"
   ]
  },
  {
   "cell_type": "code",
   "execution_count": 28,
   "metadata": {},
   "outputs": [
    {
     "name": "stdout",
     "output_type": "stream",
     "text": [
      "Found 1300 images belonging to 50 classes.\n",
      "18/18 [==============================] - 280s 16s/step - loss: 10.0224 - accuracy: 0.6208\n",
      "Test_Accuracy: 62.08%\n"
     ]
    }
   ],
   "source": [
    "test_genrator_nor40 = test_datagen.flow_from_directory( r'D:\\Uni-passau\\thesis-smalldataset\\corrupted-40',\n",
    "        target_size=(512, 512),\n",
    "        batch_size=75,\n",
    "        class_mode='categorical')\n",
    "test_acc = model.evaluate(test_genrator_nor40)\n",
    "print(\"Test_Accuracy: %.2f%%\" % (test_acc[1]*100))"
   ]
  },
  {
   "cell_type": "code",
   "execution_count": 25,
   "metadata": {},
   "outputs": [
    {
     "name": "stdout",
     "output_type": "stream",
     "text": [
      "Found 1300 images belonging to 50 classes.\n",
      "18/18 [==============================] - 282s 16s/step - loss: 10.5427 - accuracy: 0.2954\n",
      "Test_Accuracy: 29.54%\n"
     ]
    }
   ],
   "source": [
    "test_genrator_nor50 = test_datagen.flow_from_directory( r'D:\\Uni-passau\\thesis-smalldataset\\corrupted-50\\test',\n",
    "        target_size=(512, 512),\n",
    "        batch_size=75,\n",
    "        class_mode='categorical')\n",
    "test_acc = model.evaluate(test_genrator_nor50)\n",
    "print(\"Test_Accuracy: %.2f%%\" % (test_acc[1]*100))"
   ]
  },
  {
   "cell_type": "code",
   "execution_count": 26,
   "metadata": {},
   "outputs": [
    {
     "name": "stdout",
     "output_type": "stream",
     "text": [
      "Found 1300 images belonging to 50 classes.\n",
      "18/18 [==============================] - 232s 13s/step - loss: 8.6591 - accuracy: 0.9846\n",
      "Test_Accuracy: 98.46%\n"
     ]
    }
   ],
   "source": [
    "\n",
    "test_genrator_normal = test_datagen.flow_from_directory( r'D:\\Uni-passau\\thesis-smalldataset\\dataset-50\\test',\n",
    "        target_size=(512, 512),\n",
    "        batch_size=75,\n",
    "        class_mode='categorical')\n",
    "test_acc = model.evaluate(test_genrator_normal)\n",
    "print(\"Test_Accuracy: %.2f%%\" % (test_acc[1]*100))"
   ]
  },
  {
   "cell_type": "code",
   "execution_count": 29,
   "metadata": {},
   "outputs": [
    {
     "name": "stdout",
     "output_type": "stream",
     "text": [
      "Found 1300 images belonging to 50 classes.\n",
      "18/18 [==============================] - 232s 13s/step - loss: 8.6591 - accuracy: 0.5105\n",
      "Test_Accuracy: 51.05%\n"
     ]
    }
   ],
   "source": [
    "test_genrator_gau = test_datagen.flow_from_directory( r'D:\\Uni-passau\\thesis-smalldataset\\gaussian-50\\test',\n",
    "        target_size=(512, 512),\n",
    "        batch_size=75,\n",
    "        class_mode='categorical')\n",
    "test_acc = model.evaluate(test_genrator_gau)\n",
    "print(\"Test_Accuracy: %.2f%%\" % (test_acc[1]*100))"
   ]
  },
  {
   "cell_type": "code",
   "execution_count": 30,
   "metadata": {},
   "outputs": [
    {
     "name": "stdout",
     "output_type": "stream",
     "text": [
      "Found 1300 images belonging to 50 classes.\n",
      "18/18 [==============================] - 232s 13s/step - loss: 28.6591 - accuracy: 0.0165\n",
      "Test_Accuracy: 1.65%\n"
     ]
    }
   ],
   "source": [
    "test_genrator_nor60 = test_datagen.flow_from_directory( r'D:\\Uni-passau\\thesis-smalldataset\\corrupted-60',\n",
    "        target_size=(512, 512),\n",
    "        batch_size=75,\n",
    "        class_mode='categorical')\n",
    "test_acc = model.evaluate(test_genrator_nor60)\n",
    "print(\"Test_Accuracy: %.2f%%\" % (test_acc[1]*100))"
   ]
  },
  {
   "cell_type": "code",
   "execution_count": null,
   "metadata": {},
   "outputs": [],
   "source": []
  }
 ],
 "metadata": {
  "accelerator": "GPU",
  "colab": {
   "collapsed_sections": [],
   "machine_shape": "hm",
   "name": "noisy+normal-cnn.ipynb",
   "provenance": []
  },
  "kernelspec": {
   "display_name": "Python 3",
   "language": "python",
   "name": "python3"
  },
  "language_info": {
   "codemirror_mode": {
    "name": "ipython",
    "version": 3
   },
   "file_extension": ".py",
   "mimetype": "text/x-python",
   "name": "python",
   "nbconvert_exporter": "python",
   "pygments_lexer": "ipython3",
   "version": "3.8.3"
  }
 },
 "nbformat": 4,
 "nbformat_minor": 1
}
