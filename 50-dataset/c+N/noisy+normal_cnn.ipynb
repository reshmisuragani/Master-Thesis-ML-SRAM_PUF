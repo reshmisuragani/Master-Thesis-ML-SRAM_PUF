{
 "cells": [
  {
   "cell_type": "code",
   "execution_count": 5,
   "metadata": {
    "id": "GZ0PFLamcfou"
   },
   "outputs": [],
   "source": [
    "import tensorflow as tf\n",
    "from tensorflow.keras import datasets, layers, models\n",
    "import matplotlib.pyplot as plt\n",
    "from keras.preprocessing.image import ImageDataGenerator\n",
    "import numpy as np"
   ]
  },
  {
   "cell_type": "code",
   "execution_count": null,
   "metadata": {
    "colab": {
     "base_uri": "https://localhost:8080/"
    },
    "id": "G3slyTA5cmpy",
    "outputId": "25d4b805-fdc1-4083-de6c-44c1f9741cb7"
   },
   "outputs": [],
   "source": [
    "train_datagen_nor = ImageDataGenerator(validation_split=0.15,\n",
    "        rescale=1./255)\n",
    "\n",
    "test_datagen = ImageDataGenerator(rescale=1./255)\n",
    "\n",
    "train_data = train_datagen_nor.flow_from_directory(r'/content/drive/MyDrive/n+c+g/train',target_size=(512, 512), subset='training',\n",
    "                                                       batch_size=50, class_mode='categorical')\n",
    "valid_data = train_datagen_nor.flow_from_directory(r'/content/drive/MyDrive/n+c+g/train',target_size=(512, 512), \n",
    "                                                    subset='validation'   ,batch_size=64, class_mode='categorical')\n"
   ]
  },
  {
   "cell_type": "code",
   "execution_count": 6,
   "metadata": {
    "colab": {
     "base_uri": "https://localhost:8080/"
    },
    "id": "9CNi-GIKc8-N",
    "outputId": "957956fd-32a9-4d8f-93a6-ae0878ccbddf"
   },
   "outputs": [
    {
     "name": "stdout",
     "output_type": "stream",
     "text": [
      "Model: \"sequential_1\"\n",
      "_________________________________________________________________\n",
      "Layer (type)                 Output Shape              Param #   \n",
      "=================================================================\n",
      "conv2d_5 (Conv2D)            (None, 512, 512, 8)       224       \n",
      "_________________________________________________________________\n",
      "conv2d_6 (Conv2D)            (None, 512, 512, 48)      3504      \n",
      "_________________________________________________________________\n",
      "max_pooling2d_4 (MaxPooling2 (None, 256, 256, 48)      0         \n",
      "_________________________________________________________________\n",
      "conv2d_7 (Conv2D)            (None, 256, 256, 128)     55424     \n",
      "_________________________________________________________________\n",
      "batch_normalization_3 (Batch (None, 256, 256, 128)     512       \n",
      "_________________________________________________________________\n",
      "max_pooling2d_5 (MaxPooling2 (None, 128, 128, 128)     0         \n",
      "_________________________________________________________________\n",
      "conv2d_8 (Conv2D)            (None, 128, 128, 192)     221376    \n",
      "_________________________________________________________________\n",
      "batch_normalization_4 (Batch (None, 128, 128, 192)     768       \n",
      "_________________________________________________________________\n",
      "max_pooling2d_6 (MaxPooling2 (None, 64, 64, 192)       0         \n",
      "_________________________________________________________________\n",
      "conv2d_9 (Conv2D)            (None, 64, 64, 192)       331968    \n",
      "_________________________________________________________________\n",
      "max_pooling2d_7 (MaxPooling2 (None, 32, 32, 192)       0         \n",
      "_________________________________________________________________\n",
      "flatten_1 (Flatten)          (None, 196608)            0         \n",
      "_________________________________________________________________\n",
      "dense_3 (Dense)              (None, 128)               25165952  \n",
      "_________________________________________________________________\n",
      "batch_normalization_5 (Batch (None, 128)               512       \n",
      "_________________________________________________________________\n",
      "dense_4 (Dense)              (None, 64)                8256      \n",
      "_________________________________________________________________\n",
      "dropout_1 (Dropout)          (None, 64)                0         \n",
      "_________________________________________________________________\n",
      "dense_5 (Dense)              (None, 50)                3250      \n",
      "=================================================================\n",
      "Total params: 25,791,746\n",
      "Trainable params: 25,790,850\n",
      "Non-trainable params: 896\n",
      "_________________________________________________________________\n"
     ]
    }
   ],
   "source": [
    "from keras.regularizers import l2\n",
    "from keras.layers import BatchNormalization\n",
    "from keras.layers import GaussianNoise\n",
    "model = tf.keras.Sequential()\n",
    "model.add(tf.keras.layers.Conv2D(filters = 8, kernel_size = (3,3), kernel_regularizer=l2(0.0001), padding = 'Same', activation ='relu', input_shape = (512,512,3)))\n",
    "model.add(tf.keras.layers.Conv2D(filters = 48, kernel_size = (3,3), kernel_regularizer=l2(0.0001), padding = 'Same', activation ='relu'))\n",
    "model.add(tf.keras.layers.MaxPool2D(pool_size=(2,2), strides = 2))\n",
    "model.add(tf.keras.layers.Conv2D(filters = 128, kernel_size = (3,3),kernel_regularizer=l2(0.0001), padding = 'Same', activation ='relu'))\n",
    "model.add(tf.keras.layers.BatchNormalization())\n",
    "model.add(tf.keras.layers.MaxPool2D(pool_size=(2,2), strides= 2))\n",
    "model.add(tf.keras.layers.Conv2D(filters = 192, kernel_size = (3,3), kernel_regularizer=l2(0.0001), padding = 'Same', activation ='relu'))\n",
    "model.add(tf.keras.layers.BatchNormalization())\n",
    "model.add(tf.keras.layers.MaxPool2D(pool_size=(2,2), strides= 2))\n",
    "model.add(tf.keras.layers.Conv2D(filters = 192, kernel_size = (3,3), kernel_regularizer=l2(0.0001), padding = 'Same', activation ='relu'))\n",
    "model.add(tf.keras.layers.MaxPool2D(pool_size=(2,2), strides= 2))\n",
    "model.add(tf.keras.layers.Flatten())\n",
    "model.add(tf.keras.layers.Dense(128, activation = \"relu\", kernel_regularizer=l2(0.0001)))\n",
    "model.add(tf.keras.layers.BatchNormalization())\n",
    "model.add(tf.keras.layers.Dense(64, activation = \"relu\", kernel_regularizer=l2(0.0001)))\n",
    "model.add(tf.keras.layers.Dropout(0.2))\n",
    "model.add(tf.keras.layers.Dense(50, activation = \"softmax\"))\n",
    "model.summary()"
   ]
  },
  {
   "cell_type": "code",
   "execution_count": null,
   "metadata": {
    "id": "gC9v8xi7dRNe"
   },
   "outputs": [],
   "source": [
    "from keras.callbacks import EarlyStopping\n",
    "from keras.callbacks import ModelCheckpoint\n",
    "from keras.callbacks import CSVLogger\n",
    "\n",
    "csv = CSVLogger(\"/content/drive/MyDrive/n+c+g/normal+corrupted+gauss-model_history_log.csv\", append=True)\n",
    "es1= tf.keras.callbacks.EarlyStopping( monitor='val_accuracy',patience=2, restore_best_weights=True)\n",
    "mc = ModelCheckpoint('/content/drive/MyDrive/n+c+g/normal+corrupted+gauss--cnnmodel.h5', monitor='val_accuracy', mode='max', verbose=1, save_best_only=True)"
   ]
  },
  {
   "cell_type": "code",
   "execution_count": 7,
   "metadata": {
    "id": "9V5ue0wvdWlI"
   },
   "outputs": [],
   "source": [
    "adam = tf.keras.optimizers.Adam(learning_rate = 0.0001, decay = 0.9)\n",
    "model.compile(optimizer = adam, loss = \"categorical_crossentropy\", metrics = [\"accuracy\"])"
   ]
  },
  {
   "cell_type": "code",
   "execution_count": null,
   "metadata": {
    "colab": {
     "base_uri": "https://localhost:8080/"
    },
    "id": "UxpSk0UBdar3",
    "outputId": "418f0887-f4cf-4561-d1d0-6dcddd31fa91"
   },
   "outputs": [],
   "source": [
    "history = model.fit(train_data,epochs=100,shuffle=True,validation_data=valid_data,callbacks=[csv,es1,mc])"
   ]
  },
  {
   "cell_type": "code",
   "execution_count": null,
   "metadata": {
    "id": "QPWhL5nxaiqS"
   },
   "outputs": [],
   "source": [
    "model.save_weights(r'/content/drive/MyDrive/n+c+g/normal+corrupted-cnn-model-weights.h5')"
   ]
  },
  {
   "cell_type": "code",
   "execution_count": 8,
   "metadata": {},
   "outputs": [],
   "source": [
    "model.load_weights('normal+corrupted-cnn-model-weights.h5')"
   ]
  },
  {
   "cell_type": "code",
   "execution_count": 9,
   "metadata": {
    "colab": {
     "base_uri": "https://localhost:8080/"
    },
    "id": "mumKqkRBvAPV",
    "outputId": "9f702399-e1e2-41c3-b6e1-428dc0f1d513"
   },
   "outputs": [
    {
     "ename": "NameError",
     "evalue": "name 'train_data' is not defined",
     "output_type": "error",
     "traceback": [
      "\u001b[1;31m---------------------------------------------------------------------------\u001b[0m",
      "\u001b[1;31mNameError\u001b[0m                                 Traceback (most recent call last)",
      "\u001b[1;32m<ipython-input-9-84901751c752>\u001b[0m in \u001b[0;36m<module>\u001b[1;34m\u001b[0m\n\u001b[1;32m----> 1\u001b[1;33m \u001b[0mtrain_acc\u001b[0m\u001b[1;33m=\u001b[0m\u001b[0mmodel\u001b[0m\u001b[1;33m.\u001b[0m\u001b[0mevaluate\u001b[0m\u001b[1;33m(\u001b[0m\u001b[0mtrain_data\u001b[0m\u001b[1;33m)\u001b[0m\u001b[1;33m\u001b[0m\u001b[1;33m\u001b[0m\u001b[0m\n\u001b[0m\u001b[0;32m      2\u001b[0m \u001b[0mval_acc\u001b[0m \u001b[1;33m=\u001b[0m \u001b[0mmodel\u001b[0m\u001b[1;33m.\u001b[0m\u001b[0mevaluate\u001b[0m\u001b[1;33m(\u001b[0m\u001b[0mvalid_data\u001b[0m\u001b[1;33m)\u001b[0m\u001b[1;33m\u001b[0m\u001b[1;33m\u001b[0m\u001b[0m\n\u001b[0;32m      3\u001b[0m \u001b[0mprint\u001b[0m\u001b[1;33m(\u001b[0m\u001b[1;34m\"Train_Accuracy: %.2f%%\"\u001b[0m \u001b[1;33m%\u001b[0m \u001b[1;33m(\u001b[0m\u001b[0mtrain_acc\u001b[0m\u001b[1;33m[\u001b[0m\u001b[1;36m1\u001b[0m\u001b[1;33m]\u001b[0m\u001b[1;33m*\u001b[0m\u001b[1;36m100\u001b[0m\u001b[1;33m)\u001b[0m\u001b[1;33m)\u001b[0m\u001b[1;33m\u001b[0m\u001b[1;33m\u001b[0m\u001b[0m\n\u001b[0;32m      4\u001b[0m \u001b[0mprint\u001b[0m\u001b[1;33m(\u001b[0m\u001b[1;34m\"valid_Accuracy: %.2f%%\"\u001b[0m \u001b[1;33m%\u001b[0m \u001b[1;33m(\u001b[0m\u001b[0mval_acc\u001b[0m\u001b[1;33m[\u001b[0m\u001b[1;36m1\u001b[0m\u001b[1;33m]\u001b[0m\u001b[1;33m*\u001b[0m\u001b[1;36m100\u001b[0m\u001b[1;33m)\u001b[0m\u001b[1;33m)\u001b[0m\u001b[1;33m\u001b[0m\u001b[1;33m\u001b[0m\u001b[0m\n",
      "\u001b[1;31mNameError\u001b[0m: name 'train_data' is not defined"
     ]
    }
   ],
   "source": [
    "train_acc=model.evaluate(train_data)\n",
    "val_acc = model.evaluate(valid_data)\n",
    "print(\"Train_Accuracy: %.2f%%\" % (train_acc[1]*100))\n",
    "print(\"valid_Accuracy: %.2f%%\" % (val_acc[1]*100))"
   ]
  },
  {
   "cell_type": "code",
   "execution_count": null,
   "metadata": {},
   "outputs": [],
   "source": [
    "\n",
    "test_datagen = ImageDataGenerator(rescale=1./255)"
   ]
  },
  {
   "cell_type": "code",
   "execution_count": null,
   "metadata": {
    "colab": {
     "base_uri": "https://localhost:8080/"
    },
    "id": "veW5UOdoxN3f",
    "outputId": "bd9766a5-c07f-4212-87bd-9077f5dbccbe"
   },
   "outputs": [],
   "source": [
    "test_genrator_nor = test_datagen.flow_from_directory( r'D:\\Uni-passau\\thesis-smalldataset\\corrupted-30',\n",
    "        target_size=(512, 512),\n",
    "        batch_size=70,\n",
    "        class_mode='categorical')\n",
    "test_acc = model.evaluate(test_genrator_nor)\n",
    "print(\"Test_Accuracy: %.2f%%\" % (test_acc[1]*100))"
   ]
  },
  {
   "cell_type": "code",
   "execution_count": null,
   "metadata": {},
   "outputs": [],
   "source": [
    "test_genrator_nor10 = test_datagen.flow_from_directory( r'D:\\Uni-passau\\thesis-smalldataset\\corrupted-10',\n",
    "        target_size=(512, 512),\n",
    "        batch_size=75,\n",
    "        class_mode='categorical')\n",
    "test_acc = model.evaluate(test_genrator_nor10)\n",
    "print(\"Test_Accuracy: %.2f%%\" % (test_acc[1]*100))"
   ]
  },
  {
   "cell_type": "code",
   "execution_count": null,
   "metadata": {},
   "outputs": [],
   "source": [
    "test_genrator_nor20 = test_datagen.flow_from_directory( r'D:\\Uni-passau\\thesis-smalldataset\\corrupted-20',\n",
    "        target_size=(512, 512),\n",
    "        batch_size=75,\n",
    "        class_mode='categorical')\n",
    "test_acc = model.evaluate(test_genrator_nor10)\n",
    "print(\"Test_Accuracy: %.2f%%\" % (test_acc[1]*100))"
   ]
  },
  {
   "cell_type": "code",
   "execution_count": null,
   "metadata": {},
   "outputs": [],
   "source": []
  }
 ],
 "metadata": {
  "accelerator": "GPU",
  "colab": {
   "collapsed_sections": [],
   "machine_shape": "hm",
   "name": "noisy+normal-cnn.ipynb",
   "provenance": []
  },
  "kernelspec": {
   "display_name": "Python 3",
   "language": "python",
   "name": "python3"
  },
  "language_info": {
   "codemirror_mode": {
    "name": "ipython",
    "version": 3
   },
   "file_extension": ".py",
   "mimetype": "text/x-python",
   "name": "python",
   "nbconvert_exporter": "python",
   "pygments_lexer": "ipython3",
   "version": "3.8.3"
  }
 },
 "nbformat": 4,
 "nbformat_minor": 1
}
