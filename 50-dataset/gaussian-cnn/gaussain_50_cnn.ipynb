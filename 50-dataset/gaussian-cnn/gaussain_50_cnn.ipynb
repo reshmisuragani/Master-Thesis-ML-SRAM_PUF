{
 "cells": [
  {
   "cell_type": "code",
   "execution_count": 1,
   "metadata": {
    "id": "xvSMRwnlVA9R"
   },
   "outputs": [],
   "source": [
    "import tensorflow as tf\n",
    "from tensorflow.keras import datasets, layers, models\n",
    "import matplotlib.pyplot as plt\n",
    "from keras.preprocessing.image import ImageDataGenerator\n",
    "import numpy as np\n",
    "from keras.preprocessing.image import ImageDataGenerator\n",
    "from itertools import chain"
   ]
  },
  {
   "cell_type": "code",
   "execution_count": 2,
   "metadata": {
    "colab": {
     "base_uri": "https://localhost:8080/",
     "height": 0
    },
    "id": "xtrHuCyBVKhO",
    "outputId": "d403acbd-a580-472b-d493-a8ccc61d8174"
   },
   "outputs": [
    {
     "name": "stdout",
     "output_type": "stream",
     "text": [
      "Found 3284 images belonging to 50 classes.\n",
      "Found 564 images belonging to 50 classes.\n"
     ]
    }
   ],
   "source": [
    "train_datagen_nor = ImageDataGenerator(validation_split=0.15,\n",
    "        rescale=1./255)\n",
    "\n",
    "test_datagen = ImageDataGenerator(rescale=1./255)\n",
    "\n",
    "\n",
    "\n",
    "\n",
    "train_data = train_datagen_nor.flow_from_directory(r'D:\\Uni-passau\\thesis-smalldataset\\dataset-50\\train',target_size=(512, 512), \n",
    "                                                       subset='training',batch_size=32, class_mode='categorical')\n",
    "valid_data = train_datagen_nor.flow_from_directory(r'D:\\Uni-passau\\thesis-smalldataset\\dataset-50\\train',target_size=(512, 512), \n",
    "                                                       subset='validation',batch_size=64, class_mode='categorical')\n",
    "\n",
    "\n"
   ]
  },
  {
   "cell_type": "code",
   "execution_count": 3,
   "metadata": {
    "id": "lWDPPAZyyRt5"
   },
   "outputs": [],
   "source": [
    "import keras.backend as k\n",
    "import numpy as np\n",
    "import random\n",
    "seed = 123\n",
    "random.seed(seed)\n",
    "np.random.seed(seed)"
   ]
  },
  {
   "cell_type": "code",
   "execution_count": 3,
   "metadata": {
    "colab": {
     "base_uri": "https://localhost:8080/",
     "height": 0
    },
    "id": "B0oq63s1Von5",
    "outputId": "764ea62b-a1ee-4820-f129-68e2e2f13c88"
   },
   "outputs": [
    {
     "name": "stdout",
     "output_type": "stream",
     "text": [
      "Model: \"sequential\"\n",
      "_________________________________________________________________\n",
      "Layer (type)                 Output Shape              Param #   \n",
      "=================================================================\n",
      "conv2d (Conv2D)              (None, 512, 512, 8)       608       \n",
      "_________________________________________________________________\n",
      "conv2d_1 (Conv2D)            (None, 512, 512, 48)      9648      \n",
      "_________________________________________________________________\n",
      "max_pooling2d (MaxPooling2D) (None, 256, 256, 48)      0         \n",
      "_________________________________________________________________\n",
      "conv2d_2 (Conv2D)            (None, 256, 256, 128)     153728    \n",
      "_________________________________________________________________\n",
      "batch_normalization (BatchNo (None, 256, 256, 128)     512       \n",
      "_________________________________________________________________\n",
      "max_pooling2d_1 (MaxPooling2 (None, 128, 128, 128)     0         \n",
      "_________________________________________________________________\n",
      "conv2d_3 (Conv2D)            (None, 128, 128, 192)     221376    \n",
      "_________________________________________________________________\n",
      "batch_normalization_1 (Batch (None, 128, 128, 192)     768       \n",
      "_________________________________________________________________\n",
      "max_pooling2d_2 (MaxPooling2 (None, 64, 64, 192)       0         \n",
      "_________________________________________________________________\n",
      "flatten (Flatten)            (None, 786432)            0         \n",
      "_________________________________________________________________\n",
      "dense (Dense)                (None, 256)               201326848 \n",
      "_________________________________________________________________\n",
      "batch_normalization_2 (Batch (None, 256)               1024      \n",
      "_________________________________________________________________\n",
      "dense_1 (Dense)              (None, 128)               32896     \n",
      "_________________________________________________________________\n",
      "dropout (Dropout)            (None, 128)               0         \n",
      "_________________________________________________________________\n",
      "dense_2 (Dense)              (None, 50)                6450      \n",
      "=================================================================\n",
      "Total params: 201,753,858\n",
      "Trainable params: 201,752,706\n",
      "Non-trainable params: 1,152\n",
      "_________________________________________________________________\n"
     ]
    }
   ],
   "source": [
    "from keras.regularizers import l2\n",
    "from keras.layers import BatchNormalization\n",
    "from keras.layers import GaussianNoise\n",
    "model = tf.keras.Sequential()\n",
    "model.add(tf.keras.layers.Conv2D(filters = 8, kernel_size = (5,5), kernel_regularizer=l2(0.0001), padding = 'Same', activation ='relu', input_shape = (512,512,3)))\n",
    "model.add(tf.keras.layers.Conv2D(filters = 48, kernel_size = (5,5), kernel_regularizer=l2(0.0001), padding = 'Same', activation ='relu'))\n",
    "model.add(tf.keras.layers.MaxPool2D(pool_size=(2,2), strides = 2))\n",
    "model.add(tf.keras.layers.Conv2D(filters = 128, kernel_size = (5,5),kernel_regularizer=l2(0.0001), padding = 'Same', activation ='relu'))\n",
    "model.add(tf.keras.layers.BatchNormalization())\n",
    "model.add(tf.keras.layers.MaxPool2D(pool_size=(2,2), strides= 2))\n",
    "model.add(tf.keras.layers.Conv2D(filters = 192, kernel_size = (3,3), kernel_regularizer=l2(0.0001), padding = 'Same', activation ='relu'))\n",
    "model.add(tf.keras.layers.BatchNormalization())\n",
    "model.add(tf.keras.layers.MaxPool2D(pool_size=(2,2), strides= 2))\n",
    "\n",
    "model.add(tf.keras.layers.Flatten())\n",
    "model.add(tf.keras.layers.Dense(256, activation = \"relu\", kernel_regularizer=l2(0.0001)))\n",
    "model.add(tf.keras.layers.BatchNormalization())\n",
    "model.add(tf.keras.layers.Dense(128, activation = \"relu\", kernel_regularizer=l2(0.0001)))\n",
    "model.add(tf.keras.layers.Dropout(0.3))\n",
    "model.add(tf.keras.layers.Dense(50, activation = \"softmax\"))\n",
    "model.summary()"
   ]
  },
  {
   "cell_type": "code",
   "execution_count": 4,
   "metadata": {
    "id": "1a323nOTMtH9"
   },
   "outputs": [],
   "source": [
    "from keras.callbacks import EarlyStopping\n",
    "from keras.callbacks import ModelCheckpoint\n",
    "from keras.callbacks import CSVLogger\n",
    "\n",
    "csv = CSVLogger(\"/content/drive/MyDrive/dataset-50/gaussian-50/gaussain-50-model_history_log(normal).csv\", append=True)\n",
    "es1= tf.keras.callbacks.EarlyStopping( monitor='val_accuracy',patience=4, restore_best_weights=True)\n",
    "mc = ModelCheckpoint('/content/drive/MyDrive/dataset-50/gaussian-50/gaussain 50-cnnmodel.h5', monitor='val_accuracy', mode='max', verbose=1, save_best_only=True)"
   ]
  },
  {
   "cell_type": "code",
   "execution_count": 4,
   "metadata": {
    "id": "GGHmLNDEV11V"
   },
   "outputs": [],
   "source": [
    "adam = tf.keras.optimizers.Adam(learning_rate = 0.01, decay = 0.9)\n",
    "model.compile(optimizer = adam, loss = \"categorical_crossentropy\", metrics = [\"accuracy\"])"
   ]
  },
  {
   "cell_type": "code",
   "execution_count": 8,
   "metadata": {
    "colab": {
     "base_uri": "https://localhost:8080/",
     "height": 0
    },
    "id": "JDsqic4mV5ZV",
    "outputId": "72c78bf3-3006-4dc2-ca60-38b2d56c82e0"
   },
   "outputs": [
    {
     "name": "stdout",
     "output_type": "stream",
     "text": [
      "Epoch 1/30\n",
      "100/100 [==============================] - 2199s 22s/step - loss: 10.5004 - accuracy: 0.2497 - val_loss: 27.8525 - val_accuracy: 0.0400\n",
      "\n",
      "Epoch 00001: val_accuracy improved from -inf to 0.04000, saving model to /content/drive/MyDrive/dataset-50/gaussian-50/gaussain 50-cnnmodel.h5\n",
      "Epoch 2/30\n",
      "100/100 [==============================] - 176s 2s/step - loss: 9.7496 - accuracy: 0.5800 - val_loss: 12.9216 - val_accuracy: 0.0618\n",
      "\n",
      "Epoch 00002: val_accuracy improved from 0.04000 to 0.06182, saving model to /content/drive/MyDrive/dataset-50/gaussian-50/gaussain 50-cnnmodel.h5\n",
      "Epoch 3/30\n",
      "100/100 [==============================] - 172s 2s/step - loss: 9.2634 - accuracy: 0.7513 - val_loss: 10.1640 - val_accuracy: 0.2782\n",
      "\n",
      "Epoch 00003: val_accuracy improved from 0.06182 to 0.27818, saving model to /content/drive/MyDrive/dataset-50/gaussian-50/gaussain 50-cnnmodel.h5\n",
      "Epoch 4/30\n",
      "100/100 [==============================] - 178s 2s/step - loss: 8.9657 - accuracy: 0.8175 - val_loss: 8.8971 - val_accuracy: 0.9745\n",
      "\n",
      "Epoch 00004: val_accuracy improved from 0.27818 to 0.97455, saving model to /content/drive/MyDrive/dataset-50/gaussian-50/gaussain 50-cnnmodel.h5\n",
      "Epoch 5/30\n",
      "100/100 [==============================] - 172s 2s/step - loss: 8.7138 - accuracy: 0.8734 - val_loss: 8.5640 - val_accuracy: 0.9855\n",
      "\n",
      "Epoch 00005: val_accuracy improved from 0.97455 to 0.98545, saving model to /content/drive/MyDrive/dataset-50/gaussian-50/gaussain 50-cnnmodel.h5\n",
      "Epoch 6/30\n",
      "100/100 [==============================] - 170s 2s/step - loss: 8.5696 - accuracy: 0.8881 - val_loss: 8.3565 - val_accuracy: 0.9855\n",
      "\n",
      "Epoch 00006: val_accuracy did not improve from 0.98545\n",
      "Epoch 7/30\n",
      "100/100 [==============================] - 160s 2s/step - loss: 8.4117 - accuracy: 0.9119 - val_loss: 8.1920 - val_accuracy: 0.9673\n",
      "\n",
      "Epoch 00007: val_accuracy did not improve from 0.98545\n",
      "Epoch 8/30\n",
      "100/100 [==============================] - 155s 2s/step - loss: 8.2856 - accuracy: 0.9237 - val_loss: 8.0502 - val_accuracy: 0.9745\n",
      "\n",
      "Epoch 00008: val_accuracy did not improve from 0.98545\n",
      "Epoch 9/30\n",
      "100/100 [==============================] - 155s 2s/step - loss: 8.2114 - accuracy: 0.9303 - val_loss: 7.9609 - val_accuracy: 0.9855\n",
      "\n",
      "Epoch 00009: val_accuracy did not improve from 0.98545\n"
     ]
    }
   ],
   "source": [
    "history = model.fit(train_data,epochs=30,shuffle=True,validation_data=valid_data,callbacks=[csv,es1,mc])"
   ]
  },
  {
   "cell_type": "code",
   "execution_count": null,
   "metadata": {
    "id": "1eHasF9zM-Lm"
   },
   "outputs": [],
   "source": []
  },
  {
   "cell_type": "code",
   "execution_count": 5,
   "metadata": {
    "id": "EawMGGlFFs4b"
   },
   "outputs": [],
   "source": [
    "model.load_weights(r'D:\\Uni-passau\\thesis-results\\50-dataset\\gaussian-cnn\\cnn_noise_dataset-50_weights1.h5')"
   ]
  },
  {
   "cell_type": "code",
   "execution_count": 15,
   "metadata": {
    "colab": {
     "base_uri": "https://localhost:8080/",
     "height": 295
    },
    "id": "e5qw6-bU8OyV",
    "outputId": "3ebb07fa-1086-4e1d-e4d8-bca37e29e59e"
   },
   "outputs": [
    {
     "data": {
      "image/png": "[encoded data removed]",
      "text/plain": [
       "<Figure size 432x288 with 1 Axes>"
      ]
     },
     "metadata": {
      "needs_background": "light",
      "tags": []
     },
     "output_type": "display_data"
    }
   ],
   "source": [
    "plt.plot(history.history['loss'])\n",
    "plt.plot(history.history['val_loss'])\n",
    "plt.title('Model Loss')\n",
    "plt.ylabel('Loss')\n",
    "plt.xlabel('Epochs')\n",
    "plt.legend(['train', 'validation'])\n",
    "plt.savefig('/content/drive/MyDrive/dataset-50/gaussian-50/cnn-gaussain-loss.png')\n",
    "plt.show()"
   ]
  },
  {
   "cell_type": "code",
   "execution_count": 16,
   "metadata": {
    "colab": {
     "base_uri": "https://localhost:8080/",
     "height": 295
    },
    "id": "IxyeD7SJNZVJ",
    "outputId": "e01c45a0-5161-44c4-f1c7-a3bfcb03556c"
   },
   "outputs": [
    {
     "data": {
      "image/png": "[encoded data removed]",
      "text/plain": [
       "<Figure size 432x288 with 1 Axes>"
      ]
     },
     "metadata": {
      "needs_background": "light",
      "tags": []
     },
     "output_type": "display_data"
    }
   ],
   "source": [
    "plt.plot(history.history['accuracy'])\n",
    "plt.plot(history.history['val_accuracy'])\n",
    "plt.title('Model Accuracy')\n",
    "plt.ylabel('Accuracy')\n",
    "plt.xlabel('Epochs')\n",
    "plt.legend(['train', 'validation'])\n",
    "plt.savefig('/content/drive/MyDrive/dataset-50/gaussian-50/cnn-gaussain-accuracy.png')\n",
    "plt.show()"
   ]
  },
  {
   "cell_type": "code",
   "execution_count": 6,
   "metadata": {},
   "outputs": [],
   "source": [
    "test_datagen_nor = ImageDataGenerator(rescale=1./255)\n",
    "test_datagen_aug =  ImageDataGenerator(width_shift_range=0.15,\n",
    "        height_shift_range=0.15,\n",
    "        horizontal_flip=True,rotation_range=10,\n",
    "        rescale=1./255)"
   ]
  },
  {
   "cell_type": "code",
   "execution_count": 10,
   "metadata": {
    "colab": {
     "base_uri": "https://localhost:8080/",
     "height": 0
    },
    "id": "Wf_2g9G23t5_",
    "outputId": "efe4e8e5-f70c-4e5b-daa3-aa2565ae0c63"
   },
   "outputs": [
    {
     "name": "stdout",
     "output_type": "stream",
     "text": [
      "100/100 [==============================] - 134s 1s/step - loss: 8.4516 - accuracy: 0.9831\n",
      "9/9 [==============================] - 23s 3s/step - loss: 8.5640 - accuracy: 0.9855\n",
      "Train_Accuracy: 98.31%\n",
      "valid_Accuracy: 98.55%\n"
     ]
    }
   ],
   "source": [
    "train_acc=model.evaluate(train_data)\n",
    "val_acc = model.evaluate(valid_data)\n",
    "print(\"Train_Accuracy: %.2f%%\" % (train_acc[1]*100))\n",
    "print(\"valid_Accuracy: %.2f%%\" % (val_acc[1]*100))"
   ]
  },
  {
   "cell_type": "code",
   "execution_count": null,
   "metadata": {},
   "outputs": [],
   "source": [
    "## gaussian noise"
   ]
  },
  {
   "cell_type": "code",
   "execution_count": 14,
   "metadata": {
    "colab": {
     "base_uri": "https://localhost:8080/",
     "height": 0
    },
    "id": "0hgFn3R3Qdy2",
    "outputId": "f7376cb5-b1a3-4430-bf79-2f5769064ece"
   },
   "outputs": [
    {
     "name": "stdout",
     "output_type": "stream",
     "text": [
      "Found 1300 images belonging to 50 classes.\n",
      "Test_Accuracy: 98.54%\n"
     ]
    }
   ],
   "source": [
    "test_genrator_gau = test_datagen.flow_from_directory( r'/content/drive/MyDrive/dataset-50/gaussian-50/test',\n",
    "        target_size=(512, 512),\n",
    "        batch_size=32,\n",
    "        class_mode='categorical')\n",
    "test_acc = model.evaluate(test_genrator_gau, verbose=0)\n",
    "print(\"Test_Accuracy: %.2f%%\" % (test_acc[1]*100))"
   ]
  },
  {
   "cell_type": "code",
   "execution_count": 19,
   "metadata": {},
   "outputs": [
    {
     "name": "stdout",
     "output_type": "stream",
     "text": [
      "Found 1300 images belonging to 50 classes.\n"
     ]
    }
   ],
   "source": [
    "test_genrator = test_datagen.flow_from_directory( r'D:\\Uni-passau\\thesis-smalldataset\\dataset-50\\test',\n",
    "        target_size=(512, 512),\n",
    "        batch_size=100,\n",
    "        class_mode='categorical')"
   ]
  },
  {
   "cell_type": "code",
   "execution_count": 20,
   "metadata": {},
   "outputs": [
    {
     "name": "stdout",
     "output_type": "stream",
     "text": [
      "13\n"
     ]
    }
   ],
   "source": [
    "x_test =[]\n",
    "y_test =[]\n",
    "len = int(1300/100)\n",
    "print(len)\n",
    "for i in range(len):\n",
    "  x,y = next(test_genrator)\n",
    "  x_test.append(x)\n",
    "  y_test.append(y)"
   ]
  },
  {
   "cell_type": "code",
   "execution_count": 21,
   "metadata": {},
   "outputs": [
    {
     "name": "stdout",
     "output_type": "stream",
     "text": [
      "(13, 100, 50) (13, 100, 512, 512, 3)\n"
     ]
    }
   ],
   "source": [
    "import numpy as np\n",
    "X_test =np.array(x_test)\n",
    "Y_test = np.array(y_test)\n",
    "print(Y_test.shape,X_test.shape)"
   ]
  },
  {
   "cell_type": "code",
   "execution_count": 22,
   "metadata": {},
   "outputs": [
    {
     "name": "stdout",
     "output_type": "stream",
     "text": [
      "(1300, 50) (1300, 512, 512, 3)\n"
     ]
    }
   ],
   "source": [
    "import numpy as np\n",
    "n,batches,hei,wid,col=np.array(x_test).shape\n",
    "X=np.array(x_test).reshape(n*batches,hei,wid,col)\n",
    "x,y,z=np.array(y_test).shape\n",
    "Y =np.array(y_test).reshape(x*y,z)\n",
    "print(Y.shape,X.shape)"
   ]
  },
  {
   "cell_type": "code",
   "execution_count": null,
   "metadata": {},
   "outputs": [],
   "source": [
    "Y_pred = model.predict(X)\n",
    "# Convert predictions classes to one hot vectors \n",
    "Y_pred_classes = np.argmax(Y_pred,axis = 1)\n",
    "Y_classes = np.argmax(Y,axis = 1)"
   ]
  },
  {
   "cell_type": "code",
   "execution_count": null,
   "metadata": {},
   "outputs": [],
   "source": [
    "from sklearn.metrics import classification_report\n",
    "print(classification_report(Y_classes, Y_pred_classes))"
   ]
  },
  {
   "cell_type": "code",
   "execution_count": null,
   "metadata": {},
   "outputs": [],
   "source": [
    "## gaussian noise augumentation"
   ]
  },
  {
   "cell_type": "code",
   "execution_count": 19,
   "metadata": {
    "colab": {
     "base_uri": "https://localhost:8080/"
    },
    "id": "qTDBgknpYlPE",
    "outputId": "f4381917-168b-4666-dcaf-07af915a7754"
   },
   "outputs": [
    {
     "name": "stdout",
     "output_type": "stream",
     "text": [
      "Found 1300 images belonging to 50 classes.\n",
      "Test_Accuracy: 3.23%\n"
     ]
    }
   ],
   "source": [
    "test_datagen1 = ImageDataGenerator(width_shift_range=0.15,\n",
    "        height_shift_range=0.15,\n",
    "        shear_range=0.1,\n",
    "        zoom_range=0.15,\n",
    "        horizontal_flip=True,rotation_range=10,vertical_flip=True,\n",
    "        fill_mode='nearest',rescale=1./255)\n",
    "test_genrator_gau_aug = test_datagen1.flow_from_directory( r'/content/drive/MyDrive/dataset-50/gaussian-50/test',\n",
    "        target_size=(512, 512),\n",
    "        batch_size=32,\n",
    "        class_mode='categorical')\n",
    "test_acc = model.evaluate(test_genrator_gau_aug, verbose=0)\n",
    "print(\"Test_Accuracy: %.2f%%\" % (test_acc[1]*100))"
   ]
  },
  {
   "cell_type": "code",
   "execution_count": null,
   "metadata": {},
   "outputs": [],
   "source": [
    "## normal datset"
   ]
  },
  {
   "cell_type": "code",
   "execution_count": 11,
   "metadata": {
    "colab": {
     "base_uri": "https://localhost:8080/",
     "height": 0
    },
    "id": "WjM_cc7jOwNx",
    "outputId": "f0bc044b-3a1c-47f1-9548-8ed20ecfaa58"
   },
   "outputs": [
    {
     "name": "stdout",
     "output_type": "stream",
     "text": [
      "Found 1300 images belonging to 50 classes.\n",
      "41/41 [==============================] - 328s 8s/step - loss: 9.6713 - accuracy: 0.4054\n",
      "Test_Accuracy: 40.54%\n"
     ]
    }
   ],
   "source": [
    "test_genrator_nor = test_datagen.flow_from_directory( r'D:\\Uni-passau\\thesis-smalldataset\\dataset-50\\test',\n",
    "        target_size=(512, 512),\n",
    "        batch_size=32,\n",
    "        class_mode='categorical')\n",
    "test_acc = model.evaluate(test_genrator_nor)\n",
    "print(\"Test_Accuracy: %.2f%%\" % (test_acc[1]*100))"
   ]
  },
  {
   "cell_type": "code",
   "execution_count": null,
   "metadata": {},
   "outputs": [],
   "source": [
    "## salt and pepper"
   ]
  },
  {
   "cell_type": "code",
   "execution_count": 21,
   "metadata": {
    "colab": {
     "base_uri": "https://localhost:8080/"
    },
    "id": "mSPu1o3iXs7v",
    "outputId": "188176c1-b2ad-48f4-e45a-84bdcdee46ea"
   },
   "outputs": [
    {
     "name": "stdout",
     "output_type": "stream",
     "text": [
      "Found 1300 images belonging to 50 classes.\n",
      "Test_Accuracy: 73.85%\n"
     ]
    }
   ],
   "source": [
    "test_datagen2 = ImageDataGenerator(rescale=1./255)\n",
    "\n",
    "test_genrator_salt = test_datagen2.flow_from_directory( r'/content/drive/MyDrive/dataset-50/saltandpepper',\n",
    "        target_size=(512, 512),\n",
    "        batch_size=32,\n",
    "        class_mode='categorical')\n",
    "test_acc = model.evaluate(test_genrator_salt, verbose=0)\n",
    "print(\"Test_Accuracy: %.2f%%\" % (test_acc[1]*100))"
   ]
  },
  {
   "cell_type": "code",
   "execution_count": null,
   "metadata": {},
   "outputs": [],
   "source": [
    "## normal datset with augumentation"
   ]
  },
  {
   "cell_type": "code",
   "execution_count": null,
   "metadata": {
    "colab": {
     "base_uri": "https://localhost:8080/"
    },
    "id": "b-5k1TZxVj3Q",
    "outputId": "b8181ba1-f49b-4031-ba22-b7878c7b482b"
   },
   "outputs": [
    {
     "name": "stdout",
     "output_type": "stream",
     "text": [
      "Found 1300 images belonging to 50 classes.\n",
      "33/41 [=======================>......] - ETA: 1:08 - loss: 22.3408 - accuracy: 0.0275"
     ]
    }
   ],
   "source": [
    "test_genrator_nor_aug = test_datagen_aug.flow_from_directory( r'D:\\Uni-passau\\thesis-smalldataset\\dataset-50\\test',\n",
    "        target_size=(512, 512),\n",
    "        batch_size=32,\n",
    "        class_mode='categorical')\n",
    "test_acc = model.evaluate(test_genrator_nor_aug)\n",
    "print(\"Test_Accuracy: %.2f%%\" % (test_acc[1]*100))"
   ]
  },
  {
   "cell_type": "code",
   "execution_count": null,
   "metadata": {},
   "outputs": [],
   "source": [
    "## corrupted - 50"
   ]
  },
  {
   "cell_type": "code",
   "execution_count": 25,
   "metadata": {
    "colab": {
     "base_uri": "https://localhost:8080/"
    },
    "id": "QReeDJt0o6YS",
    "outputId": "c75555b8-640b-41fa-fc03-1fe7273092ed"
   },
   "outputs": [
    {
     "name": "stdout",
     "output_type": "stream",
     "text": [
      "Found 1898 images belonging to 50 classes.\n",
      "Test_Accuracy: 1.37%\n"
     ]
    }
   ],
   "source": [
    "test_datagen3 = ImageDataGenerator(rescale=1./255)\n",
    "\n",
    "test_genrator_corrupted = test_datagen3.flow_from_directory( r'/content/drive/MyDrive/dataset-50/coorupted resposes',target_size=(512,512),\n",
    "        batch_size=32,\n",
    "        class_mode='categorical')\n",
    "test_acc = model.evaluate(test_genrator_corrupted, verbose=0)\n",
    "print(\"Test_Accuracy: %.2f%%\" % (test_acc[1]*100))"
   ]
  },
  {
   "cell_type": "code",
   "execution_count": null,
   "metadata": {},
   "outputs": [],
   "source": [
    "## corrupted -20"
   ]
  },
  {
   "cell_type": "code",
   "execution_count": 28,
   "metadata": {
    "colab": {
     "base_uri": "https://localhost:8080/"
    },
    "id": "OS_yjx_j2uWp",
    "outputId": "39e21b02-3fd3-4346-e050-f668b94dc262"
   },
   "outputs": [
    {
     "name": "stdout",
     "output_type": "stream",
     "text": [
      "Found 1300 images belonging to 50 classes.\n",
      "Test_Accuracy: 2.77%\n"
     ]
    }
   ],
   "source": [
    "test_corrupted1= test_datagen3.flow_from_directory( r'/content/drive/MyDrive/dataset-50/corrupted-1/test',\n",
    "        batch_size=32,target_size=(512,512),\n",
    "        class_mode='categorical')\n",
    "test_acc = model.evaluate(test_corrupted1, verbose=0)\n",
    "print(\"Test_Accuracy: %.2f%%\" % (test_acc[1]*100))"
   ]
  },
  {
   "cell_type": "code",
   "execution_count": null,
   "metadata": {},
   "outputs": [],
   "source": [
    "## corrupted-25"
   ]
  },
  {
   "cell_type": "code",
   "execution_count": null,
   "metadata": {},
   "outputs": [
    {
     "name": "stdout",
     "output_type": "stream",
     "text": [
      "Found 1050 images belonging to 50 classes.\n",
      "29/33 [=========================>....] - ETA: 31s - loss: 4.0084 - accuracy: 0.0226"
     ]
    }
   ],
   "source": [
    "test_corrupted1= test_datagen_nor.flow_from_directory( r'E:\\thesis-smalldataset\\corrupted-25\\test',\n",
    "        batch_size=64,target_size=(512,512),\n",
    "        class_mode='categorical')\n",
    "test_acc = model.evaluate(test_corrupted1)\n",
    "print(\"Test_Accuracy: %.2f%%\" % (test_acc[1]*100))"
   ]
  },
  {
   "cell_type": "code",
   "execution_count": null,
   "metadata": {},
   "outputs": [],
   "source": [
    "print('hi')"
   ]
  },
  {
   "cell_type": "code",
   "execution_count": null,
   "metadata": {},
   "outputs": [],
   "source": []
  }
 ],
 "metadata": {
  "accelerator": "GPU",
  "colab": {
   "collapsed_sections": [],
   "machine_shape": "hm",
   "name": "gaussain-50-cnn.ipynb",
   "provenance": [],
   "toc_visible": true
  },
  "kernelspec": {
   "display_name": "Python 3",
   "language": "python",
   "name": "python3"
  },
  "language_info": {
   "codemirror_mode": {
    "name": "ipython",
    "version": 3
   },
   "file_extension": ".py",
   "mimetype": "text/x-python",
   "name": "python",
   "nbconvert_exporter": "python",
   "pygments_lexer": "ipython3",
   "version": "3.8.3"
  }
 },
 "nbformat": 4,
 "nbformat_minor": 1
}
