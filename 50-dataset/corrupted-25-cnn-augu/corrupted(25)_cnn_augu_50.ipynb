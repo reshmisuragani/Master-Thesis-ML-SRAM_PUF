{
 "cells": [
  {
   "cell_type": "code",
   "execution_count": 1,
   "metadata": {
    "id": "2m91umBbW5Su"
   },
   "outputs": [],
   "source": [
    "import tensorflow as tf\n",
    "from tensorflow.keras import datasets, layers, models\n",
    "import matplotlib.pyplot as plt\n",
    "from keras.preprocessing.image import ImageDataGenerator\n",
    "import numpy as np"
   ]
  },
  {
   "cell_type": "code",
   "execution_count": 4,
   "metadata": {
    "colab": {
     "base_uri": "https://localhost:8080/"
    },
    "id": "mZDz_IBUYS7G",
    "outputId": "7b05b070-96c2-46c2-a2f2-b4c29ce3f0a2"
   },
   "outputs": [
    {
     "name": "stdout",
     "output_type": "stream",
     "text": [
      "Drive already mounted at /content/drive; to attempt to forcibly remount, call drive.mount(\"/content/drive\", force_remount=True).\n"
     ]
    }
   ],
   "source": [
    "from google.colab import drive\n",
    "drive.mount('/content/drive')"
   ]
  },
  {
   "cell_type": "code",
   "execution_count": 2,
   "metadata": {
    "colab": {
     "base_uri": "https://localhost:8080/"
    },
    "id": "5Ke27dNFW864",
    "outputId": "eccfd8c0-c757-4bdb-8a7b-45e557e4ddaf"
   },
   "outputs": [
    {
     "name": "stdout",
     "output_type": "stream",
     "text": [
      "Found 3404 images belonging to 50 classes.\n",
      "Found 600 images belonging to 50 classes.\n"
     ]
    }
   ],
   "source": [
    "\n",
    "train_datagen =ImageDataGenerator(width_shift_range=0.15,\n",
    "        height_shift_range=0.15, shear_range=0.15,\n",
    "        validation_split=0.15,\n",
    "        rescale=1./255)\n",
    "\n",
    "train_data = train_datagen.flow_from_directory(\n",
    "       r'/content/drive/MyDrive/dataset-corrupted/corrupted-25/train',\n",
    "        target_size=(256,256),\n",
    "        batch_size=210,subset ='training',\n",
    "        class_mode='categorical')\n",
    "valid_data = train_datagen.flow_from_directory(\n",
    "       r'/content/drive/MyDrive/dataset-corrupted/corrupted-25/train',\n",
    "        target_size=(256,256),\n",
    "        batch_size=128,subset ='validation',\n",
    "        class_mode='categorical')"
   ]
  },
  {
   "cell_type": "code",
   "execution_count": 2,
   "metadata": {
    "colab": {
     "base_uri": "https://localhost:8080/"
    },
    "id": "B-hBZpdeXLBy",
    "outputId": "a24ff674-2a58-4a80-8320-0c44faf16a2d"
   },
   "outputs": [
    {
     "name": "stdout",
     "output_type": "stream",
     "text": [
      "Model: \"sequential\"\n",
      "_________________________________________________________________\n",
      "Layer (type)                 Output Shape              Param #   \n",
      "=================================================================\n",
      "conv2d (Conv2D)              (None, 256, 256, 8)       2912      \n",
      "_________________________________________________________________\n",
      "conv2d_1 (Conv2D)            (None, 256, 256, 48)      9648      \n",
      "_________________________________________________________________\n",
      "max_pooling2d (MaxPooling2D) (None, 128, 128, 48)      0         \n",
      "_________________________________________________________________\n",
      "conv2d_2 (Conv2D)            (None, 128, 128, 128)     55424     \n",
      "_________________________________________________________________\n",
      "batch_normalization (BatchNo (None, 128, 128, 128)     512       \n",
      "_________________________________________________________________\n",
      "max_pooling2d_1 (MaxPooling2 (None, 64, 64, 128)       0         \n",
      "_________________________________________________________________\n",
      "conv2d_3 (Conv2D)            (None, 64, 64, 192)       221376    \n",
      "_________________________________________________________________\n",
      "batch_normalization_1 (Batch (None, 64, 64, 192)       768       \n",
      "_________________________________________________________________\n",
      "max_pooling2d_2 (MaxPooling2 (None, 32, 32, 192)       0         \n",
      "_________________________________________________________________\n",
      "conv2d_4 (Conv2D)            (None, 32, 32, 192)       331968    \n",
      "_________________________________________________________________\n",
      "batch_normalization_2 (Batch (None, 32, 32, 192)       768       \n",
      "_________________________________________________________________\n",
      "max_pooling2d_3 (MaxPooling2 (None, 16, 16, 192)       0         \n",
      "_________________________________________________________________\n",
      "flatten (Flatten)            (None, 49152)             0         \n",
      "_________________________________________________________________\n",
      "dense (Dense)                (None, 1024)              50332672  \n",
      "_________________________________________________________________\n",
      "batch_normalization_3 (Batch (None, 1024)              4096      \n",
      "_________________________________________________________________\n",
      "dense_1 (Dense)              (None, 512)               524800    \n",
      "_________________________________________________________________\n",
      "batch_normalization_4 (Batch (None, 512)               2048      \n",
      "_________________________________________________________________\n",
      "dense_2 (Dense)              (None, 512)               262656    \n",
      "_________________________________________________________________\n",
      "dense_3 (Dense)              (None, 50)                25650     \n",
      "=================================================================\n",
      "Total params: 51,775,298\n",
      "Trainable params: 51,771,202\n",
      "Non-trainable params: 4,096\n",
      "_________________________________________________________________\n"
     ]
    }
   ],
   "source": [
    "\n",
    "\n",
    "from keras.regularizers import l2\n",
    "from keras.layers import BatchNormalization\n",
    "from keras.layers import GaussianNoise\n",
    "model = tf.keras.Sequential()\n",
    "model.add(tf.keras.layers.Conv2D(filters = 8, kernel_size = (11,11), kernel_regularizer=l2(0.001), padding = 'Same', activation ='relu', input_shape = (256,256,3)))\n",
    "model.add(tf.keras.layers.Conv2D(filters = 48, kernel_size = (5,5), kernel_regularizer=l2(0.001), padding = 'Same', activation ='relu'))\n",
    "model.add(tf.keras.layers.MaxPool2D(pool_size=(2,2), strides = 2))\n",
    "model.add(tf.keras.layers.Conv2D(filters = 128, kernel_size = (3,3),kernel_regularizer=l2(0.001), padding = 'Same', activation ='relu'))\n",
    "model.add(tf.keras.layers.BatchNormalization())\n",
    "model.add(tf.keras.layers.MaxPool2D(pool_size=(2,2), strides= 2))\n",
    "model.add(tf.keras.layers.Conv2D(filters = 192, kernel_size = (3,3), kernel_regularizer=l2(0.001), padding = 'Same', activation ='relu'))\n",
    "model.add(tf.keras.layers.BatchNormalization())\n",
    "model.add(tf.keras.layers.MaxPool2D(pool_size=(2,2), strides= 2))\n",
    "model.add(tf.keras.layers.Conv2D(filters = 192, kernel_size = (3,3), kernel_regularizer=l2(0.001), padding = 'Same', activation ='relu'))\n",
    "model.add(tf.keras.layers.BatchNormalization())\n",
    "model.add(tf.keras.layers.MaxPool2D(pool_size=(2,2), strides= 2))\n",
    "\n",
    "model.add(tf.keras.layers.Flatten())\n",
    "\n",
    "model.add(tf.keras.layers.Dense(1024, activation = \"relu\", kernel_regularizer=l2(0.001)))\n",
    "model.add(tf.keras.layers.BatchNormalization())\n",
    "\n",
    "model.add(tf.keras.layers.Dense(512, activation = \"relu\", kernel_regularizer=l2(0.001)))\n",
    "model.add(tf.keras.layers.BatchNormalization())\n",
    "model.add(tf.keras.layers.Dense(512, activation = \"relu\", kernel_regularizer=l2(0.001)))\n",
    "model.add(tf.keras.layers.Dense(50, activation = \"softmax\"))\n",
    "model.summary()\n"
   ]
  },
  {
   "cell_type": "code",
   "execution_count": 4,
   "metadata": {
    "id": "m6_Gzxub_pEa"
   },
   "outputs": [],
   "source": [
    "import tensorflow.compat.v1 as tfs\n",
    "gpu_options = tfs.GPUOptions(allow_growth = True)\n",
    "session = tfs.InteractiveSession(config = tfs.ConfigProto(gpu_options = gpu_options))"
   ]
  },
  {
   "cell_type": "code",
   "execution_count": 5,
   "metadata": {
    "id": "bqsQiaKVDH9w"
   },
   "outputs": [],
   "source": [
    "from keras.callbacks import EarlyStopping\n",
    "from keras.callbacks import ModelCheckpoint\n",
    "from keras.callbacks import CSVLogger\n",
    "\n",
    "csv = CSVLogger(\"/content/drive/MyDrive/dataset-corrupted/corrupted-25/corrupted-augu-cnn-50-model_history_log(normal).csv\", append=True)\n",
    "es1= tf.keras.callbacks.EarlyStopping(monitor='val_accuracy',patience=5, restore_best_weights=True)\n",
    "mc = ModelCheckpoint('/content/drive/MyDrive/dataset-corrupted/corrupted-25/corrupted-augu-cnn-50-model.h5', monitor='val_accuracy', mode='max', verbose=1, save_best_only=True)"
   ]
  },
  {
   "cell_type": "code",
   "execution_count": 3,
   "metadata": {
    "id": "h11p6SKAWWOR"
   },
   "outputs": [],
   "source": [
    "\n",
    "adam = tf.keras.optimizers.Adam(learning_rate = 0.01, decay = 0.9)\n",
    "model.compile(optimizer = adam, loss = \"categorical_crossentropy\", metrics = [\"accuracy\"])"
   ]
  },
  {
   "cell_type": "code",
   "execution_count": 8,
   "metadata": {
    "colab": {
     "base_uri": "https://localhost:8080/"
    },
    "id": "j4RXE3XZh8q4",
    "outputId": "239252ab-3c39-4403-a194-564dcd4c2236"
   },
   "outputs": [
    {
     "name": "stdout",
     "output_type": "stream",
     "text": [
      "Epoch 1/300\n",
      "17/17 [==============================] - 94s 6s/step - loss: 21.2594 - accuracy: 0.2929 - val_loss: 839.3954 - val_accuracy: 0.0200\n",
      "\n",
      "Epoch 00001: val_accuracy did not improve from 0.02000\n",
      "Epoch 2/300\n",
      "17/17 [==============================] - 91s 5s/step - loss: 20.2841 - accuracy: 0.3931 - val_loss: 322.0686 - val_accuracy: 0.0200\n",
      "\n",
      "Epoch 00002: val_accuracy did not improve from 0.02000\n",
      "Epoch 3/300\n",
      "17/17 [==============================] - 90s 5s/step - loss: 19.4304 - accuracy: 0.4971 - val_loss: 173.6793 - val_accuracy: 0.0217\n",
      "\n",
      "Epoch 00003: val_accuracy improved from 0.02000 to 0.02167, saving model to /content/drive/MyDrive/dataset-corrupted/corrupted-25/corrupted-augu-cnn-50-model.h5\n",
      "Epoch 4/300\n",
      "17/17 [==============================] - 91s 5s/step - loss: 18.6587 - accuracy: 0.5861 - val_loss: 105.5211 - val_accuracy: 0.0200\n",
      "\n",
      "Epoch 00004: val_accuracy did not improve from 0.02167\n",
      "Epoch 5/300\n",
      "17/17 [==============================] - 91s 5s/step - loss: 17.9550 - accuracy: 0.6486 - val_loss: 69.6897 - val_accuracy: 0.0200\n",
      "\n",
      "Epoch 00005: val_accuracy did not improve from 0.02167\n",
      "Epoch 6/300\n",
      "17/17 [==============================] - 91s 5s/step - loss: 17.4347 - accuracy: 0.6575 - val_loss: 46.3868 - val_accuracy: 0.0200\n",
      "\n",
      "Epoch 00006: val_accuracy did not improve from 0.02167\n",
      "Epoch 7/300\n",
      "17/17 [==============================] - 90s 5s/step - loss: 16.8221 - accuracy: 0.7397 - val_loss: 34.2718 - val_accuracy: 0.0200\n",
      "\n",
      "Epoch 00007: val_accuracy did not improve from 0.02167\n",
      "Epoch 8/300\n",
      "17/17 [==============================] - 90s 5s/step - loss: 16.3406 - accuracy: 0.7773 - val_loss: 27.0701 - val_accuracy: 0.0233\n",
      "\n",
      "Epoch 00008: val_accuracy improved from 0.02167 to 0.02333, saving model to /content/drive/MyDrive/dataset-corrupted/corrupted-25/corrupted-augu-cnn-50-model.h5\n",
      "Epoch 9/300\n",
      "17/17 [==============================] - 91s 5s/step - loss: 15.9269 - accuracy: 0.7929 - val_loss: 22.9659 - val_accuracy: 0.0233\n",
      "\n",
      "Epoch 00009: val_accuracy did not improve from 0.02333\n",
      "Epoch 10/300\n",
      "17/17 [==============================] - 90s 5s/step - loss: 15.5447 - accuracy: 0.8126 - val_loss: 20.9180 - val_accuracy: 0.0317\n",
      "\n",
      "Epoch 00010: val_accuracy improved from 0.02333 to 0.03167, saving model to /content/drive/MyDrive/dataset-corrupted/corrupted-25/corrupted-augu-cnn-50-model.h5\n",
      "Epoch 11/300\n",
      "17/17 [==============================] - 92s 5s/step - loss: 15.2007 - accuracy: 0.8273 - val_loss: 19.8488 - val_accuracy: 0.0400\n",
      "\n",
      "Epoch 00011: val_accuracy improved from 0.03167 to 0.04000, saving model to /content/drive/MyDrive/dataset-corrupted/corrupted-25/corrupted-augu-cnn-50-model.h5\n",
      "Epoch 12/300\n",
      "17/17 [==============================] - 91s 5s/step - loss: 14.8245 - accuracy: 0.8543 - val_loss: 18.0793 - val_accuracy: 0.0567\n",
      "\n",
      "Epoch 00012: val_accuracy improved from 0.04000 to 0.05667, saving model to /content/drive/MyDrive/dataset-corrupted/corrupted-25/corrupted-augu-cnn-50-model.h5\n",
      "Epoch 13/300\n",
      "17/17 [==============================] - 92s 5s/step - loss: 14.5260 - accuracy: 0.8605 - val_loss: 16.8480 - val_accuracy: 0.1217\n",
      "\n",
      "Epoch 00013: val_accuracy improved from 0.05667 to 0.12167, saving model to /content/drive/MyDrive/dataset-corrupted/corrupted-25/corrupted-augu-cnn-50-model.h5\n",
      "Epoch 14/300\n",
      "17/17 [==============================] - 93s 5s/step - loss: 14.2464 - accuracy: 0.8798 - val_loss: 15.4114 - val_accuracy: 0.4867\n",
      "\n",
      "Epoch 00014: val_accuracy improved from 0.12167 to 0.48667, saving model to /content/drive/MyDrive/dataset-corrupted/corrupted-25/corrupted-augu-cnn-50-model.h5\n",
      "Epoch 15/300\n",
      "17/17 [==============================] - 92s 5s/step - loss: 14.0104 - accuracy: 0.8684 - val_loss: 14.9471 - val_accuracy: 0.5283\n",
      "\n",
      "Epoch 00015: val_accuracy improved from 0.48667 to 0.52833, saving model to /content/drive/MyDrive/dataset-corrupted/corrupted-25/corrupted-augu-cnn-50-model.h5\n",
      "Epoch 16/300\n",
      "17/17 [==============================] - 91s 5s/step - loss: 13.7049 - accuracy: 0.9028 - val_loss: 14.5477 - val_accuracy: 0.5933\n",
      "\n",
      "Epoch 00016: val_accuracy improved from 0.52833 to 0.59333, saving model to /content/drive/MyDrive/dataset-corrupted/corrupted-25/corrupted-augu-cnn-50-model.h5\n",
      "Epoch 17/300\n",
      "17/17 [==============================] - 93s 5s/step - loss: 13.4650 - accuracy: 0.9160 - val_loss: 14.1732 - val_accuracy: 0.6533\n",
      "\n",
      "Epoch 00017: val_accuracy improved from 0.59333 to 0.65333, saving model to /content/drive/MyDrive/dataset-corrupted/corrupted-25/corrupted-augu-cnn-50-model.h5\n",
      "Epoch 18/300\n",
      "17/17 [==============================] - 91s 5s/step - loss: 13.2977 - accuracy: 0.9031 - val_loss: 13.9150 - val_accuracy: 0.6867\n",
      "\n",
      "Epoch 00018: val_accuracy improved from 0.65333 to 0.68667, saving model to /content/drive/MyDrive/dataset-corrupted/corrupted-25/corrupted-augu-cnn-50-model.h5\n",
      "Epoch 19/300\n",
      "17/17 [==============================] - 92s 5s/step - loss: 13.0668 - accuracy: 0.9136 - val_loss: 13.7948 - val_accuracy: 0.6750\n",
      "\n",
      "Epoch 00019: val_accuracy did not improve from 0.68667\n",
      "Epoch 20/300\n",
      "17/17 [==============================] - 90s 6s/step - loss: 12.8701 - accuracy: 0.9283 - val_loss: 13.5634 - val_accuracy: 0.6800\n",
      "\n",
      "Epoch 00020: val_accuracy did not improve from 0.68667\n",
      "Epoch 21/300\n",
      "17/17 [==============================] - 91s 5s/step - loss: 12.7141 - accuracy: 0.9183 - val_loss: 13.6081 - val_accuracy: 0.5933\n",
      "\n",
      "Epoch 00021: val_accuracy did not improve from 0.68667\n",
      "Epoch 22/300\n",
      "17/17 [==============================] - 90s 5s/step - loss: 12.5024 - accuracy: 0.9339 - val_loss: 13.4368 - val_accuracy: 0.6183\n",
      "\n",
      "Epoch 00022: val_accuracy did not improve from 0.68667\n",
      "Epoch 23/300\n",
      "17/17 [==============================] - 90s 5s/step - loss: 12.3546 - accuracy: 0.9360 - val_loss: 13.5502 - val_accuracy: 0.5183\n",
      "\n",
      "Epoch 00023: val_accuracy did not improve from 0.68667\n"
     ]
    }
   ],
   "source": [
    "history = model.fit(train_data, validation_data= valid_data,epochs = 300, callbacks = [mc,csv,es1],shuffle =True )"
   ]
  },
  {
   "cell_type": "code",
   "execution_count": 11,
   "metadata": {
    "colab": {
     "base_uri": "https://localhost:8080/"
    },
    "id": "ntekvv_EvITs",
    "outputId": "0aa12a40-aff2-4194-b74f-02e2dba073b8"
   },
   "outputs": [
    {
     "name": "stdout",
     "output_type": "stream",
     "text": [
      "Epoch 1/300\n",
      "17/17 [==============================] - 93s 5s/step - loss: 12.8161 - accuracy: 0.9022 - val_loss: 13.7616 - val_accuracy: 0.5617\n",
      "\n",
      "Epoch 00001: val_accuracy did not improve from 0.68667\n",
      "Epoch 2/300\n",
      "17/17 [==============================] - 90s 5s/step - loss: 12.6049 - accuracy: 0.9365 - val_loss: 13.5780 - val_accuracy: 0.5883\n",
      "\n",
      "Epoch 00002: val_accuracy did not improve from 0.68667\n",
      "Epoch 3/300\n",
      "17/17 [==============================] - 91s 5s/step - loss: 12.4773 - accuracy: 0.9330 - val_loss: 13.4181 - val_accuracy: 0.6267\n",
      "\n",
      "Epoch 00003: val_accuracy did not improve from 0.68667\n",
      "Epoch 4/300\n",
      "17/17 [==============================] - 90s 5s/step - loss: 12.3106 - accuracy: 0.9459 - val_loss: 13.2167 - val_accuracy: 0.6400\n",
      "\n",
      "Epoch 00004: val_accuracy did not improve from 0.68667\n",
      "Epoch 5/300\n",
      "17/17 [==============================] - 91s 5s/step - loss: 12.2485 - accuracy: 0.9301 - val_loss: 13.1480 - val_accuracy: 0.6167\n",
      "\n",
      "Epoch 00005: val_accuracy did not improve from 0.68667\n",
      "Epoch 6/300\n",
      "17/17 [==============================] - 91s 5s/step - loss: 12.0801 - accuracy: 0.9445 - val_loss: 12.8679 - val_accuracy: 0.6883\n",
      "\n",
      "Epoch 00006: val_accuracy improved from 0.68667 to 0.68833, saving model to /content/drive/MyDrive/dataset-corrupted/corrupted-25/corrupted-augu-cnn-50-model.h5\n",
      "Epoch 7/300\n",
      "17/17 [==============================] - 91s 5s/step - loss: 11.9834 - accuracy: 0.9415 - val_loss: 12.6573 - val_accuracy: 0.7083\n",
      "\n",
      "Epoch 00007: val_accuracy improved from 0.68833 to 0.70833, saving model to /content/drive/MyDrive/dataset-corrupted/corrupted-25/corrupted-augu-cnn-50-model.h5\n",
      "Epoch 8/300\n",
      "17/17 [==============================] - 91s 5s/step - loss: 11.8739 - accuracy: 0.9395 - val_loss: 12.3956 - val_accuracy: 0.7683\n",
      "\n",
      "Epoch 00008: val_accuracy improved from 0.70833 to 0.76833, saving model to /content/drive/MyDrive/dataset-corrupted/corrupted-25/corrupted-augu-cnn-50-model.h5\n",
      "Epoch 9/300\n",
      "17/17 [==============================] - 91s 5s/step - loss: 11.7513 - accuracy: 0.9492 - val_loss: 12.2493 - val_accuracy: 0.7833\n",
      "\n",
      "Epoch 00009: val_accuracy improved from 0.76833 to 0.78333, saving model to /content/drive/MyDrive/dataset-corrupted/corrupted-25/corrupted-augu-cnn-50-model.h5\n",
      "Epoch 10/300\n",
      "17/17 [==============================] - 92s 5s/step - loss: 11.6145 - accuracy: 0.9512 - val_loss: 12.1381 - val_accuracy: 0.7833\n",
      "\n",
      "Epoch 00010: val_accuracy did not improve from 0.78333\n",
      "Epoch 11/300\n",
      "17/17 [==============================] - 91s 5s/step - loss: 11.5148 - accuracy: 0.9559 - val_loss: 12.1286 - val_accuracy: 0.7583\n",
      "\n",
      "Epoch 00011: val_accuracy did not improve from 0.78333\n",
      "Epoch 12/300\n",
      "17/17 [==============================] - 91s 5s/step - loss: 11.4442 - accuracy: 0.9483 - val_loss: 12.1077 - val_accuracy: 0.7283\n",
      "\n",
      "Epoch 00012: val_accuracy did not improve from 0.78333\n",
      "Epoch 13/300\n",
      "17/17 [==============================] - 91s 6s/step - loss: 11.3085 - accuracy: 0.9565 - val_loss: 11.9691 - val_accuracy: 0.7450\n",
      "\n",
      "Epoch 00013: val_accuracy did not improve from 0.78333\n",
      "Epoch 14/300\n",
      "17/17 [==============================] - 91s 5s/step - loss: 11.2072 - accuracy: 0.9598 - val_loss: 11.8466 - val_accuracy: 0.7500\n",
      "\n",
      "Epoch 00014: val_accuracy did not improve from 0.78333\n"
     ]
    }
   ],
   "source": [
    "history = model.fit(train_data, validation_data= valid_data,epochs = 300, callbacks = [mc,csv,es1],shuffle =True )"
   ]
  },
  {
   "cell_type": "code",
   "execution_count": null,
   "metadata": {
    "id": "A3MstrIZRUtE"
   },
   "outputs": [],
   "source": [
    "model.save_weights('/content/drive/MyDrive/corrupted-augu/corrupted(25)-cnn-augu-dataset-50_weights.h5')"
   ]
  },
  {
   "cell_type": "code",
   "execution_count": 5,
   "metadata": {},
   "outputs": [],
   "source": [
    "model.load_weights(r'D:\\Uni-passau\\thesis-results\\50-dataset\\corrupted-25-cnn-augu\\corrupted(25)-cnn-augu-dataset-50_weights.h5')"
   ]
  },
  {
   "cell_type": "code",
   "execution_count": 6,
   "metadata": {
    "id": "AcyQ730HhQGo"
   },
   "outputs": [],
   "source": [
    "test_datagen_nor = ImageDataGenerator(rescale=1./255)\n",
    "\n",
    "test_datagen_aug =  ImageDataGenerator(width_shift_range=0.15,\n",
    "        height_shift_range=0.15, shear_range=0.15,\n",
    "        rescale=1./255)"
   ]
  },
  {
   "cell_type": "code",
   "execution_count": null,
   "metadata": {
    "id": "meViiXBkhK3a"
   },
   "outputs": [],
   "source": [
    "## train and valid"
   ]
  },
  {
   "cell_type": "code",
   "execution_count": 25,
   "metadata": {
    "colab": {
     "base_uri": "https://localhost:8080/"
    },
    "id": "dNdO0OCUu9tC",
    "outputId": "fbbc9506-9e63-4c05-84fe-e0ff147a79a5"
   },
   "outputs": [
    {
     "name": "stdout",
     "output_type": "stream",
     "text": [
      "17/17 [==============================] - 77s 5s/step - loss: 10.0951 - accuracy: 0.9668\n",
      "5/5 [==============================] - 14s 3s/step - loss: 10.2912 - accuracy: 0.9150\n",
      "Test_Accuracy: 96.68%\n",
      "valid_Accuracy: 91.50%\n"
     ]
    }
   ],
   "source": [
    "train_acc=model.evaluate(train_data)\n",
    "val_acc = model.evaluate(valid_data)\n",
    "print(\"Test_Accuracy: %.2f%%\" % (train_acc[1]*100))\n",
    "print(\"valid_Accuracy: %.2f%%\" % (val_acc[1]*100))"
   ]
  },
  {
   "cell_type": "code",
   "execution_count": null,
   "metadata": {
    "id": "Ki_FxQ0BiDX0"
   },
   "outputs": [],
   "source": [
    "## corrupted test(25)normal"
   ]
  },
  {
   "cell_type": "code",
   "execution_count": 26,
   "metadata": {
    "colab": {
     "base_uri": "https://localhost:8080/"
    },
    "id": "_JDcTc04iF_p",
    "outputId": "32bc6ee7-dd08-4ee2-f63a-4d7f57908d9a"
   },
   "outputs": [
    {
     "name": "stdout",
     "output_type": "stream",
     "text": [
      "Found 1050 images belonging to 50 classes.\n",
      "9/9 [==============================] - 66s 8s/step - loss: 10.1664 - accuracy: 0.9476\n",
      "Test_Accuracy: 94.76%\n"
     ]
    }
   ],
   "source": [
    "test_corrupted= test_datagen_nor.flow_from_directory( r'/content/drive/MyDrive/dataset-corrupted/corrupted-25/test',\n",
    "        batch_size=128,target_size=(256,256),\n",
    "        class_mode='categorical')\n",
    "test_acc = model.evaluate(test_corrupted)\n",
    "print(\"Test_Accuracy: %.2f%%\" % (test_acc[1]*100))"
   ]
  },
  {
   "cell_type": "code",
   "execution_count": null,
   "metadata": {
    "id": "K_62_0HobM6Z"
   },
   "outputs": [],
   "source": [
    "## corrupted test(25)normal augumentation"
   ]
  },
  {
   "cell_type": "code",
   "execution_count": 27,
   "metadata": {
    "colab": {
     "base_uri": "https://localhost:8080/"
    },
    "id": "ISgmNzy830ty",
    "outputId": "705e4a64-87fa-48dd-b061-69ed252025c2"
   },
   "outputs": [
    {
     "name": "stdout",
     "output_type": "stream",
     "text": [
      "Found 1050 images belonging to 50 classes.\n",
      "33/33 [==============================] - 25s 747ms/step - loss: 10.1374 - accuracy: 0.9524\n",
      "Test_Accuracy: 95.24%\n"
     ]
    }
   ],
   "source": [
    "test_corrupted_aug= test_datagen_aug.flow_from_directory( r'/content/drive/MyDrive/dataset-corrupted/corrupted-25/test',\n",
    "        batch_size=32,target_size=(256,256),\n",
    "        class_mode='categorical')\n",
    "test_acc = model.evaluate(test_corrupted_aug)\n",
    "print(\"Test_Accuracy: %.2f%%\" % (test_acc[1]*100))"
   ]
  },
  {
   "cell_type": "code",
   "execution_count": null,
   "metadata": {
    "id": "kv0OH6uhhgp_"
   },
   "outputs": [],
   "source": [
    "## normal dataset"
   ]
  },
  {
   "cell_type": "code",
   "execution_count": 45,
   "metadata": {
    "colab": {
     "base_uri": "https://localhost:8080/"
    },
    "id": "SCPbIFy3hiYs",
    "outputId": "c3b7761b-102b-40b1-c5a8-98d2a080990f"
   },
   "outputs": [
    {
     "name": "stdout",
     "output_type": "stream",
     "text": [
      "Found 1300 images belonging to 50 classes.\n",
      "11/11 [==============================] - 61s 6s/step - loss: 408.9206 - accuracy: 0.0200\n",
      "Test_Accuracy: 2.00%\n"
     ]
    }
   ],
   "source": [
    "test_genrator_nor = test_datagen_nor.flow_from_directory( r'/content/drive/MyDrive/dataset-50/nor-dataset-50/test',\n",
    "       batch_size=128,target_size=(256,256),\n",
    "        class_mode='categorical')\n",
    "test_acc = model.evaluate(test_genrator_nor)\n",
    "print(\"Test_Accuracy: %.2f%%\" % (test_acc[1]*100))"
   ]
  },
  {
   "cell_type": "code",
   "execution_count": null,
   "metadata": {
    "id": "XaUwfXhHhn9z"
   },
   "outputs": [],
   "source": [
    "## normal data with augumentation"
   ]
  },
  {
   "cell_type": "code",
   "execution_count": 17,
   "metadata": {
    "colab": {
     "base_uri": "https://localhost:8080/"
    },
    "id": "FG4Y_Op7hrAn",
    "outputId": "2585c354-7dbd-4e88-a242-2755538afb00"
   },
   "outputs": [
    {
     "name": "stdout",
     "output_type": "stream",
     "text": [
      "Found 1300 images belonging to 50 classes.\n",
      "11/11 [==============================] - 117s 11s/step - loss: 271.2377 - accuracy: 0.0200\n",
      "Test_Accuracy: 2.00%\n"
     ]
    }
   ],
   "source": [
    "test_genrator_aug = test_datagen_aug.flow_from_directory( r'D:\\Uni-passau\\thesis-smalldataset\\dataset-50\\test',\n",
    "        batch_size=128,target_size=(256,256),\n",
    "        class_mode='categorical')\n",
    "test_acc = model.evaluate(test_genrator_aug)\n",
    "print(\"Test_Accuracy: %.2f%%\" % (test_acc[1]*100))"
   ]
  },
  {
   "cell_type": "code",
   "execution_count": null,
   "metadata": {},
   "outputs": [],
   "source": [
    "## corrupted-10"
   ]
  },
  {
   "cell_type": "code",
   "execution_count": 8,
   "metadata": {},
   "outputs": [
    {
     "name": "stdout",
     "output_type": "stream",
     "text": [
      "Found 1300 images belonging to 50 classes.\n",
      "17/17 [==============================] - 119s 7s/step - loss: 63.5838 - accuracy: 0.2323\n",
      "Test_Accuracy: 23.23%\n"
     ]
    }
   ],
   "source": [
    "test_genrator_cor10 = test_datagen_aug.flow_from_directory( r'D:\\Uni-passau\\thesis-smalldataset\\corrupted-10',\n",
    "       batch_size=80,target_size=(256,256),\n",
    "        class_mode='categorical')\n",
    "test_acc = model.evaluate(test_genrator_cor10)\n",
    "print(\"Test_Accuracy: %.2f%%\" % (test_acc[1]*100))"
   ]
  },
  {
   "cell_type": "code",
   "execution_count": null,
   "metadata": {
    "id": "9Kw6vp40iA3m"
   },
   "outputs": [],
   "source": [
    "## corrupted-20"
   ]
  },
  {
   "cell_type": "code",
   "execution_count": 26,
   "metadata": {},
   "outputs": [
    {
     "name": "stdout",
     "output_type": "stream",
     "text": [
      "Found 1300 images belonging to 50 classes.\n",
      "11/11 [==============================] - 83s 8s/step - loss: 10.8110 - accuracy: 0.8174\n",
      "Test_Accuracy: 81.74%\n"
     ]
    }
   ],
   "source": [
    "test_corrupted_nor= test_datagen_nor.flow_from_directory( r'D:\\Uni-passau\\thesis-smalldataset\\corrupted-20',\n",
    "        batch_size=128,target_size=(256,256),\n",
    "        class_mode='categorical')\n",
    "test_acc = model.evaluate(test_corrupted_nor)\n",
    "print(\"Test_Accuracy: %.2f%%\" % (test_acc[1]*100))"
   ]
  },
  {
   "cell_type": "code",
   "execution_count": 27,
   "metadata": {},
   "outputs": [
    {
     "name": "stdout",
     "output_type": "stream",
     "text": [
      "Found 1300 images belonging to 50 classes.\n",
      "11/11 [==============================] - 83s 8s/step - loss: 10.7266 - accuracy: 0.8346\n",
      "Test_Accuracy: 83.46%\n"
     ]
    }
   ],
   "source": [
    "test_corrupted_aug= test_datagen_aug.flow_from_directory( r'D:\\Uni-passau\\thesis-smalldataset\\corrupted-20',\n",
    "        batch_size=128,target_size=(256,256),\n",
    "        class_mode='categorical')\n",
    "test_acc = model.evaluate(test_corrupted_aug)\n",
    "print(\"Test_Accuracy: %.2f%%\" % (test_acc[1]*100))"
   ]
  },
  {
   "cell_type": "code",
   "execution_count": null,
   "metadata": {},
   "outputs": [],
   "source": [
    "## corrupted - 30 augu"
   ]
  },
  {
   "cell_type": "code",
   "execution_count": 11,
   "metadata": {},
   "outputs": [
    {
     "name": "stdout",
     "output_type": "stream",
     "text": [
      "Found 1300 images belonging to 50 classes.\n",
      "17/17 [==============================] - 101s 6s/step - loss: 10.3956 - accuracy: 0.8923\n",
      "Test_Accuracy: 89.23%\n"
     ]
    }
   ],
   "source": [
    "test_genrator_cor30 = test_datagen_aug.flow_from_directory( r'D:\\Uni-passau\\thesis-smalldataset\\corrupted-30',\n",
    "        batch_size=80,target_size=(256,256),\n",
    "        class_mode='categorical')\n",
    "test_acc = model.evaluate(test_genrator_cor30)\n",
    "print(\"Test_Accuracy: %.2f%%\" % (test_acc[1]*100))"
   ]
  },
  {
   "cell_type": "code",
   "execution_count": null,
   "metadata": {},
   "outputs": [],
   "source": [
    "## corrupted- 40 augu"
   ]
  },
  {
   "cell_type": "code",
   "execution_count": 10,
   "metadata": {},
   "outputs": [
    {
     "name": "stdout",
     "output_type": "stream",
     "text": [
      "Found 1300 images belonging to 50 classes.\n",
      "17/17 [==============================] - 117s 7s/step - loss: 12.3895 - accuracy: 0.4477\n",
      "Test_Accuracy: 44.77%\n"
     ]
    }
   ],
   "source": [
    "test_genrator_cor40 = test_datagen_aug.flow_from_directory( r'D:\\Uni-passau\\thesis-smalldataset\\corrupted-40',\n",
    "        batch_size=80,target_size=(256,256),\n",
    "        class_mode='categorical')\n",
    "test_acc = model.evaluate(test_genrator_cor40)\n",
    "print(\"Test_Accuracy: %.2f%%\" % (test_acc[1]*100))"
   ]
  },
  {
   "cell_type": "code",
   "execution_count": null,
   "metadata": {
    "id": "rJ6yRnx_iJVV"
   },
   "outputs": [],
   "source": [
    "## corrupted-50"
   ]
  },
  {
   "cell_type": "code",
   "execution_count": 19,
   "metadata": {
    "colab": {
     "base_uri": "https://localhost:8080/"
    },
    "id": "AZ3DhW8fSX2D",
    "outputId": "81643731-28f1-48ba-bae0-93254d29f78d"
   },
   "outputs": [
    {
     "name": "stdout",
     "output_type": "stream",
     "text": [
      "Found 1300 images belonging to 50 classes.\n",
      "11/11 [==============================] - 76s 7s/step - loss: 14.0931 - accuracy: 0.1008\n",
      "Test_Accuracy: 10.08%\n"
     ]
    }
   ],
   "source": [
    "test_corrupted_aug2= test_datagen_nor.flow_from_directory( r'D:\\Uni-passau\\thesis-smalldataset\\corrupted-50\\test',\n",
    "        batch_size=128,target_size=(256,256),\n",
    "        class_mode='categorical')\n",
    "test_acc = model.evaluate(test_corrupted_aug2)\n",
    "print(\"Test_Accuracy: %.2f%%\" % (test_acc[1]*100))"
   ]
  },
  {
   "cell_type": "code",
   "execution_count": 18,
   "metadata": {
    "colab": {
     "base_uri": "https://localhost:8080/"
    },
    "id": "Cljv1MOyHu-E",
    "outputId": "fe2aa19e-ed5d-4da9-87ce-e46a757506fa"
   },
   "outputs": [
    {
     "name": "stdout",
     "output_type": "stream",
     "text": [
      "Found 1300 images belonging to 50 classes.\n",
      "11/11 [==============================] - 115s 10s/step - loss: 27.3025 - accuracy: 0.1677\n",
      "Test_Accuracy: 16.77%\n"
     ]
    }
   ],
   "source": [
    "test_corrupted_aug2= test_datagen_aug.flow_from_directory( r'D:\\Uni-passau\\thesis-smalldataset\\corrupted-50\\test',\n",
    "        batch_size=128,target_size=(256,256),\n",
    "        class_mode='categorical')\n",
    "test_acc = model.evaluate(test_corrupted_aug2)\n",
    "print(\"Test_Accuracy: %.2f%%\" % (test_acc[1]*100))"
   ]
  },
  {
   "cell_type": "code",
   "execution_count": null,
   "metadata": {},
   "outputs": [],
   "source": [
    "## gaussian"
   ]
  },
  {
   "cell_type": "code",
   "execution_count": 15,
   "metadata": {},
   "outputs": [
    {
     "name": "stdout",
     "output_type": "stream",
     "text": [
      "Found 1300 images belonging to 50 classes.\n",
      "13/13 [==============================] - 185s 14s/step - loss: 393.2292 - accuracy: 0.0177\n",
      "Test_Accuracy: 1.77%\n"
     ]
    }
   ],
   "source": [
    "test_genrator_aug = test_datagen_aug.flow_from_directory( r'D:\\Uni-passau\\thesis-smalldataset\\gaussian-50\\test',\n",
    "        target_size=(256,256),\n",
    "        batch_size=100,\n",
    "        class_mode='categorical')\n",
    "test_acc = model.evaluate(test_genrator_aug)\n",
    "print(\"Test_Accuracy: %.2f%%\" % (test_acc[1]*100))"
   ]
  },
  {
   "cell_type": "code",
   "execution_count": null,
   "metadata": {
    "colab": {
     "base_uri": "https://localhost:8080/",
     "height": 295
    },
    "id": "KxzO8po-RgIp",
    "outputId": "f8f219dd-eb78-4cef-a486-1f976aa86acc"
   },
   "outputs": [
    {
     "data": {
      "image/png": "[encoded data removed]",
      "text/plain": [
       "<Figure size 432x288 with 1 Axes>"
      ]
     },
     "metadata": {
      "needs_background": "light",
      "tags": []
     },
     "output_type": "display_data"
    }
   ],
   "source": [
    "plt.plot(history.history['accuracy'])\n",
    "plt.plot(history.history['val_accuracy'])\n",
    "plt.title('Model Accuracy')\n",
    "plt.ylabel('Accuracy')\n",
    "plt.xlabel('Epochs')\n",
    "plt.legend(['train', 'validation'])\n",
    "plt.savefig('/content/drive/MyDrive/corrupted-augu/corrupted(25)-cnn-augu-dataset-50-accuracy.png')\n",
    "plt.show()"
   ]
  },
  {
   "cell_type": "code",
   "execution_count": null,
   "metadata": {
    "colab": {
     "base_uri": "https://localhost:8080/",
     "height": 295
    },
    "id": "wvZ7-ws-Rtth",
    "outputId": "8c9b35ce-e01a-44aa-8d9c-2e6f99e335df"
   },
   "outputs": [
    {
     "data": {
      "image/png": "[encoded data removed]",
      "text/plain": [
       "<Figure size 432x288 with 1 Axes>"
      ]
     },
     "metadata": {
      "needs_background": "light",
      "tags": []
     },
     "output_type": "display_data"
    }
   ],
   "source": [
    "plt.plot(history.history['loss'])\n",
    "plt.plot(history.history['val_loss'])\n",
    "plt.title('Model Loss')\n",
    "plt.ylabel('Loss')\n",
    "plt.xlabel('Epochs')\n",
    "plt.legend(['train', 'validation'])\n",
    "plt.savefig('/content/drive/MyDrive/corrupted-augu/corrupted(25)-cnn-augu-dataset-50-loss.png')\n",
    "plt.show()"
   ]
  }
 ],
 "metadata": {
  "accelerator": "GPU",
  "colab": {
   "machine_shape": "hm",
   "name": "corrupted(25)_cnn_augu_50.ipynb",
   "provenance": []
  },
  "kernelspec": {
   "display_name": "Python 3",
   "language": "python",
   "name": "python3"
  },
  "language_info": {
   "codemirror_mode": {
    "name": "ipython",
    "version": 3
   },
   "file_extension": ".py",
   "mimetype": "text/x-python",
   "name": "python",
   "nbconvert_exporter": "python",
   "pygments_lexer": "ipython3",
   "version": "3.8.3"
  }
 },
 "nbformat": 4,
 "nbformat_minor": 1
}
