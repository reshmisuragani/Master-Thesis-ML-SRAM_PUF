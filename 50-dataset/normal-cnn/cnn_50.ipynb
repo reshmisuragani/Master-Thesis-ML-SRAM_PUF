{
 "cells": [
  {
   "cell_type": "code",
   "execution_count": 4,
   "metadata": {
    "id": "QO3q88QH-8oI"
   },
   "outputs": [],
   "source": [
    "import tensorflow as tf\n",
    "from tensorflow.keras import datasets, layers, models\n",
    "import matplotlib.pyplot as plt\n",
    "from keras.preprocessing.image import ImageDataGenerator\n",
    "import numpy as np"
   ]
  },
  {
   "cell_type": "code",
   "execution_count": 5,
   "metadata": {
    "colab": {
     "base_uri": "https://localhost:8080/",
     "height": 0
    },
    "id": "cuslikxs_CwM",
    "outputId": "9bef6dcd-9ba0-4bce-b8a6-5e37d1bc2b6d"
   },
   "outputs": [
    {
     "name": "stdout",
     "output_type": "stream",
     "text": [
      "Found 3848 images belonging to 50 classes.\n",
      "Found 650 images belonging to 50 classes.\n"
     ]
    }
   ],
   "source": [
    "train_datagen_nor = ImageDataGenerator(\n",
    "        rescale=1./255)\n",
    "\n",
    "test_datagen_nor = ImageDataGenerator(validation_split=0.5,\n",
    "       \n",
    "        rescale=1./255)\n",
    "\n",
    "train_data = train_datagen_nor.flow_from_directory(r'D:\\Uni-passau\\thesis-smalldataset\\dataset-50\\train',target_size=(512,512), \n",
    "                                                       batch_size=32, class_mode='categorical')\n",
    "valid_data = test_datagen_nor.flow_from_directory(r'D:\\Uni-passau\\thesis-smalldataset\\dataset-50\\test',target_size=(512,512), \n",
    "                                                       subset='validation',batch_size=32, class_mode='categorical')\n"
   ]
  },
  {
   "cell_type": "code",
   "execution_count": 6,
   "metadata": {
    "colab": {
     "base_uri": "https://localhost:8080/",
     "height": 0
    },
    "id": "fJgPlAEB_QAK",
    "outputId": "2fd9a8ee-d08f-4af2-f0a2-e730e130e1d8"
   },
   "outputs": [
    {
     "name": "stdout",
     "output_type": "stream",
     "text": [
      "Model: \"sequential\"\n",
      "_________________________________________________________________\n",
      "Layer (type)                 Output Shape              Param #   \n",
      "=================================================================\n",
      "conv2d (Conv2D)              (None, 512, 512, 8)       608       \n",
      "_________________________________________________________________\n",
      "batch_normalization (BatchNo (None, 512, 512, 8)       32        \n",
      "_________________________________________________________________\n",
      "conv2d_1 (Conv2D)            (None, 512, 512, 48)      9648      \n",
      "_________________________________________________________________\n",
      "batch_normalization_1 (Batch (None, 512, 512, 48)      192       \n",
      "_________________________________________________________________\n",
      "max_pooling2d (MaxPooling2D) (None, 256, 256, 48)      0         \n",
      "_________________________________________________________________\n",
      "conv2d_2 (Conv2D)            (None, 256, 256, 128)     55424     \n",
      "_________________________________________________________________\n",
      "batch_normalization_2 (Batch (None, 256, 256, 128)     512       \n",
      "_________________________________________________________________\n",
      "max_pooling2d_1 (MaxPooling2 (None, 128, 128, 128)     0         \n",
      "_________________________________________________________________\n",
      "conv2d_3 (Conv2D)            (None, 128, 128, 192)     221376    \n",
      "_________________________________________________________________\n",
      "batch_normalization_3 (Batch (None, 128, 128, 192)     768       \n",
      "_________________________________________________________________\n",
      "max_pooling2d_2 (MaxPooling2 (None, 64, 64, 192)       0         \n",
      "_________________________________________________________________\n",
      "conv2d_4 (Conv2D)            (None, 64, 64, 192)       331968    \n",
      "_________________________________________________________________\n",
      "max_pooling2d_3 (MaxPooling2 (None, 32, 32, 192)       0         \n",
      "_________________________________________________________________\n",
      "batch_normalization_4 (Batch (None, 32, 32, 192)       768       \n",
      "_________________________________________________________________\n",
      "dropout (Dropout)            (None, 32, 32, 192)       0         \n",
      "_________________________________________________________________\n",
      "flatten (Flatten)            (None, 196608)            0         \n",
      "_________________________________________________________________\n",
      "dense (Dense)                (None, 128)               25165952  \n",
      "_________________________________________________________________\n",
      "batch_normalization_5 (Batch (None, 128)               512       \n",
      "_________________________________________________________________\n",
      "dense_1 (Dense)              (None, 64)                8256      \n",
      "_________________________________________________________________\n",
      "dropout_1 (Dropout)          (None, 64)                0         \n",
      "_________________________________________________________________\n",
      "dense_2 (Dense)              (None, 50)                3250      \n",
      "=================================================================\n",
      "Total params: 25,799,266\n",
      "Trainable params: 25,797,874\n",
      "Non-trainable params: 1,392\n",
      "_________________________________________________________________\n"
     ]
    }
   ],
   "source": [
    "from keras.regularizers import l2\n",
    "from keras.layers import BatchNormalization\n",
    "from keras.layers import GaussianNoise\n",
    "model = tf.keras.Sequential()\n",
    "model.add(tf.keras.layers.Conv2D(filters = 8, kernel_size = (5,5), kernel_regularizer=l2(0.01), padding = 'Same', activation ='relu', input_shape = (512,512,3)))\n",
    "model.add(tf.keras.layers.BatchNormalization())\n",
    "model.add(tf.keras.layers.Conv2D(filters = 48, kernel_size = (5,5), kernel_regularizer=l2(0.01), padding = 'Same', activation ='relu'))\n",
    "model.add(tf.keras.layers.BatchNormalization())\n",
    "model.add(tf.keras.layers.MaxPool2D(pool_size=(2,2), strides = 2))\n",
    "model.add(tf.keras.layers.Conv2D(filters = 128, kernel_size = (3,3),kernel_regularizer=l2(0.01), padding = 'Same', activation ='relu'))\n",
    "model.add(tf.keras.layers.BatchNormalization())\n",
    "model.add(tf.keras.layers.MaxPool2D(pool_size=(2,2), strides= 2))\n",
    "model.add(tf.keras.layers.Conv2D(filters = 192, kernel_size = (3,3), kernel_regularizer=l2(0.01), padding = 'Same', activation ='relu'))\n",
    "model.add(tf.keras.layers.BatchNormalization())\n",
    "model.add(tf.keras.layers.MaxPool2D(pool_size=(2,2), strides= 2))\n",
    "model.add(tf.keras.layers.Conv2D(filters = 192, kernel_size = (3,3), kernel_regularizer=l2(0.01), padding = 'Same', activation ='relu'))\n",
    "\n",
    "model.add(tf.keras.layers.MaxPool2D(pool_size=(2,2), strides= 2))\n",
    "model.add(tf.keras.layers.BatchNormalization())\n",
    "model.add(tf.keras.layers.Dropout(0.5))\n",
    "model.add(tf.keras.layers.Flatten())\n",
    "\n",
    "model.add(tf.keras.layers.Dense(128, activation = \"relu\", kernel_regularizer=l2(0.01)))\n",
    "model.add(tf.keras.layers.BatchNormalization())\n",
    "model.add(tf.keras.layers.Dense(64, activation = \"relu\", kernel_regularizer=l2(0.01)))\n",
    "model.add(tf.keras.layers.Dropout(0.5))\n",
    "model.add(tf.keras.layers.Dense(50, activation = \"softmax\"))\n",
    "model.summary()"
   ]
  },
  {
   "cell_type": "code",
   "execution_count": 7,
   "metadata": {
    "colab": {
     "base_uri": "https://localhost:8080/",
     "height": 0
    },
    "id": "kl1mis4T_UN9",
    "outputId": "4b5a4384-16ce-4405-99c1-adc6de4e6b7e"
   },
   "outputs": [
    {
     "name": "stderr",
     "output_type": "stream",
     "text": [
      "/usr/local/lib/python3.7/dist-packages/tensorflow/python/client/session.py:1761: UserWarning: An interactive session is already active. This can cause out-of-memory errors in some cases. You must explicitly call `InteractiveSession.close()` to release resources held by the other session(s).\n",
      "  warnings.warn('An interactive session is already active. This can '\n"
     ]
    }
   ],
   "source": [
    "import tensorflow.compat.v1 as tfs\n",
    "gpu_options = tfs.GPUOptions(allow_growth = True)\n",
    "session = tfs.InteractiveSession(config = tfs.ConfigProto(gpu_options = gpu_options))"
   ]
  },
  {
   "cell_type": "code",
   "execution_count": 9,
   "metadata": {
    "id": "bsm9WjuM_a3i"
   },
   "outputs": [],
   "source": [
    "from keras.callbacks import EarlyStopping\n",
    "from keras.callbacks import ModelCheckpoint\n",
    "from keras.callbacks import CSVLogger\n",
    "\n",
    "csv = CSVLogger(\"/content/drive/MyDrive/normal-cnn-50/cnn-50-model_history_log(normal).csv\", append=True)\n",
    "es1= tf.keras.callbacks.EarlyStopping(monitor='val_accuracy',patience=3, restore_best_weights=True)\n",
    "mc = ModelCheckpoint('/content/drive/MyDrive/normal-cnn-50/cnn-50-model.h5', monitor='val_accuracy', mode='max', verbose=1, save_best_only=True)"
   ]
  },
  {
   "cell_type": "code",
   "execution_count": 7,
   "metadata": {
    "id": "MLRFG_78_czz"
   },
   "outputs": [],
   "source": [
    "adam = tf.keras.optimizers.Adam(learning_rate = 0.0001, decay = 0.9)\n",
    "model.compile(optimizer = adam, loss = \"categorical_crossentropy\", metrics = [\"accuracy\"])"
   ]
  },
  {
   "cell_type": "code",
   "execution_count": 11,
   "metadata": {
    "colab": {
     "base_uri": "https://localhost:8080/",
     "height": 0
    },
    "id": "5-Kq141A_eOj",
    "outputId": "c75c17aa-457f-4ac1-fb29-2990acff73f9"
   },
   "outputs": [
    {
     "name": "stdout",
     "output_type": "stream",
     "text": [
      "Epoch 1/300\n",
      "118/118 [==============================] - 123s 906ms/step - loss: 11.1511 - accuracy: 0.1554 - val_loss: 11.8002 - val_accuracy: 0.0431\n",
      "\n",
      "Epoch 00001: val_accuracy improved from -inf to 0.04308, saving model to /content/drive/MyDrive/normal-cnn-50/cnn-50-model.h5\n",
      "Epoch 2/300\n",
      "118/118 [==============================] - 102s 864ms/step - loss: 10.3085 - accuracy: 0.3372 - val_loss: 11.7246 - val_accuracy: 0.0538\n",
      "\n",
      "Epoch 00002: val_accuracy improved from 0.04308 to 0.05385, saving model to /content/drive/MyDrive/normal-cnn-50/cnn-50-model.h5\n",
      "Epoch 3/300\n",
      "118/118 [==============================] - 102s 863ms/step - loss: 10.1116 - accuracy: 0.4020 - val_loss: 10.9074 - val_accuracy: 0.1877\n",
      "\n",
      "Epoch 00003: val_accuracy improved from 0.05385 to 0.18769, saving model to /content/drive/MyDrive/normal-cnn-50/cnn-50-model.h5\n",
      "Epoch 4/300\n",
      "118/118 [==============================] - 102s 862ms/step - loss: 10.0325 - accuracy: 0.4242 - val_loss: 9.9564 - val_accuracy: 0.7938\n",
      "\n",
      "Epoch 00004: val_accuracy improved from 0.18769 to 0.79385, saving model to /content/drive/MyDrive/normal-cnn-50/cnn-50-model.h5\n",
      "Epoch 5/300\n",
      "118/118 [==============================] - 102s 860ms/step - loss: 9.9314 - accuracy: 0.4709 - val_loss: 9.4687 - val_accuracy: 0.9446\n",
      "\n",
      "Epoch 00005: val_accuracy improved from 0.79385 to 0.94462, saving model to /content/drive/MyDrive/normal-cnn-50/cnn-50-model.h5\n",
      "Epoch 6/300\n",
      "118/118 [==============================] - 102s 863ms/step - loss: 9.8623 - accuracy: 0.4953 - val_loss: 9.2918 - val_accuracy: 0.9523\n",
      "\n",
      "Epoch 00006: val_accuracy improved from 0.94462 to 0.95231, saving model to /content/drive/MyDrive/normal-cnn-50/cnn-50-model.h5\n",
      "Epoch 7/300\n",
      "118/118 [==============================] - 102s 863ms/step - loss: 9.8608 - accuracy: 0.4850 - val_loss: 9.2165 - val_accuracy: 0.9538\n",
      "\n",
      "Epoch 00007: val_accuracy improved from 0.95231 to 0.95385, saving model to /content/drive/MyDrive/normal-cnn-50/cnn-50-model.h5\n",
      "Epoch 8/300\n",
      "118/118 [==============================] - 103s 867ms/step - loss: 9.8280 - accuracy: 0.5045 - val_loss: 9.1738 - val_accuracy: 0.9585\n",
      "\n",
      "Epoch 00008: val_accuracy improved from 0.95385 to 0.95846, saving model to /content/drive/MyDrive/normal-cnn-50/cnn-50-model.h5\n",
      "Epoch 9/300\n",
      "118/118 [==============================] - 102s 865ms/step - loss: 9.7995 - accuracy: 0.4939 - val_loss: 9.1388 - val_accuracy: 0.9600\n",
      "\n",
      "Epoch 00009: val_accuracy improved from 0.95846 to 0.96000, saving model to /content/drive/MyDrive/normal-cnn-50/cnn-50-model.h5\n",
      "Epoch 10/300\n",
      "118/118 [==============================] - 102s 862ms/step - loss: 9.7479 - accuracy: 0.5352 - val_loss: 9.1129 - val_accuracy: 0.9600\n",
      "\n",
      "Epoch 00010: val_accuracy did not improve from 0.96000\n",
      "Epoch 11/300\n",
      "118/118 [==============================] - 102s 862ms/step - loss: 9.6902 - accuracy: 0.5611 - val_loss: 9.0899 - val_accuracy: 0.9615\n",
      "\n",
      "Epoch 00011: val_accuracy improved from 0.96000 to 0.96154, saving model to /content/drive/MyDrive/normal-cnn-50/cnn-50-model.h5\n",
      "Epoch 12/300\n",
      "118/118 [==============================] - 103s 861ms/step - loss: 9.6874 - accuracy: 0.5514 - val_loss: 9.0716 - val_accuracy: 0.9662\n",
      "\n",
      "Epoch 00012: val_accuracy improved from 0.96154 to 0.96615, saving model to /content/drive/MyDrive/normal-cnn-50/cnn-50-model.h5\n",
      "Epoch 13/300\n",
      "118/118 [==============================] - 102s 860ms/step - loss: 9.6911 - accuracy: 0.5457 - val_loss: 9.0546 - val_accuracy: 0.9662\n",
      "\n",
      "Epoch 00013: val_accuracy did not improve from 0.96615\n",
      "Epoch 14/300\n",
      "118/118 [==============================] - 102s 861ms/step - loss: 9.6459 - accuracy: 0.5656 - val_loss: 9.0329 - val_accuracy: 0.9662\n",
      "\n",
      "Epoch 00014: val_accuracy did not improve from 0.96615\n",
      "Epoch 15/300\n",
      "118/118 [==============================] - 102s 861ms/step - loss: 9.6631 - accuracy: 0.5613 - val_loss: 9.0194 - val_accuracy: 0.9662\n",
      "\n",
      "Epoch 00015: val_accuracy did not improve from 0.96615\n"
     ]
    }
   ],
   "source": [
    "history = model.fit(train_data,epochs=300,shuffle=True,validation_data=valid_data,callbacks=[csv,es1,mc])"
   ]
  },
  {
   "cell_type": "code",
   "execution_count": 26,
   "metadata": {
    "id": "5NRDehzzAS4A"
   },
   "outputs": [],
   "source": [
    "model.save_weights('/content/drive/MyDrive/normal-cnn-50/cnn_dataset-50_weights.h5')"
   ]
  },
  {
   "cell_type": "code",
   "execution_count": 8,
   "metadata": {},
   "outputs": [],
   "source": [
    "model.load_weights(r'D:\\Uni-passau\\thesis-results\\50-dataset\\normal-cnn\\cnn_dataset-50_weights.h5')"
   ]
  },
  {
   "cell_type": "code",
   "execution_count": 15,
   "metadata": {
    "colab": {
     "base_uri": "https://localhost:8080/",
     "height": 295
    },
    "id": "y7To31JkAdLf",
    "outputId": "2b9ba797-fa36-41cd-d203-024b75fcfc90"
   },
   "outputs": [
    {
     "data": {
      "image/png": "[encoded data removed]",
      "text/plain": [
       "<Figure size 432x288 with 1 Axes>"
      ]
     },
     "metadata": {
      "needs_background": "light",
      "tags": []
     },
     "output_type": "display_data"
    }
   ],
   "source": [
    "plt.plot(history.history['accuracy'])\n",
    "plt.plot(history.history['val_accuracy'])\n",
    "plt.title('Model Accuracy')\n",
    "plt.ylabel('Accuracy')\n",
    "plt.xlabel('Epochs')\n",
    "plt.legend(['train', 'validation'])\n",
    "plt.savefig('/content/drive/MyDrive/normal-cnn-50/cnn_dataset-50-accuracy.png')\n",
    "plt.show()"
   ]
  },
  {
   "cell_type": "code",
   "execution_count": 16,
   "metadata": {
    "colab": {
     "base_uri": "https://localhost:8080/",
     "height": 295
    },
    "id": "uwwH36c8AhZh",
    "outputId": "8cc07ba8-76cd-4bf8-8461-63f026eb7f53"
   },
   "outputs": [
    {
     "data": {
      "image/png": "[encoded data removed]",
      "text/plain": [
       "<Figure size 432x288 with 1 Axes>"
      ]
     },
     "metadata": {
      "needs_background": "light",
      "tags": []
     },
     "output_type": "display_data"
    }
   ],
   "source": [
    "plt.plot(history.history['loss'])\n",
    "plt.plot(history.history['val_loss'])\n",
    "plt.title('Model Loss')\n",
    "plt.ylabel('Loss')\n",
    "plt.xlabel('Epochs')\n",
    "plt.legend(['train', 'validation'])\n",
    "plt.savefig('/content/drive/MyDrive/normal-cnn-50/cnn_dataset-50-loss.png')\n",
    "plt.show()"
   ]
  },
  {
   "cell_type": "code",
   "execution_count": 6,
   "metadata": {
    "id": "AcyQ730HhQGo"
   },
   "outputs": [],
   "source": [
    "test_datagen_nor = ImageDataGenerator(rescale=1./255)\n",
    "\n",
    "test_datagen_aug =  ImageDataGenerator(width_shift_range=0.15,validation_split=0.5,\n",
    "        height_shift_range=0.15,\n",
    "        horizontal_flip=True,rotation_range=10,\n",
    "        rescale=1./255)"
   ]
  },
  {
   "cell_type": "code",
   "execution_count": null,
   "metadata": {
    "id": "meViiXBkhK3a"
   },
   "outputs": [],
   "source": [
    "## train and valid"
   ]
  },
  {
   "cell_type": "code",
   "execution_count": 12,
   "metadata": {
    "colab": {
     "base_uri": "https://localhost:8080/",
     "height": 0
    },
    "id": "AmmLEf1OCqSM",
    "outputId": "8dbc4576-f6cb-40ab-e0f7-282424fa639b"
   },
   "outputs": [
    {
     "name": "stdout",
     "output_type": "stream",
     "text": [
      "118/118 [==============================] - 58s 493ms/step - loss: 8.9952 - accuracy: 0.9731\n",
      "21/21 [==============================] - 10s 477ms/step - loss: 9.0716 - accuracy: 0.9662\n",
      "Train_Accuracy: 97.31%\n",
      "valid_Accuracy: 96.62%\n"
     ]
    }
   ],
   "source": [
    "train_acc=model.evaluate(train_data)\n",
    "val_acc = model.evaluate(valid_data)\n",
    "print(\"Train_Accuracy: %.2f%%\" % (train_acc[1]*100))\n",
    "print(\"valid_Accuracy: %.2f%%\" % (val_acc[1]*100))"
   ]
  },
  {
   "cell_type": "code",
   "execution_count": 60,
   "metadata": {},
   "outputs": [
    {
     "name": "stdout",
     "output_type": "stream",
     "text": [
      "Found 1300 images belonging to 50 classes.\n",
      "Found 1300 images belonging to 50 classes.\n"
     ]
    }
   ],
   "source": [
    "test_genrator_nor = test_datagen_nor.flow_from_directory( r'D:\\Uni-passau\\thesis-smalldataset\\dataset-50\\test',\n",
    "        target_size=(512, 512),\n",
    "        batch_size=100,\n",
    "        class_mode='categorical')\n"
   ]
  },
  {
   "cell_type": "code",
   "execution_count": 65,
   "metadata": {},
   "outputs": [
    {
     "name": "stdout",
     "output_type": "stream",
     "text": [
      "13\n"
     ]
    }
   ],
   "source": [
    "x_test =[]\n",
    "y_test =[]\n",
    "len = int(1300/100)\n",
    "print(len)\n",
    "for i in range(len):\n",
    "  x,y = next(test_genrator_nor)\n",
    "  x_test.append(x)\n",
    "  y_test.append(y)"
   ]
  },
  {
   "cell_type": "code",
   "execution_count": 66,
   "metadata": {},
   "outputs": [
    {
     "name": "stdout",
     "output_type": "stream",
     "text": [
      "(13, 100, 50) (13, 100, 512, 512, 3)\n"
     ]
    }
   ],
   "source": [
    "import numpy as np\n",
    "X_test =np.array(x_test)\n",
    "Y_test = np.array(y_test)\n",
    "print(Y_test.shape,X_test.shape)"
   ]
  },
  {
   "cell_type": "code",
   "execution_count": 67,
   "metadata": {},
   "outputs": [
    {
     "name": "stdout",
     "output_type": "stream",
     "text": [
      "(1300, 50) (1300, 512, 512, 3)\n"
     ]
    }
   ],
   "source": [
    "import numpy as np\n",
    "n,batches,hei,wid,col=np.array(X_test).shape\n",
    "X=np.array(X_test).reshape(n*batches,hei,wid,col)\n",
    "x,y,z=np.array(Y_test).shape\n",
    "Y =np.array(Y_test).reshape(x*y,z)\n",
    "print(Y.shape,X.shape)"
   ]
  },
  {
   "cell_type": "code",
   "execution_count": 68,
   "metadata": {},
   "outputs": [],
   "source": [
    "Y_pred = model.predict(X)\n",
    "# Convert predictions classes to one hot vectors \n",
    "Y_pred_classes = np.argmax(Y_pred,axis = 1)\n"
   ]
  },
  {
   "cell_type": "code",
   "execution_count": 69,
   "metadata": {},
   "outputs": [],
   "source": [
    "Y_classes = np.argmax(Y,axis = 1)"
   ]
  },
  {
   "cell_type": "code",
   "execution_count": 21,
   "metadata": {},
   "outputs": [
    {
     "name": "stdout",
     "output_type": "stream",
     "text": [
      "              precision    recall  f1-score   support\n",
      "\n",
      "           0       1.00      1.00      1.00        26\n",
      "           1       0.93      1.00      0.96        26\n",
      "           2       1.00      1.00      1.00        26\n",
      "           3       1.00      1.00      1.00        26\n",
      "           4       0.83      0.96      0.89        26\n",
      "           5       1.00      1.00      1.00        26\n",
      "           6       0.67      1.00      0.80        26\n",
      "           7       1.00      1.00      1.00        26\n",
      "           8       1.00      1.00      1.00        26\n",
      "           9       1.00      1.00      1.00        26\n",
      "          10       1.00      0.88      0.94        26\n",
      "          11       0.96      1.00      0.98        26\n",
      "          12       0.76      1.00      0.87        26\n",
      "          13       1.00      1.00      1.00        26\n",
      "          14       1.00      1.00      1.00        26\n",
      "          15       1.00      1.00      1.00        26\n",
      "          16       1.00      1.00      1.00        26\n",
      "          17       1.00      0.92      0.96        26\n",
      "          18       1.00      1.00      1.00        26\n",
      "          19       1.00      1.00      1.00        26\n",
      "          20       1.00      1.00      1.00        26\n",
      "          21       1.00      0.96      0.98        26\n",
      "          22       0.96      1.00      0.98        26\n",
      "          23       0.96      1.00      0.98        26\n",
      "          24       1.00      0.96      0.98        26\n",
      "          25       1.00      1.00      1.00        26\n",
      "          26       1.00      0.92      0.96        26\n",
      "          27       1.00      0.96      0.98        26\n",
      "          28       0.96      1.00      0.98        26\n",
      "          29       1.00      0.92      0.96        26\n",
      "          30       0.96      1.00      0.98        26\n",
      "          31       0.96      1.00      0.98        26\n",
      "          32       1.00      1.00      1.00        26\n",
      "          33       0.00      0.00      0.00        26\n",
      "          34       1.00      1.00      1.00        26\n",
      "          35       1.00      1.00      1.00        26\n",
      "          36       1.00      1.00      1.00        26\n",
      "          37       0.96      1.00      0.98        26\n",
      "          38       1.00      1.00      1.00        26\n",
      "          39       1.00      1.00      1.00        26\n",
      "          40       0.96      1.00      0.98        26\n",
      "          41       1.00      1.00      1.00        26\n",
      "          42       1.00      1.00      1.00        26\n",
      "          43       1.00      1.00      1.00        26\n",
      "          44       0.96      1.00      0.98        26\n",
      "          45       1.00      1.00      1.00        26\n",
      "          46       1.00      1.00      1.00        26\n",
      "          47       0.93      1.00      0.96        26\n",
      "          48       1.00      1.00      1.00        26\n",
      "          49       1.00      1.00      1.00        26\n",
      "\n",
      "    accuracy                           0.97      1300\n",
      "   macro avg       0.96      0.97      0.96      1300\n",
      "weighted avg       0.96      0.97      0.96      1300\n",
      "\n"
     ]
    },
    {
     "name": "stderr",
     "output_type": "stream",
     "text": [
      "C:\\Users\\reshm\\anaconda3\\lib\\site-packages\\sklearn\\metrics\\_classification.py:1221: UndefinedMetricWarning: Precision and F-score are ill-defined and being set to 0.0 in labels with no predicted samples. Use `zero_division` parameter to control this behavior.\n",
      "  _warn_prf(average, modifier, msg_start, len(result))\n"
     ]
    }
   ],
   "source": [
    "from sklearn.metrics import classification_report\n",
    "print(classification_report(Y_classes, Y_pred_classes))"
   ]
  },
  {
   "cell_type": "code",
   "execution_count": 42,
   "metadata": {},
   "outputs": [
    {
     "name": "stdout",
     "output_type": "stream",
     "text": [
      "Accuracy: 0.970000\n",
      "Precision: 0.955770\n",
      "Recall: 0.970000\n",
      "F1 score: 0.961512\n"
     ]
    }
   ],
   "source": [
    "from sklearn.metrics import accuracy_score\n",
    "from sklearn.metrics import precision_score\n",
    "from sklearn.metrics import recall_score,f1_score\n",
    "# accuracy: (tp + tn) / (p + n)\n",
    "accuracy = accuracy_score(Y_classes, Y_pred_classes)\n",
    "print('Accuracy: %f' % accuracy)\n",
    "\n",
    "# precision tp / (tp + fp)\n",
    "precision = precision_score(Y_classes, Y_pred_classes,average='weighted')\n",
    "print('Precision: %f' % precision)\n",
    "# recall: tp / (tp + fn)\n",
    "recall = recall_score(Y_classes, Y_pred_classes,average='weighted')\n",
    "print('Recall: %f' % recall)\n",
    "# f1: 2 tp / (2 tp + fp + fn)\n",
    "f1 = f1_score(Y_classes, Y_pred_classes,average='weighted')\n",
    "print('F1 score: %f' % f1)"
   ]
  },
  {
   "cell_type": "code",
   "execution_count": 18,
   "metadata": {
    "id": "kv0OH6uhhgp_"
   },
   "outputs": [],
   "source": [
    "## normal dataset"
   ]
  },
  {
   "cell_type": "code",
   "execution_count": null,
   "metadata": {
    "colab": {
     "base_uri": "https://localhost:8080/"
    },
    "id": "Bae6UArG5Jyo",
    "outputId": "9c0725cd-fb32-4819-f938-c08112404e8b"
   },
   "outputs": [
    {
     "name": "stdout",
     "output_type": "stream",
     "text": [
      "Test_Accuracy: 97.34%\n"
     ]
    }
   ],
   "source": [
    "test_genrator_nor = test_datagen_nor.flow_from_directory( r'/content/drive/MyDrive/dataset/test',\n",
    "        target_size=(512, 512),\n",
    "        batch_size=32,\n",
    "        class_mode='categorical')\n",
    "test_acc = model.evaluate(test_genrator_nor)\n",
    "print(\"Test_Accuracy: %.2f%%\" % (test_acc[1]*100))"
   ]
  },
  {
   "cell_type": "code",
   "execution_count": null,
   "metadata": {
    "id": "XaUwfXhHhn9z"
   },
   "outputs": [],
   "source": [
    "## normal data with augumentation"
   ]
  },
  {
   "cell_type": "code",
   "execution_count": 20,
   "metadata": {
    "colab": {
     "base_uri": "https://localhost:8080/",
     "height": 0
    },
    "id": "FG4Y_Op7hrAn",
    "outputId": "9e8e0f04-8098-40fc-e911-f3bbadd66838"
   },
   "outputs": [
    {
     "name": "stdout",
     "output_type": "stream",
     "text": [
      "Found 1300 images belonging to 50 classes.\n",
      "41/41 [==============================] - 73s 2s/step - loss: 12.1198 - accuracy: 0.0231\n",
      "Test_Accuracy: 2.31%\n"
     ]
    }
   ],
   "source": [
    "test_genrator_aug = test_datagen_aug.flow_from_directory( r'/content/drive/MyDrive/dataset-50/nor-dataset-50/test',\n",
    "        target_size=(512,512),\n",
    "        batch_size=32,\n",
    "        class_mode='categorical')\n",
    "test_acc = model.evaluate(test_genrator_aug)\n",
    "print(\"Test_Accuracy: %.2f%%\" % (test_acc[1]*100))"
   ]
  },
  {
   "cell_type": "code",
   "execution_count": null,
   "metadata": {
    "id": "UPqL0UNChwIH"
   },
   "outputs": [],
   "source": [
    "## gaussian noise"
   ]
  },
  {
   "cell_type": "code",
   "execution_count": null,
   "metadata": {
    "colab": {
     "background_save": true,
     "base_uri": "https://localhost:8080/"
    },
    "id": "qn12YWg3t-Du",
    "outputId": "dc6ceb4e-9962-47bd-cffa-9867c52b8c80"
   },
   "outputs": [
    {
     "name": "stdout",
     "output_type": "stream",
     "text": [
      "Found 1300 images belonging to 50 classes.\n",
      "41/41 [==============================] - 968s 24s/step - loss: 2.4091 - accuracy: 0.5231\n",
      "Test_Accuracy: 52.31%\n"
     ]
    }
   ],
   "source": [
    "test_genrator_gau_nor = test_datagen_nor.flow_from_directory( r'/content/drive/MyDrive/dataset-50/gaussian-50/test',\n",
    "        target_size=(512, 512),\n",
    "        batch_size=32,\n",
    "        class_mode='categorical')\n",
    "test_acc = model.evaluate(test_genrator_gau_nor)\n",
    "print(\"Test_Accuracy: %.2f%%\" % (test_acc[1]*100))"
   ]
  },
  {
   "cell_type": "code",
   "execution_count": null,
   "metadata": {
    "id": "M2GxkKTphyqq"
   },
   "outputs": [],
   "source": [
    "## gaussian noise auguemntation"
   ]
  },
  {
   "cell_type": "code",
   "execution_count": null,
   "metadata": {
    "colab": {
     "background_save": true
    },
    "id": "db7tR5K6uIgM",
    "outputId": "54b0a66f-766b-4d6e-cf9d-f482b79c102e"
   },
   "outputs": [
    {
     "name": "stdout",
     "output_type": "stream",
     "text": [
      "Found 1300 images belonging to 50 classes.\n",
      "41/41 [==============================] - 118s 3s/step - loss: 5.4716 - accuracy: 0.0246\n",
      "Test_Accuracy: 2.46%\n"
     ]
    }
   ],
   "source": [
    "test_genrator_gau_augmen = test_datagen_aug.flow_from_directory( r'/content/drive/MyDrive/dataset-50/gaussian-50/test',\n",
    "        target_size=(512, 512),\n",
    "        batch_size=32,\n",
    "        class_mode='categorical')\n",
    "test_acc = model.evaluate(test_genrator_gau_augmen)\n",
    "print(\"Test_Accuracy: %.2f%%\" % (test_acc[1]*100))"
   ]
  },
  {
   "cell_type": "code",
   "execution_count": null,
   "metadata": {
    "id": "gOmLPpbfXGH8"
   },
   "outputs": [],
   "source": [
    "## salt and pepper"
   ]
  },
  {
   "cell_type": "code",
   "execution_count": 23,
   "metadata": {
    "colab": {
     "base_uri": "https://localhost:8080/",
     "height": 0
    },
    "id": "TXpU_tglh6eh",
    "outputId": "04197726-240d-4816-b261-b3cc066f12c9"
   },
   "outputs": [
    {
     "name": "stdout",
     "output_type": "stream",
     "text": [
      "Found 1300 images belonging to 50 classes.\n",
      "41/41 [==============================] - 646s 16s/step - loss: 11.2959 - accuracy: 0.1346\n",
      "Test_Accuracy: 13.46%\n"
     ]
    }
   ],
   "source": [
    "test_genrator_salt = test_datagen_nor.flow_from_directory( r'/content/drive/MyDrive/dataset-50/saltandpepper',\n",
    "        target_size=(512,512),\n",
    "        batch_size=32,\n",
    "        class_mode='categorical')\n",
    "test_acc = model.evaluate(test_genrator_salt)\n",
    "print(\"Test_Accuracy: %.2f%%\" % (test_acc[1]*100))"
   ]
  },
  {
   "cell_type": "code",
   "execution_count": null,
   "metadata": {},
   "outputs": [],
   "source": [
    "## corrupted-10"
   ]
  },
  {
   "cell_type": "code",
   "execution_count": null,
   "metadata": {},
   "outputs": [
    {
     "name": "stdout",
     "output_type": "stream",
     "text": [
      "Found 1300 images belonging to 50 classes.\n",
      "15/17 [=========================>....] - ETA: 35s - loss: 9.4531 - accuracy: 0.9458"
     ]
    }
   ],
   "source": [
    "test_genrator_cor10 = test_datagen_nor.flow_from_directory( r'D:\\Uni-passau\\thesis-smalldataset\\corrupted-10',\n",
    "       target_size=(512,512),batch_size=80,\n",
    "        class_mode='categorical')\n",
    "test_acc = model.evaluate(test_genrator_cor10)\n",
    "print(\"Test_Accuracy: %.2f%%\" % (test_acc[1]*100))"
   ]
  },
  {
   "cell_type": "code",
   "execution_count": null,
   "metadata": {
    "id": "9Kw6vp40iA3m"
   },
   "outputs": [],
   "source": [
    "## corrupted-20"
   ]
  },
  {
   "cell_type": "code",
   "execution_count": 9,
   "metadata": {},
   "outputs": [
    {
     "name": "stdout",
     "output_type": "stream",
     "text": [
      "Found 1300 images belonging to 50 classes.\n",
      "17/17 [==============================] - 310s 18s/step - loss: 9.9366 - accuracy: 0.7492\n",
      "Test_Accuracy: 74.92%\n"
     ]
    }
   ],
   "source": [
    "test_genrator_corrupted = test_datagen_nor.flow_from_directory( r'D:\\Uni-passau\\thesis-smalldataset\\corrupted-20',target_size=(512,512),\n",
    "        batch_size=80,\n",
    "        class_mode='categorical')\n",
    "test_acc = model.evaluate(test_genrator_corrupted)\n",
    "print(\"Test_Accuracy: %.2f%%\" % (test_acc[1]*100))"
   ]
  },
  {
   "cell_type": "code",
   "execution_count": null,
   "metadata": {},
   "outputs": [],
   "source": [
    "## corrupted -25"
   ]
  },
  {
   "cell_type": "code",
   "execution_count": 18,
   "metadata": {},
   "outputs": [
    {
     "name": "stdout",
     "output_type": "stream",
     "text": [
      "Found 1050 images belonging to 50 classes.\n",
      "33/33 [==============================] - 164s 5s/step - loss: 10.1259 - accuracy: 0.6733\n",
      "Test_Accuracy: 67.33%\n"
     ]
    }
   ],
   "source": [
    "test_corrupted1= test_datagen_nor.flow_from_directory( r'D:\\Uni-passau\\thesis-smalldataset\\corrupted-25\\test',\n",
    "        batch_size=32,target_size=(512,512),\n",
    "        class_mode='categorical')\n",
    "test_acc = model.evaluate(test_corrupted1)\n",
    "print(\"Test_Accuracy: %.2f%%\" % (test_acc[1]*100))"
   ]
  },
  {
   "cell_type": "code",
   "execution_count": null,
   "metadata": {},
   "outputs": [],
   "source": [
    "## corrupted-30"
   ]
  },
  {
   "cell_type": "code",
   "execution_count": 11,
   "metadata": {},
   "outputs": [
    {
     "name": "stdout",
     "output_type": "stream",
     "text": [
      "Found 1300 images belonging to 50 classes.\n",
      "17/17 [==============================] - 191s 11s/step - loss: 10.3326 - accuracy: 0.4746\n",
      "Test_Accuracy: 47.46%\n"
     ]
    }
   ],
   "source": [
    "test_genrator_cor30 = test_datagen_nor.flow_from_directory( r'D:\\Uni-passau\\thesis-smalldataset\\corrupted-30',\n",
    "       target_size=(512,512),batch_size=80,\n",
    "        class_mode='categorical')\n",
    "test_acc = model.evaluate(test_genrator_cor30)\n",
    "print(\"Test_Accuracy: %.2f%%\" % (test_acc[1]*100))"
   ]
  },
  {
   "cell_type": "code",
   "execution_count": null,
   "metadata": {},
   "outputs": [],
   "source": [
    "##corrupted -40"
   ]
  },
  {
   "cell_type": "code",
   "execution_count": 7,
   "metadata": {},
   "outputs": [
    {
     "name": "stdout",
     "output_type": "stream",
     "text": [
      "Found 1300 images belonging to 50 classes.\n",
      "26/26 [==============================] - 297s 11s/step - loss: 10.8077 - accuracy: 0.1769\n",
      "Test_Accuracy: 17.69%\n"
     ]
    }
   ],
   "source": [
    "test_genrator_cor40 = test_datagen_nor.flow_from_directory( r'D:\\Uni-passau\\thesis-smalldataset\\corrupted-40',\n",
    "       target_size=(512,512),batch_size=50,\n",
    "        class_mode='categorical')\n",
    "test_acc = model.evaluate(test_genrator_cor40)\n",
    "print(\"Test_Accuracy: %.2f%%\" % (test_acc[1]*100))"
   ]
  },
  {
   "cell_type": "code",
   "execution_count": null,
   "metadata": {
    "id": "rJ6yRnx_iJVV"
   },
   "outputs": [],
   "source": [
    "## corrupted-50"
   ]
  },
  {
   "cell_type": "code",
   "execution_count": 6,
   "metadata": {
    "id": "MUkVVV4iQWYx"
   },
   "outputs": [
    {
     "name": "stdout",
     "output_type": "stream",
     "text": [
      "Found 1300 images belonging to 50 classes.\n",
      "41/41 [==============================] - 494s 12s/step - loss: 11.0052 - accuracy: 0.2138\n",
      "Test_Accuracy: 21.38%\n"
     ]
    }
   ],
   "source": [
    "test_corrupted_corr50= test_datagen_nor.flow_from_directory( r'D:\\Uni-passau\\thesis-smalldataset\\corrupted-50\\test',\n",
    "        batch_size=32,target_size=(512,512),\n",
    "        class_mode='categorical')\n",
    "test_acc = model.evaluate(test_corrupted_corr50)\n",
    "print(\"Test_Accuracy: %.2f%%\" % (test_acc[1]*100))"
   ]
  },
  {
   "cell_type": "code",
   "execution_count": null,
   "metadata": {},
   "outputs": [],
   "source": [
    "test_genrator_nor50 = test_datagen.flow_from_directory( r'D:\\Uni-passau\\thesis-smalldataset\\corrupted-50\\test',\n",
    "        target_size=(512, 512),\n",
    "        batch_size=75,\n",
    "        class_mode='categorical')\n",
    "test_acc = model.evaluate(test_genrator_nor50)\n",
    "print(\"Test_Accuracy: %.2f%%\" % (test_acc[1]*100))"
   ]
  },
  {
   "cell_type": "code",
   "execution_count": null,
   "metadata": {},
   "outputs": [],
   "source": [
    "## corrupted-60"
   ]
  },
  {
   "cell_type": "code",
   "execution_count": 14,
   "metadata": {},
   "outputs": [
    {
     "name": "stdout",
     "output_type": "stream",
     "text": [
      "Found 1300 images belonging to 50 classes.\n",
      "17/17 [==============================] - 219s 13s/step - loss: 12.2169 - accuracy: 0.0154\n",
      "Test_Accuracy: 1.54%\n"
     ]
    }
   ],
   "source": [
    "test_genrator_cor60 = test_datagen_nor.flow_from_directory( r'D:\\Uni-passau\\thesis-smalldataset\\corrupted-60',\n",
    "       target_size=(512,512),batch_size=80,\n",
    "        class_mode='categorical')\n",
    "test_acc = model.evaluate(test_genrator_cor60)\n",
    "print(\"Test_Accuracy: %.2f%%\" % (test_acc[1]*100))"
   ]
  },
  {
   "cell_type": "code",
   "execution_count": null,
   "metadata": {},
   "outputs": [],
   "source": [
    "## corrupted 10 upwards"
   ]
  },
  {
   "cell_type": "code",
   "execution_count": 7,
   "metadata": {},
   "outputs": [
    {
     "name": "stdout",
     "output_type": "stream",
     "text": [
      "Found 1300 images belonging to 50 classes.\n",
      "17/17 [==============================] - 248s 15s/step - loss: 9.4698 - accuracy: 0.9262\n",
      "Test_Accuracy: 92.62%\n"
     ]
    }
   ],
   "source": [
    "test_genrator_cor10_up = test_datagen_nor.flow_from_directory( r'D:\\Uni-passau\\thesis-smalldataset\\corrupted10-inv',\n",
    "       target_size=(512,512),batch_size=80,\n",
    "        class_mode='categorical')\n",
    "test_acc = model.evaluate(test_genrator_cor10_up)\n",
    "print(\"Test_Accuracy: %.2f%%\" % (test_acc[1]*100))"
   ]
  },
  {
   "cell_type": "code",
   "execution_count": 8,
   "metadata": {},
   "outputs": [
    {
     "name": "stdout",
     "output_type": "stream",
     "text": [
      "Found 1300 images belonging to 50 classes.\n",
      "17/17 [==============================] - 309s 18s/step - loss: 9.8780 - accuracy: 0.7954\n",
      "Test_Accuracy: 79.54%\n"
     ]
    }
   ],
   "source": [
    "test_genrator_cor20_up = test_datagen_nor.flow_from_directory( r'D:\\Uni-passau\\thesis-smalldataset\\corrupted20-inv',\n",
    "       target_size=(512,512),batch_size=80,\n",
    "        class_mode='categorical')\n",
    "test_acc = model.evaluate(test_genrator_cor20_up)\n",
    "print(\"Test_Accuracy: %.2f%%\" % (test_acc[1]*100))"
   ]
  },
  {
   "cell_type": "code",
   "execution_count": null,
   "metadata": {},
   "outputs": [
    {
     "name": "stdout",
     "output_type": "stream",
     "text": [
      "Found 1300 images belonging to 50 classes.\n",
      " 3/17 [====>.........................] - ETA: 2:58 - loss: 10.3641 - accuracy: 0.5708"
     ]
    }
   ],
   "source": [
    "test_genrator_cor30_up = test_datagen_nor.flow_from_directory( r'D:\\Uni-passau\\thesis-smalldataset\\corrupted30-inv',\n",
    "       target_size=(512,512),batch_size=80,\n",
    "        class_mode='categorical')\n",
    "test_acc = model.evaluate(test_genrator_cor30_up)\n",
    "print(\"Test_Accuracy: %.2f%%\" % (test_acc[1]*100))"
   ]
  },
  {
   "cell_type": "code",
   "execution_count": 73,
   "metadata": {},
   "outputs": [
    {
     "data": {
      "image/png": "[encoded data removed]",
      "text/plain": [
       "<Figure size 1008x864 with 2 Axes>"
      ]
     },
     "metadata": {
      "needs_background": "light"
     },
     "output_type": "display_data"
    }
   ],
   "source": [
    "import itertools\n",
    "from sklearn.metrics import confusion_matrix\n",
    "def plot_confusion_matrix(cm, classes,\n",
    "                          normalize=False,\n",
    "                          title='Confusion matrix',\n",
    "                          cmap=plt.cm.Blues):\n",
    "    \"\"\"\n",
    "    This function prints and plots the confusion matrix.\n",
    "    Normalization can be applied by setting `normalize=True`.\n",
    "    \"\"\"\n",
    "    \n",
    "    plt.imshow(cm, interpolation='nearest')\n",
    "    plt.title(title)\n",
    "    plt.colorbar()\n",
    "    \n",
    "    tick_marks = np.arange(49)\n",
    "    plt.xticks(tick_marks, classes, rotation=90)\n",
    "    plt.yticks(tick_marks, classes)\n",
    "   \n",
    "\n",
    "    if normalize:\n",
    "        cm = cm.astype('float') / cm.sum(axis=1)[:, np.newaxis]\n",
    "\n",
    "    thresh = cm.max() / 2.\n",
    "    for i, j in itertools.product(range(cm.shape[0]), range(cm.shape[1])):\n",
    "        plt.text(j, i, cm[i, j],\n",
    "                 horizontalalignment=\"center\",\n",
    "                 color=\"white\" if cm[i, j] > thresh else \"black\")\n",
    "\n",
    "    plt.tight_layout()\n",
    "    plt.ylabel('True label')\n",
    "    plt.xlabel('Predicted label')\n",
    "\n",
    "\n",
    "# Y_pred_classes = np.argmax(Y_pred,axis = 1)  \n",
    "confusion_mtx = confusion_matrix(Y_classes, Y_pred_classes)\n",
    "fig = plt.figure()\n",
    "fig.set_size_inches(14,12)\n",
    "plot_confusion_matrix(confusion_mtx, classes = range(49), \n",
    "                      title='Confusion Matrix')\n"
   ]
  },
  {
   "cell_type": "code",
   "execution_count": null,
   "metadata": {},
   "outputs": [],
   "source": []
  }
 ],
 "metadata": {
  "accelerator": "GPU",
  "colab": {
   "collapsed_sections": [],
   "name": "cnn-50.ipynb",
   "provenance": []
  },
  "kernelspec": {
   "display_name": "Python 3",
   "language": "python",
   "name": "python3"
  },
  "language_info": {
   "codemirror_mode": {
    "name": "ipython",
    "version": 3
   },
   "file_extension": ".py",
   "mimetype": "text/x-python",
   "name": "python",
   "nbconvert_exporter": "python",
   "pygments_lexer": "ipython3",
   "version": "3.8.3"
  }
 },
 "nbformat": 4,
 "nbformat_minor": 1
}
